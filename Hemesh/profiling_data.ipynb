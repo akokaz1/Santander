{
 "cells": [
  {
   "cell_type": "code",
   "execution_count": 1,
   "metadata": {
    "collapsed": false
   },
   "outputs": [],
   "source": [
    "import pandas as pd\n",
    "import numpy as np"
   ]
  },
  {
   "cell_type": "code",
   "execution_count": 2,
   "metadata": {
    "collapsed": false
   },
   "outputs": [
    {
     "name": "stderr",
     "output_type": "stream",
     "text": [
      "C:\\Users\\student01\\Anaconda2\\lib\\site-packages\\IPython\\core\\interactiveshell.py:2723: DtypeWarning: Columns (7) have mixed types. Specify dtype option on import or set low_memory=False.\n",
      "  interactivity=interactivity, compiler=compiler, result=result)\n"
     ]
    }
   ],
   "source": [
    "data_df = pd.read_csv('games.csv')"
   ]
  },
  {
   "cell_type": "code",
   "execution_count": 3,
   "metadata": {
    "collapsed": false
   },
   "outputs": [
    {
     "data": {
      "text/plain": [
       "ncodpers                 False\n",
       "fecha_dato               False\n",
       "ind_actividad_cliente     True\n",
       "segmento                  True\n",
       "tiprel_1mes               True\n",
       "fecha_alta                True\n",
       "canal_entrada             True\n",
       "age                      False\n",
       "sexo                      True\n",
       "ind_nuevo                 True\n",
       "ind_empleado              True\n",
       "renta                     True\n",
       "indext                    True\n",
       "nomprov                   True\n",
       "dtype: bool"
      ]
     },
     "execution_count": 3,
     "metadata": {},
     "output_type": "execute_result"
    }
   ],
   "source": [
    "pd.isnull(data_df).any() # Shows me all the columns that have nulls"
   ]
  },
  {
   "cell_type": "code",
   "execution_count": 28,
   "metadata": {
    "collapsed": false
   },
   "outputs": [
    {
     "name": "stdout",
     "output_type": "stream",
     "text": [
      "0.0    552639\n",
      "1.0    396975\n",
      "dtype: int64\n",
      "7031\n",
      "949614\n"
     ]
    }
   ],
   "source": [
    "print pd.value_counts(data_df['ind_actividad_cliente'].values, sort=False)\n",
    "print data_df['ind_actividad_cliente'].isnull().sum()\n",
    "print data_df['ind_actividad_cliente'].count()"
   ]
  },
  {
   "cell_type": "code",
   "execution_count": 29,
   "metadata": {
    "collapsed": false
   },
   "outputs": [
    {
     "name": "stdout",
     "output_type": "stream",
     "text": [
      "01 - TOP               36034\n",
      "03 - UNIVERSITARIO    350497\n",
      "02 - PARTICULARES     551740\n",
      "dtype: int64\n",
      "18374\n",
      "938271\n"
     ]
    }
   ],
   "source": [
    "print pd.value_counts(data_df['segmento'].values, sort=False)\n",
    "print data_df['segmento'].isnull().sum()\n",
    "print data_df['segmento'].count()"
   ]
  },
  {
   "cell_type": "code",
   "execution_count": 31,
   "metadata": {
    "collapsed": false
   },
   "outputs": [
    {
     "name": "stdout",
     "output_type": "stream",
     "text": [
      "N    902024\n",
      "S     47590\n",
      "dtype: int64\n",
      "7031\n",
      "949614\n"
     ]
    }
   ],
   "source": [
    "print pd.value_counts(data_df['indext'].values, sort=False)\n",
    "print data_df['indext'].isnull().sum()\n",
    "print data_df['indext'].count()"
   ]
  },
  {
   "cell_type": "code",
   "execution_count": 32,
   "metadata": {
    "collapsed": false
   },
   "outputs": [
    {
     "name": "stdout",
     "output_type": "stream",
     "text": [
      "P       784\n",
      "I    540968\n",
      "R       101\n",
      "A    400106\n",
      "dtype: int64\n",
      "14686\n",
      "941959\n"
     ]
    }
   ],
   "source": [
    "print pd.value_counts(data_df['tiprel_1mes'].values, sort=False)\n",
    "print data_df['tiprel_1mes'].isnull().sum()\n",
    "print data_df['tiprel_1mes'].count()"
   ]
  },
  {
   "cell_type": "code",
   "execution_count": 33,
   "metadata": {
    "collapsed": false
   },
   "outputs": [
    {
     "name": "stdout",
     "output_type": "stream",
     "text": [
      "2004-05-27    102\n",
      "2004-05-26    132\n",
      "2004-05-25    122\n",
      "2004-05-24    213\n",
      "2004-05-21    120\n",
      "2004-05-20    122\n",
      "2004-05-28     97\n",
      "1999-08-23     49\n",
      "1999-08-20     24\n",
      "1999-08-26     41\n",
      "1999-08-27     50\n",
      "1999-08-24     45\n",
      "1999-08-25     39\n",
      "2006-12-30     34\n",
      "2006-12-31     15\n",
      "2001-12-31    159\n",
      "2008-05-12    113\n",
      "2008-05-13    102\n",
      "2008-05-10     15\n",
      "2008-05-11     18\n",
      "2008-05-16     94\n",
      "2008-05-17     14\n",
      "2008-05-14    122\n",
      "2008-05-15     61\n",
      "2008-05-18     21\n",
      "2008-05-19    123\n",
      "1999-04-08     74\n",
      "1999-04-09     44\n",
      "1999-04-01      9\n",
      "1999-04-05     82\n",
      "             ... \n",
      "2012-03-07     96\n",
      "2012-03-04      1\n",
      "2012-03-05    172\n",
      "1995-09-21     10\n",
      "1995-09-20     31\n",
      "1995-09-22     17\n",
      "1995-09-25     64\n",
      "1995-09-27     47\n",
      "1995-09-26     40\n",
      "1995-09-29     50\n",
      "1995-09-28     49\n",
      "2004-09-29    102\n",
      "2004-09-28    130\n",
      "2004-09-23    102\n",
      "2004-09-22    120\n",
      "2004-09-21    110\n",
      "2004-09-20    162\n",
      "2004-09-27    164\n",
      "2004-09-25      4\n",
      "2004-09-24     76\n",
      "2012-07-06    160\n",
      "2012-07-07      1\n",
      "2012-07-04     80\n",
      "2012-07-05    136\n",
      "2012-07-02    111\n",
      "2012-07-03    185\n",
      "2012-07-01      2\n",
      "2012-07-08      3\n",
      "2012-07-09    136\n",
      "2003-05-30     77\n",
      "dtype: int64\n",
      "7031\n",
      "949614\n"
     ]
    }
   ],
   "source": [
    "print pd.value_counts(data_df['fecha_alta'].values, sort=False)\n",
    "print data_df['fecha_alta'].isnull().sum()\n",
    "print data_df['fecha_alta'].count()"
   ]
  },
  {
   "cell_type": "code",
   "execution_count": 34,
   "metadata": {
    "collapsed": false
   },
   "outputs": [
    {
     "name": "stdout",
     "output_type": "stream",
     "text": [
      "V    515572\n",
      "H    434037\n",
      "dtype: int64\n",
      "7036\n",
      "949609\n"
     ]
    }
   ],
   "source": [
    "print pd.value_counts(data_df['sexo'].values, sort=False)\n",
    "print data_df['sexo'].isnull().sum()\n",
    "print data_df['sexo'].count()"
   ]
  },
  {
   "cell_type": "code",
   "execution_count": 35,
   "metadata": {
    "collapsed": false
   },
   "outputs": [
    {
     "name": "stdout",
     "output_type": "stream",
     "text": [
      "0.0    906393\n",
      "1.0     43221\n",
      "dtype: int64\n",
      "7031\n",
      "949614\n"
     ]
    }
   ],
   "source": [
    "print pd.value_counts(data_df['ind_nuevo'].values, sort=False)\n",
    "print data_df['ind_nuevo'].isnull().sum()\n",
    "print data_df['ind_nuevo'].count()"
   ]
  },
  {
   "cell_type": "code",
   "execution_count": 36,
   "metadata": {
    "collapsed": false
   },
   "outputs": [
    {
     "name": "stdout",
     "output_type": "stream",
     "text": [
      "N    949094\n",
      "B       219\n",
      "F       152\n",
      "A       148\n",
      "S         1\n",
      "dtype: int64\n",
      "7031\n",
      "949614\n"
     ]
    }
   ],
   "source": [
    "print pd.value_counts(data_df['ind_empleado'].values, sort=False)\n",
    "print data_df['ind_empleado'].isnull().sum()\n",
    "print data_df['ind_empleado'].count()"
   ]
  },
  {
   "cell_type": "code",
   "execution_count": 39,
   "metadata": {
    "collapsed": false
   },
   "outputs": [
    {
     "name": "stdout",
     "output_type": "stream",
     "text": [
      "AVILA                       2681\n",
      "MALAGA                     25096\n",
      "CORDOBA                    10052\n",
      "ALAVA                       2669\n",
      "CEUTA                        528\n",
      "CIUDAD REAL                 8241\n",
      "CANTABRIA                  11062\n",
      "RIOJA, LA                   5913\n",
      "BARCELONA                  90493\n",
      "LEON                        5871\n",
      "TARRAGONA                   7828\n",
      "HUELVA                      8186\n",
      "OURENSE                     5712\n",
      "SEGOVIA                     2939\n",
      "MURCIA                     28226\n",
      "ASTURIAS                   18710\n",
      "SALAMANCA                  11281\n",
      "LERIDA                      5523\n",
      "ZARAGOZA                   23564\n",
      "JAEN                        4629\n",
      "SEVILLA                    41370\n",
      "CASTELLON                   7323\n",
      "ALICANTE                   22761\n",
      "CADIZ                      20209\n",
      "NAVARRA                     6144\n",
      "PALENCIA                    3405\n",
      "ALBACETE                    7956\n",
      "LUGO                        5760\n",
      "CUENCA                      3861\n",
      "PONTEVEDRA                 19271\n",
      "HUESCA                      2845\n",
      "BADAJOZ                    13191\n",
      "SANTA CRUZ DE TENERIFE      5313\n",
      "PALMAS, LAS                16731\n",
      "TERUEL                      1574\n",
      "TOLEDO                     12953\n",
      "VALENCIA                   49031\n",
      "GUADALAJARA                 4810\n",
      "VALLADOLID                 16340\n",
      "BURGOS                      6787\n",
      "ZAMORA                      3477\n",
      "GIPUZKOA                    5000\n",
      "CACERES                     8741\n",
      "GRANADA                    12687\n",
      "BIZKAIA                    12799\n",
      "CORUÑA, A                  29272\n",
      "GIRONA                      6447\n",
      "MELILLA                      654\n",
      "BALEARS, ILLES              9404\n",
      "MADRID                    304606\n",
      "SORIA                       1284\n",
      "ALMERIA                     4451\n",
      "dtype: int64\n",
      "10984\n",
      "945661\n"
     ]
    }
   ],
   "source": [
    "print pd.value_counts(data_df['nomprov'].values, sort=False)\n",
    "print data_df['nomprov'].isnull().sum()\n",
    "print data_df['nomprov'].count()"
   ]
  },
  {
   "cell_type": "code",
   "execution_count": null,
   "metadata": {
    "collapsed": true
   },
   "outputs": [],
   "source": []
  },
  {
   "cell_type": "code",
   "execution_count": null,
   "metadata": {
    "collapsed": false
   },
   "outputs": [],
   "source": [
    "data_df.loc[data_df['ind_empleado'].isnull()] = 'N'"
   ]
  },
  {
   "cell_type": "code",
   "execution_count": null,
   "metadata": {
    "collapsed": true
   },
   "outputs": [],
   "source": []
  },
  {
   "cell_type": "code",
   "execution_count": null,
   "metadata": {
    "collapsed": true
   },
   "outputs": [],
   "source": []
  }
 ],
 "metadata": {
  "anaconda-cloud": {},
  "kernelspec": {
   "display_name": "Python [Root]",
   "language": "python",
   "name": "Python [Root]"
  },
  "language_info": {
   "codemirror_mode": {
    "name": "ipython",
    "version": 2
   },
   "file_extension": ".py",
   "mimetype": "text/x-python",
   "name": "python",
   "nbconvert_exporter": "python",
   "pygments_lexer": "ipython2",
   "version": "2.7.12"
  }
 },
 "nbformat": 4,
 "nbformat_minor": 0
}
