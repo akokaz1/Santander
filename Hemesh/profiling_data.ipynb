{
 "cells": [
  {
   "cell_type": "code",
   "execution_count": 8,
   "metadata": {
    "collapsed": false
   },
   "outputs": [],
   "source": [
    "import pandas as pd\n",
    "import numpy as np"
   ]
  },
  {
   "cell_type": "code",
   "execution_count": 9,
   "metadata": {
    "collapsed": false
   },
   "outputs": [],
   "source": [
    "data_df = pd.read_csv('games.csv')"
   ]
  },
  {
   "cell_type": "code",
   "execution_count": 10,
   "metadata": {
    "collapsed": false
   },
   "outputs": [
    {
     "data": {
      "text/plain": [
       "ncodpers                 False\n",
       "fecha_dato               False\n",
       "age                      False\n",
       "antiguedad               False\n",
       "ind_actividad_cliente     True\n",
       "indext                    True\n",
       "indresi                   True\n",
       "ind_nuevo                 True\n",
       "fecha_alta                True\n",
       "sexo                      True\n",
       "ind_empleado              True\n",
       "segmento                  True\n",
       "dtype: bool"
      ]
     },
     "execution_count": 10,
     "metadata": {},
     "output_type": "execute_result"
    }
   ],
   "source": [
    "pd.isnull(data_df).any() # Shows me all the columns that have nulls"
   ]
  },
  {
   "cell_type": "code",
   "execution_count": 11,
   "metadata": {
    "collapsed": false
   },
   "outputs": [
    {
     "name": "stdout",
     "output_type": "stream",
     "text": [
      "ind_actividad_cliente\n",
      "0.0    552639\n",
      "1.0    396975\n",
      "dtype: int64\n",
      "indext\n",
      "N    902024\n",
      "S     47590\n",
      "dtype: int64\n",
      "indresi\n",
      "N      4018\n",
      "S    945596\n",
      "dtype: int64\n",
      "ind_nuevo\n",
      "0.0    906393\n",
      "1.0     43221\n",
      "dtype: int64\n",
      "fecha_alta\n",
      "2004-05-27    102\n",
      "2004-05-26    132\n",
      "2004-05-25    122\n",
      "2004-05-24    213\n",
      "2004-05-21    120\n",
      "2004-05-20    122\n",
      "2004-05-28     97\n",
      "1999-08-23     49\n",
      "1999-08-20     24\n",
      "1999-08-26     41\n",
      "1999-08-27     50\n",
      "1999-08-24     45\n",
      "1999-08-25     39\n",
      "2006-12-30     34\n",
      "2006-12-31     15\n",
      "2001-12-31    159\n",
      "2008-05-12    113\n",
      "2008-05-13    102\n",
      "2008-05-10     15\n",
      "2008-05-11     18\n",
      "2008-05-16     94\n",
      "2008-05-17     14\n",
      "2008-05-14    122\n",
      "2008-05-15     61\n",
      "2008-05-18     21\n",
      "2008-05-19    123\n",
      "1999-04-08     74\n",
      "1999-04-09     44\n",
      "1999-04-01      9\n",
      "1999-04-05     82\n",
      "             ... \n",
      "2012-03-07     96\n",
      "2012-03-04      1\n",
      "2012-03-05    172\n",
      "1995-09-21     10\n",
      "1995-09-20     31\n",
      "1995-09-22     17\n",
      "1995-09-25     64\n",
      "1995-09-27     47\n",
      "1995-09-26     40\n",
      "1995-09-29     50\n",
      "1995-09-28     49\n",
      "2004-09-29    102\n",
      "2004-09-28    130\n",
      "2004-09-23    102\n",
      "2004-09-22    120\n",
      "2004-09-21    110\n",
      "2004-09-20    162\n",
      "2004-09-27    164\n",
      "2004-09-25      4\n",
      "2004-09-24     76\n",
      "2012-07-06    160\n",
      "2012-07-07      1\n",
      "2012-07-04     80\n",
      "2012-07-05    136\n",
      "2012-07-02    111\n",
      "2012-07-03    185\n",
      "2012-07-01      2\n",
      "2012-07-08      3\n",
      "2012-07-09    136\n",
      "2003-05-30     77\n",
      "dtype: int64\n",
      "sexo\n",
      "V    515572\n",
      "H    434037\n",
      "dtype: int64\n",
      "ind_empleado\n",
      "N    949094\n",
      "B       219\n",
      "F       152\n",
      "A       148\n",
      "S         1\n",
      "dtype: int64\n",
      "segmento\n",
      "01 - TOP               36034\n",
      "03 - UNIVERSITARIO    350497\n",
      "02 - PARTICULARES     551740\n",
      "dtype: int64\n",
      "938271\n"
     ]
    }
   ],
   "source": [
    "for i in list(data_df)[4:]:\n",
    "    print i\n",
    "    print pd.value_counts(data_df[i].values, sort=False)\n",
    "print data_df[i].count()"
   ]
  },
  {
   "cell_type": "code",
   "execution_count": null,
   "metadata": {
    "collapsed": false
   },
   "outputs": [],
   "source": [
    "data_df.loc[data_df['ind_empleado'].isnull()] = 'N'"
   ]
  }
 ],
 "metadata": {
  "anaconda-cloud": {},
  "kernelspec": {
   "display_name": "Python [Root]",
   "language": "python",
   "name": "Python [Root]"
  },
  "language_info": {
   "codemirror_mode": {
    "name": "ipython",
    "version": 2
   },
   "file_extension": ".py",
   "mimetype": "text/x-python",
   "name": "python",
   "nbconvert_exporter": "python",
   "pygments_lexer": "ipython2",
   "version": "2.7.12"
  }
 },
 "nbformat": 4,
 "nbformat_minor": 0
}
