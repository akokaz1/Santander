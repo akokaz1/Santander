{
 "cells": [
  {
   "cell_type": "code",
   "execution_count": 1,
   "metadata": {
    "collapsed": true
   },
   "outputs": [],
   "source": [
    "import pandas as pd\n",
    "import numpy as np\n",
    "import datetime as dt"
   ]
  },
  {
   "cell_type": "code",
   "execution_count": 2,
   "metadata": {
    "collapsed": false
   },
   "outputs": [
    {
     "name": "stderr",
     "output_type": "stream",
     "text": [
      "C:\\Users\\student01\\Anaconda2\\lib\\site-packages\\IPython\\core\\interactiveshell.py:2723: DtypeWarning: Columns (2,3) have mixed types. Specify dtype option on import or set low_memory=False.\n",
      "  interactivity=interactivity, compiler=compiler, result=result)\n"
     ]
    }
   ],
   "source": [
    "data_df = pd.read_csv('games.csv')"
   ]
  },
  {
   "cell_type": "code",
   "execution_count": 3,
   "metadata": {
    "collapsed": false
   },
   "outputs": [
    {
     "name": "stdout",
     "output_type": "stream",
     "text": [
      "['age', 'antiguedad', 'ind_actividad_cliente', 'indext', 'indresi', 'ind_nuevo', 'fecha_alta', 'sexo', 'ind_empleado', 'segmento']\n"
     ]
    }
   ],
   "source": [
    "headers = list(data_df)[2:]\n",
    "print headers"
   ]
  },
  {
   "cell_type": "code",
   "execution_count": 4,
   "metadata": {
    "collapsed": false
   },
   "outputs": [
    {
     "name": "stdout",
     "output_type": "stream",
     "text": [
      "['56' '63' '59' '62' '60' '50' '61' '57' '49' '58' '51' '54' '53' '48' '55'\n",
      " '52' '71' '46' '66' '69' '65' '67' '70' '72' '78' '68' '80' '47' '92' '84'\n",
      " '86' '88' '74' '98' '76' '64' '82' '81' '77' '45' '44' '89' '75' '85'\n",
      " ' NA' '79' '41' '73' '90' '37' '83' '87' '95' '101' '96' '42' '94' '43'\n",
      " '40' '36' '106' '97' '102' '99' '107' '91' '31' '93' '100' '103' '34'\n",
      " '104' '28' '112' '108' '105' '39' '113' '110' '116' '109' '111' '114' '38'\n",
      " '26' '35' '164' '33' '32' '30' '23' '117' '16' '29' '17' '22' '24' '20'\n",
      " '18' '19' '27' '21' '25' '15' '115' '2' '14' '13' '12' '11' ' 47' ' 41'\n",
      " ' 11' ' 70' ' 45' ' 34' ' 73' ' 66' '10' '9' '8' '127' '7' '6' '5' '4' '3'\n",
      " 23L 48L 27L 21L 40L 22L 50L 91L 33L 24L 20L 25L 55L 42L 74L 32L 71L 58L\n",
      " 39L 37L 54L 44L 73L 45L 57L 29L 46L 26L 28L 69L 36L 63L 56L 72L 34L 31L\n",
      " 75L 59L 47L 81L 41L 49L 38L 53L 62L 19L 30L 35L 43L 60L 88L 61L 68L 87L\n",
      " 80L 85L 84L 89L 67L 77L 76L 70L 64L 3L 65L 51L 9L 7L 66L 12L 52L 86L 82L\n",
      " 18L 79L 2L 83L 16L 4L 78L 6L 8L 17L 13L 90L 5L 10L 11L 14L 94L 15L 96L 92L\n",
      " 99L 95L 98L 93L 102L 100L 97L 101L]\n",
      "['255' '256' '246' '237' '254' '239' '209' '236' '250' '233' '253' '248'\n",
      " '216' '200' '107' '143' '83' '103' '243' '228' '147' '196' '252' '211'\n",
      " '197' '208' '173' '205' '251' '162' '218' '245' '63' '115' '9' '129' '174'\n",
      " '171' '142' '139' '31' '120' '230' '128' '150' '240' '131' '189' '249'\n",
      " '117' '125' '153' '78' '8' '     NA' '244' '213' '241' '154' '247' '219'\n",
      " '161' '242' '62' '144' '234' '36' '90' '148' '133' '231' '172' '235' '224'\n",
      " '222' '215' '145' '180' '207' '238' '221' '13' '151' '28' '226' '194' '71'\n",
      " '134' '225' '186' '232' '217' '223' '220' '210' '178' '163' '102' '166'\n",
      " '119' '7' '170' '198' '229' '91' '38' '227' '84' '203' '187' '43' '184'\n",
      " '176' '122' '57' '149' '181' '188' '206' '179' '152' '193' '183' '182'\n",
      " '199' '175' '177' '190' '101' '73' '185' '158' '75' '192' '23' '204' '195'\n",
      " '137' '98' '25' '138' '74' '88' '156' '26' '155' '92' '126' '160' '132'\n",
      " '167' '164' '165' '157' '159' '141' '48' '127' '3' '49' '27' '202' '60'\n",
      " '214' '124' '136' '191' '212' '51' '86' '130' '20' '4' '17' '169' '2'\n",
      " '111' '77' '121' '59' '140' '110' '56' '67' '168' '123' '201' '52' '81'\n",
      " '89' '19' '146' '113' '66' '135' '58' '106' '15' '99' '40' '34' '6' '53'\n",
      " '87' '14' '100' '30' '97' '0' '93' '46' '94' '114' '112' '118' '116' '70'\n",
      " '76' '72' '18' '104' '64' '96' '105' '95' '1' '82' '44' '11' '29' '109'\n",
      " '80' '54' '79' '55' '69' '12' '68' '10' '24' '22' '37' '41' '65' '108'\n",
      " '61' '16' '5' '32' '35' '47' '21' '39' '33' '45' '85' '42' '50' '-999999'\n",
      " '    107' '     20' '    105' '      4' '    104' '     61' 9L 4L 0L 6L 8L\n",
      " 23L 15L 3L 1L 7L 2L 5L 127L 11L 22L 12L 13L 14L]\n",
      "[  1.   0.  nan]\n",
      "['N' 'S' nan]\n",
      "['S' nan 'N']\n",
      "[  0.  nan   1.]\n",
      "['1995-01-16' '2015-07-28' '1997-10-03' ..., '2016-05-15' '2016-03-26'\n",
      " '2016-04-24']\n",
      "['V' 'H' nan]\n",
      "['F' 'A' 'N' 'B' nan 'S']\n",
      "['01 - TOP' '02 - PARTICULARES' nan '03 - UNIVERSITARIO']\n"
     ]
    }
   ],
   "source": [
    "for i in headers:\n",
    "    print data_df[i].unique()"
   ]
  },
  {
   "cell_type": "raw",
   "metadata": {},
   "source": [
    "Below is the code where I replace all the nulls with 10 (only in the columns where 0 is not already occupied), as I will normalize the data so that it's range is [0,1]"
   ]
  },
  {
   "cell_type": "code",
   "execution_count": 5,
   "metadata": {
    "collapsed": true
   },
   "outputs": [],
   "source": [
    "data_df.loc[data_df['age'].isnull()] = 10\n",
    "data_df.loc[data_df['antiguedad'].isnull()] = 10\n",
    "data_df.loc[data_df['ind_actividad_cliente'].isnull()] = 10\n",
    "data_df.loc[data_df['indext'].isnull()] = 10\n",
    "data_df.loc[data_df['indresi'].isnull()] = 10\n",
    "data_df.loc[data_df['ind_nuevo'].isnull()] = 10\n",
    "data_df.loc[data_df['sexo'].isnull()] = 10\n",
    "data_df['ind_empleado'].replace('S', 10, inplace=True)\n",
    "data_df.loc[data_df['ind_empleado'].isnull()] = 10\n",
    "data_df.loc[data_df['segmento'].isnull()] = 10"
   ]
  },
  {
   "cell_type": "code",
   "execution_count": 6,
   "metadata": {
    "collapsed": true
   },
   "outputs": [],
   "source": [
    "data_df.loc[data_df['fecha_alta'].isnull()] = dt.datetime.today().strftime('%Y-%m-%d') \n",
    "#This dates will be normilzed by counting the difference in days between todays date the the date in the actual data"
   ]
  },
  {
   "cell_type": "code",
   "execution_count": 7,
   "metadata": {
    "collapsed": false
   },
   "outputs": [
    {
     "data": {
      "text/plain": [
       "ncodpers                 False\n",
       "fecha_dato               False\n",
       "age                      False\n",
       "antiguedad               False\n",
       "ind_actividad_cliente    False\n",
       "indext                   False\n",
       "indresi                  False\n",
       "ind_nuevo                False\n",
       "fecha_alta               False\n",
       "sexo                     False\n",
       "ind_empleado             False\n",
       "segmento                 False\n",
       "dtype: bool"
      ]
     },
     "execution_count": 7,
     "metadata": {},
     "output_type": "execute_result"
    }
   ],
   "source": [
    "pd.isnull(data_df).any() # Confirming all the columns have no nulls in them"
   ]
  },
  {
   "cell_type": "code",
   "execution_count": 8,
   "metadata": {
    "collapsed": false
   },
   "outputs": [
    {
     "name": "stdout",
     "output_type": "stream",
     "text": [
      "['56' '63' '59' '62' '60' '50' '61' '57' '49' '58' '51' '54' '53' '48' '55'\n",
      " '52' '71' '46' '66' '69' '65' '67' '70' '72' '78' '68' '80' '47' '92' '84'\n",
      " 10 '86' '88' '74' '98' '76' '64' '82' '81' '77' '45' '44' '89' '75' '85'\n",
      " '79' '41' '73' '90' '37' '83' '87' '95' '101' '96' '42' '94' '43' '40'\n",
      " '36' '106' '97' '102' '99' '91' '31' '93' '100' '103' '34' '104' '28'\n",
      " '112' '108' '105' '39' '113' '110' '116' '109' '107' '111' '114' '38' '26'\n",
      " '35' '164' '33' '32' '30' '23' '117' '16' '29' '17' '22' '24' '20' '18'\n",
      " '19' '27' '21' '25' '15' '115' '14' '13' '2' '12' '11' ' 47' ' 41' ' 11'\n",
      " ' 45' ' 34' ' 73' ' 66' '10' '9' '8' '127' '7' '6' '5' '4' '3' 23L 48L 27L\n",
      " 21L 40L 22L 91L 33L 24L 20L 25L 55L 42L 74L 32L 71L 58L 39L 37L 54L 44L\n",
      " 73L 45L 57L 29L 46L 26L 28L 69L 36L 63L 56L 72L 34L 50L 31L 75L 59L 47L\n",
      " 81L 41L 49L 53L 62L 30L 35L 43L 60L 88L 61L 68L 38L 87L 80L 85L 84L 89L\n",
      " 67L 77L 76L 70L 64L 3L 65L 51L 9L 7L 66L 12L 52L 86L 82L 18L 79L 19L 2L\n",
      " 83L 16L 78L 6L 8L 17L 13L 90L 5L 11L 14L 94L 15L 96L 92L 99L 4L 95L 98L\n",
      " 93L 102L 100L 97L]\n",
      "['255' '256' '246' '237' '254' '239' '209' '236' '250' '233' '253' '248'\n",
      " '216' '200' '107' '143' '83' 10 '243' '228' '147' '196' '252' '211' '197'\n",
      " '208' '205' '251' '162' '218' '245' '63' '115' '9' '129' '174' '171' '142'\n",
      " '139' '31' '120' '230' '128' '150' '240' '131' '189' '249' '117' '125'\n",
      " '153' '78' '8' '244' '213' '241' '154' '247' '219' '161' '242' '62' '144'\n",
      " '234' '36' '90' '148' '133' '231' '172' '235' '224' '222' '215' '145'\n",
      " '180' '207' '238' '221' '13' '151' '28' '226' '194' '71' '134' '225' '186'\n",
      " '232' '217' '223' '220' '210' '178' '163' '166' '119' '7' '170' '198'\n",
      " '229' '91' '38' '227' '84' '203' '187' '43' '184' '176' '122' '57' '149'\n",
      " '181' '188' '206' '179' '152' '193' '183' '182' '199' '175' '177' '190'\n",
      " '101' '73' '185' '158' '75' '192' '23' '204' '195' '137' '25' '138' '74'\n",
      " '88' '156' '26' '155' '92' '126' '160' '132' '167' '164' '165' '157' '159'\n",
      " '141' '48' '127' '3' '49' '27' '202' '60' '214' '124' '173' '136' '98'\n",
      " '191' '212' '51' '86' '130' '20' '4' '103' '17' '169' '2' '111' '77' '121'\n",
      " '59' '140' '110' '56' '67' '168' '123' '201' '52' '81' '89' '19' '146'\n",
      " '113' '66' '135' '58' '106' '15' '99' '40' '34' '6' '53' '87' '14' '100'\n",
      " '30' '97' '93' '46' '94' '114' '112' '118' '102' '116' '70' '76' '72' '18'\n",
      " '104' '64' '96' '105' '95' '1' '82' '44' '11' '29' '80' '54' '79' '55'\n",
      " '69' '12' '68' '10' '24' '22' '109' '37' '41' '108' '61' '16' '5' '32'\n",
      " '35' '47' '21' '0' '39' '33' '45' '65' '85' '42' '50' '-999999' '    107'\n",
      " '     20' '      4' '    105' '    104' '     61' 9L 4L 6L 8L 23L 0L 15L\n",
      " 3L 1L 7L 2L 5L 127L 11L 22L 12L 13L 14L]\n",
      "[  1.   0.  10.]\n",
      "['N' 'S' 10]\n",
      "['S' 10 'N']\n",
      "[  0.  10.   1.]\n",
      "['1995-01-16' '2015-07-28' '1997-10-03' ..., '2015-12-12' '2016-03-26'\n",
      " '2016-04-24']\n",
      "['V' 'H' 10]\n",
      "['F' 'A' 'N' 'B' 10]\n",
      "['01 - TOP' '02 - PARTICULARES' 10 '03 - UNIVERSITARIO']\n"
     ]
    }
   ],
   "source": [
    "for i in headers:\n",
    "    print data_df[i].unique()"
   ]
  },
  {
   "cell_type": "raw",
   "metadata": {},
   "source": [
    "Now I convert all the strings/words into integers. The start of normalizing the table. Note for some reason there are additional \"nan's\" added. need to drop these from the dataframe at the end."
   ]
  },
  {
   "cell_type": "code",
   "execution_count": 9,
   "metadata": {
    "collapsed": true
   },
   "outputs": [],
   "source": [
    "indext_dic = {'N':1, 'S': 2, 10:10}\n",
    "data_df['indext'] = data_df['indext'].map(indext_dic)\n",
    "\n",
    "indresi_dic = {'N':1, 'S':2, 10:10 }\n",
    "data_df['indresi'] = data_df['indresi'].map(indresi_dic)\n",
    "\n",
    "sexo_dic = {'V': 1, 'H': 2, 10:10}\n",
    "data_df['sexo'] = data_df['sexo'].map(sexo_dic)\n",
    "\n",
    "ind_empleado_dic = {'F':1, 'A':2, 'N':3, 'B':4, 10:10}\n",
    "data_df['ind_empleado'] = data_df['ind_empleado'].map(ind_empleado_dic)\n",
    "\n",
    "segmento_dic = {'01 - TOP':1, '02 - PARTICULARES':2, '03 - UNIVERSITARIO':3, 10:10}\n",
    "data_df['segmento'] = data_df['segmento'].map(segmento_dic)"
   ]
  },
  {
   "cell_type": "code",
   "execution_count": 10,
   "metadata": {
    "collapsed": false
   },
   "outputs": [
    {
     "name": "stdout",
     "output_type": "stream",
     "text": [
      "['56' '63' '59' '62' '60' '50' '61' '57' '49' '58' '51' '54' '53' '48' '55'\n",
      " '52' '71' '46' '66' '69' '65' '67' '70' '72' '78' '68' '80' '47' '92' '84'\n",
      " 10 '86' '88' '74' '98' '76' '64' '82' '81' '77' '45' '44' '89' '75' '85'\n",
      " '79' '41' '73' '90' '37' '83' '87' '95' '101' '96' '42' '94' '43' '40'\n",
      " '36' '106' '97' '102' '99' '91' '31' '93' '100' '103' '34' '104' '28'\n",
      " '112' '108' '105' '39' '113' '110' '116' '109' '107' '111' '114' '38' '26'\n",
      " '35' '164' '33' '32' '30' '23' '117' '16' '29' '17' '22' '24' '20' '18'\n",
      " '19' '27' '21' '25' '15' '115' '14' '13' '2' '12' '11' ' 47' ' 41' ' 11'\n",
      " ' 45' ' 34' ' 73' ' 66' '10' '9' '8' '127' '7' '6' '5' '4' '3' 23L 48L 27L\n",
      " 21L 40L 22L 91L 33L 24L 20L 25L 55L 42L 74L 32L 71L 58L 39L 37L 54L 44L\n",
      " 73L 45L 57L 29L 46L 26L 28L 69L 36L 63L 56L 72L 34L 50L 31L 75L 59L 47L\n",
      " 81L 41L 49L 53L 62L 30L 35L 43L 60L 88L 61L 68L 38L 87L 80L 85L 84L 89L\n",
      " 67L 77L 76L 70L 64L 3L 65L 51L 9L 7L 66L 12L 52L 86L 82L 18L 79L 19L 2L\n",
      " 83L 16L 78L 6L 8L 17L 13L 90L 5L 11L 14L 94L 15L 96L 92L 99L 4L 95L 98L\n",
      " 93L 102L 100L 97L]\n",
      "['255' '256' '246' '237' '254' '239' '209' '236' '250' '233' '253' '248'\n",
      " '216' '200' '107' '143' '83' 10 '243' '228' '147' '196' '252' '211' '197'\n",
      " '208' '205' '251' '162' '218' '245' '63' '115' '9' '129' '174' '171' '142'\n",
      " '139' '31' '120' '230' '128' '150' '240' '131' '189' '249' '117' '125'\n",
      " '153' '78' '8' '244' '213' '241' '154' '247' '219' '161' '242' '62' '144'\n",
      " '234' '36' '90' '148' '133' '231' '172' '235' '224' '222' '215' '145'\n",
      " '180' '207' '238' '221' '13' '151' '28' '226' '194' '71' '134' '225' '186'\n",
      " '232' '217' '223' '220' '210' '178' '163' '166' '119' '7' '170' '198'\n",
      " '229' '91' '38' '227' '84' '203' '187' '43' '184' '176' '122' '57' '149'\n",
      " '181' '188' '206' '179' '152' '193' '183' '182' '199' '175' '177' '190'\n",
      " '101' '73' '185' '158' '75' '192' '23' '204' '195' '137' '25' '138' '74'\n",
      " '88' '156' '26' '155' '92' '126' '160' '132' '167' '164' '165' '157' '159'\n",
      " '141' '48' '127' '3' '49' '27' '202' '60' '214' '124' '173' '136' '98'\n",
      " '191' '212' '51' '86' '130' '20' '4' '103' '17' '169' '2' '111' '77' '121'\n",
      " '59' '140' '110' '56' '67' '168' '123' '201' '52' '81' '89' '19' '146'\n",
      " '113' '66' '135' '58' '106' '15' '99' '40' '34' '6' '53' '87' '14' '100'\n",
      " '30' '97' '93' '46' '94' '114' '112' '118' '102' '116' '70' '76' '72' '18'\n",
      " '104' '64' '96' '105' '95' '1' '82' '44' '11' '29' '80' '54' '79' '55'\n",
      " '69' '12' '68' '10' '24' '22' '109' '37' '41' '108' '61' '16' '5' '32'\n",
      " '35' '47' '21' '0' '39' '33' '45' '65' '85' '42' '50' '-999999' '    107'\n",
      " '     20' '      4' '    105' '    104' '     61' 9L 4L 6L 8L 23L 0L 15L\n",
      " 3L 1L 7L 2L 5L 127L 11L 22L 12L 13L 14L]\n",
      "[  1.   0.  10.]\n",
      "[ 1  2 10]\n",
      "[ 2 10  1]\n",
      "[  0.  10.   1.]\n",
      "['1995-01-16' '2015-07-28' '1997-10-03' ..., '2015-12-12' '2016-03-26'\n",
      " '2016-04-24']\n",
      "[ 1  2 10]\n",
      "[ 1  2  3  4 10]\n",
      "[ 1  2 10  3]\n"
     ]
    }
   ],
   "source": [
    "for i in headers:\n",
    "    print data_df[i].unique()"
   ]
  },
  {
   "cell_type": "code",
   "execution_count": 11,
   "metadata": {
    "collapsed": false
   },
   "outputs": [],
   "source": [
    "data_df['fecha_alta'] = data_df['fecha_alta'].astype('datetime64[ns]')"
   ]
  },
  {
   "cell_type": "code",
   "execution_count": 12,
   "metadata": {
    "collapsed": false
   },
   "outputs": [],
   "source": [
    "data_df['fecha_alta'] = dt.datetime.today() - data_df['fecha_alta']  \n",
    "#Replace the fecha_alta column with the difference between todays date and the date in the column"
   ]
  },
  {
   "cell_type": "markdown",
   "metadata": {
    "collapsed": true
   },
   "source": [
    "Code below normailzes for the KNN algo"
   ]
  },
  {
   "cell_type": "code",
   "execution_count": 18,
   "metadata": {
    "collapsed": false
   },
   "outputs": [],
   "source": [
    "for column in headers:\n",
    "    try:\n",
    "        data_df[column] = data_df[column] - data_df[column].mean()/data_df[column].max()-data_df[column].min()\n",
    "    except:\n",
    "        pass"
   ]
  },
  {
   "cell_type": "code",
   "execution_count": 21,
   "metadata": {
    "collapsed": false
   },
   "outputs": [
    {
     "ename": "AttributeError",
     "evalue": "'module' object has no attribute 'utcfromtimestamp'",
     "output_type": "error",
     "traceback": [
      "\u001b[1;31m---------------------------------------------------------------------------\u001b[0m",
      "\u001b[1;31mAttributeError\u001b[0m                            Traceback (most recent call last)",
      "\u001b[1;32m<ipython-input-21-88cf7c14c868>\u001b[0m in \u001b[0;36m<module>\u001b[1;34m()\u001b[0m\n\u001b[1;32m----> 1\u001b[1;33m \u001b[0mdata_df\u001b[0m\u001b[1;33m[\u001b[0m\u001b[1;34m'fecha_alta'\u001b[0m\u001b[1;33m]\u001b[0m \u001b[1;33m=\u001b[0m \u001b[0mdt\u001b[0m\u001b[1;33m.\u001b[0m\u001b[0mutcfromtimestamp\u001b[0m\u001b[1;33m(\u001b[0m\u001b[0mdata_df\u001b[0m\u001b[1;33m[\u001b[0m\u001b[1;34m'fecha_alta'\u001b[0m\u001b[1;33m]\u001b[0m\u001b[1;33m.\u001b[0m\u001b[0mvalues\u001b[0m\u001b[1;33m.\u001b[0m\u001b[0mastype\u001b[0m\u001b[1;33m(\u001b[0m\u001b[0mint\u001b[0m\u001b[1;33m)\u001b[0m\u001b[1;33m)\u001b[0m\u001b[1;33m\u001b[0m\u001b[0m\n\u001b[0m",
      "\u001b[1;31mAttributeError\u001b[0m: 'module' object has no attribute 'utcfromtimestamp'"
     ]
    }
   ],
   "source": [
    "data_df['fecha_alta'] = dt.utcfromtimestamp(data_df['fecha_alta'].values.astype(int)) #Things fuck up from here"
   ]
  },
  {
   "cell_type": "code",
   "execution_count": 19,
   "metadata": {
    "collapsed": false
   },
   "outputs": [
    {
     "name": "stdout",
     "output_type": "stream",
     "text": [
      "[  53.76944059   60.76944059   56.76944059   59.76944059   57.76944059\n",
      "   47.76944059   58.76944059   54.76944059   46.76944059   55.76944059\n",
      "   48.76944059   51.76944059   50.76944059   45.76944059   52.76944059\n",
      "   49.76944059   68.76944059   43.76944059   63.76944059   66.76944059\n",
      "   62.76944059   64.76944059   67.76944059   69.76944059   75.76944059\n",
      "   65.76944059   77.76944059   44.76944059   89.76944059   81.76944059\n",
      "    7.76944059   83.76944059   85.76944059   71.76944059   95.76944059\n",
      "   73.76944059   61.76944059   79.76944059   78.76944059   74.76944059\n",
      "   42.76944059   41.76944059   86.76944059   72.76944059   82.76944059\n",
      "   76.76944059   38.76944059   70.76944059   87.76944059   34.76944059\n",
      "   80.76944059   84.76944059   92.76944059   98.76944059   93.76944059\n",
      "   39.76944059   91.76944059   40.76944059   37.76944059   33.76944059\n",
      "  103.76944059   94.76944059   99.76944059   96.76944059   88.76944059\n",
      "   28.76944059   90.76944059   97.76944059  100.76944059   31.76944059\n",
      "  101.76944059   25.76944059  109.76944059  105.76944059  102.76944059\n",
      "   36.76944059  110.76944059  107.76944059  113.76944059  106.76944059\n",
      "  104.76944059  108.76944059  111.76944059   35.76944059   23.76944059\n",
      "   32.76944059  161.76944059   30.76944059   29.76944059   27.76944059\n",
      "   20.76944059  114.76944059   13.76944059   26.76944059   14.76944059\n",
      "   19.76944059   21.76944059   17.76944059   15.76944059   16.76944059\n",
      "   24.76944059   18.76944059   22.76944059   12.76944059  112.76944059\n",
      "   11.76944059   10.76944059   -0.23055941    9.76944059    8.76944059\n",
      "    6.76944059    5.76944059  124.76944059    4.76944059    3.76944059\n",
      "    2.76944059    1.76944059    0.76944059]\n",
      "[  1.00025300e+06   1.00025400e+06   1.00024400e+06   1.00023500e+06\n",
      "   1.00025200e+06   1.00023700e+06   1.00020700e+06   1.00023400e+06\n",
      "   1.00024800e+06   1.00023100e+06   1.00025100e+06   1.00024600e+06\n",
      "   1.00021400e+06   1.00019800e+06   1.00010500e+06   1.00014100e+06\n",
      "   1.00008100e+06   1.00000800e+06   1.00024100e+06   1.00022600e+06\n",
      "   1.00014500e+06   1.00019400e+06   1.00025000e+06   1.00020900e+06\n",
      "   1.00019500e+06   1.00020600e+06   1.00020300e+06   1.00024900e+06\n",
      "   1.00016000e+06   1.00021600e+06   1.00024300e+06   1.00006100e+06\n",
      "   1.00011300e+06   1.00000700e+06   1.00012700e+06   1.00017200e+06\n",
      "   1.00016900e+06   1.00014000e+06   1.00013700e+06   1.00002900e+06\n",
      "   1.00011800e+06   1.00022800e+06   1.00012600e+06   1.00014800e+06\n",
      "   1.00023800e+06   1.00012900e+06   1.00018700e+06   1.00024700e+06\n",
      "   1.00011500e+06   1.00012300e+06   1.00015100e+06   1.00007600e+06\n",
      "   1.00000600e+06   1.00024200e+06   1.00021100e+06   1.00023900e+06\n",
      "   1.00015200e+06   1.00024500e+06   1.00021700e+06   1.00015900e+06\n",
      "   1.00024000e+06   1.00006000e+06   1.00014200e+06   1.00023200e+06\n",
      "   1.00003400e+06   1.00008800e+06   1.00014600e+06   1.00013100e+06\n",
      "   1.00022900e+06   1.00017000e+06   1.00023300e+06   1.00022200e+06\n",
      "   1.00022000e+06   1.00021300e+06   1.00014300e+06   1.00017800e+06\n",
      "   1.00020500e+06   1.00023600e+06   1.00021900e+06   1.00001100e+06\n",
      "   1.00014900e+06   1.00002600e+06   1.00022400e+06   1.00019200e+06\n",
      "   1.00006900e+06   1.00013200e+06   1.00022300e+06   1.00018400e+06\n",
      "   1.00023000e+06   1.00021500e+06   1.00022100e+06   1.00021800e+06\n",
      "   1.00020800e+06   1.00017600e+06   1.00016100e+06   1.00016400e+06\n",
      "   1.00011700e+06   1.00000500e+06   1.00016800e+06   1.00019600e+06\n",
      "   1.00022700e+06   1.00008900e+06   1.00003600e+06   1.00022500e+06\n",
      "   1.00008200e+06   1.00020100e+06   1.00018500e+06   1.00004100e+06\n",
      "   1.00018200e+06   1.00017400e+06   1.00012000e+06   1.00005500e+06\n",
      "   1.00014700e+06   1.00017900e+06   1.00018600e+06   1.00020400e+06\n",
      "   1.00017700e+06   1.00015000e+06   1.00019100e+06   1.00018100e+06\n",
      "   1.00018000e+06   1.00019700e+06   1.00017300e+06   1.00017500e+06\n",
      "   1.00018800e+06   1.00009900e+06   1.00007100e+06   1.00018300e+06\n",
      "   1.00015600e+06   1.00007300e+06   1.00019000e+06   1.00002100e+06\n",
      "   1.00020200e+06   1.00019300e+06   1.00013500e+06   1.00002300e+06\n",
      "   1.00013600e+06   1.00007200e+06   1.00008600e+06   1.00015400e+06\n",
      "   1.00002400e+06   1.00015300e+06   1.00009000e+06   1.00012400e+06\n",
      "   1.00015800e+06   1.00013000e+06   1.00016500e+06   1.00016200e+06\n",
      "   1.00016300e+06   1.00015500e+06   1.00015700e+06   1.00013900e+06\n",
      "   1.00004600e+06   1.00012500e+06   1.00000100e+06   1.00004700e+06\n",
      "   1.00002500e+06   1.00020000e+06   1.00005800e+06   1.00021200e+06\n",
      "   1.00012200e+06   1.00017100e+06   1.00013400e+06   1.00009600e+06\n",
      "   1.00018900e+06   1.00021000e+06   1.00004900e+06   1.00008400e+06\n",
      "   1.00012800e+06   1.00001800e+06   1.00000200e+06   1.00010100e+06\n",
      "   1.00001500e+06   1.00016700e+06   1.00000000e+06   1.00010900e+06\n",
      "   1.00007500e+06   1.00011900e+06   1.00005700e+06   1.00013800e+06\n",
      "   1.00010800e+06   1.00005400e+06   1.00006500e+06   1.00016600e+06\n",
      "   1.00012100e+06   1.00019900e+06   1.00005000e+06   1.00007900e+06\n",
      "   1.00008700e+06   1.00001700e+06   1.00014400e+06   1.00011100e+06\n",
      "   1.00006400e+06   1.00013300e+06   1.00005600e+06   1.00010400e+06\n",
      "   1.00001300e+06   1.00009700e+06   1.00003800e+06   1.00003200e+06\n",
      "   1.00000400e+06   1.00005100e+06   1.00008500e+06   1.00001200e+06\n",
      "   1.00009800e+06   1.00002800e+06   1.00009500e+06   1.00009100e+06\n",
      "   1.00004400e+06   1.00009200e+06   1.00011200e+06   1.00011000e+06\n",
      "   1.00011600e+06   1.00010000e+06   1.00011400e+06   1.00006800e+06\n",
      "   1.00007400e+06   1.00007000e+06   1.00001600e+06   1.00010200e+06\n",
      "   1.00006200e+06   1.00009400e+06   1.00010300e+06   1.00009300e+06\n",
      "   9.99999000e+05   1.00008000e+06   1.00004200e+06   1.00000900e+06\n",
      "   1.00002700e+06   1.00007800e+06   1.00005200e+06   1.00007700e+06\n",
      "   1.00005300e+06   1.00006700e+06   1.00001000e+06   1.00006600e+06\n",
      "   1.00002200e+06   1.00002000e+06   1.00010700e+06   1.00003500e+06\n",
      "   1.00003900e+06   1.00010600e+06   1.00005900e+06   1.00001400e+06\n",
      "   1.00000300e+06   1.00003000e+06   1.00003300e+06   1.00004500e+06\n",
      "   1.00001900e+06   9.99998000e+05   1.00003700e+06   1.00003100e+06\n",
      "   1.00004300e+06   1.00006300e+06   1.00008300e+06   1.00004000e+06\n",
      "   1.00004800e+06  -9.99819250e-01]\n",
      "[ 0.94469005 -0.05530995  9.94469005]\n",
      "[-0.02207284  0.97792716  8.97792716]\n",
      "[ 0.88379369  8.88379369 -0.11620631]\n",
      "[-0.02075406  9.97924594  0.97924594]\n",
      "[694110866363000000  46283666363000000 608488466363000000 ...,\n",
      "  34446866363000000  25374866363000000  22869266363000000]\n",
      "[-0.0636612  0.9363388  8.9363388]\n",
      "[-0.21894769  0.78105231  1.78105231  2.78105231  8.78105231]\n",
      "[-0.15141588  0.84858412  8.84858412  1.84858412]\n"
     ]
    }
   ],
   "source": [
    "for i in headers:\n",
    "    print data_df[i].unique()"
   ]
  },
  {
   "cell_type": "code",
   "execution_count": null,
   "metadata": {
    "collapsed": true
   },
   "outputs": [],
   "source": []
  },
  {
   "cell_type": "code",
   "execution_count": null,
   "metadata": {
    "collapsed": true
   },
   "outputs": [],
   "source": []
  },
  {
   "cell_type": "code",
   "execution_count": null,
   "metadata": {
    "collapsed": true
   },
   "outputs": [],
   "source": []
  },
  {
   "cell_type": "code",
   "execution_count": null,
   "metadata": {
    "collapsed": true
   },
   "outputs": [],
   "source": []
  },
  {
   "cell_type": "code",
   "execution_count": null,
   "metadata": {
    "collapsed": true
   },
   "outputs": [],
   "source": []
  },
  {
   "cell_type": "code",
   "execution_count": 28,
   "metadata": {
    "collapsed": true
   },
   "outputs": [],
   "source": [
    "for i in headers:\n",
    "    data_df[i].replace('N/A', '-1', inplace=True)"
   ]
  },
  {
   "cell_type": "code",
   "execution_count": 16,
   "metadata": {
    "collapsed": false
   },
   "outputs": [
    {
     "name": "stdout",
     "output_type": "stream",
     "text": [
      "['56' '63' '59' '62' '60' '50' '61' '57' '49' '58' '51' '54' '53' '48' '55'\n",
      " '52' '71' '46' '66' '69' '65' '67' '70' '72' '78' '68' '80' '47' '92' '84'\n",
      " '-1' '86' '88' '74' '98' '76' '64' '82' '81' '77' '45' '44' '89' '75' '85'\n",
      " '79' '41' '73' '90' '37' '83' '87' '95' '101' '96' '42' '94' '43' '40'\n",
      " '36' '106' '97' '102' '99' '91' '31' '93' '100' '103' '34' '104' '28'\n",
      " '112' '108' '105' '39' '113' '110' '116' '109' '107' '111' '114' '38' '26'\n",
      " '35' '164' '33' '32' '30' '23' '117' '16' '29' '17' '22' '24' '20' '18'\n",
      " '19' '27' '21' '25' '15' '115' '14' '13' '2' '12' '11' ' 47' ' 41' ' 11'\n",
      " ' 45' ' 34' ' 73' ' 66' '10' '9' '8' '127' '7' '6' '5' '4' '3' 23L 48L 27L\n",
      " 21L 40L 22L 91L 33L 24L 20L 25L 55L 42L 74L 32L 71L 58L 39L 37L 54L 44L\n",
      " 73L 45L 57L 29L 46L 26L 28L 69L 36L 63L 56L 72L 34L 50L 31L 75L 59L 47L\n",
      " 81L 41L 49L 53L 62L 30L 35L 43L 60L 88L 61L 68L 38L 87L 80L 85L 84L 89L\n",
      " 67L 77L 76L 70L 64L 3L 65L 51L 9L 7L 66L 12L 52L 86L 82L 18L 79L 19L 2L\n",
      " 83L 16L 78L 6L 8L 17L 13L 90L 5L 10L 11L 14L 94L 15L 96L 92L 99L 4L 95L\n",
      " 98L 93L 102L 100L 97L]\n",
      "['255' '256' '246' '237' '254' '239' '209' '236' '250' '233' '253' '248'\n",
      " '216' '200' '107' '143' '83' '-1' '243' '228' '147' '196' '252' '211'\n",
      " '197' '208' '205' '251' '162' '218' '245' '63' '115' '9' '129' '174' '171'\n",
      " '142' '139' '31' '120' '230' '128' '150' '240' '131' '189' '249' '117'\n",
      " '125' '153' '78' '8' '244' '213' '241' '154' '247' '219' '161' '242' '62'\n",
      " '144' '234' '36' '90' '148' '133' '231' '172' '235' '224' '222' '215'\n",
      " '145' '180' '207' '238' '221' '13' '151' '28' '226' '194' '71' '134' '225'\n",
      " '186' '232' '217' '223' '220' '210' '178' '163' '166' '119' '7' '170'\n",
      " '198' '229' '91' '38' '227' '84' '203' '187' '43' '184' '176' '122' '57'\n",
      " '149' '181' '188' '206' '179' '152' '193' '183' '182' '199' '175' '177'\n",
      " '190' '101' '73' '185' '158' '75' '192' '23' '204' '195' '137' '25' '138'\n",
      " '74' '88' '156' '26' '155' '92' '126' '160' '132' '167' '164' '165' '157'\n",
      " '159' '141' '48' '127' '3' '49' '27' '202' '60' '214' '124' '173' '136'\n",
      " '98' '191' '212' '51' '86' '130' '20' '4' '103' '17' '169' '2' '111' '77'\n",
      " '121' '59' '140' '110' '56' '67' '168' '123' '201' '52' '81' '89' '19'\n",
      " '146' '113' '66' '135' '58' '106' '15' '99' '40' '34' '6' '53' '87' '14'\n",
      " '100' '30' '97' '93' '46' '94' '114' '112' '118' '102' '116' '70' '76'\n",
      " '72' '18' '104' '64' '96' '105' '95' '1' '82' '44' '11' '29' '80' '54'\n",
      " '79' '55' '69' '12' '68' '10' '24' '22' '109' '37' '41' '108' '61' '16'\n",
      " '5' '32' '35' '47' '21' '0' '39' '33' '45' '65' '85' '42' '50' '-999999'\n",
      " '    107' '     20' '      4' '    105' '    104' '     61' 9L 4L 6L 8L\n",
      " 23L 0L 15L 3L 1L 7L 2L 5L 127L 11L 22L 12L 13L 14L]\n",
      "[1.0 0.0 '-1']\n",
      "['N' 'S' '-1']\n",
      "['S' '-1' 'N']\n",
      "[0.0 '-1' 1.0]\n",
      "['1995-01-16' '2015-07-28' '1997-10-03' ..., '2015-12-12' '2016-03-26'\n",
      " '2016-04-24']\n",
      "['V' 'H' '-1']\n",
      "['F' 'A' 'N' 'B' '-1']\n",
      "['01 - TOP' '02 - PARTICULARES' '-1' '03 - UNIVERSITARIO']\n"
     ]
    }
   ],
   "source": [
    "for i in headers:\n",
    "    print data_df[i].unique()"
   ]
  },
  {
   "cell_type": "code",
   "execution_count": 29,
   "metadata": {
    "collapsed": false
   },
   "outputs": [],
   "source": [
    "data_df['fecha_alta'].replace('-1', dt.datetime.today().strftime('%Y-%m-%d'), inplace=True)"
   ]
  },
  {
   "cell_type": "code",
   "execution_count": 30,
   "metadata": {
    "collapsed": false
   },
   "outputs": [
    {
     "ename": "ValueError",
     "evalue": "time data '17-01-13' does not match format '%Y-%m-%d'",
     "output_type": "error",
     "traceback": [
      "\u001b[1;31m---------------------------------------------------------------------------\u001b[0m",
      "\u001b[1;31mValueError\u001b[0m                                Traceback (most recent call last)",
      "\u001b[1;32m<ipython-input-30-be7a23c8c890>\u001b[0m in \u001b[0;36m<module>\u001b[1;34m()\u001b[0m\n\u001b[0;32m      1\u001b[0m \u001b[0mdays_difference\u001b[0m \u001b[1;33m=\u001b[0m \u001b[1;33m[\u001b[0m\u001b[1;33m]\u001b[0m\u001b[1;33m\u001b[0m\u001b[0m\n\u001b[0;32m      2\u001b[0m \u001b[1;32mfor\u001b[0m \u001b[0mi\u001b[0m \u001b[1;32min\u001b[0m \u001b[0mdata_df\u001b[0m\u001b[1;33m[\u001b[0m\u001b[1;34m'fecha_alta'\u001b[0m\u001b[1;33m]\u001b[0m\u001b[1;33m:\u001b[0m\u001b[1;33m\u001b[0m\u001b[0m\n\u001b[1;32m----> 3\u001b[1;33m     \u001b[0mdays_difference\u001b[0m\u001b[1;33m.\u001b[0m\u001b[0mappend\u001b[0m\u001b[1;33m(\u001b[0m\u001b[0mdt\u001b[0m\u001b[1;33m.\u001b[0m\u001b[0mdatetime\u001b[0m\u001b[1;33m.\u001b[0m\u001b[0mstrptime\u001b[0m\u001b[1;33m(\u001b[0m\u001b[0mi\u001b[0m\u001b[1;33m,\u001b[0m \u001b[1;34m'%Y-%m-%d'\u001b[0m\u001b[1;33m)\u001b[0m\u001b[1;33m)\u001b[0m\u001b[1;33m\u001b[0m\u001b[0m\n\u001b[0m\u001b[0;32m      4\u001b[0m \u001b[0mnew_fecha_alta\u001b[0m \u001b[1;33m=\u001b[0m \u001b[0mpd\u001b[0m\u001b[1;33m.\u001b[0m\u001b[0mDataFrame\u001b[0m\u001b[1;33m(\u001b[0m\u001b[0mdays_difference\u001b[0m\u001b[1;33m)\u001b[0m\u001b[1;33m\u001b[0m\u001b[0m\n",
      "\u001b[1;32mC:\\Users\\student01\\Anaconda2\\lib\\_strptime.pyc\u001b[0m in \u001b[0;36m_strptime\u001b[1;34m(data_string, format)\u001b[0m\n\u001b[0;32m    330\u001b[0m     \u001b[1;32mif\u001b[0m \u001b[1;32mnot\u001b[0m \u001b[0mfound\u001b[0m\u001b[1;33m:\u001b[0m\u001b[1;33m\u001b[0m\u001b[0m\n\u001b[0;32m    331\u001b[0m         raise ValueError(\"time data %r does not match format %r\" %\n\u001b[1;32m--> 332\u001b[1;33m                          (data_string, format))\n\u001b[0m\u001b[0;32m    333\u001b[0m     \u001b[1;32mif\u001b[0m \u001b[0mlen\u001b[0m\u001b[1;33m(\u001b[0m\u001b[0mdata_string\u001b[0m\u001b[1;33m)\u001b[0m \u001b[1;33m!=\u001b[0m \u001b[0mfound\u001b[0m\u001b[1;33m.\u001b[0m\u001b[0mend\u001b[0m\u001b[1;33m(\u001b[0m\u001b[1;33m)\u001b[0m\u001b[1;33m:\u001b[0m\u001b[1;33m\u001b[0m\u001b[0m\n\u001b[0;32m    334\u001b[0m         raise ValueError(\"unconverted data remains: %s\" %\n",
      "\u001b[1;31mValueError\u001b[0m: time data '17-01-13' does not match format '%Y-%m-%d'"
     ]
    }
   ],
   "source": [
    "days_difference = []\n",
    "for i in data_df['fecha_alta']:\n",
    "    days_difference.append(dt.datetime.strptime(i, '%Y-%m-%d'))\n",
    "new_fecha_alta = pd.DataFrame(days_difference)"
   ]
  },
  {
   "cell_type": "code",
   "execution_count": null,
   "metadata": {
    "collapsed": true
   },
   "outputs": [],
   "source": []
  },
  {
   "cell_type": "code",
   "execution_count": null,
   "metadata": {
    "collapsed": true
   },
   "outputs": [],
   "source": []
  },
  {
   "cell_type": "code",
   "execution_count": null,
   "metadata": {
    "collapsed": true
   },
   "outputs": [],
   "source": []
  },
  {
   "cell_type": "code",
   "execution_count": null,
   "metadata": {
    "collapsed": true
   },
   "outputs": [],
   "source": []
  },
  {
   "cell_type": "raw",
   "metadata": {},
   "source": [
    "Below is the code where I wanted to fill the nulls with the ratio of the values that are filled in the column."
   ]
  },
  {
   "cell_type": "code",
   "execution_count": null,
   "metadata": {
    "collapsed": false
   },
   "outputs": [],
   "source": [
    "total_count = data_df['segmento'].count()\n",
    "unique_counts =  data_df['segmento'].value_counts()\n",
    "\n",
    "particulares_percentage = unique_counts[0]/float(total_count)\n",
    "universitario_percentage = unique_counts[1]/float(total_count)\n",
    "top_percentage = unique_counts[2]/float(total_count)\n",
    "\n",
    "print 'Particulares Percentage: ', particulares_percentage\n",
    "print 'Universitario Percentage: ', universitario_percentage\n",
    "print 'Top Percentage: ', top_percentage\n",
    "\n",
    "nulls = data_df['segmento'].isnull().count()\n",
    "\n",
    "particulares_fill_count = int(particulares_percentage*nulls)\n",
    "universitario_fill_count = int(universitario_percentage*nulls)\n",
    "top_fill_count = int(top_percentage*nulls)\n",
    "print particulares_fill_count\n",
    "print universitario_fill_count\n",
    "print top_fill_count"
   ]
  },
  {
   "cell_type": "code",
   "execution_count": null,
   "metadata": {
    "collapsed": true
   },
   "outputs": [],
   "source": [
    "data_df.loc[data_df['segmento'].isnull()] = 'N'"
   ]
  },
  {
   "cell_type": "code",
   "execution_count": null,
   "metadata": {
    "collapsed": false
   },
   "outputs": [],
   "source": [
    "seg_list = list(data_df['segmento'])\n",
    "print seg_list[:100]"
   ]
  },
  {
   "cell_type": "code",
   "execution_count": null,
   "metadata": {
    "collapsed": false
   },
   "outputs": [],
   "source": [
    "for element in seg_list:\n",
    "    if element == 'N':\n",
    "        count = 0\n",
    "        while count < particulares_fill_count:\n",
    "            seg_list[count]= '01 - PARTICULARES')\n",
    "            count += 1"
   ]
  }
 ],
 "metadata": {
  "anaconda-cloud": {},
  "kernelspec": {
   "display_name": "Python [Root]",
   "language": "python",
   "name": "Python [Root]"
  },
  "language_info": {
   "codemirror_mode": {
    "name": "ipython",
    "version": 2
   },
   "file_extension": ".py",
   "mimetype": "text/x-python",
   "name": "python",
   "nbconvert_exporter": "python",
   "pygments_lexer": "ipython2",
   "version": "2.7.12"
  }
 },
 "nbformat": 4,
 "nbformat_minor": 0
}
