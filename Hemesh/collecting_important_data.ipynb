{
 "cells": [
  {
   "cell_type": "code",
   "execution_count": 1,
   "metadata": {
    "collapsed": true
   },
   "outputs": [],
   "source": [
    "import pandas as pd\n",
    "import numpy as np"
   ]
  },
  {
   "cell_type": "code",
   "execution_count": 2,
   "metadata": {
    "collapsed": false
   },
   "outputs": [
    {
     "name": "stderr",
     "output_type": "stream",
     "text": [
      "C:\\Users\\student01\\Anaconda2\\lib\\site-packages\\IPython\\core\\interactiveshell.py:2723: DtypeWarning: Columns (5,8,11,15) have mixed types. Specify dtype option on import or set low_memory=False.\n",
      "  interactivity=interactivity, compiler=compiler, result=result)\n"
     ]
    }
   ],
   "source": [
    "data_df = pd.read_csv('train_ver2.csv')"
   ]
  },
  {
   "cell_type": "code",
   "execution_count": 3,
   "metadata": {
    "collapsed": false
   },
   "outputs": [
    {
     "name": "stdout",
     "output_type": "stream",
     "text": [
      "['ind_empleado', 'pais_residencia', 'sexo', 'age', 'fecha_alta', 'ind_nuevo', 'antiguedad', 'indrel', 'ult_fec_cli_1t', 'indrel_1mes', 'tiprel_1mes', 'indresi', 'indext', 'conyuemp', 'canal_entrada', 'indfall', 'tipodom', 'cod_prov', 'nomprov', 'ind_actividad_cliente', 'renta', 'segmento']\n"
     ]
    }
   ],
   "source": [
    "headers = list(data_df)[2:24]\n",
    "print headers "
   ]
  },
  {
   "cell_type": "code",
   "execution_count": 4,
   "metadata": {
    "collapsed": false
   },
   "outputs": [
    {
     "name": "stdout",
     "output_type": "stream",
     "text": [
      "ind_empleado\n",
      "0.203219550462\n",
      "pais_residencia\n",
      "0.203219550462\n",
      "sexo\n",
      "0.203732472094\n",
      "age\n",
      "0.0\n",
      "fecha_alta\n",
      "0.203219550462\n",
      "ind_nuevo\n",
      "0.203219550462\n",
      "antiguedad\n",
      "0.0\n",
      "indrel\n",
      "0.203219550462\n",
      "ult_fec_cli_1t\n",
      "99.8183304855\n",
      "indrel_1mes\n",
      "1.09751307016\n",
      "tiprel_1mes\n",
      "1.09751307016\n",
      "indresi\n",
      "0.203219550462\n",
      "indext\n",
      "0.203219550462\n",
      "conyuemp\n",
      "99.986751967\n",
      "canal_entrada\n",
      "1.36382930877\n",
      "indfall\n",
      "0.203219550462\n",
      "tipodom\n",
      "0.203226877914\n",
      "cod_prov\n",
      "0.685783548977\n",
      "nomprov\n",
      "0.685783548977\n",
      "ind_actividad_cliente\n",
      "0.203219550462\n",
      "renta\n",
      "20.4756483494\n",
      "segmento\n",
      "1.38758490776\n"
     ]
    }
   ],
   "source": [
    "for i in headers:\n",
    "    print i\n",
    "    nulls = data_df[i].isnull().sum()\n",
    "    lenght = len(data_df[i])\n",
    "    percentage = (float(nulls)/float(lenght))*100\n",
    "    print percentage"
   ]
  },
  {
   "cell_type": "code",
   "execution_count": 6,
   "metadata": {
    "collapsed": false
   },
   "outputs": [],
   "source": [
    "data_df = data_df[['fecha_dato',\n",
    "                'ncodpers',\n",
    "                'age',\n",
    "                'antiguedad',\n",
    "                'ind_actividad_cliente',\n",
    "                'indext',\n",
    "                'indresi',  \n",
    "                'ind_nuevo',  \n",
    "                'fecha_alta',  \n",
    "                'sexo',  \n",
    "                'ind_empleado',   \n",
    "                'segmento']] # We only take the columns which give the most information, the columns that have the least nulls"
   ]
  },
  {
   "cell_type": "code",
   "execution_count": 7,
   "metadata": {
    "collapsed": true
   },
   "outputs": [],
   "source": [
    "data_df = data_df.groupby('ncodpers').last()"
   ]
  },
  {
   "cell_type": "code",
   "execution_count": 8,
   "metadata": {
    "collapsed": true
   },
   "outputs": [],
   "source": [
    "data_df.to_csv('games.csv')"
   ]
  },
  {
   "cell_type": "code",
   "execution_count": null,
   "metadata": {
    "collapsed": true
   },
   "outputs": [],
   "source": []
  }
 ],
 "metadata": {
  "anaconda-cloud": {},
  "kernelspec": {
   "display_name": "Python [Root]",
   "language": "python",
   "name": "Python [Root]"
  },
  "language_info": {
   "codemirror_mode": {
    "name": "ipython",
    "version": 2
   },
   "file_extension": ".py",
   "mimetype": "text/x-python",
   "name": "python",
   "nbconvert_exporter": "python",
   "pygments_lexer": "ipython2",
   "version": "2.7.12"
  }
 },
 "nbformat": 4,
 "nbformat_minor": 0
}
