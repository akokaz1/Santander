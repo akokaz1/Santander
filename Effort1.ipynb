{
 "cells": [
  {
   "cell_type": "code",
   "execution_count": 52,
   "metadata": {
    "collapsed": false
   },
   "outputs": [
    {
     "name": "stdout",
     "output_type": "stream",
     "text": [
      "Populating the interactive namespace from numpy and matplotlib\n"
     ]
    }
   ],
   "source": [
    "import pandas as pd\n",
    "import numpy as np\n",
    "import plotly as py\n",
    "import matplotlib.pyplot as plt\n",
    "import seaborn as sns\n",
    "%pylab inline\n",
    "pylab.rcParams['figure.figsize'] = (20, 20)"
   ]
  },
  {
   "cell_type": "code",
   "execution_count": 53,
   "metadata": {
    "collapsed": false
   },
   "outputs": [],
   "source": [
    "limit_rows = 5000000\n",
    "df = pd.read_csv(\"C:\\Users\\student12\\Desktop\\Santander/train_ver2.csv\",dtype={\"sexo\":str,\n",
    "                                                    \"ind_nuevo\":str,\n",
    "                                                    \"ult_fec_cli_1t\":str,\n",
    "                                                    \"indext\":str}, nrows=limit_rows)\n",
    "unique_ids = pd.Series(df['ncodpers'].unique())\n",
    "limit_people = 1.2e4\n",
    "unique_id = unique_ids.sample(n= limit_people)\n",
    "df = df[df.ncodpers.isin(unique_id)]"
   ]
  },
  {
   "cell_type": "code",
   "execution_count": 54,
   "metadata": {
    "collapsed": false
   },
   "outputs": [
    {
     "data": {
      "text/plain": [
       "count     71793\n",
       "unique      206\n",
       "top          23\n",
       "freq       3478\n",
       "Name: age, dtype: object"
      ]
     },
     "execution_count": 54,
     "metadata": {},
     "output_type": "execute_result"
    }
   ],
   "source": [
    "df.age.describe()"
   ]
  },
  {
   "cell_type": "code",
   "execution_count": 55,
   "metadata": {
    "collapsed": false
   },
   "outputs": [],
   "source": [
    "df.isnull().any()\n",
    "df[\"fecha_dato\"] = pd.to_datetime(df[\"fecha_dato\"],format=\"%Y-%m-%d\")\n",
    "df[\"fecha_alta\"] = pd.to_datetime(df[\"fecha_alta\"],format=\"%Y-%m-%d\")"
   ]
  },
  {
   "cell_type": "code",
   "execution_count": 56,
   "metadata": {
    "collapsed": false
   },
   "outputs": [],
   "source": [
    "df['age'] = pd.to_numeric(df['age'], errors='coerce')"
   ]
  },
  {
   "cell_type": "code",
   "execution_count": 57,
   "metadata": {
    "collapsed": false
   },
   "outputs": [
    {
     "data": {
      "text/plain": [
       "fecha_dato               False\n",
       "ncodpers                 False\n",
       "ind_empleado              True\n",
       "pais_residencia           True\n",
       "sexo                      True\n",
       "age                       True\n",
       "fecha_alta                True\n",
       "ind_nuevo                 True\n",
       "antiguedad               False\n",
       "indrel                    True\n",
       "ult_fec_cli_1t            True\n",
       "indrel_1mes               True\n",
       "tiprel_1mes               True\n",
       "indresi                   True\n",
       "indext                    True\n",
       "conyuemp                  True\n",
       "canal_entrada             True\n",
       "indfall                   True\n",
       "tipodom                   True\n",
       "cod_prov                  True\n",
       "nomprov                   True\n",
       "ind_actividad_cliente     True\n",
       "renta                     True\n",
       "segmento                  True\n",
       "ind_ahor_fin_ult1        False\n",
       "ind_aval_fin_ult1        False\n",
       "ind_cco_fin_ult1         False\n",
       "ind_cder_fin_ult1        False\n",
       "ind_cno_fin_ult1         False\n",
       "ind_ctju_fin_ult1        False\n",
       "ind_ctma_fin_ult1        False\n",
       "ind_ctop_fin_ult1        False\n",
       "ind_ctpp_fin_ult1        False\n",
       "ind_deco_fin_ult1        False\n",
       "ind_deme_fin_ult1        False\n",
       "ind_dela_fin_ult1        False\n",
       "ind_ecue_fin_ult1        False\n",
       "ind_fond_fin_ult1        False\n",
       "ind_hip_fin_ult1         False\n",
       "ind_plan_fin_ult1        False\n",
       "ind_pres_fin_ult1        False\n",
       "ind_reca_fin_ult1        False\n",
       "ind_tjcr_fin_ult1        False\n",
       "ind_valo_fin_ult1        False\n",
       "ind_viv_fin_ult1         False\n",
       "ind_nomina_ult1           True\n",
       "ind_nom_pens_ult1         True\n",
       "ind_recibo_ult1          False\n",
       "dtype: bool"
      ]
     },
     "execution_count": 57,
     "metadata": {},
     "output_type": "execute_result"
    }
   ],
   "source": [
    "df.isnull().any()"
   ]
  },
  {
   "cell_type": "code",
   "execution_count": 58,
   "metadata": {
    "collapsed": false
   },
   "outputs": [
    {
     "data": {
      "image/png": "[encoded data removed]",
      "text/plain": [
       "<matplotlib.figure.Figure at 0x686d6400>"
      ]
     },
     "metadata": {},
     "output_type": "display_data"
    }
   ],
   "source": [
    "with sns.plotting_context(\"notebook\",font_scale=1.5):\n",
    "    sns.set_style(\"whitegrid\")\n",
    "    sns.distplot(df[\"age\"].dropna(),\n",
    "                 bins=80,\n",
    "                 kde=False,\n",
    "                 color=\"tomato\")\n",
    "    sns.plt.title(\"Age Distribution\")\n",
    "    plt.ylabel(\"Count\")"
   ]
  },
  {
   "cell_type": "code",
   "execution_count": 59,
   "metadata": {
    "collapsed": true
   },
   "outputs": [],
   "source": [
    "df.loc[df.age < 18,\"age\"]  = df.loc[(df.age >= 18) & (df.age <= 30),\"age\"].mean(skipna=True) #fills age outlier as average (for age < 18)\n",
    "df.loc[df.age > 100,\"age\"] = df.loc[(df.age >= 30) & (df.age <= 100),\"age\"].mean(skipna=True) #fills age outlier as average (for age > 100)\n",
    "df[\"age\"].fillna(df[\"age\"].mean(),inplace=True)\n",
    "df[\"age\"]                  = df[\"age\"].astype(int)  "
   ]
  },
  {
   "cell_type": "code",
   "execution_count": 60,
   "metadata": {
    "collapsed": false
   },
   "outputs": [
    {
     "data": {
      "image/png": "[encoded data removed]",
      "text/plain": [
       "<matplotlib.figure.Figure at 0x85466518>"
      ]
     },
     "metadata": {},
     "output_type": "display_data"
    }
   ],
   "source": [
    "with sns.plotting_context(\"notebook\",font_scale=1.5):\n",
    "    sns.set_style(\"whitegrid\")\n",
    "    sns.distplot(df[\"age\"].dropna(),\n",
    "                 bins=80,\n",
    "                 kde=False,\n",
    "                 color=\"tomato\")\n",
    "    sns.plt.title(\"Age Distribution\")\n",
    "    plt.ylabel(\"Count\")\n",
    "    plt.xlim((15,100))"
   ]
  },
  {
   "cell_type": "code",
   "execution_count": 61,
   "metadata": {
    "collapsed": false
   },
   "outputs": [
    {
     "data": {
      "text/plain": [
       "341"
      ]
     },
     "execution_count": 61,
     "metadata": {},
     "output_type": "execute_result"
    }
   ],
   "source": [
    "df['ind_nuevo'].isnull().sum()"
   ]
  },
  {
   "cell_type": "code",
   "execution_count": 62,
   "metadata": {
    "collapsed": false
   },
   "outputs": [
    {
     "data": {
      "text/plain": [
       "6"
      ]
     },
     "execution_count": 62,
     "metadata": {},
     "output_type": "execute_result"
    }
   ],
   "source": [
    "months_active = df.loc[df[\"ind_nuevo\"].isnull(),:].groupby(\"ncodpers\", sort=False).size() #sorts how long the account is active for\n",
    "months_active.max()"
   ]
  },
  {
   "cell_type": "code",
   "execution_count": 63,
   "metadata": {
    "collapsed": false
   },
   "outputs": [],
   "source": [
    "df.loc[df[\"ind_nuevo\"].isnull(),\"ind_nuevo\"] = 1 #changes nulls into 1, meaning new customer"
   ]
  },
  {
   "cell_type": "code",
   "execution_count": 64,
   "metadata": {
    "collapsed": false
   },
   "outputs": [
    {
     "data": {
      "text/plain": [
       "341"
      ]
     },
     "execution_count": 64,
     "metadata": {},
     "output_type": "execute_result"
    }
   ],
   "source": [
    "df.antiguedad = pd.to_numeric(df.antiguedad,errors=\"coerce\")\n",
    "np.sum(df[\"antiguedad\"].isnull())"
   ]
  },
  {
   "cell_type": "code",
   "execution_count": 65,
   "metadata": {
    "collapsed": true
   },
   "outputs": [],
   "source": [
    "df.loc[df.antiguedad.isnull(),\"antiguedad\"] = df.antiguedad.min()\n",
    "df.loc[df.antiguedad <0, \"antiguedad\"]      = 0 # Thanks @StephenSmith for bug-find"
   ]
  },
  {
   "cell_type": "code",
   "execution_count": 66,
   "metadata": {
    "collapsed": false
   },
   "outputs": [
    {
     "data": {
      "text/plain": [
       "count                   71793\n",
       "unique                   4013\n",
       "top       2014-10-03 00:00:00\n",
       "freq                      413\n",
       "first     1995-01-16 00:00:00\n",
       "last      2015-08-31 00:00:00\n",
       "Name: fecha_alta, dtype: object"
      ]
     },
     "execution_count": 66,
     "metadata": {},
     "output_type": "execute_result"
    }
   ],
   "source": [
    "dates=df.loc[:,\"fecha_alta\"].sort_values().reset_index()\n",
    "median_date = int(np.median(dates.index.values))\n",
    "df.loc[df.fecha_alta.isnull(),\"fecha_alta\"] = dates.loc[median_date,\"fecha_alta\"]\n",
    "df[\"fecha_alta\"].describe()"
   ]
  },
  {
   "cell_type": "code",
   "execution_count": 67,
   "metadata": {
    "collapsed": false
   },
   "outputs": [
    {
     "data": {
      "text/plain": [
       "1.0     71350\n",
       "99.0      102\n",
       "Name: indrel, dtype: int64"
      ]
     },
     "execution_count": 67,
     "metadata": {},
     "output_type": "execute_result"
    }
   ],
   "source": [
    "df.indrel.value_counts()   #shows only a very small number of accounts are not primary"
   ]
  },
  {
   "cell_type": "code",
   "execution_count": 68,
   "metadata": {
    "collapsed": false
   },
   "outputs": [],
   "source": [
    "df.indrel = df.indrel.fillna(1)"
   ]
  },
  {
   "cell_type": "code",
   "execution_count": 69,
   "metadata": {
    "collapsed": false
   },
   "outputs": [
    {
     "data": {
      "text/plain": [
       "fecha_dato               False\n",
       "ncodpers                 False\n",
       "ind_empleado              True\n",
       "pais_residencia           True\n",
       "sexo                      True\n",
       "age                      False\n",
       "fecha_alta               False\n",
       "ind_nuevo                False\n",
       "antiguedad               False\n",
       "indrel                   False\n",
       "ult_fec_cli_1t            True\n",
       "indrel_1mes               True\n",
       "tiprel_1mes               True\n",
       "indresi                   True\n",
       "indext                    True\n",
       "conyuemp                  True\n",
       "canal_entrada             True\n",
       "indfall                   True\n",
       "tipodom                   True\n",
       "cod_prov                  True\n",
       "nomprov                   True\n",
       "ind_actividad_cliente     True\n",
       "renta                     True\n",
       "segmento                  True\n",
       "ind_ahor_fin_ult1        False\n",
       "ind_aval_fin_ult1        False\n",
       "ind_cco_fin_ult1         False\n",
       "ind_cder_fin_ult1        False\n",
       "ind_cno_fin_ult1         False\n",
       "ind_ctju_fin_ult1        False\n",
       "ind_ctma_fin_ult1        False\n",
       "ind_ctop_fin_ult1        False\n",
       "ind_ctpp_fin_ult1        False\n",
       "ind_deco_fin_ult1        False\n",
       "ind_deme_fin_ult1        False\n",
       "ind_dela_fin_ult1        False\n",
       "ind_ecue_fin_ult1        False\n",
       "ind_fond_fin_ult1        False\n",
       "ind_hip_fin_ult1         False\n",
       "ind_plan_fin_ult1        False\n",
       "ind_pres_fin_ult1        False\n",
       "ind_reca_fin_ult1        False\n",
       "ind_tjcr_fin_ult1        False\n",
       "ind_valo_fin_ult1        False\n",
       "ind_viv_fin_ult1         False\n",
       "ind_nomina_ult1           True\n",
       "ind_nom_pens_ult1         True\n",
       "ind_recibo_ult1          False\n",
       "dtype: bool"
      ]
     },
     "execution_count": 69,
     "metadata": {},
     "output_type": "execute_result"
    }
   ],
   "source": [
    "df.isnull().any()"
   ]
  },
  {
   "cell_type": "code",
   "execution_count": 70,
   "metadata": {
    "collapsed": false
   },
   "outputs": [
    {
     "data": {
      "text/plain": [
       "1.0    36905\n",
       "0.0    34547\n",
       "Name: ind_actividad_cliente, dtype: int64"
      ]
     },
     "execution_count": 70,
     "metadata": {},
     "output_type": "execute_result"
    }
   ],
   "source": [
    "df.ind_actividad_cliente.value_counts()"
   ]
  },
  {
   "cell_type": "code",
   "execution_count": 71,
   "metadata": {
    "collapsed": true
   },
   "outputs": [],
   "source": [
    "df.loc[df.ind_actividad_cliente.isnull(),\"ind_actividad_cliente\"] = df[\"ind_actividad_cliente\"].median()"
   ]
  },
  {
   "cell_type": "code",
   "execution_count": 72,
   "metadata": {
    "collapsed": false
   },
   "outputs": [],
   "source": [
    "df.nomprov.unique() #notice issue with the first element, Coruna doesnt come out right\n",
    "df.loc[df.nomprov==\"CORU\\xc3\\x91A, A\",\"nomprov\"] = \"CORUNA, A\" #and voila, here's the fix"
   ]
  },
  {
   "cell_type": "code",
   "execution_count": 73,
   "metadata": {
    "collapsed": false
   },
   "outputs": [
    {
     "data": {
      "text/plain": [
       "12723"
      ]
     },
     "execution_count": 73,
     "metadata": {},
     "output_type": "execute_result"
    }
   ],
   "source": [
    "df.renta.isnull().sum()"
   ]
  },
  {
   "cell_type": "code",
   "execution_count": 74,
   "metadata": {
    "collapsed": false
   },
   "outputs": [
    {
     "data": {
      "text/html": [
       "<div>\n",
       "<table border=\"1\" class=\"dataframe\">\n",
       "  <thead>\n",
       "    <tr>\n",
       "      <th></th>\n",
       "      <th>nomprov</th>\n",
       "      <th>renta</th>\n",
       "    </tr>\n",
       "    <tr>\n",
       "      <th></th>\n",
       "      <th></th>\n",
       "      <th>MedianIncome</th>\n",
       "    </tr>\n",
       "  </thead>\n",
       "  <tbody>\n",
       "    <tr>\n",
       "      <th>0</th>\n",
       "      <td>CIUDAD REAL</td>\n",
       "      <td>57377.49</td>\n",
       "    </tr>\n",
       "    <tr>\n",
       "      <th>1</th>\n",
       "      <td>LERIDA</td>\n",
       "      <td>61050.27</td>\n",
       "    </tr>\n",
       "    <tr>\n",
       "      <th>2</th>\n",
       "      <td>LUGO</td>\n",
       "      <td>64358.25</td>\n",
       "    </tr>\n",
       "    <tr>\n",
       "      <th>3</th>\n",
       "      <td>JAEN</td>\n",
       "      <td>64946.04</td>\n",
       "    </tr>\n",
       "    <tr>\n",
       "      <th>4</th>\n",
       "      <td>BADAJOZ</td>\n",
       "      <td>65338.56</td>\n",
       "    </tr>\n",
       "  </tbody>\n",
       "</table>\n",
       "</div>"
      ],
      "text/plain": [
       "       nomprov        renta\n",
       "               MedianIncome\n",
       "0  CIUDAD REAL     57377.49\n",
       "1       LERIDA     61050.27\n",
       "2         LUGO     64358.25\n",
       "3         JAEN     64946.04\n",
       "4      BADAJOZ     65338.56"
      ]
     },
     "execution_count": 74,
     "metadata": {},
     "output_type": "execute_result"
    }
   ],
   "source": [
    "#df.loc[df.renta.notnull(),:].groupby(\"nomprov\").agg([{\"Sum\":sum},{\"Mean\":mean}])\n",
    "incomes = df.loc[df.renta.notnull(),:].groupby(\"nomprov\").agg({\"renta\":{\"MedianIncome\":median}})\n",
    "incomes.sort_values(by=(\"renta\",\"MedianIncome\"),inplace=True)\n",
    "incomes.reset_index(inplace=True)\n",
    "incomes.nomprov = incomes.nomprov.astype(\"category\", categories=[i for i in df.nomprov.unique()],ordered=False)\n",
    "incomes.head()"
   ]
  },
  {
   "cell_type": "code",
   "execution_count": 75,
   "metadata": {
    "collapsed": false
   },
   "outputs": [
    {
     "data": {
      "text/plain": [
       "([<matplotlib.axis.YTick at 0x5ffc4fd0>,\n",
       "  <matplotlib.axis.YTick at 0x5ffc4b70>,\n",
       "  <matplotlib.axis.YTick at 0xfe85d7b8>,\n",
       "  <matplotlib.axis.YTick at 0x68cd27f0>],\n",
       " <a list of 4 Text yticklabel objects>)"
      ]
     },
     "execution_count": 75,
     "metadata": {},
     "output_type": "execute_result"
    },
    {
     "data": {
      "image/png": "[encoded data removed]",
      "text/plain": [
       "<matplotlib.figure.Figure at 0x161e7d68>"
      ]
     },
     "metadata": {},
     "output_type": "display_data"
    }
   ],
   "source": [
    "with sns.axes_style({\n",
    "        \"axes.facecolor\":   \"#f0f8ff\",\n",
    "        \"axes.grid\"     :    False,\n",
    "        \"figure.facecolor\": \"#f0f8ff\"}):\n",
    "    h = sns.factorplot(data=incomes,\n",
    "                   x=\"nomprov\",\n",
    "                   y=(\"renta\",\"MedianIncome\"),\n",
    "                   order=(i for i in incomes.nomprov),\n",
    "                   size=10,\n",
    "                   aspect=1.5,\n",
    "                   scale=1.0,\n",
    "                   color=\"#c60b1e\",\n",
    "                   linestyles=\"None\")\n",
    "plt.xticks(rotation=90)\n",
    "plt.tick_params(labelsize=16,labelcolor=\"#5d8aa8\")#\n",
    "plt.ylabel(\"Median Income\",size=32,color=\"#5d8aa8\")\n",
    "plt.xlabel(\"City\",size=32,color=\"#5d8aa8\")\n",
    "plt.title(\"Income Distribution by City\",size=40,color=\"#5d8aa8\")\n",
    "plt.ylim(40000,180000)\n",
    "plt.yticks(range(40000,180000,40000))"
   ]
  },
  {
   "cell_type": "code",
   "execution_count": 76,
   "metadata": {
    "collapsed": true
   },
   "outputs": [],
   "source": [
    "grouped        = df.groupby(\"nomprov\").agg({\"renta\":lambda x: x.median(skipna=True)}).reset_index()\n",
    "new_incomes    = pd.merge(df,grouped,how=\"inner\",on=\"nomprov\").loc[:, [\"nomprov\",\"renta_y\"]]\n",
    "new_incomes    = new_incomes.rename(columns={\"renta_y\":\"renta\"}).sort_values(\"renta\").sort_values(\"nomprov\")\n",
    "df.sort_values(\"nomprov\",inplace=True)\n",
    "df             = df.reset_index()\n",
    "new_incomes    = new_incomes.reset_index()"
   ]
  },
  {
   "cell_type": "code",
   "execution_count": 77,
   "metadata": {
    "collapsed": false
   },
   "outputs": [],
   "source": [
    "df.loc[df.renta.isnull(),\"renta\"] = new_incomes.loc[df.renta.isnull(),\"renta\"].reset_index()\n",
    "df.loc[df.renta.isnull(),\"renta\"] = df.loc[df.renta.notnull(),\"renta\"].median()\n",
    "df.sort_values(by=\"fecha_dato\",inplace=True)"
   ]
  },
  {
   "cell_type": "code",
   "execution_count": 78,
   "metadata": {
    "collapsed": false
   },
   "outputs": [
    {
     "data": {
      "text/plain": [
       "0"
      ]
     },
     "execution_count": 78,
     "metadata": {},
     "output_type": "execute_result"
    }
   ],
   "source": [
    "df.renta.isnull().sum()"
   ]
  },
  {
   "cell_type": "code",
   "execution_count": 79,
   "metadata": {
    "collapsed": false
   },
   "outputs": [],
   "source": [
    "df.loc[df.ind_nomina_ult1.isnull(), \"ind_nomina_ult1\"] = 0\n",
    "df.loc[df.ind_nom_pens_ult1.isnull(), \"ind_nom_pens_ult1\"] = 0"
   ]
  },
  {
   "cell_type": "code",
   "execution_count": 80,
   "metadata": {
    "collapsed": false
   },
   "outputs": [
    {
     "name": "stdout",
     "output_type": "stream",
     "text": [
      "Unique values for ind_empleado:\n",
      "['N' 'F' 'A' 'B' nan]\n",
      "\n",
      "Unique values for pais_residencia:\n",
      "['ES' 'PT' 'RO' nan 'AR' 'AE' 'DO' 'IT' 'BE' 'CH' 'US' 'FR' 'DE' 'GB' 'EC'\n",
      " 'VE' 'CO' 'UY' 'PE' 'BR' 'GR' 'CN' 'HU' 'BO']\n",
      "\n",
      "Unique values for sexo:\n",
      "['H' 'V' nan]\n",
      "\n",
      "Unique values for ult_fec_cli_1t:\n",
      "[nan '2015-07-07' '2015-07-14' '2015-07-16' '2015-07-01' '2015-07-06'\n",
      " '2015-07-21' '2015-07-28' '2015-07-27' '2015-07-17' '2015-07-30'\n",
      " '2015-07-03' '2015-07-15' '2015-07-23' '2015-07-09' '2015-08-27'\n",
      " '2015-08-07' '2015-08-04' '2015-08-13' '2015-08-14' '2015-08-18'\n",
      " '2015-08-24']\n",
      "\n",
      "Unique values for indrel_1mes:\n",
      "[1.0 nan '1.0' '1' '3' '2.0' 3.0]\n",
      "\n",
      "Unique values for tiprel_1mes:\n",
      "['I' 'A' nan 'P']\n",
      "\n",
      "Unique values for indresi:\n",
      "['S' 'N' nan]\n",
      "\n",
      "Unique values for indext:\n",
      "['N' 'S' nan]\n",
      "\n",
      "Unique values for conyuemp:\n",
      "[nan 'N']\n",
      "\n",
      "Unique values for canal_entrada:\n",
      "['KHE' 'KEY' 'KFC' 'KAT' 'KFA' 'KAS' 'KBZ' 'KHL' 'KAF' 'KCI' 'KEJ' 'KCC'\n",
      " 'KFD' 'KAA' 'KAM' 'KAW' 'KCH' '007' 'KHD' 'KAB' 'KAG' 'KAR' 'KAQ' 'KEN'\n",
      " 'KHF' 'KAE' '013' 'RED' 'KEW' 'KAI' 'KHK' 'KAY' 'KFN' 'KGX' 'KCG' 'KCB'\n",
      " 'KAN' 'KFT' 'KAZ' 'KAC' 'KEV' 'KBH' 'KCA' 'KEH' 'KAH' 'KEI' 'KAP' 'KBV'\n",
      " 'KBU' 'KBG' 'KDU' 'KFP' 'KDR' 'KAD' 'KBJ' 'KDP' 'KES' 'KED' 'KBO' 'KEG'\n",
      " 'KCM' 'KAO' 'KFF' nan 'KHC' 'KAJ' 'KCK' 'KDA' 'KCU' 'KHM' 'KDF' 'KGY'\n",
      " 'KCD' 'KBY' 'KBF' 'KBR' 'KBW' 'KBQ' 'KAL' 'KCL' 'KGV' 'KFG' 'KDS' 'KEC'\n",
      " 'KFU' 'K00' 'KFH' 'KFJ' 'KFL' 'KEZ' 'KEA' 'KFK' 'KFS' 'KHN' 'KHO' 'KAK'\n",
      " 'KDC' 'KDG' 'KBB' 'KDT' 'KDQ' 'KFE' 'KBL' 'KDY' 'KDM']\n",
      "\n",
      "Unique values for indfall:\n",
      "['N' 'S' nan]\n",
      "\n",
      "Unique values for nomprov:\n",
      "['MURCIA' 'MADRID' 'OURENSE' 'CASTELLON' 'MALAGA' 'BARCELONA' 'ZARAGOZA'\n",
      " 'TOLEDO' 'VALENCIA' 'SEVILLA' 'GRANADA' 'CEUTA' 'CADIZ' 'CIUDAD REAL'\n",
      " 'NAVARRA' 'CANTABRIA' 'BADAJOZ' 'CORDOBA' 'PALENCIA' 'PALMAS, LAS'\n",
      " 'BALEARS, ILLES' 'VALLADOLID' nan 'TARRAGONA' 'ZAMORA' 'TERUEL' 'SORIA'\n",
      " 'SALAMANCA' 'ALICANTE' 'JAEN' 'BIZKAIA' 'PONTEVEDRA' 'CORUNA, A' 'LEON'\n",
      " 'CACERES' 'HUESCA' 'CUENCA' 'ALMERIA' 'LERIDA' 'LUGO' 'ASTURIAS'\n",
      " 'GUADALAJARA' 'BURGOS' 'GIRONA' 'ALBACETE' 'RIOJA, LA' 'HUELVA' 'ALAVA'\n",
      " 'GIPUZKOA' 'SEGOVIA' 'AVILA' 'MELILLA' 'SANTA CRUZ DE TENERIFE']\n",
      "\n",
      "Unique values for segmento:\n",
      "['03 - UNIVERSITARIO' '02 - PARTICULARES' '01 - TOP' nan]\n",
      "\n"
     ]
    }
   ],
   "source": [
    "string_data = df.select_dtypes(include=[\"object\"])\n",
    "missing_columns = [col for col in string_data if string_data[col].isnull().any()]\n",
    "for col in missing_columns:\n",
    "    print(\"Unique values for {0}:\\n{1}\\n\".format(col,string_data[col].unique()))\n",
    "del string_data  #prints out the values in columns where there is text missing"
   ]
  },
  {
   "cell_type": "code",
   "execution_count": 81,
   "metadata": {
    "collapsed": true
   },
   "outputs": [],
   "source": [
    "df.loc[df.indfall.isnull(),\"indfall\"] = \"N\"\n",
    "df.loc[df.tiprel_1mes.isnull(),\"tiprel_1mes\"] = \"A\"\n",
    "df.tiprel_1mes = df.tiprel_1mes.astype(\"category\")\n",
    "\n",
    "# As suggested by @StephenSmith\n",
    "map_dict = { 1.0  : \"1\",\n",
    "            \"1.0\" : \"1\",\n",
    "            \"1\"   : \"1\",\n",
    "            \"3.0\" : \"3\",\n",
    "            \"P\"   : \"P\",\n",
    "            3.0   : \"3\",\n",
    "            2.0   : \"2\",\n",
    "            \"3\"   : \"3\",\n",
    "            \"2.0\" : \"2\",\n",
    "            \"4.0\" : \"4\",\n",
    "            \"4\"   : \"4\",\n",
    "            \"2\"   : \"2\"}\n",
    "\n",
    "df.indrel_1mes.fillna(\"P\",inplace=True)\n",
    "df.indrel_1mes = df.indrel_1mes.apply(lambda x: map_dict.get(x,x))\n",
    "df.indrel_1mes = df.indrel_1mes.astype(\"category\")\n",
    "\n",
    "\n",
    "unknown_cols = [col for col in missing_columns if col not in [\"indfall\",\"tiprel_1mes\",\"indrel_1mes\"]]\n",
    "for col in unknown_cols:\n",
    "    df.loc[df[col].isnull(),col] = \"UNKNOWN\""
   ]
  },
  {
   "cell_type": "code",
   "execution_count": 82,
   "metadata": {
    "collapsed": false
   },
   "outputs": [
    {
     "data": {
      "text/plain": [
       "index                    False\n",
       "fecha_dato               False\n",
       "ncodpers                 False\n",
       "ind_empleado             False\n",
       "pais_residencia          False\n",
       "sexo                     False\n",
       "age                      False\n",
       "fecha_alta               False\n",
       "ind_nuevo                False\n",
       "antiguedad               False\n",
       "indrel                   False\n",
       "ult_fec_cli_1t           False\n",
       "indrel_1mes              False\n",
       "tiprel_1mes              False\n",
       "indresi                  False\n",
       "indext                   False\n",
       "conyuemp                 False\n",
       "canal_entrada            False\n",
       "indfall                  False\n",
       "tipodom                   True\n",
       "cod_prov                  True\n",
       "nomprov                  False\n",
       "ind_actividad_cliente    False\n",
       "renta                    False\n",
       "segmento                 False\n",
       "ind_ahor_fin_ult1        False\n",
       "ind_aval_fin_ult1        False\n",
       "ind_cco_fin_ult1         False\n",
       "ind_cder_fin_ult1        False\n",
       "ind_cno_fin_ult1         False\n",
       "ind_ctju_fin_ult1        False\n",
       "ind_ctma_fin_ult1        False\n",
       "ind_ctop_fin_ult1        False\n",
       "ind_ctpp_fin_ult1        False\n",
       "ind_deco_fin_ult1        False\n",
       "ind_deme_fin_ult1        False\n",
       "ind_dela_fin_ult1        False\n",
       "ind_ecue_fin_ult1        False\n",
       "ind_fond_fin_ult1        False\n",
       "ind_hip_fin_ult1         False\n",
       "ind_plan_fin_ult1        False\n",
       "ind_pres_fin_ult1        False\n",
       "ind_reca_fin_ult1        False\n",
       "ind_tjcr_fin_ult1        False\n",
       "ind_valo_fin_ult1        False\n",
       "ind_viv_fin_ult1         False\n",
       "ind_nomina_ult1          False\n",
       "ind_nom_pens_ult1        False\n",
       "ind_recibo_ult1          False\n",
       "dtype: bool"
      ]
     },
     "execution_count": 82,
     "metadata": {},
     "output_type": "execute_result"
    }
   ],
   "source": [
    "df.isnull().any()"
   ]
  },
  {
   "cell_type": "code",
   "execution_count": 83,
   "metadata": {
    "collapsed": true
   },
   "outputs": [],
   "source": [
    "#remove tipodom and cod_prov since they are not very useful\n",
    "df.drop([\"tipodom\",\"cod_prov\"],axis=1,inplace=True)"
   ]
  },
  {
   "cell_type": "code",
   "execution_count": 84,
   "metadata": {
    "collapsed": false
   },
   "outputs": [
    {
     "data": {
      "text/plain": [
       "index                    False\n",
       "fecha_dato               False\n",
       "ncodpers                 False\n",
       "ind_empleado             False\n",
       "pais_residencia          False\n",
       "sexo                     False\n",
       "age                      False\n",
       "fecha_alta               False\n",
       "ind_nuevo                False\n",
       "antiguedad               False\n",
       "indrel                   False\n",
       "ult_fec_cli_1t           False\n",
       "indrel_1mes              False\n",
       "tiprel_1mes              False\n",
       "indresi                  False\n",
       "indext                   False\n",
       "conyuemp                 False\n",
       "canal_entrada            False\n",
       "indfall                  False\n",
       "nomprov                  False\n",
       "ind_actividad_cliente    False\n",
       "renta                    False\n",
       "segmento                 False\n",
       "ind_ahor_fin_ult1        False\n",
       "ind_aval_fin_ult1        False\n",
       "ind_cco_fin_ult1         False\n",
       "ind_cder_fin_ult1        False\n",
       "ind_cno_fin_ult1         False\n",
       "ind_ctju_fin_ult1        False\n",
       "ind_ctma_fin_ult1        False\n",
       "ind_ctop_fin_ult1        False\n",
       "ind_ctpp_fin_ult1        False\n",
       "ind_deco_fin_ult1        False\n",
       "ind_deme_fin_ult1        False\n",
       "ind_dela_fin_ult1        False\n",
       "ind_ecue_fin_ult1        False\n",
       "ind_fond_fin_ult1        False\n",
       "ind_hip_fin_ult1         False\n",
       "ind_plan_fin_ult1        False\n",
       "ind_pres_fin_ult1        False\n",
       "ind_reca_fin_ult1        False\n",
       "ind_tjcr_fin_ult1        False\n",
       "ind_valo_fin_ult1        False\n",
       "ind_viv_fin_ult1         False\n",
       "ind_nomina_ult1          False\n",
       "ind_nom_pens_ult1        False\n",
       "ind_recibo_ult1          False\n",
       "dtype: bool"
      ]
     },
     "execution_count": 84,
     "metadata": {},
     "output_type": "execute_result"
    }
   ],
   "source": [
    "df.isnull().any()\n",
    "#data should be all  nice and clean now "
   ]
  },
  {
   "cell_type": "code",
   "execution_count": 85,
   "metadata": {
    "collapsed": false
   },
   "outputs": [],
   "source": [
    "feature_cols = df.iloc[:1,].filter(regex=\"ind_+.*ult.*\").columns.values\n",
    "for col in feature_cols:\n",
    "    df[col] = df[col].astype(int)  #changes feature columns into integers (columns that will be used as features in the machine learning)"
   ]
  },
  {
   "cell_type": "code",
   "execution_count": 86,
   "metadata": {
    "collapsed": false
   },
   "outputs": [
    {
     "data": {
      "text/html": [
       "<div>\n",
       "<table border=\"1\" class=\"dataframe\">\n",
       "  <thead>\n",
       "    <tr style=\"text-align: right;\">\n",
       "      <th></th>\n",
       "      <th>index</th>\n",
       "      <th>fecha_dato</th>\n",
       "      <th>ncodpers</th>\n",
       "      <th>ind_empleado</th>\n",
       "      <th>pais_residencia</th>\n",
       "      <th>sexo</th>\n",
       "      <th>age</th>\n",
       "      <th>fecha_alta</th>\n",
       "      <th>ind_nuevo</th>\n",
       "      <th>antiguedad</th>\n",
       "      <th>...</th>\n",
       "      <th>ind_hip_fin_ult1</th>\n",
       "      <th>ind_plan_fin_ult1</th>\n",
       "      <th>ind_pres_fin_ult1</th>\n",
       "      <th>ind_reca_fin_ult1</th>\n",
       "      <th>ind_tjcr_fin_ult1</th>\n",
       "      <th>ind_valo_fin_ult1</th>\n",
       "      <th>ind_viv_fin_ult1</th>\n",
       "      <th>ind_nomina_ult1</th>\n",
       "      <th>ind_nom_pens_ult1</th>\n",
       "      <th>ind_recibo_ult1</th>\n",
       "    </tr>\n",
       "  </thead>\n",
       "  <tbody>\n",
       "    <tr>\n",
       "      <th>52309</th>\n",
       "      <td>94560</td>\n",
       "      <td>2015-01-28</td>\n",
       "      <td>941040</td>\n",
       "      <td>N</td>\n",
       "      <td>ES</td>\n",
       "      <td>H</td>\n",
       "      <td>25</td>\n",
       "      <td>2011-09-12</td>\n",
       "      <td>0</td>\n",
       "      <td>46.0</td>\n",
       "      <td>...</td>\n",
       "      <td>0</td>\n",
       "      <td>0</td>\n",
       "      <td>0</td>\n",
       "      <td>0</td>\n",
       "      <td>0</td>\n",
       "      <td>0</td>\n",
       "      <td>0</td>\n",
       "      <td>0</td>\n",
       "      <td>0</td>\n",
       "      <td>0</td>\n",
       "    </tr>\n",
       "    <tr>\n",
       "      <th>34882</th>\n",
       "      <td>381365</td>\n",
       "      <td>2015-01-28</td>\n",
       "      <td>358867</td>\n",
       "      <td>N</td>\n",
       "      <td>ES</td>\n",
       "      <td>V</td>\n",
       "      <td>65</td>\n",
       "      <td>2002-05-13</td>\n",
       "      <td>0</td>\n",
       "      <td>158.0</td>\n",
       "      <td>...</td>\n",
       "      <td>0</td>\n",
       "      <td>0</td>\n",
       "      <td>0</td>\n",
       "      <td>0</td>\n",
       "      <td>0</td>\n",
       "      <td>0</td>\n",
       "      <td>0</td>\n",
       "      <td>0</td>\n",
       "      <td>0</td>\n",
       "      <td>0</td>\n",
       "    </tr>\n",
       "    <tr>\n",
       "      <th>54219</th>\n",
       "      <td>250758</td>\n",
       "      <td>2015-01-28</td>\n",
       "      <td>1175381</td>\n",
       "      <td>N</td>\n",
       "      <td>ES</td>\n",
       "      <td>V</td>\n",
       "      <td>21</td>\n",
       "      <td>2013-09-12</td>\n",
       "      <td>0</td>\n",
       "      <td>22.0</td>\n",
       "      <td>...</td>\n",
       "      <td>0</td>\n",
       "      <td>0</td>\n",
       "      <td>0</td>\n",
       "      <td>0</td>\n",
       "      <td>0</td>\n",
       "      <td>0</td>\n",
       "      <td>0</td>\n",
       "      <td>0</td>\n",
       "      <td>0</td>\n",
       "      <td>0</td>\n",
       "    </tr>\n",
       "    <tr>\n",
       "      <th>17351</th>\n",
       "      <td>243082</td>\n",
       "      <td>2015-01-28</td>\n",
       "      <td>1166382</td>\n",
       "      <td>N</td>\n",
       "      <td>ES</td>\n",
       "      <td>V</td>\n",
       "      <td>29</td>\n",
       "      <td>2013-08-14</td>\n",
       "      <td>0</td>\n",
       "      <td>23.0</td>\n",
       "      <td>...</td>\n",
       "      <td>0</td>\n",
       "      <td>0</td>\n",
       "      <td>0</td>\n",
       "      <td>0</td>\n",
       "      <td>0</td>\n",
       "      <td>0</td>\n",
       "      <td>0</td>\n",
       "      <td>0</td>\n",
       "      <td>0</td>\n",
       "      <td>0</td>\n",
       "    </tr>\n",
       "    <tr>\n",
       "      <th>17349</th>\n",
       "      <td>243515</td>\n",
       "      <td>2015-01-28</td>\n",
       "      <td>1163562</td>\n",
       "      <td>N</td>\n",
       "      <td>ES</td>\n",
       "      <td>V</td>\n",
       "      <td>22</td>\n",
       "      <td>2013-08-12</td>\n",
       "      <td>0</td>\n",
       "      <td>23.0</td>\n",
       "      <td>...</td>\n",
       "      <td>0</td>\n",
       "      <td>0</td>\n",
       "      <td>0</td>\n",
       "      <td>0</td>\n",
       "      <td>0</td>\n",
       "      <td>0</td>\n",
       "      <td>0</td>\n",
       "      <td>0</td>\n",
       "      <td>0</td>\n",
       "      <td>0</td>\n",
       "    </tr>\n",
       "  </tbody>\n",
       "</table>\n",
       "<p>5 rows × 47 columns</p>\n",
       "</div>"
      ],
      "text/plain": [
       "        index fecha_dato  ncodpers ind_empleado pais_residencia sexo  age  \\\n",
       "52309   94560 2015-01-28    941040            N              ES    H   25   \n",
       "34882  381365 2015-01-28    358867            N              ES    V   65   \n",
       "54219  250758 2015-01-28   1175381            N              ES    V   21   \n",
       "17351  243082 2015-01-28   1166382            N              ES    V   29   \n",
       "17349  243515 2015-01-28   1163562            N              ES    V   22   \n",
       "\n",
       "      fecha_alta ind_nuevo  antiguedad       ...        ind_hip_fin_ult1  \\\n",
       "52309 2011-09-12         0        46.0       ...                       0   \n",
       "34882 2002-05-13         0       158.0       ...                       0   \n",
       "54219 2013-09-12         0        22.0       ...                       0   \n",
       "17351 2013-08-14         0        23.0       ...                       0   \n",
       "17349 2013-08-12         0        23.0       ...                       0   \n",
       "\n",
       "      ind_plan_fin_ult1 ind_pres_fin_ult1 ind_reca_fin_ult1 ind_tjcr_fin_ult1  \\\n",
       "52309                 0                 0                 0                 0   \n",
       "34882                 0                 0                 0                 0   \n",
       "54219                 0                 0                 0                 0   \n",
       "17351                 0                 0                 0                 0   \n",
       "17349                 0                 0                 0                 0   \n",
       "\n",
       "      ind_valo_fin_ult1 ind_viv_fin_ult1 ind_nomina_ult1 ind_nom_pens_ult1  \\\n",
       "52309                 0                0               0                 0   \n",
       "34882                 0                0               0                 0   \n",
       "54219                 0                0               0                 0   \n",
       "17351                 0                0               0                 0   \n",
       "17349                 0                0               0                 0   \n",
       "\n",
       "      ind_recibo_ult1  \n",
       "52309               0  \n",
       "34882               0  \n",
       "54219               0  \n",
       "17351               0  \n",
       "17349               0  \n",
       "\n",
       "[5 rows x 47 columns]"
      ]
     },
     "execution_count": 86,
     "metadata": {},
     "output_type": "execute_result"
    }
   ],
   "source": [
    "df.head()"
   ]
  },
  {
   "cell_type": "code",
   "execution_count": 87,
   "metadata": {
    "collapsed": false
   },
   "outputs": [],
   "source": [
    "df = df.ix[df['indfall'] == 'N'] #keeps only rows where clients are alive"
   ]
  },
  {
   "cell_type": "code",
   "execution_count": 88,
   "metadata": {
    "collapsed": false
   },
   "outputs": [
    {
     "data": {
      "text/plain": [
       "N    71566\n",
       "Name: indfall, dtype: int64"
      ]
     },
     "execution_count": 88,
     "metadata": {},
     "output_type": "execute_result"
    }
   ],
   "source": [
    "df.indfall.value_counts()"
   ]
  },
  {
   "cell_type": "code",
   "execution_count": 92,
   "metadata": {
    "collapsed": false
   },
   "outputs": [],
   "source": [
    "unique_months = pd.DataFrame(pd.Series(df.fecha_dato.unique()).sort_values()).reset_index(drop=True)\n",
    "unique_months[\"month_id\"] = pd.Series(range(1,1+unique_months.size)) # start with month 1, not 0 to match what we already have\n",
    "unique_months[\"month_next_id\"] = 1 + unique_months[\"month_id\"]\n",
    "unique_months.rename(columns={0:\"fecha_dato\"},inplace=True)\n",
    "df = pd.merge(df,unique_months,on=\"fecha_dato\")"
   ]
  },
  {
   "cell_type": "code",
   "execution_count": 93,
   "metadata": {
    "collapsed": false
   },
   "outputs": [
    {
     "data": {
      "text/html": [
       "<div>\n",
       "<table border=\"1\" class=\"dataframe\">\n",
       "  <thead>\n",
       "    <tr style=\"text-align: right;\">\n",
       "      <th></th>\n",
       "      <th>index</th>\n",
       "      <th>fecha_dato</th>\n",
       "      <th>ncodpers</th>\n",
       "      <th>ind_empleado</th>\n",
       "      <th>pais_residencia</th>\n",
       "      <th>sexo</th>\n",
       "      <th>age</th>\n",
       "      <th>fecha_alta</th>\n",
       "      <th>ind_nuevo</th>\n",
       "      <th>antiguedad</th>\n",
       "      <th>...</th>\n",
       "      <th>ind_tjcr_fin_ult1</th>\n",
       "      <th>ind_valo_fin_ult1</th>\n",
       "      <th>ind_viv_fin_ult1</th>\n",
       "      <th>ind_nomina_ult1</th>\n",
       "      <th>ind_nom_pens_ult1</th>\n",
       "      <th>ind_recibo_ult1</th>\n",
       "      <th>month_id_x</th>\n",
       "      <th>month_next_id_x</th>\n",
       "      <th>month_id_y</th>\n",
       "      <th>month_next_id_y</th>\n",
       "    </tr>\n",
       "  </thead>\n",
       "  <tbody>\n",
       "    <tr>\n",
       "      <th>0</th>\n",
       "      <td>94560</td>\n",
       "      <td>2015-01-28</td>\n",
       "      <td>941040</td>\n",
       "      <td>N</td>\n",
       "      <td>ES</td>\n",
       "      <td>H</td>\n",
       "      <td>25</td>\n",
       "      <td>2011-09-12</td>\n",
       "      <td>0</td>\n",
       "      <td>46.0</td>\n",
       "      <td>...</td>\n",
       "      <td>0</td>\n",
       "      <td>0</td>\n",
       "      <td>0</td>\n",
       "      <td>0</td>\n",
       "      <td>0</td>\n",
       "      <td>0</td>\n",
       "      <td>1</td>\n",
       "      <td>2</td>\n",
       "      <td>1</td>\n",
       "      <td>2</td>\n",
       "    </tr>\n",
       "    <tr>\n",
       "      <th>1</th>\n",
       "      <td>381365</td>\n",
       "      <td>2015-01-28</td>\n",
       "      <td>358867</td>\n",
       "      <td>N</td>\n",
       "      <td>ES</td>\n",
       "      <td>V</td>\n",
       "      <td>65</td>\n",
       "      <td>2002-05-13</td>\n",
       "      <td>0</td>\n",
       "      <td>158.0</td>\n",
       "      <td>...</td>\n",
       "      <td>0</td>\n",
       "      <td>0</td>\n",
       "      <td>0</td>\n",
       "      <td>0</td>\n",
       "      <td>0</td>\n",
       "      <td>0</td>\n",
       "      <td>1</td>\n",
       "      <td>2</td>\n",
       "      <td>1</td>\n",
       "      <td>2</td>\n",
       "    </tr>\n",
       "    <tr>\n",
       "      <th>2</th>\n",
       "      <td>250758</td>\n",
       "      <td>2015-01-28</td>\n",
       "      <td>1175381</td>\n",
       "      <td>N</td>\n",
       "      <td>ES</td>\n",
       "      <td>V</td>\n",
       "      <td>21</td>\n",
       "      <td>2013-09-12</td>\n",
       "      <td>0</td>\n",
       "      <td>22.0</td>\n",
       "      <td>...</td>\n",
       "      <td>0</td>\n",
       "      <td>0</td>\n",
       "      <td>0</td>\n",
       "      <td>0</td>\n",
       "      <td>0</td>\n",
       "      <td>0</td>\n",
       "      <td>1</td>\n",
       "      <td>2</td>\n",
       "      <td>1</td>\n",
       "      <td>2</td>\n",
       "    </tr>\n",
       "    <tr>\n",
       "      <th>3</th>\n",
       "      <td>243082</td>\n",
       "      <td>2015-01-28</td>\n",
       "      <td>1166382</td>\n",
       "      <td>N</td>\n",
       "      <td>ES</td>\n",
       "      <td>V</td>\n",
       "      <td>29</td>\n",
       "      <td>2013-08-14</td>\n",
       "      <td>0</td>\n",
       "      <td>23.0</td>\n",
       "      <td>...</td>\n",
       "      <td>0</td>\n",
       "      <td>0</td>\n",
       "      <td>0</td>\n",
       "      <td>0</td>\n",
       "      <td>0</td>\n",
       "      <td>0</td>\n",
       "      <td>1</td>\n",
       "      <td>2</td>\n",
       "      <td>1</td>\n",
       "      <td>2</td>\n",
       "    </tr>\n",
       "    <tr>\n",
       "      <th>4</th>\n",
       "      <td>243515</td>\n",
       "      <td>2015-01-28</td>\n",
       "      <td>1163562</td>\n",
       "      <td>N</td>\n",
       "      <td>ES</td>\n",
       "      <td>V</td>\n",
       "      <td>22</td>\n",
       "      <td>2013-08-12</td>\n",
       "      <td>0</td>\n",
       "      <td>23.0</td>\n",
       "      <td>...</td>\n",
       "      <td>0</td>\n",
       "      <td>0</td>\n",
       "      <td>0</td>\n",
       "      <td>0</td>\n",
       "      <td>0</td>\n",
       "      <td>0</td>\n",
       "      <td>1</td>\n",
       "      <td>2</td>\n",
       "      <td>1</td>\n",
       "      <td>2</td>\n",
       "    </tr>\n",
       "  </tbody>\n",
       "</table>\n",
       "<p>5 rows × 51 columns</p>\n",
       "</div>"
      ],
      "text/plain": [
       "    index fecha_dato  ncodpers ind_empleado pais_residencia sexo  age  \\\n",
       "0   94560 2015-01-28    941040            N              ES    H   25   \n",
       "1  381365 2015-01-28    358867            N              ES    V   65   \n",
       "2  250758 2015-01-28   1175381            N              ES    V   21   \n",
       "3  243082 2015-01-28   1166382            N              ES    V   29   \n",
       "4  243515 2015-01-28   1163562            N              ES    V   22   \n",
       "\n",
       "  fecha_alta ind_nuevo  antiguedad       ...        ind_tjcr_fin_ult1  \\\n",
       "0 2011-09-12         0        46.0       ...                        0   \n",
       "1 2002-05-13         0       158.0       ...                        0   \n",
       "2 2013-09-12         0        22.0       ...                        0   \n",
       "3 2013-08-14         0        23.0       ...                        0   \n",
       "4 2013-08-12         0        23.0       ...                        0   \n",
       "\n",
       "  ind_valo_fin_ult1 ind_viv_fin_ult1 ind_nomina_ult1 ind_nom_pens_ult1  \\\n",
       "0                 0                0               0                 0   \n",
       "1                 0                0               0                 0   \n",
       "2                 0                0               0                 0   \n",
       "3                 0                0               0                 0   \n",
       "4                 0                0               0                 0   \n",
       "\n",
       "  ind_recibo_ult1 month_id_x month_next_id_x month_id_y month_next_id_y  \n",
       "0               0          1               2          1               2  \n",
       "1               0          1               2          1               2  \n",
       "2               0          1               2          1               2  \n",
       "3               0          1               2          1               2  \n",
       "4               0          1               2          1               2  \n",
       "\n",
       "[5 rows x 51 columns]"
      ]
     },
     "execution_count": 93,
     "metadata": {},
     "output_type": "execute_result"
    }
   ],
   "source": [
    "df.head()"
   ]
  },
  {
   "cell_type": "code",
   "execution_count": 94,
   "metadata": {
    "collapsed": true
   },
   "outputs": [],
   "source": [
    "def status_change(x):\n",
    "    diffs = x.diff().fillna(0)# first occurrence will be considered Maintained, \n",
    "    #which is a little lazy. A better way would be to check if \n",
    "    #the earliest date was the same as the earliest we have in the dataset\n",
    "    #and consider those separately. Entries with earliest dates later than that have \n",
    "    #joined and should be labeled as \"Added\"\n",
    "    label = [\"Added\" if i==1 \\\n",
    "         else \"Dropped\" if i==-1 \\\n",
    "         else \"Maintained\" for i in diffs]\n",
    "    return label"
   ]
  },
  {
   "cell_type": "code",
   "execution_count": 95,
   "metadata": {
    "collapsed": true
   },
   "outputs": [],
   "source": [
    "df.loc[:, feature_cols] = df.loc[:, [i for i in feature_cols]+[\"ncodpers\"]].groupby(\"ncodpers\").transform(status_change)"
   ]
  },
  {
   "cell_type": "code",
   "execution_count": 96,
   "metadata": {
    "collapsed": false
   },
   "outputs": [
    {
     "data": {
      "text/plain": [
       "(5984, 29)"
      ]
     },
     "execution_count": 96,
     "metadata": {},
     "output_type": "execute_result"
    }
   ],
   "source": [
    "df = pd.melt(df, id_vars   = [col for col in df.columns if col not in feature_cols],\n",
    "            value_vars= [col for col in feature_cols])\n",
    "df = df.loc[df.value!=\"Maintained\",:]\n",
    "df.shape"
   ]
  },
  {
   "cell_type": "code",
   "execution_count": 97,
   "metadata": {
    "collapsed": false
   },
   "outputs": [
    {
     "data": {
      "text/html": [
       "<div>\n",
       "<table border=\"1\" class=\"dataframe\">\n",
       "  <thead>\n",
       "    <tr style=\"text-align: right;\">\n",
       "      <th></th>\n",
       "      <th>index</th>\n",
       "      <th>fecha_dato</th>\n",
       "      <th>ncodpers</th>\n",
       "      <th>ind_empleado</th>\n",
       "      <th>pais_residencia</th>\n",
       "      <th>sexo</th>\n",
       "      <th>age</th>\n",
       "      <th>fecha_alta</th>\n",
       "      <th>ind_nuevo</th>\n",
       "      <th>antiguedad</th>\n",
       "      <th>...</th>\n",
       "      <th>nomprov</th>\n",
       "      <th>ind_actividad_cliente</th>\n",
       "      <th>renta</th>\n",
       "      <th>segmento</th>\n",
       "      <th>month_id_x</th>\n",
       "      <th>month_next_id_x</th>\n",
       "      <th>month_id_y</th>\n",
       "      <th>month_next_id_y</th>\n",
       "      <th>variable</th>\n",
       "      <th>value</th>\n",
       "    </tr>\n",
       "  </thead>\n",
       "  <tbody>\n",
       "    <tr>\n",
       "      <th>152111</th>\n",
       "      <td>886323</td>\n",
       "      <td>2015-02-28</td>\n",
       "      <td>399475</td>\n",
       "      <td>N</td>\n",
       "      <td>ES</td>\n",
       "      <td>V</td>\n",
       "      <td>41</td>\n",
       "      <td>2003-01-03</td>\n",
       "      <td>0</td>\n",
       "      <td>31.0</td>\n",
       "      <td>...</td>\n",
       "      <td>MADRID</td>\n",
       "      <td>1.0</td>\n",
       "      <td>215213.22</td>\n",
       "      <td>02 - PARTICULARES</td>\n",
       "      <td>2</td>\n",
       "      <td>3</td>\n",
       "      <td>2</td>\n",
       "      <td>3</td>\n",
       "      <td>ind_cco_fin_ult1</td>\n",
       "      <td>Added</td>\n",
       "    </tr>\n",
       "    <tr>\n",
       "      <th>152135</th>\n",
       "      <td>827986</td>\n",
       "      <td>2015-02-28</td>\n",
       "      <td>48017</td>\n",
       "      <td>N</td>\n",
       "      <td>ES</td>\n",
       "      <td>V</td>\n",
       "      <td>56</td>\n",
       "      <td>1996-10-28</td>\n",
       "      <td>0</td>\n",
       "      <td>225.0</td>\n",
       "      <td>...</td>\n",
       "      <td>MADRID</td>\n",
       "      <td>1.0</td>\n",
       "      <td>785647.41</td>\n",
       "      <td>01 - TOP</td>\n",
       "      <td>2</td>\n",
       "      <td>3</td>\n",
       "      <td>2</td>\n",
       "      <td>3</td>\n",
       "      <td>ind_cco_fin_ult1</td>\n",
       "      <td>Added</td>\n",
       "    </tr>\n",
       "    <tr>\n",
       "      <th>152177</th>\n",
       "      <td>813183</td>\n",
       "      <td>2015-02-28</td>\n",
       "      <td>174282</td>\n",
       "      <td>N</td>\n",
       "      <td>ES</td>\n",
       "      <td>V</td>\n",
       "      <td>54</td>\n",
       "      <td>2000-04-27</td>\n",
       "      <td>0</td>\n",
       "      <td>183.0</td>\n",
       "      <td>...</td>\n",
       "      <td>MADRID</td>\n",
       "      <td>1.0</td>\n",
       "      <td>101777.58</td>\n",
       "      <td>02 - PARTICULARES</td>\n",
       "      <td>2</td>\n",
       "      <td>3</td>\n",
       "      <td>2</td>\n",
       "      <td>3</td>\n",
       "      <td>ind_cco_fin_ult1</td>\n",
       "      <td>Dropped</td>\n",
       "    </tr>\n",
       "    <tr>\n",
       "      <th>152458</th>\n",
       "      <td>889618</td>\n",
       "      <td>2015-02-28</td>\n",
       "      <td>416119</td>\n",
       "      <td>N</td>\n",
       "      <td>ES</td>\n",
       "      <td>V</td>\n",
       "      <td>55</td>\n",
       "      <td>2003-04-22</td>\n",
       "      <td>0</td>\n",
       "      <td>41.0</td>\n",
       "      <td>...</td>\n",
       "      <td>MADRID</td>\n",
       "      <td>1.0</td>\n",
       "      <td>237036.09</td>\n",
       "      <td>02 - PARTICULARES</td>\n",
       "      <td>2</td>\n",
       "      <td>3</td>\n",
       "      <td>2</td>\n",
       "      <td>3</td>\n",
       "      <td>ind_cco_fin_ult1</td>\n",
       "      <td>Dropped</td>\n",
       "    </tr>\n",
       "    <tr>\n",
       "      <th>152675</th>\n",
       "      <td>947749</td>\n",
       "      <td>2015-02-28</td>\n",
       "      <td>1219627</td>\n",
       "      <td>N</td>\n",
       "      <td>ES</td>\n",
       "      <td>V</td>\n",
       "      <td>47</td>\n",
       "      <td>2013-11-14</td>\n",
       "      <td>0</td>\n",
       "      <td>20.0</td>\n",
       "      <td>...</td>\n",
       "      <td>SEVILLA</td>\n",
       "      <td>0.0</td>\n",
       "      <td>76402.80</td>\n",
       "      <td>02 - PARTICULARES</td>\n",
       "      <td>2</td>\n",
       "      <td>3</td>\n",
       "      <td>2</td>\n",
       "      <td>3</td>\n",
       "      <td>ind_cco_fin_ult1</td>\n",
       "      <td>Dropped</td>\n",
       "    </tr>\n",
       "  </tbody>\n",
       "</table>\n",
       "<p>5 rows × 29 columns</p>\n",
       "</div>"
      ],
      "text/plain": [
       "         index fecha_dato  ncodpers ind_empleado pais_residencia sexo  age  \\\n",
       "152111  886323 2015-02-28    399475            N              ES    V   41   \n",
       "152135  827986 2015-02-28     48017            N              ES    V   56   \n",
       "152177  813183 2015-02-28    174282            N              ES    V   54   \n",
       "152458  889618 2015-02-28    416119            N              ES    V   55   \n",
       "152675  947749 2015-02-28   1219627            N              ES    V   47   \n",
       "\n",
       "       fecha_alta ind_nuevo  antiguedad   ...     nomprov  \\\n",
       "152111 2003-01-03         0        31.0   ...      MADRID   \n",
       "152135 1996-10-28         0       225.0   ...      MADRID   \n",
       "152177 2000-04-27         0       183.0   ...      MADRID   \n",
       "152458 2003-04-22         0        41.0   ...      MADRID   \n",
       "152675 2013-11-14         0        20.0   ...     SEVILLA   \n",
       "\n",
       "       ind_actividad_cliente      renta           segmento month_id_x  \\\n",
       "152111                   1.0  215213.22  02 - PARTICULARES          2   \n",
       "152135                   1.0  785647.41           01 - TOP          2   \n",
       "152177                   1.0  101777.58  02 - PARTICULARES          2   \n",
       "152458                   1.0  237036.09  02 - PARTICULARES          2   \n",
       "152675                   0.0   76402.80  02 - PARTICULARES          2   \n",
       "\n",
       "       month_next_id_x month_id_y month_next_id_y          variable    value  \n",
       "152111               3          2               3  ind_cco_fin_ult1    Added  \n",
       "152135               3          2               3  ind_cco_fin_ult1    Added  \n",
       "152177               3          2               3  ind_cco_fin_ult1  Dropped  \n",
       "152458               3          2               3  ind_cco_fin_ult1  Dropped  \n",
       "152675               3          2               3  ind_cco_fin_ult1  Dropped  \n",
       "\n",
       "[5 rows x 29 columns]"
      ]
     },
     "execution_count": 97,
     "metadata": {},
     "output_type": "execute_result"
    }
   ],
   "source": [
    "df.head()"
   ]
  },
  {
   "cell_type": "code",
   "execution_count": 98,
   "metadata": {
    "collapsed": true
   },
   "outputs": [],
   "source": [
    "df.to_csv(\"C:\\Users\\student12\\Desktop\\Santander/clean_data_5M.csv\")"
   ]
  },
  {
   "cell_type": "code",
   "execution_count": 99,
   "metadata": {
    "collapsed": false
   },
   "outputs": [
    {
     "data": {
      "text/html": [
       "<div>\n",
       "<table border=\"1\" class=\"dataframe\">\n",
       "  <thead>\n",
       "    <tr style=\"text-align: right;\">\n",
       "      <th></th>\n",
       "      <th>index</th>\n",
       "      <th>fecha_dato</th>\n",
       "      <th>ncodpers</th>\n",
       "      <th>ind_empleado</th>\n",
       "      <th>pais_residencia</th>\n",
       "      <th>sexo</th>\n",
       "      <th>age</th>\n",
       "      <th>fecha_alta</th>\n",
       "      <th>ind_nuevo</th>\n",
       "      <th>antiguedad</th>\n",
       "      <th>...</th>\n",
       "      <th>nomprov</th>\n",
       "      <th>ind_actividad_cliente</th>\n",
       "      <th>renta</th>\n",
       "      <th>segmento</th>\n",
       "      <th>month_id_x</th>\n",
       "      <th>month_next_id_x</th>\n",
       "      <th>month_id_y</th>\n",
       "      <th>month_next_id_y</th>\n",
       "      <th>variable</th>\n",
       "      <th>value</th>\n",
       "    </tr>\n",
       "  </thead>\n",
       "  <tbody>\n",
       "    <tr>\n",
       "      <th>152111</th>\n",
       "      <td>886323</td>\n",
       "      <td>2015-02-28</td>\n",
       "      <td>399475</td>\n",
       "      <td>N</td>\n",
       "      <td>ES</td>\n",
       "      <td>V</td>\n",
       "      <td>41</td>\n",
       "      <td>2003-01-03</td>\n",
       "      <td>0</td>\n",
       "      <td>31.0</td>\n",
       "      <td>...</td>\n",
       "      <td>MADRID</td>\n",
       "      <td>1.0</td>\n",
       "      <td>215213.22</td>\n",
       "      <td>02 - PARTICULARES</td>\n",
       "      <td>2</td>\n",
       "      <td>3</td>\n",
       "      <td>2</td>\n",
       "      <td>3</td>\n",
       "      <td>ind_cco_fin_ult1</td>\n",
       "      <td>Added</td>\n",
       "    </tr>\n",
       "    <tr>\n",
       "      <th>152135</th>\n",
       "      <td>827986</td>\n",
       "      <td>2015-02-28</td>\n",
       "      <td>48017</td>\n",
       "      <td>N</td>\n",
       "      <td>ES</td>\n",
       "      <td>V</td>\n",
       "      <td>56</td>\n",
       "      <td>1996-10-28</td>\n",
       "      <td>0</td>\n",
       "      <td>225.0</td>\n",
       "      <td>...</td>\n",
       "      <td>MADRID</td>\n",
       "      <td>1.0</td>\n",
       "      <td>785647.41</td>\n",
       "      <td>01 - TOP</td>\n",
       "      <td>2</td>\n",
       "      <td>3</td>\n",
       "      <td>2</td>\n",
       "      <td>3</td>\n",
       "      <td>ind_cco_fin_ult1</td>\n",
       "      <td>Added</td>\n",
       "    </tr>\n",
       "    <tr>\n",
       "      <th>152177</th>\n",
       "      <td>813183</td>\n",
       "      <td>2015-02-28</td>\n",
       "      <td>174282</td>\n",
       "      <td>N</td>\n",
       "      <td>ES</td>\n",
       "      <td>V</td>\n",
       "      <td>54</td>\n",
       "      <td>2000-04-27</td>\n",
       "      <td>0</td>\n",
       "      <td>183.0</td>\n",
       "      <td>...</td>\n",
       "      <td>MADRID</td>\n",
       "      <td>1.0</td>\n",
       "      <td>101777.58</td>\n",
       "      <td>02 - PARTICULARES</td>\n",
       "      <td>2</td>\n",
       "      <td>3</td>\n",
       "      <td>2</td>\n",
       "      <td>3</td>\n",
       "      <td>ind_cco_fin_ult1</td>\n",
       "      <td>Dropped</td>\n",
       "    </tr>\n",
       "    <tr>\n",
       "      <th>152458</th>\n",
       "      <td>889618</td>\n",
       "      <td>2015-02-28</td>\n",
       "      <td>416119</td>\n",
       "      <td>N</td>\n",
       "      <td>ES</td>\n",
       "      <td>V</td>\n",
       "      <td>55</td>\n",
       "      <td>2003-04-22</td>\n",
       "      <td>0</td>\n",
       "      <td>41.0</td>\n",
       "      <td>...</td>\n",
       "      <td>MADRID</td>\n",
       "      <td>1.0</td>\n",
       "      <td>237036.09</td>\n",
       "      <td>02 - PARTICULARES</td>\n",
       "      <td>2</td>\n",
       "      <td>3</td>\n",
       "      <td>2</td>\n",
       "      <td>3</td>\n",
       "      <td>ind_cco_fin_ult1</td>\n",
       "      <td>Dropped</td>\n",
       "    </tr>\n",
       "    <tr>\n",
       "      <th>152675</th>\n",
       "      <td>947749</td>\n",
       "      <td>2015-02-28</td>\n",
       "      <td>1219627</td>\n",
       "      <td>N</td>\n",
       "      <td>ES</td>\n",
       "      <td>V</td>\n",
       "      <td>47</td>\n",
       "      <td>2013-11-14</td>\n",
       "      <td>0</td>\n",
       "      <td>20.0</td>\n",
       "      <td>...</td>\n",
       "      <td>SEVILLA</td>\n",
       "      <td>0.0</td>\n",
       "      <td>76402.80</td>\n",
       "      <td>02 - PARTICULARES</td>\n",
       "      <td>2</td>\n",
       "      <td>3</td>\n",
       "      <td>2</td>\n",
       "      <td>3</td>\n",
       "      <td>ind_cco_fin_ult1</td>\n",
       "      <td>Dropped</td>\n",
       "    </tr>\n",
       "  </tbody>\n",
       "</table>\n",
       "<p>5 rows × 29 columns</p>\n",
       "</div>"
      ],
      "text/plain": [
       "         index fecha_dato  ncodpers ind_empleado pais_residencia sexo  age  \\\n",
       "152111  886323 2015-02-28    399475            N              ES    V   41   \n",
       "152135  827986 2015-02-28     48017            N              ES    V   56   \n",
       "152177  813183 2015-02-28    174282            N              ES    V   54   \n",
       "152458  889618 2015-02-28    416119            N              ES    V   55   \n",
       "152675  947749 2015-02-28   1219627            N              ES    V   47   \n",
       "\n",
       "       fecha_alta ind_nuevo  antiguedad   ...     nomprov  \\\n",
       "152111 2003-01-03         0        31.0   ...      MADRID   \n",
       "152135 1996-10-28         0       225.0   ...      MADRID   \n",
       "152177 2000-04-27         0       183.0   ...      MADRID   \n",
       "152458 2003-04-22         0        41.0   ...      MADRID   \n",
       "152675 2013-11-14         0        20.0   ...     SEVILLA   \n",
       "\n",
       "       ind_actividad_cliente      renta           segmento month_id_x  \\\n",
       "152111                   1.0  215213.22  02 - PARTICULARES          2   \n",
       "152135                   1.0  785647.41           01 - TOP          2   \n",
       "152177                   1.0  101777.58  02 - PARTICULARES          2   \n",
       "152458                   1.0  237036.09  02 - PARTICULARES          2   \n",
       "152675                   0.0   76402.80  02 - PARTICULARES          2   \n",
       "\n",
       "       month_next_id_x month_id_y month_next_id_y          variable    value  \n",
       "152111               3          2               3  ind_cco_fin_ult1    Added  \n",
       "152135               3          2               3  ind_cco_fin_ult1    Added  \n",
       "152177               3          2               3  ind_cco_fin_ult1  Dropped  \n",
       "152458               3          2               3  ind_cco_fin_ult1  Dropped  \n",
       "152675               3          2               3  ind_cco_fin_ult1  Dropped  \n",
       "\n",
       "[5 rows x 29 columns]"
      ]
     },
     "execution_count": 99,
     "metadata": {},
     "output_type": "execute_result"
    }
   ],
   "source": [
    "df.head()"
   ]
  },
  {
   "cell_type": "code",
   "execution_count": null,
   "metadata": {
    "collapsed": true
   },
   "outputs": [],
   "source": []
  }
 ],
 "metadata": {
  "anaconda-cloud": {},
  "kernelspec": {
   "display_name": "Python [Root]",
   "language": "python",
   "name": "Python [Root]"
  },
  "language_info": {
   "codemirror_mode": {
    "name": "ipython",
    "version": 2
   },
   "file_extension": ".py",
   "mimetype": "text/x-python",
   "name": "python",
   "nbconvert_exporter": "python",
   "pygments_lexer": "ipython2",
   "version": "2.7.12"
  }
 },
 "nbformat": 4,
 "nbformat_minor": 0
}
