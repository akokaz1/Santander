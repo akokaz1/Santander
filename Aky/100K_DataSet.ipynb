{
 "cells": [
  {
   "cell_type": "code",
   "execution_count": 1,
   "metadata": {
    "collapsed": true
   },
   "outputs": [],
   "source": [
    "import pandas as pd"
   ]
  },
  {
   "cell_type": "code",
   "execution_count": 2,
   "metadata": {
    "collapsed": false
   },
   "outputs": [],
   "source": [
    "#Read all the user files\n",
    "u_cols = ['user_id', 'age', 'sex', 'occupation', 'zip_code']\n",
    "users = pd.read_csv('C:\\Users\\student06\\Desktop\\ml-100k/user', sep='|', names=u_cols,\n",
    " encoding='latin-1')\n",
    "\n",
    "#Reading ratings file:\n",
    "r_cols = ['user_id', 'movie_id', 'rating', 'unix_timestamp']\n",
    "ratings = pd.read_csv('C:\\Users\\student06\\Desktop\\ml-100k/data', sep='\\t', names=r_cols,\n",
    " encoding='latin-1')\n",
    "\n",
    "#Reading items file:\n",
    "i_cols = ['movie id', 'movie title' ,'release date','video release date', 'IMDb URL', 'unknown', 'Action', 'Adventure',\n",
    " 'Animation', 'Children\\'s', 'Comedy', 'Crime', 'Documentary', 'Drama', 'Fantasy',\n",
    " 'Film-Noir', 'Horror', 'Musical', 'Mystery', 'Romance', 'Sci-Fi', 'Thriller', 'War', 'Western']\n",
    "items = pd.read_csv('C:\\Users\\student06\\Desktop\\ml-100k/item', sep='|', names=i_cols,\n",
    " encoding='latin-1')\n"
   ]
  },
  {
   "cell_type": "code",
   "execution_count": 3,
   "metadata": {
    "collapsed": false
   },
   "outputs": [
    {
     "name": "stdout",
     "output_type": "stream",
     "text": [
      "(943, 5)\n"
     ]
    },
    {
     "data": {
      "text/html": [
       "<div>\n",
       "<table border=\"1\" class=\"dataframe\">\n",
       "  <thead>\n",
       "    <tr style=\"text-align: right;\">\n",
       "      <th></th>\n",
       "      <th>user_id</th>\n",
       "      <th>age</th>\n",
       "      <th>sex</th>\n",
       "      <th>occupation</th>\n",
       "      <th>zip_code</th>\n",
       "    </tr>\n",
       "  </thead>\n",
       "  <tbody>\n",
       "    <tr>\n",
       "      <th>0</th>\n",
       "      <td>1</td>\n",
       "      <td>24</td>\n",
       "      <td>M</td>\n",
       "      <td>technician</td>\n",
       "      <td>85711</td>\n",
       "    </tr>\n",
       "    <tr>\n",
       "      <th>1</th>\n",
       "      <td>2</td>\n",
       "      <td>53</td>\n",
       "      <td>F</td>\n",
       "      <td>other</td>\n",
       "      <td>94043</td>\n",
       "    </tr>\n",
       "    <tr>\n",
       "      <th>2</th>\n",
       "      <td>3</td>\n",
       "      <td>23</td>\n",
       "      <td>M</td>\n",
       "      <td>writer</td>\n",
       "      <td>32067</td>\n",
       "    </tr>\n",
       "    <tr>\n",
       "      <th>3</th>\n",
       "      <td>4</td>\n",
       "      <td>24</td>\n",
       "      <td>M</td>\n",
       "      <td>technician</td>\n",
       "      <td>43537</td>\n",
       "    </tr>\n",
       "    <tr>\n",
       "      <th>4</th>\n",
       "      <td>5</td>\n",
       "      <td>33</td>\n",
       "      <td>F</td>\n",
       "      <td>other</td>\n",
       "      <td>15213</td>\n",
       "    </tr>\n",
       "  </tbody>\n",
       "</table>\n",
       "</div>"
      ],
      "text/plain": [
       "   user_id  age sex  occupation zip_code\n",
       "0        1   24   M  technician    85711\n",
       "1        2   53   F       other    94043\n",
       "2        3   23   M      writer    32067\n",
       "3        4   24   M  technician    43537\n",
       "4        5   33   F       other    15213"
      ]
     },
     "execution_count": 3,
     "metadata": {},
     "output_type": "execute_result"
    }
   ],
   "source": [
    "print users.shape\n",
    "users.head()\n"
   ]
  },
  {
   "cell_type": "code",
   "execution_count": 4,
   "metadata": {
    "collapsed": false
   },
   "outputs": [
    {
     "name": "stdout",
     "output_type": "stream",
     "text": [
      "(100000, 4)\n"
     ]
    },
    {
     "data": {
      "text/html": [
       "<div>\n",
       "<table border=\"1\" class=\"dataframe\">\n",
       "  <thead>\n",
       "    <tr style=\"text-align: right;\">\n",
       "      <th></th>\n",
       "      <th>user_id</th>\n",
       "      <th>movie_id</th>\n",
       "      <th>rating</th>\n",
       "      <th>unix_timestamp</th>\n",
       "    </tr>\n",
       "  </thead>\n",
       "  <tbody>\n",
       "    <tr>\n",
       "      <th>0</th>\n",
       "      <td>196</td>\n",
       "      <td>242</td>\n",
       "      <td>3</td>\n",
       "      <td>881250949</td>\n",
       "    </tr>\n",
       "    <tr>\n",
       "      <th>1</th>\n",
       "      <td>186</td>\n",
       "      <td>302</td>\n",
       "      <td>3</td>\n",
       "      <td>891717742</td>\n",
       "    </tr>\n",
       "    <tr>\n",
       "      <th>2</th>\n",
       "      <td>22</td>\n",
       "      <td>377</td>\n",
       "      <td>1</td>\n",
       "      <td>878887116</td>\n",
       "    </tr>\n",
       "    <tr>\n",
       "      <th>3</th>\n",
       "      <td>244</td>\n",
       "      <td>51</td>\n",
       "      <td>2</td>\n",
       "      <td>880606923</td>\n",
       "    </tr>\n",
       "    <tr>\n",
       "      <th>4</th>\n",
       "      <td>166</td>\n",
       "      <td>346</td>\n",
       "      <td>1</td>\n",
       "      <td>886397596</td>\n",
       "    </tr>\n",
       "  </tbody>\n",
       "</table>\n",
       "</div>"
      ],
      "text/plain": [
       "   user_id  movie_id  rating  unix_timestamp\n",
       "0      196       242       3       881250949\n",
       "1      186       302       3       891717742\n",
       "2       22       377       1       878887116\n",
       "3      244        51       2       880606923\n",
       "4      166       346       1       886397596"
      ]
     },
     "execution_count": 4,
     "metadata": {},
     "output_type": "execute_result"
    }
   ],
   "source": [
    "print ratings.shape\n",
    "ratings.head()"
   ]
  },
  {
   "cell_type": "code",
   "execution_count": 5,
   "metadata": {
    "collapsed": false
   },
   "outputs": [
    {
     "name": "stdout",
     "output_type": "stream",
     "text": [
      "(1682, 24)\n"
     ]
    },
    {
     "data": {
      "text/html": [
       "<div>\n",
       "<table border=\"1\" class=\"dataframe\">\n",
       "  <thead>\n",
       "    <tr style=\"text-align: right;\">\n",
       "      <th></th>\n",
       "      <th>movie id</th>\n",
       "      <th>movie title</th>\n",
       "      <th>release date</th>\n",
       "      <th>video release date</th>\n",
       "      <th>IMDb URL</th>\n",
       "      <th>unknown</th>\n",
       "      <th>Action</th>\n",
       "      <th>Adventure</th>\n",
       "      <th>Animation</th>\n",
       "      <th>Children's</th>\n",
       "      <th>...</th>\n",
       "      <th>Fantasy</th>\n",
       "      <th>Film-Noir</th>\n",
       "      <th>Horror</th>\n",
       "      <th>Musical</th>\n",
       "      <th>Mystery</th>\n",
       "      <th>Romance</th>\n",
       "      <th>Sci-Fi</th>\n",
       "      <th>Thriller</th>\n",
       "      <th>War</th>\n",
       "      <th>Western</th>\n",
       "    </tr>\n",
       "  </thead>\n",
       "  <tbody>\n",
       "    <tr>\n",
       "      <th>0</th>\n",
       "      <td>1</td>\n",
       "      <td>Toy Story (1995)</td>\n",
       "      <td>01-Jan-1995</td>\n",
       "      <td>NaN</td>\n",
       "      <td>http://us.imdb.com/M/title-exact?Toy%20Story%2...</td>\n",
       "      <td>0</td>\n",
       "      <td>0</td>\n",
       "      <td>0</td>\n",
       "      <td>1</td>\n",
       "      <td>1</td>\n",
       "      <td>...</td>\n",
       "      <td>0</td>\n",
       "      <td>0</td>\n",
       "      <td>0</td>\n",
       "      <td>0</td>\n",
       "      <td>0</td>\n",
       "      <td>0</td>\n",
       "      <td>0</td>\n",
       "      <td>0</td>\n",
       "      <td>0</td>\n",
       "      <td>0</td>\n",
       "    </tr>\n",
       "    <tr>\n",
       "      <th>1</th>\n",
       "      <td>2</td>\n",
       "      <td>GoldenEye (1995)</td>\n",
       "      <td>01-Jan-1995</td>\n",
       "      <td>NaN</td>\n",
       "      <td>http://us.imdb.com/M/title-exact?GoldenEye%20(...</td>\n",
       "      <td>0</td>\n",
       "      <td>1</td>\n",
       "      <td>1</td>\n",
       "      <td>0</td>\n",
       "      <td>0</td>\n",
       "      <td>...</td>\n",
       "      <td>0</td>\n",
       "      <td>0</td>\n",
       "      <td>0</td>\n",
       "      <td>0</td>\n",
       "      <td>0</td>\n",
       "      <td>0</td>\n",
       "      <td>0</td>\n",
       "      <td>1</td>\n",
       "      <td>0</td>\n",
       "      <td>0</td>\n",
       "    </tr>\n",
       "    <tr>\n",
       "      <th>2</th>\n",
       "      <td>3</td>\n",
       "      <td>Four Rooms (1995)</td>\n",
       "      <td>01-Jan-1995</td>\n",
       "      <td>NaN</td>\n",
       "      <td>http://us.imdb.com/M/title-exact?Four%20Rooms%...</td>\n",
       "      <td>0</td>\n",
       "      <td>0</td>\n",
       "      <td>0</td>\n",
       "      <td>0</td>\n",
       "      <td>0</td>\n",
       "      <td>...</td>\n",
       "      <td>0</td>\n",
       "      <td>0</td>\n",
       "      <td>0</td>\n",
       "      <td>0</td>\n",
       "      <td>0</td>\n",
       "      <td>0</td>\n",
       "      <td>0</td>\n",
       "      <td>1</td>\n",
       "      <td>0</td>\n",
       "      <td>0</td>\n",
       "    </tr>\n",
       "    <tr>\n",
       "      <th>3</th>\n",
       "      <td>4</td>\n",
       "      <td>Get Shorty (1995)</td>\n",
       "      <td>01-Jan-1995</td>\n",
       "      <td>NaN</td>\n",
       "      <td>http://us.imdb.com/M/title-exact?Get%20Shorty%...</td>\n",
       "      <td>0</td>\n",
       "      <td>1</td>\n",
       "      <td>0</td>\n",
       "      <td>0</td>\n",
       "      <td>0</td>\n",
       "      <td>...</td>\n",
       "      <td>0</td>\n",
       "      <td>0</td>\n",
       "      <td>0</td>\n",
       "      <td>0</td>\n",
       "      <td>0</td>\n",
       "      <td>0</td>\n",
       "      <td>0</td>\n",
       "      <td>0</td>\n",
       "      <td>0</td>\n",
       "      <td>0</td>\n",
       "    </tr>\n",
       "    <tr>\n",
       "      <th>4</th>\n",
       "      <td>5</td>\n",
       "      <td>Copycat (1995)</td>\n",
       "      <td>01-Jan-1995</td>\n",
       "      <td>NaN</td>\n",
       "      <td>http://us.imdb.com/M/title-exact?Copycat%20(1995)</td>\n",
       "      <td>0</td>\n",
       "      <td>0</td>\n",
       "      <td>0</td>\n",
       "      <td>0</td>\n",
       "      <td>0</td>\n",
       "      <td>...</td>\n",
       "      <td>0</td>\n",
       "      <td>0</td>\n",
       "      <td>0</td>\n",
       "      <td>0</td>\n",
       "      <td>0</td>\n",
       "      <td>0</td>\n",
       "      <td>0</td>\n",
       "      <td>1</td>\n",
       "      <td>0</td>\n",
       "      <td>0</td>\n",
       "    </tr>\n",
       "  </tbody>\n",
       "</table>\n",
       "<p>5 rows × 24 columns</p>\n",
       "</div>"
      ],
      "text/plain": [
       "   movie id        movie title release date  video release date  \\\n",
       "0         1   Toy Story (1995)  01-Jan-1995                 NaN   \n",
       "1         2   GoldenEye (1995)  01-Jan-1995                 NaN   \n",
       "2         3  Four Rooms (1995)  01-Jan-1995                 NaN   \n",
       "3         4  Get Shorty (1995)  01-Jan-1995                 NaN   \n",
       "4         5     Copycat (1995)  01-Jan-1995                 NaN   \n",
       "\n",
       "                                            IMDb URL  unknown  Action  \\\n",
       "0  http://us.imdb.com/M/title-exact?Toy%20Story%2...        0       0   \n",
       "1  http://us.imdb.com/M/title-exact?GoldenEye%20(...        0       1   \n",
       "2  http://us.imdb.com/M/title-exact?Four%20Rooms%...        0       0   \n",
       "3  http://us.imdb.com/M/title-exact?Get%20Shorty%...        0       1   \n",
       "4  http://us.imdb.com/M/title-exact?Copycat%20(1995)        0       0   \n",
       "\n",
       "   Adventure  Animation  Children's   ...     Fantasy  Film-Noir  Horror  \\\n",
       "0          0          1           1   ...           0          0       0   \n",
       "1          1          0           0   ...           0          0       0   \n",
       "2          0          0           0   ...           0          0       0   \n",
       "3          0          0           0   ...           0          0       0   \n",
       "4          0          0           0   ...           0          0       0   \n",
       "\n",
       "   Musical  Mystery  Romance  Sci-Fi  Thriller  War  Western  \n",
       "0        0        0        0       0         0    0        0  \n",
       "1        0        0        0       0         1    0        0  \n",
       "2        0        0        0       0         1    0        0  \n",
       "3        0        0        0       0         0    0        0  \n",
       "4        0        0        0       0         1    0        0  \n",
       "\n",
       "[5 rows x 24 columns]"
      ]
     },
     "execution_count": 5,
     "metadata": {},
     "output_type": "execute_result"
    }
   ],
   "source": [
    "print items.shape\n",
    "items.head()"
   ]
  },
  {
   "cell_type": "code",
   "execution_count": 6,
   "metadata": {
    "collapsed": false
   },
   "outputs": [
    {
     "data": {
      "text/plain": [
       "((90570, 4), (9430, 4))"
      ]
     },
     "execution_count": 6,
     "metadata": {},
     "output_type": "execute_result"
    }
   ],
   "source": [
    "r_cols = ['user_id', 'movie_id', 'rating', 'unix_timestamp']\n",
    "ratings_base = pd.read_csv('C:\\Users\\student06\\Desktop\\ml-100k/ua.base', sep='\\t', names=r_cols, encoding='latin-1')\n",
    "ratings_test = pd.read_csv('C:\\Users\\student06\\Desktop\\ml-100k/ua.test', sep='\\t', names=r_cols, encoding='latin-1')\n",
    "ratings_base.shape, ratings_test.shape"
   ]
  },
  {
   "cell_type": "code",
   "execution_count": 13,
   "metadata": {
    "collapsed": false
   },
   "outputs": [
    {
     "data": {
      "text/html": [
       "<div>\n",
       "<table border=\"1\" class=\"dataframe\">\n",
       "  <thead>\n",
       "    <tr style=\"text-align: right;\">\n",
       "      <th></th>\n",
       "      <th>user_id</th>\n",
       "      <th>movie_id</th>\n",
       "      <th>rating</th>\n",
       "      <th>unix_timestamp</th>\n",
       "    </tr>\n",
       "  </thead>\n",
       "  <tbody>\n",
       "    <tr>\n",
       "      <th>0</th>\n",
       "      <td>1</td>\n",
       "      <td>20</td>\n",
       "      <td>4</td>\n",
       "      <td>887431883</td>\n",
       "    </tr>\n",
       "    <tr>\n",
       "      <th>1</th>\n",
       "      <td>1</td>\n",
       "      <td>33</td>\n",
       "      <td>4</td>\n",
       "      <td>878542699</td>\n",
       "    </tr>\n",
       "    <tr>\n",
       "      <th>2</th>\n",
       "      <td>1</td>\n",
       "      <td>61</td>\n",
       "      <td>4</td>\n",
       "      <td>878542420</td>\n",
       "    </tr>\n",
       "    <tr>\n",
       "      <th>3</th>\n",
       "      <td>1</td>\n",
       "      <td>117</td>\n",
       "      <td>3</td>\n",
       "      <td>874965739</td>\n",
       "    </tr>\n",
       "    <tr>\n",
       "      <th>4</th>\n",
       "      <td>1</td>\n",
       "      <td>155</td>\n",
       "      <td>2</td>\n",
       "      <td>878542201</td>\n",
       "    </tr>\n",
       "  </tbody>\n",
       "</table>\n",
       "</div>"
      ],
      "text/plain": [
       "   user_id  movie_id  rating  unix_timestamp\n",
       "0        1        20       4       887431883\n",
       "1        1        33       4       878542699\n",
       "2        1        61       4       878542420\n",
       "3        1       117       3       874965739\n",
       "4        1       155       2       878542201"
      ]
     },
     "execution_count": 13,
     "metadata": {},
     "output_type": "execute_result"
    }
   ],
   "source": [
    "ratings_test.head()"
   ]
  },
  {
   "cell_type": "code",
   "execution_count": 7,
   "metadata": {
    "collapsed": false
   },
   "outputs": [],
   "source": [
    "import graphlab"
   ]
  },
  {
   "cell_type": "code",
   "execution_count": 8,
   "metadata": {
    "collapsed": false
   },
   "outputs": [
    {
     "name": "stderr",
     "output_type": "stream",
     "text": [
      "[INFO] graphlab.cython.cy_server: GraphLab Create v2.1 started. Logging: C:\\Users\\STUDEN~1\\AppData\\Local\\Temp\\graphlab_server_1481810403.log.0\n"
     ]
    },
    {
     "name": "stdout",
     "output_type": "stream",
     "text": [
      "This non-commercial license of GraphLab Create for academic use is assigned to aksheyen.s@gmail.com and will expire on December 15, 2017.\n"
     ]
    }
   ],
   "source": [
    "train_data = graphlab.SFrame(ratings_base)"
   ]
  },
  {
   "cell_type": "code",
   "execution_count": 9,
   "metadata": {
    "collapsed": false
   },
   "outputs": [],
   "source": [
    "test_data = graphlab.SFrame(ratings_test)"
   ]
  },
  {
   "cell_type": "code",
   "execution_count": 10,
   "metadata": {
    "collapsed": false
   },
   "outputs": [
    {
     "data": {
      "text/html": [
       "<div style=\"max-height:1000px;max-width:1500px;overflow:auto;\"><table frame=\"box\" rules=\"cols\">\n",
       "    <tr>\n",
       "        <th style=\"padding-left: 1em; padding-right: 1em; text-align: center\">user_id</th>\n",
       "        <th style=\"padding-left: 1em; padding-right: 1em; text-align: center\">movie_id</th>\n",
       "        <th style=\"padding-left: 1em; padding-right: 1em; text-align: center\">rating</th>\n",
       "        <th style=\"padding-left: 1em; padding-right: 1em; text-align: center\">unix_timestamp</th>\n",
       "    </tr>\n",
       "    <tr>\n",
       "        <td style=\"padding-left: 1em; padding-right: 1em; text-align: center; vertical-align: top\">1</td>\n",
       "        <td style=\"padding-left: 1em; padding-right: 1em; text-align: center; vertical-align: top\">1</td>\n",
       "        <td style=\"padding-left: 1em; padding-right: 1em; text-align: center; vertical-align: top\">5</td>\n",
       "        <td style=\"padding-left: 1em; padding-right: 1em; text-align: center; vertical-align: top\">874965758</td>\n",
       "    </tr>\n",
       "    <tr>\n",
       "        <td style=\"padding-left: 1em; padding-right: 1em; text-align: center; vertical-align: top\">1</td>\n",
       "        <td style=\"padding-left: 1em; padding-right: 1em; text-align: center; vertical-align: top\">2</td>\n",
       "        <td style=\"padding-left: 1em; padding-right: 1em; text-align: center; vertical-align: top\">3</td>\n",
       "        <td style=\"padding-left: 1em; padding-right: 1em; text-align: center; vertical-align: top\">876893171</td>\n",
       "    </tr>\n",
       "    <tr>\n",
       "        <td style=\"padding-left: 1em; padding-right: 1em; text-align: center; vertical-align: top\">1</td>\n",
       "        <td style=\"padding-left: 1em; padding-right: 1em; text-align: center; vertical-align: top\">3</td>\n",
       "        <td style=\"padding-left: 1em; padding-right: 1em; text-align: center; vertical-align: top\">4</td>\n",
       "        <td style=\"padding-left: 1em; padding-right: 1em; text-align: center; vertical-align: top\">878542960</td>\n",
       "    </tr>\n",
       "    <tr>\n",
       "        <td style=\"padding-left: 1em; padding-right: 1em; text-align: center; vertical-align: top\">1</td>\n",
       "        <td style=\"padding-left: 1em; padding-right: 1em; text-align: center; vertical-align: top\">4</td>\n",
       "        <td style=\"padding-left: 1em; padding-right: 1em; text-align: center; vertical-align: top\">3</td>\n",
       "        <td style=\"padding-left: 1em; padding-right: 1em; text-align: center; vertical-align: top\">876893119</td>\n",
       "    </tr>\n",
       "    <tr>\n",
       "        <td style=\"padding-left: 1em; padding-right: 1em; text-align: center; vertical-align: top\">1</td>\n",
       "        <td style=\"padding-left: 1em; padding-right: 1em; text-align: center; vertical-align: top\">5</td>\n",
       "        <td style=\"padding-left: 1em; padding-right: 1em; text-align: center; vertical-align: top\">3</td>\n",
       "        <td style=\"padding-left: 1em; padding-right: 1em; text-align: center; vertical-align: top\">889751712</td>\n",
       "    </tr>\n",
       "    <tr>\n",
       "        <td style=\"padding-left: 1em; padding-right: 1em; text-align: center; vertical-align: top\">1</td>\n",
       "        <td style=\"padding-left: 1em; padding-right: 1em; text-align: center; vertical-align: top\">6</td>\n",
       "        <td style=\"padding-left: 1em; padding-right: 1em; text-align: center; vertical-align: top\">5</td>\n",
       "        <td style=\"padding-left: 1em; padding-right: 1em; text-align: center; vertical-align: top\">887431973</td>\n",
       "    </tr>\n",
       "    <tr>\n",
       "        <td style=\"padding-left: 1em; padding-right: 1em; text-align: center; vertical-align: top\">1</td>\n",
       "        <td style=\"padding-left: 1em; padding-right: 1em; text-align: center; vertical-align: top\">7</td>\n",
       "        <td style=\"padding-left: 1em; padding-right: 1em; text-align: center; vertical-align: top\">4</td>\n",
       "        <td style=\"padding-left: 1em; padding-right: 1em; text-align: center; vertical-align: top\">875071561</td>\n",
       "    </tr>\n",
       "    <tr>\n",
       "        <td style=\"padding-left: 1em; padding-right: 1em; text-align: center; vertical-align: top\">1</td>\n",
       "        <td style=\"padding-left: 1em; padding-right: 1em; text-align: center; vertical-align: top\">8</td>\n",
       "        <td style=\"padding-left: 1em; padding-right: 1em; text-align: center; vertical-align: top\">1</td>\n",
       "        <td style=\"padding-left: 1em; padding-right: 1em; text-align: center; vertical-align: top\">875072484</td>\n",
       "    </tr>\n",
       "    <tr>\n",
       "        <td style=\"padding-left: 1em; padding-right: 1em; text-align: center; vertical-align: top\">1</td>\n",
       "        <td style=\"padding-left: 1em; padding-right: 1em; text-align: center; vertical-align: top\">9</td>\n",
       "        <td style=\"padding-left: 1em; padding-right: 1em; text-align: center; vertical-align: top\">5</td>\n",
       "        <td style=\"padding-left: 1em; padding-right: 1em; text-align: center; vertical-align: top\">878543541</td>\n",
       "    </tr>\n",
       "    <tr>\n",
       "        <td style=\"padding-left: 1em; padding-right: 1em; text-align: center; vertical-align: top\">1</td>\n",
       "        <td style=\"padding-left: 1em; padding-right: 1em; text-align: center; vertical-align: top\">10</td>\n",
       "        <td style=\"padding-left: 1em; padding-right: 1em; text-align: center; vertical-align: top\">3</td>\n",
       "        <td style=\"padding-left: 1em; padding-right: 1em; text-align: center; vertical-align: top\">875693118</td>\n",
       "    </tr>\n",
       "</table>\n",
       "[10 rows x 4 columns]<br/>\n",
       "</div>"
      ],
      "text/plain": [
       "Columns:\n",
       "\tuser_id\tint\n",
       "\tmovie_id\tint\n",
       "\trating\tint\n",
       "\tunix_timestamp\tint\n",
       "\n",
       "Rows: 10\n",
       "\n",
       "Data:\n",
       "+---------+----------+--------+----------------+\n",
       "| user_id | movie_id | rating | unix_timestamp |\n",
       "+---------+----------+--------+----------------+\n",
       "|    1    |    1     |   5    |   874965758    |\n",
       "|    1    |    2     |   3    |   876893171    |\n",
       "|    1    |    3     |   4    |   878542960    |\n",
       "|    1    |    4     |   3    |   876893119    |\n",
       "|    1    |    5     |   3    |   889751712    |\n",
       "|    1    |    6     |   5    |   887431973    |\n",
       "|    1    |    7     |   4    |   875071561    |\n",
       "|    1    |    8     |   1    |   875072484    |\n",
       "|    1    |    9     |   5    |   878543541    |\n",
       "|    1    |    10    |   3    |   875693118    |\n",
       "+---------+----------+--------+----------------+\n",
       "[10 rows x 4 columns]"
      ]
     },
     "execution_count": 10,
     "metadata": {},
     "output_type": "execute_result"
    }
   ],
   "source": [
    "train_data.head()"
   ]
  },
  {
   "cell_type": "code",
   "execution_count": 15,
   "metadata": {
    "collapsed": false
   },
   "outputs": [
    {
     "data": {
      "text/html": [
       "<pre>Recsys training: model = popularity</pre>"
      ],
      "text/plain": [
       "Recsys training: model = popularity"
      ]
     },
     "metadata": {},
     "output_type": "display_data"
    },
    {
     "data": {
      "text/html": [
       "<pre>Warning: Ignoring columns unix_timestamp;</pre>"
      ],
      "text/plain": [
       "Warning: Ignoring columns unix_timestamp;"
      ]
     },
     "metadata": {},
     "output_type": "display_data"
    },
    {
     "data": {
      "text/html": [
       "<pre>    To use these columns in scoring predictions, use a model that allows the use of additional features.</pre>"
      ],
      "text/plain": [
       "    To use these columns in scoring predictions, use a model that allows the use of additional features."
      ]
     },
     "metadata": {},
     "output_type": "display_data"
    },
    {
     "data": {
      "text/html": [
       "<pre>Preparing data set.</pre>"
      ],
      "text/plain": [
       "Preparing data set."
      ]
     },
     "metadata": {},
     "output_type": "display_data"
    },
    {
     "data": {
      "text/html": [
       "<pre>    Data has 90570 observations with 943 users and 1680 items.</pre>"
      ],
      "text/plain": [
       "    Data has 90570 observations with 943 users and 1680 items."
      ]
     },
     "metadata": {},
     "output_type": "display_data"
    },
    {
     "data": {
      "text/html": [
       "<pre>    Data prepared in: 0.08s</pre>"
      ],
      "text/plain": [
       "    Data prepared in: 0.08s"
      ]
     },
     "metadata": {},
     "output_type": "display_data"
    },
    {
     "data": {
      "text/html": [
       "<pre>90570 observations to process; with 1680 unique items.</pre>"
      ],
      "text/plain": [
       "90570 observations to process; with 1680 unique items."
      ]
     },
     "metadata": {},
     "output_type": "display_data"
    }
   ],
   "source": [
    "popularity_model = graphlab.popularity_recommender.create(train_data, user_id='user_id', item_id='movie_id', target='rating')"
   ]
  },
  {
   "cell_type": "code",
   "execution_count": 16,
   "metadata": {
    "collapsed": false
   },
   "outputs": [
    {
     "name": "stdout",
     "output_type": "stream",
     "text": [
      "+---------+----------+-------+------+\n",
      "| user_id | movie_id | score | rank |\n",
      "+---------+----------+-------+------+\n",
      "|    1    |   1599   |  5.0  |  1   |\n",
      "|    1    |   1201   |  5.0  |  2   |\n",
      "|    1    |   1189   |  5.0  |  3   |\n",
      "|    1    |   1122   |  5.0  |  4   |\n",
      "|    1    |   814    |  5.0  |  5   |\n",
      "|    2    |   1599   |  5.0  |  1   |\n",
      "|    2    |   1201   |  5.0  |  2   |\n",
      "|    2    |   1189   |  5.0  |  3   |\n",
      "|    2    |   1122   |  5.0  |  4   |\n",
      "|    2    |   814    |  5.0  |  5   |\n",
      "|    3    |   1599   |  5.0  |  1   |\n",
      "|    3    |   1201   |  5.0  |  2   |\n",
      "|    3    |   1189   |  5.0  |  3   |\n",
      "|    3    |   1122   |  5.0  |  4   |\n",
      "|    3    |   814    |  5.0  |  5   |\n",
      "|    4    |   1599   |  5.0  |  1   |\n",
      "|    4    |   1201   |  5.0  |  2   |\n",
      "|    4    |   1189   |  5.0  |  3   |\n",
      "|    4    |   1122   |  5.0  |  4   |\n",
      "|    4    |   814    |  5.0  |  5   |\n",
      "|    5    |   1599   |  5.0  |  1   |\n",
      "|    5    |   1201   |  5.0  |  2   |\n",
      "|    5    |   1189   |  5.0  |  3   |\n",
      "|    5    |   1122   |  5.0  |  4   |\n",
      "|    5    |   814    |  5.0  |  5   |\n",
      "+---------+----------+-------+------+\n",
      "[25 rows x 4 columns]\n",
      "\n"
     ]
    }
   ],
   "source": [
    "#Get recommendations for first 5 users and print them\n",
    "#users = range(1,6) specifies user ID of first 5 users\n",
    "#k=5 specifies top 5 recommendations to be given\n",
    "popularity_recomm = popularity_model.recommend(users=range(1,6),k=5)\n",
    "popularity_recomm.print_rows(num_rows=25)"
   ]
  },
  {
   "cell_type": "code",
   "execution_count": 17,
   "metadata": {
    "collapsed": false
   },
   "outputs": [
    {
     "name": "stdout",
     "output_type": "stream",
     "text": [
      "Canvas is accessible via web browser at the URL: http://localhost:52615/index.html\n",
      "Opening Canvas in default web browser.\n"
     ]
    }
   ],
   "source": [
    "popularity_recomm.show()"
   ]
  },
  {
   "cell_type": "code",
   "execution_count": 18,
   "metadata": {
    "collapsed": true
   },
   "outputs": [],
   "source": [
    "#########Collaborative Filtering################"
   ]
  },
  {
   "cell_type": "code",
   "execution_count": 19,
   "metadata": {
    "collapsed": false
   },
   "outputs": [
    {
     "data": {
      "text/html": [
       "<pre>Recsys training: model = item_similarity</pre>"
      ],
      "text/plain": [
       "Recsys training: model = item_similarity"
      ]
     },
     "metadata": {},
     "output_type": "display_data"
    },
    {
     "data": {
      "text/html": [
       "<pre>Warning: Ignoring columns unix_timestamp;</pre>"
      ],
      "text/plain": [
       "Warning: Ignoring columns unix_timestamp;"
      ]
     },
     "metadata": {},
     "output_type": "display_data"
    },
    {
     "data": {
      "text/html": [
       "<pre>    To use these columns in scoring predictions, use a model that allows the use of additional features.</pre>"
      ],
      "text/plain": [
       "    To use these columns in scoring predictions, use a model that allows the use of additional features."
      ]
     },
     "metadata": {},
     "output_type": "display_data"
    },
    {
     "data": {
      "text/html": [
       "<pre>Preparing data set.</pre>"
      ],
      "text/plain": [
       "Preparing data set."
      ]
     },
     "metadata": {},
     "output_type": "display_data"
    },
    {
     "data": {
      "text/html": [
       "<pre>    Data has 90570 observations with 943 users and 1680 items.</pre>"
      ],
      "text/plain": [
       "    Data has 90570 observations with 943 users and 1680 items."
      ]
     },
     "metadata": {},
     "output_type": "display_data"
    },
    {
     "data": {
      "text/html": [
       "<pre>    Data prepared in: 0.071s</pre>"
      ],
      "text/plain": [
       "    Data prepared in: 0.071s"
      ]
     },
     "metadata": {},
     "output_type": "display_data"
    },
    {
     "data": {
      "text/html": [
       "<pre>Training model from provided data.</pre>"
      ],
      "text/plain": [
       "Training model from provided data."
      ]
     },
     "metadata": {},
     "output_type": "display_data"
    },
    {
     "data": {
      "text/html": [
       "<pre>Gathering per-item and per-user statistics.</pre>"
      ],
      "text/plain": [
       "Gathering per-item and per-user statistics."
      ]
     },
     "metadata": {},
     "output_type": "display_data"
    },
    {
     "data": {
      "text/html": [
       "<pre>+--------------------------------+------------+</pre>"
      ],
      "text/plain": [
       "+--------------------------------+------------+"
      ]
     },
     "metadata": {},
     "output_type": "display_data"
    },
    {
     "data": {
      "text/html": [
       "<pre>| Elapsed Time (Item Statistics) | % Complete |</pre>"
      ],
      "text/plain": [
       "| Elapsed Time (Item Statistics) | % Complete |"
      ]
     },
     "metadata": {},
     "output_type": "display_data"
    },
    {
     "data": {
      "text/html": [
       "<pre>+--------------------------------+------------+</pre>"
      ],
      "text/plain": [
       "+--------------------------------+------------+"
      ]
     },
     "metadata": {},
     "output_type": "display_data"
    },
    {
     "data": {
      "text/html": [
       "<pre>| 1ms                            | 100        |</pre>"
      ],
      "text/plain": [
       "| 1ms                            | 100        |"
      ]
     },
     "metadata": {},
     "output_type": "display_data"
    },
    {
     "data": {
      "text/html": [
       "<pre>+--------------------------------+------------+</pre>"
      ],
      "text/plain": [
       "+--------------------------------+------------+"
      ]
     },
     "metadata": {},
     "output_type": "display_data"
    },
    {
     "data": {
      "text/html": [
       "<pre>Setting up lookup tables.</pre>"
      ],
      "text/plain": [
       "Setting up lookup tables."
      ]
     },
     "metadata": {},
     "output_type": "display_data"
    },
    {
     "data": {
      "text/html": [
       "<pre>Processing data in one pass using dense lookup tables.</pre>"
      ],
      "text/plain": [
       "Processing data in one pass using dense lookup tables."
      ]
     },
     "metadata": {},
     "output_type": "display_data"
    },
    {
     "data": {
      "text/html": [
       "<pre>+-------------------------------------+------------------+-----------------+</pre>"
      ],
      "text/plain": [
       "+-------------------------------------+------------------+-----------------+"
      ]
     },
     "metadata": {},
     "output_type": "display_data"
    },
    {
     "data": {
      "text/html": [
       "<pre>| Elapsed Time (Constructing Lookups) | Total % Complete | Items Processed |</pre>"
      ],
      "text/plain": [
       "| Elapsed Time (Constructing Lookups) | Total % Complete | Items Processed |"
      ]
     },
     "metadata": {},
     "output_type": "display_data"
    },
    {
     "data": {
      "text/html": [
       "<pre>+-------------------------------------+------------------+-----------------+</pre>"
      ],
      "text/plain": [
       "+-------------------------------------+------------------+-----------------+"
      ]
     },
     "metadata": {},
     "output_type": "display_data"
    },
    {
     "data": {
      "text/html": [
       "<pre>| 22ms                                | 0.25             | 6               |</pre>"
      ],
      "text/plain": [
       "| 22ms                                | 0.25             | 6               |"
      ]
     },
     "metadata": {},
     "output_type": "display_data"
    },
    {
     "data": {
      "text/html": [
       "<pre>| 475ms                               | 100              | 1680            |</pre>"
      ],
      "text/plain": [
       "| 475ms                               | 100              | 1680            |"
      ]
     },
     "metadata": {},
     "output_type": "display_data"
    },
    {
     "data": {
      "text/html": [
       "<pre>+-------------------------------------+------------------+-----------------+</pre>"
      ],
      "text/plain": [
       "+-------------------------------------+------------------+-----------------+"
      ]
     },
     "metadata": {},
     "output_type": "display_data"
    },
    {
     "data": {
      "text/html": [
       "<pre>Finalizing lookup tables.</pre>"
      ],
      "text/plain": [
       "Finalizing lookup tables."
      ]
     },
     "metadata": {},
     "output_type": "display_data"
    },
    {
     "data": {
      "text/html": [
       "<pre>Generating candidate set for working with new users.</pre>"
      ],
      "text/plain": [
       "Generating candidate set for working with new users."
      ]
     },
     "metadata": {},
     "output_type": "display_data"
    },
    {
     "data": {
      "text/html": [
       "<pre>Finished training in 1.481s</pre>"
      ],
      "text/plain": [
       "Finished training in 1.481s"
      ]
     },
     "metadata": {},
     "output_type": "display_data"
    }
   ],
   "source": [
    "#Train Model\n",
    "item_sim_model = graphlab.item_similarity_recommender.create(train_data, user_id='user_id', item_id='movie_id', target='rating', similarity_type='pearson')"
   ]
  },
  {
   "cell_type": "code",
   "execution_count": 20,
   "metadata": {
    "collapsed": false
   },
   "outputs": [
    {
     "name": "stdout",
     "output_type": "stream",
     "text": [
      "+---------+----------+-------+------+\n",
      "| user_id | movie_id | score | rank |\n",
      "+---------+----------+-------+------+\n",
      "|    1    |   1467   |  5.0  |  1   |\n",
      "|    1    |   1201   |  5.0  |  2   |\n",
      "|    1    |   1189   |  5.0  |  3   |\n",
      "|    1    |   1122   |  5.0  |  4   |\n",
      "|    1    |   814    |  5.0  |  5   |\n",
      "|    2    |   1467   |  5.0  |  1   |\n",
      "|    2    |   1201   |  5.0  |  2   |\n",
      "|    2    |   1189   |  5.0  |  3   |\n",
      "|    2    |   1122   |  5.0  |  4   |\n",
      "|    2    |   814    |  5.0  |  5   |\n",
      "|    3    |   1467   |  5.0  |  1   |\n",
      "|    3    |   1201   |  5.0  |  2   |\n",
      "|    3    |   1189   |  5.0  |  3   |\n",
      "|    3    |   1122   |  5.0  |  4   |\n",
      "|    3    |   814    |  5.0  |  5   |\n",
      "|    4    |   1467   |  5.0  |  1   |\n",
      "|    4    |   1201   |  5.0  |  2   |\n",
      "|    4    |   1189   |  5.0  |  3   |\n",
      "|    4    |   1122   |  5.0  |  4   |\n",
      "|    4    |   814    |  5.0  |  5   |\n",
      "|    5    |   1467   |  5.0  |  1   |\n",
      "|    5    |   1201   |  5.0  |  2   |\n",
      "|    5    |   1189   |  5.0  |  3   |\n",
      "|    5    |   1122   |  5.0  |  4   |\n",
      "|    5    |   814    |  5.0  |  5   |\n",
      "+---------+----------+-------+------+\n",
      "[25 rows x 4 columns]\n",
      "\n"
     ]
    }
   ],
   "source": [
    "#Make Recommendations:\n",
    "item_sim_recomm = item_sim_model.recommend(users=range(1,6),k=5)\n",
    "item_sim_recomm.print_rows(num_rows=25)"
   ]
  },
  {
   "cell_type": "code",
   "execution_count": 21,
   "metadata": {
    "collapsed": false
   },
   "outputs": [
    {
     "name": "stdout",
     "output_type": "stream",
     "text": [
      "Canvas is updated and available in a tab in the default browser.\n"
     ]
    }
   ],
   "source": [
    "item_sim_recomm.show()"
   ]
  },
  {
   "cell_type": "code",
   "execution_count": 22,
   "metadata": {
    "collapsed": true
   },
   "outputs": [],
   "source": []
  },
  {
   "cell_type": "code",
   "execution_count": 23,
   "metadata": {
    "collapsed": false,
    "scrolled": true
   },
   "outputs": [
    {
     "name": "stdout",
     "output_type": "stream",
     "text": [
      "WARNING: The ItemContentRecommender model is still in beta.\n",
      "WARNING: This feature transformer is still in beta, and some interpretation rules may change in the future.\n",
      "('Applying transform:\\n', Class             : AutoVectorizer\n",
      "\n",
      "Model Fields\n",
      "------------\n",
      "Features          : ['user_id', 'rating', 'unix_timestamp']\n",
      "Excluded Features : ['movie_id']\n",
      "\n",
      "Column          Type  Interpretation  Transforms  Output Type\n",
      "--------------  ----  --------------  ----------  -----------\n",
      "user_id         int   numerical       None        int        \n",
      "rating          int   numerical       None        int        \n",
      "unix_timestamp  int   numerical       None        int        \n",
      "\n",
      ")\n"
     ]
    },
    {
     "data": {
      "text/html": [
       "<pre>Recsys training: model = item_content_recommender</pre>"
      ],
      "text/plain": [
       "Recsys training: model = item_content_recommender"
      ]
     },
     "metadata": {},
     "output_type": "display_data"
    },
    {
     "name": "stdout",
     "output_type": "stream",
     "text": [
      "Defaulting to brute force instead of ball tree because there are multiple distance components.\n"
     ]
    },
    {
     "data": {
      "text/html": [
       "<pre>Starting brute force nearest neighbors model training.</pre>"
      ],
      "text/plain": [
       "Starting brute force nearest neighbors model training."
      ]
     },
     "metadata": {},
     "output_type": "display_data"
    },
    {
     "data": {
      "text/html": [
       "<pre>Starting pairwise querying.</pre>"
      ],
      "text/plain": [
       "Starting pairwise querying."
      ]
     },
     "metadata": {},
     "output_type": "display_data"
    },
    {
     "data": {
      "text/html": [
       "<pre>+--------------+---------+-------------+--------------+</pre>"
      ],
      "text/plain": [
       "+--------------+---------+-------------+--------------+"
      ]
     },
     "metadata": {},
     "output_type": "display_data"
    },
    {
     "data": {
      "text/html": [
       "<pre>| Query points | # Pairs | % Complete. | Elapsed Time |</pre>"
      ],
      "text/plain": [
       "| Query points | # Pairs | % Complete. | Elapsed Time |"
      ]
     },
     "metadata": {},
     "output_type": "display_data"
    },
    {
     "data": {
      "text/html": [
       "<pre>+--------------+---------+-------------+--------------+</pre>"
      ],
      "text/plain": [
       "+--------------+---------+-------------+--------------+"
      ]
     },
     "metadata": {},
     "output_type": "display_data"
    },
    {
     "data": {
      "text/html": [
       "<pre>| 1            | 90570   | 0.00110412  | 34ms         |</pre>"
      ],
      "text/plain": [
       "| 1            | 90570   | 0.00110412  | 34ms         |"
      ]
     },
     "metadata": {},
     "output_type": "display_data"
    },
    {
     "data": {
      "text/html": [
       "<pre>| 115          | 1e+007  | 0.126974    | 1.04s        |</pre>"
      ],
      "text/plain": [
       "| 115          | 1e+007  | 0.126974    | 1.04s        |"
      ]
     },
     "metadata": {},
     "output_type": "display_data"
    },
    {
     "data": {
      "text/html": [
       "<pre>| 253          | 2e+007  | 0.279342    | 2.04s        |</pre>"
      ],
      "text/plain": [
       "| 253          | 2e+007  | 0.279342    | 2.04s        |"
      ]
     },
     "metadata": {},
     "output_type": "display_data"
    },
    {
     "data": {
      "text/html": [
       "<pre>| 392          | 4e+007  | 0.432814    | 3.05s        |</pre>"
      ],
      "text/plain": [
       "| 392          | 4e+007  | 0.432814    | 3.05s        |"
      ]
     },
     "metadata": {},
     "output_type": "display_data"
    },
    {
     "data": {
      "text/html": [
       "<pre>| 543          | 5e+007  | 0.599536    | 4.07s        |</pre>"
      ],
      "text/plain": [
       "| 543          | 5e+007  | 0.599536    | 4.07s        |"
      ]
     },
     "metadata": {},
     "output_type": "display_data"
    },
    {
     "data": {
      "text/html": [
       "<pre>| 691          | 6e+007  | 0.762946    | 5.06s        |</pre>"
      ],
      "text/plain": [
       "| 691          | 6e+007  | 0.762946    | 5.06s        |"
      ]
     },
     "metadata": {},
     "output_type": "display_data"
    },
    {
     "data": {
      "text/html": [
       "<pre>| 840          | 8e+007  | 0.927459    | 6.06s        |</pre>"
      ],
      "text/plain": [
       "| 840          | 8e+007  | 0.927459    | 6.06s        |"
      ]
     },
     "metadata": {},
     "output_type": "display_data"
    },
    {
     "data": {
      "text/html": [
       "<pre>| 969          | 9e+007  | 1.06989     | 7.08s        |</pre>"
      ],
      "text/plain": [
       "| 969          | 9e+007  | 1.06989     | 7.08s        |"
      ]
     },
     "metadata": {},
     "output_type": "display_data"
    },
    {
     "data": {
      "text/html": [
       "<pre>| 1091         | 1e+008  | 1.20459     | 8.09s        |</pre>"
      ],
      "text/plain": [
       "| 1091         | 1e+008  | 1.20459     | 8.09s        |"
      ]
     },
     "metadata": {},
     "output_type": "display_data"
    },
    {
     "data": {
      "text/html": [
       "<pre>| 1239         | 1e+008  | 1.368       | 9.09s        |</pre>"
      ],
      "text/plain": [
       "| 1239         | 1e+008  | 1.368       | 9.09s        |"
      ]
     },
     "metadata": {},
     "output_type": "display_data"
    },
    {
     "data": {
      "text/html": [
       "<pre>| 1397         | 1e+008  | 1.54245     | 10.09s       |</pre>"
      ],
      "text/plain": [
       "| 1397         | 1e+008  | 1.54245     | 10.09s       |"
      ]
     },
     "metadata": {},
     "output_type": "display_data"
    },
    {
     "data": {
      "text/html": [
       "<pre>| 1537         | 1e+008  | 1.69703     | 11.11s       |</pre>"
      ],
      "text/plain": [
       "| 1537         | 1e+008  | 1.69703     | 11.11s       |"
      ]
     },
     "metadata": {},
     "output_type": "display_data"
    },
    {
     "data": {
      "text/html": [
       "<pre>| 1698         | 2e+008  | 1.87479     | 12.12s       |</pre>"
      ],
      "text/plain": [
       "| 1698         | 2e+008  | 1.87479     | 12.12s       |"
      ]
     },
     "metadata": {},
     "output_type": "display_data"
    },
    {
     "data": {
      "text/html": [
       "<pre>| 1833         | 2e+008  | 2.02385     | 13.12s       |</pre>"
      ],
      "text/plain": [
       "| 1833         | 2e+008  | 2.02385     | 13.12s       |"
      ]
     },
     "metadata": {},
     "output_type": "display_data"
    },
    {
     "data": {
      "text/html": [
       "<pre>| 1984         | 2e+008  | 2.19057     | 14.11s       |</pre>"
      ],
      "text/plain": [
       "| 1984         | 2e+008  | 2.19057     | 14.11s       |"
      ]
     },
     "metadata": {},
     "output_type": "display_data"
    },
    {
     "data": {
      "text/html": [
       "<pre>| 2144         | 2e+008  | 2.36723     | 15.11s       |</pre>"
      ],
      "text/plain": [
       "| 2144         | 2e+008  | 2.36723     | 15.11s       |"
      ]
     },
     "metadata": {},
     "output_type": "display_data"
    },
    {
     "data": {
      "text/html": [
       "<pre>| 2304         | 2e+008  | 2.54389     | 16.13s       |</pre>"
      ],
      "text/plain": [
       "| 2304         | 2e+008  | 2.54389     | 16.13s       |"
      ]
     },
     "metadata": {},
     "output_type": "display_data"
    },
    {
     "data": {
      "text/html": [
       "<pre>| 2461         | 2e+008  | 2.71724     | 17.14s       |</pre>"
      ],
      "text/plain": [
       "| 2461         | 2e+008  | 2.71724     | 17.14s       |"
      ]
     },
     "metadata": {},
     "output_type": "display_data"
    },
    {
     "data": {
      "text/html": [
       "<pre>| 2623         | 2e+008  | 2.8961      | 18.13s       |</pre>"
      ],
      "text/plain": [
       "| 2623         | 2e+008  | 2.8961      | 18.13s       |"
      ]
     },
     "metadata": {},
     "output_type": "display_data"
    },
    {
     "data": {
      "text/html": [
       "<pre>| 2782         | 3e+008  | 3.07166     | 19.14s       |</pre>"
      ],
      "text/plain": [
       "| 2782         | 3e+008  | 3.07166     | 19.14s       |"
      ]
     },
     "metadata": {},
     "output_type": "display_data"
    },
    {
     "data": {
      "text/html": [
       "<pre>| 2943         | 3e+008  | 3.24942     | 20.14s       |</pre>"
      ],
      "text/plain": [
       "| 2943         | 3e+008  | 3.24942     | 20.14s       |"
      ]
     },
     "metadata": {},
     "output_type": "display_data"
    },
    {
     "data": {
      "text/html": [
       "<pre>| 3107         | 3e+008  | 3.4305      | 21.15s       |</pre>"
      ],
      "text/plain": [
       "| 3107         | 3e+008  | 3.4305      | 21.15s       |"
      ]
     },
     "metadata": {},
     "output_type": "display_data"
    },
    {
     "data": {
      "text/html": [
       "<pre>| 3271         | 3e+008  | 3.61157     | 22.15s       |</pre>"
      ],
      "text/plain": [
       "| 3271         | 3e+008  | 3.61157     | 22.15s       |"
      ]
     },
     "metadata": {},
     "output_type": "display_data"
    },
    {
     "data": {
      "text/html": [
       "<pre>| 3437         | 3e+008  | 3.79485     | 23.16s       |</pre>"
      ],
      "text/plain": [
       "| 3437         | 3e+008  | 3.79485     | 23.16s       |"
      ]
     },
     "metadata": {},
     "output_type": "display_data"
    },
    {
     "data": {
      "text/html": [
       "<pre>| 3601         | 3e+008  | 3.97593     | 24.16s       |</pre>"
      ],
      "text/plain": [
       "| 3601         | 3e+008  | 3.97593     | 24.16s       |"
      ]
     },
     "metadata": {},
     "output_type": "display_data"
    },
    {
     "data": {
      "text/html": [
       "<pre>| 3765         | 3e+008  | 4.15701     | 25.17s       |</pre>"
      ],
      "text/plain": [
       "| 3765         | 3e+008  | 4.15701     | 25.17s       |"
      ]
     },
     "metadata": {},
     "output_type": "display_data"
    },
    {
     "data": {
      "text/html": [
       "<pre>| 3925         | 4e+008  | 4.33366     | 26.18s       |</pre>"
      ],
      "text/plain": [
       "| 3925         | 4e+008  | 4.33366     | 26.18s       |"
      ]
     },
     "metadata": {},
     "output_type": "display_data"
    },
    {
     "data": {
      "text/html": [
       "<pre>| 4073         | 4e+008  | 4.49707     | 27.19s       |</pre>"
      ],
      "text/plain": [
       "| 4073         | 4e+008  | 4.49707     | 27.19s       |"
      ]
     },
     "metadata": {},
     "output_type": "display_data"
    },
    {
     "data": {
      "text/html": [
       "<pre>| 4216         | 4e+008  | 4.65496     | 28.19s       |</pre>"
      ],
      "text/plain": [
       "| 4216         | 4e+008  | 4.65496     | 28.19s       |"
      ]
     },
     "metadata": {},
     "output_type": "display_data"
    },
    {
     "data": {
      "text/html": [
       "<pre>| 4375         | 4e+008  | 4.83052     | 29.19s       |</pre>"
      ],
      "text/plain": [
       "| 4375         | 4e+008  | 4.83052     | 29.19s       |"
      ]
     },
     "metadata": {},
     "output_type": "display_data"
    },
    {
     "data": {
      "text/html": [
       "<pre>| 4521         | 4e+008  | 4.99172     | 30.20s       |</pre>"
      ],
      "text/plain": [
       "| 4521         | 4e+008  | 4.99172     | 30.20s       |"
      ]
     },
     "metadata": {},
     "output_type": "display_data"
    },
    {
     "data": {
      "text/html": [
       "<pre>| 4680         | 4e+008  | 5.16727     | 31.20s       |</pre>"
      ],
      "text/plain": [
       "| 4680         | 4e+008  | 5.16727     | 31.20s       |"
      ]
     },
     "metadata": {},
     "output_type": "display_data"
    },
    {
     "data": {
      "text/html": [
       "<pre>| 4842         | 4e+008  | 5.34614     | 32.22s       |</pre>"
      ],
      "text/plain": [
       "| 4842         | 4e+008  | 5.34614     | 32.22s       |"
      ]
     },
     "metadata": {},
     "output_type": "display_data"
    },
    {
     "data": {
      "text/html": [
       "<pre>| 5006         | 5e+008  | 5.52722     | 33.22s       |</pre>"
      ],
      "text/plain": [
       "| 5006         | 5e+008  | 5.52722     | 33.22s       |"
      ]
     },
     "metadata": {},
     "output_type": "display_data"
    },
    {
     "data": {
      "text/html": [
       "<pre>| 5167         | 5e+008  | 5.70498     | 34.22s       |</pre>"
      ],
      "text/plain": [
       "| 5167         | 5e+008  | 5.70498     | 34.22s       |"
      ]
     },
     "metadata": {},
     "output_type": "display_data"
    },
    {
     "data": {
      "text/html": [
       "<pre>| 5309         | 5e+008  | 5.86176     | 35.23s       |</pre>"
      ],
      "text/plain": [
       "| 5309         | 5e+008  | 5.86176     | 35.23s       |"
      ]
     },
     "metadata": {},
     "output_type": "display_data"
    },
    {
     "data": {
      "text/html": [
       "<pre>| 5467         | 5e+008  | 6.03622     | 36.23s       |</pre>"
      ],
      "text/plain": [
       "| 5467         | 5e+008  | 6.03622     | 36.23s       |"
      ]
     },
     "metadata": {},
     "output_type": "display_data"
    },
    {
     "data": {
      "text/html": [
       "<pre>| 5596         | 5e+008  | 6.17865     | 37.24s       |</pre>"
      ],
      "text/plain": [
       "| 5596         | 5e+008  | 6.17865     | 37.24s       |"
      ]
     },
     "metadata": {},
     "output_type": "display_data"
    },
    {
     "data": {
      "text/html": [
       "<pre>| 5692         | 5e+008  | 6.28464     | 38.25s       |</pre>"
      ],
      "text/plain": [
       "| 5692         | 5e+008  | 6.28464     | 38.25s       |"
      ]
     },
     "metadata": {},
     "output_type": "display_data"
    },
    {
     "data": {
      "text/html": [
       "<pre>| 5808         | 5e+008  | 6.41272     | 39.25s       |</pre>"
      ],
      "text/plain": [
       "| 5808         | 5e+008  | 6.41272     | 39.25s       |"
      ]
     },
     "metadata": {},
     "output_type": "display_data"
    },
    {
     "data": {
      "text/html": [
       "<pre>| 5952         | 5e+008  | 6.57171     | 40.26s       |</pre>"
      ],
      "text/plain": [
       "| 5952         | 5e+008  | 6.57171     | 40.26s       |"
      ]
     },
     "metadata": {},
     "output_type": "display_data"
    },
    {
     "data": {
      "text/html": [
       "<pre>| 6094         | 6e+008  | 6.7285      | 41.26s       |</pre>"
      ],
      "text/plain": [
       "| 6094         | 6e+008  | 6.7285      | 41.26s       |"
      ]
     },
     "metadata": {},
     "output_type": "display_data"
    },
    {
     "data": {
      "text/html": [
       "<pre>| 6252         | 6e+008  | 6.90295     | 42.26s       |</pre>"
      ],
      "text/plain": [
       "| 6252         | 6e+008  | 6.90295     | 42.26s       |"
      ]
     },
     "metadata": {},
     "output_type": "display_data"
    },
    {
     "data": {
      "text/html": [
       "<pre>| 6416         | 6e+008  | 7.08402     | 43.27s       |</pre>"
      ],
      "text/plain": [
       "| 6416         | 6e+008  | 7.08402     | 43.27s       |"
      ]
     },
     "metadata": {},
     "output_type": "display_data"
    },
    {
     "data": {
      "text/html": [
       "<pre>| 6582         | 6e+008  | 7.26731     | 44.28s       |</pre>"
      ],
      "text/plain": [
       "| 6582         | 6e+008  | 7.26731     | 44.28s       |"
      ]
     },
     "metadata": {},
     "output_type": "display_data"
    },
    {
     "data": {
      "text/html": [
       "<pre>| 6738         | 6e+008  | 7.43955     | 45.29s       |</pre>"
      ],
      "text/plain": [
       "| 6738         | 6e+008  | 7.43955     | 45.29s       |"
      ]
     },
     "metadata": {},
     "output_type": "display_data"
    },
    {
     "data": {
      "text/html": [
       "<pre>| 6890         | 6e+008  | 7.60738     | 46.29s       |</pre>"
      ],
      "text/plain": [
       "| 6890         | 6e+008  | 7.60738     | 46.29s       |"
      ]
     },
     "metadata": {},
     "output_type": "display_data"
    },
    {
     "data": {
      "text/html": [
       "<pre>| 7029         | 6e+008  | 7.76085     | 47.29s       |</pre>"
      ],
      "text/plain": [
       "| 7029         | 6e+008  | 7.76085     | 47.29s       |"
      ]
     },
     "metadata": {},
     "output_type": "display_data"
    },
    {
     "data": {
      "text/html": [
       "<pre>| 7192         | 7e+008  | 7.94082     | 48.29s       |</pre>"
      ],
      "text/plain": [
       "| 7192         | 7e+008  | 7.94082     | 48.29s       |"
      ]
     },
     "metadata": {},
     "output_type": "display_data"
    },
    {
     "data": {
      "text/html": [
       "<pre>| 7348         | 7e+008  | 8.11306     | 49.30s       |</pre>"
      ],
      "text/plain": [
       "| 7348         | 7e+008  | 8.11306     | 49.30s       |"
      ]
     },
     "metadata": {},
     "output_type": "display_data"
    },
    {
     "data": {
      "text/html": [
       "<pre>| 7508         | 7e+008  | 8.28972     | 50.32s       |</pre>"
      ],
      "text/plain": [
       "| 7508         | 7e+008  | 8.28972     | 50.32s       |"
      ]
     },
     "metadata": {},
     "output_type": "display_data"
    },
    {
     "data": {
      "text/html": [
       "<pre>| 7671         | 7e+008  | 8.46969     | 51.32s       |</pre>"
      ],
      "text/plain": [
       "| 7671         | 7e+008  | 8.46969     | 51.32s       |"
      ]
     },
     "metadata": {},
     "output_type": "display_data"
    },
    {
     "data": {
      "text/html": [
       "<pre>| 7830         | 7e+008  | 8.64525     | 52.32s       |</pre>"
      ],
      "text/plain": [
       "| 7830         | 7e+008  | 8.64525     | 52.32s       |"
      ]
     },
     "metadata": {},
     "output_type": "display_data"
    },
    {
     "data": {
      "text/html": [
       "<pre>| 7988         | 7e+008  | 8.8197      | 53.34s       |</pre>"
      ],
      "text/plain": [
       "| 7988         | 7e+008  | 8.8197      | 53.34s       |"
      ]
     },
     "metadata": {},
     "output_type": "display_data"
    },
    {
     "data": {
      "text/html": [
       "<pre>| 8147         | 7e+008  | 8.99525     | 54.33s       |</pre>"
      ],
      "text/plain": [
       "| 8147         | 7e+008  | 8.99525     | 54.33s       |"
      ]
     },
     "metadata": {},
     "output_type": "display_data"
    },
    {
     "data": {
      "text/html": [
       "<pre>| 8310         | 8e+008  | 9.17522     | 55.33s       |</pre>"
      ],
      "text/plain": [
       "| 8310         | 8e+008  | 9.17522     | 55.33s       |"
      ]
     },
     "metadata": {},
     "output_type": "display_data"
    },
    {
     "data": {
      "text/html": [
       "<pre>| 8472         | 8e+008  | 9.35409     | 56.34s       |</pre>"
      ],
      "text/plain": [
       "| 8472         | 8e+008  | 9.35409     | 56.34s       |"
      ]
     },
     "metadata": {},
     "output_type": "display_data"
    },
    {
     "data": {
      "text/html": [
       "<pre>| 8632         | 8e+008  | 9.53075     | 57.35s       |</pre>"
      ],
      "text/plain": [
       "| 8632         | 8e+008  | 9.53075     | 57.35s       |"
      ]
     },
     "metadata": {},
     "output_type": "display_data"
    },
    {
     "data": {
      "text/html": [
       "<pre>| 8794         | 8e+008  | 9.70962     | 58.35s       |</pre>"
      ],
      "text/plain": [
       "| 8794         | 8e+008  | 9.70962     | 58.35s       |"
      ]
     },
     "metadata": {},
     "output_type": "display_data"
    },
    {
     "data": {
      "text/html": [
       "<pre>| 8948         | 8e+008  | 9.87965     | 59.36s       |</pre>"
      ],
      "text/plain": [
       "| 8948         | 8e+008  | 9.87965     | 59.36s       |"
      ]
     },
     "metadata": {},
     "output_type": "display_data"
    },
    {
     "data": {
      "text/html": [
       "<pre>| 9107         | 8e+008  | 10.0552     | 1m 0s        |</pre>"
      ],
      "text/plain": [
       "| 9107         | 8e+008  | 10.0552     | 1m 0s        |"
      ]
     },
     "metadata": {},
     "output_type": "display_data"
    },
    {
     "data": {
      "text/html": [
       "<pre>| 9268         | 8e+008  | 10.233      | 1m 1s        |</pre>"
      ],
      "text/plain": [
       "| 9268         | 8e+008  | 10.233      | 1m 1s        |"
      ]
     },
     "metadata": {},
     "output_type": "display_data"
    },
    {
     "data": {
      "text/html": [
       "<pre>| 9430         | 9e+008  | 10.4118     | 1m 2s        |</pre>"
      ],
      "text/plain": [
       "| 9430         | 9e+008  | 10.4118     | 1m 2s        |"
      ]
     },
     "metadata": {},
     "output_type": "display_data"
    },
    {
     "data": {
      "text/html": [
       "<pre>| 9594         | 9e+008  | 10.5929     | 1m 3s        |</pre>"
      ],
      "text/plain": [
       "| 9594         | 9e+008  | 10.5929     | 1m 3s        |"
      ]
     },
     "metadata": {},
     "output_type": "display_data"
    },
    {
     "data": {
      "text/html": [
       "<pre>| 9757         | 9e+008  | 10.7729     | 1m 4s        |</pre>"
      ],
      "text/plain": [
       "| 9757         | 9e+008  | 10.7729     | 1m 4s        |"
      ]
     },
     "metadata": {},
     "output_type": "display_data"
    },
    {
     "data": {
      "text/html": [
       "<pre>| 9919         | 9e+008  | 10.9518     | 1m 5s        |</pre>"
      ],
      "text/plain": [
       "| 9919         | 9e+008  | 10.9518     | 1m 5s        |"
      ]
     },
     "metadata": {},
     "output_type": "display_data"
    },
    {
     "data": {
      "text/html": [
       "<pre>| 10078        | 9e+008  | 11.1273     | 1m 6s        |</pre>"
      ],
      "text/plain": [
       "| 10078        | 9e+008  | 11.1273     | 1m 6s        |"
      ]
     },
     "metadata": {},
     "output_type": "display_data"
    },
    {
     "data": {
      "text/html": [
       "<pre>| 10245        | 9e+008  | 11.3117     | 1m 7s        |</pre>"
      ],
      "text/plain": [
       "| 10245        | 9e+008  | 11.3117     | 1m 7s        |"
      ]
     },
     "metadata": {},
     "output_type": "display_data"
    },
    {
     "data": {
      "text/html": [
       "<pre>| 10407        | 9e+008  | 11.4906     | 1m 8s        |</pre>"
      ],
      "text/plain": [
       "| 10407        | 9e+008  | 11.4906     | 1m 8s        |"
      ]
     },
     "metadata": {},
     "output_type": "display_data"
    },
    {
     "data": {
      "text/html": [
       "<pre>| 10567        | 1e+009  | 11.6672     | 1m 9s        |</pre>"
      ],
      "text/plain": [
       "| 10567        | 1e+009  | 11.6672     | 1m 9s        |"
      ]
     },
     "metadata": {},
     "output_type": "display_data"
    },
    {
     "data": {
      "text/html": [
       "<pre>| 10733        | 1e+009  | 11.8505     | 1m 10s       |</pre>"
      ],
      "text/plain": [
       "| 10733        | 1e+009  | 11.8505     | 1m 10s       |"
      ]
     },
     "metadata": {},
     "output_type": "display_data"
    },
    {
     "data": {
      "text/html": [
       "<pre>| 10899        | 1e+009  | 12.0338     | 1m 11s       |</pre>"
      ],
      "text/plain": [
       "| 10899        | 1e+009  | 12.0338     | 1m 11s       |"
      ]
     },
     "metadata": {},
     "output_type": "display_data"
    },
    {
     "data": {
      "text/html": [
       "<pre>| 11066        | 1e+009  | 12.2182     | 1m 12s       |</pre>"
      ],
      "text/plain": [
       "| 11066        | 1e+009  | 12.2182     | 1m 12s       |"
      ]
     },
     "metadata": {},
     "output_type": "display_data"
    },
    {
     "data": {
      "text/html": [
       "<pre>| 11235        | 1e+009  | 12.4048     | 1m 13s       |</pre>"
      ],
      "text/plain": [
       "| 11235        | 1e+009  | 12.4048     | 1m 13s       |"
      ]
     },
     "metadata": {},
     "output_type": "display_data"
    },
    {
     "data": {
      "text/html": [
       "<pre>| 11400        | 1e+009  | 12.5869     | 1m 14s       |</pre>"
      ],
      "text/plain": [
       "| 11400        | 1e+009  | 12.5869     | 1m 14s       |"
      ]
     },
     "metadata": {},
     "output_type": "display_data"
    },
    {
     "data": {
      "text/html": [
       "<pre>| 11566        | 1e+009  | 12.7702     | 1m 15s       |</pre>"
      ],
      "text/plain": [
       "| 11566        | 1e+009  | 12.7702     | 1m 15s       |"
      ]
     },
     "metadata": {},
     "output_type": "display_data"
    },
    {
     "data": {
      "text/html": [
       "<pre>| 11732        | 1e+009  | 12.9535     | 1m 16s       |</pre>"
      ],
      "text/plain": [
       "| 11732        | 1e+009  | 12.9535     | 1m 16s       |"
      ]
     },
     "metadata": {},
     "output_type": "display_data"
    },
    {
     "data": {
      "text/html": [
       "<pre>| 11893        | 1e+009  | 13.1313     | 1m 17s       |</pre>"
      ],
      "text/plain": [
       "| 11893        | 1e+009  | 13.1313     | 1m 17s       |"
      ]
     },
     "metadata": {},
     "output_type": "display_data"
    },
    {
     "data": {
      "text/html": [
       "<pre>| 12056        | 1e+009  | 13.3113     | 1m 18s       |</pre>"
      ],
      "text/plain": [
       "| 12056        | 1e+009  | 13.3113     | 1m 18s       |"
      ]
     },
     "metadata": {},
     "output_type": "display_data"
    },
    {
     "data": {
      "text/html": [
       "<pre>| 12221        | 1e+009  | 13.4934     | 1m 19s       |</pre>"
      ],
      "text/plain": [
       "| 12221        | 1e+009  | 13.4934     | 1m 19s       |"
      ]
     },
     "metadata": {},
     "output_type": "display_data"
    },
    {
     "data": {
      "text/html": [
       "<pre>| 12385        | 1e+009  | 13.6745     | 1m 20s       |</pre>"
      ],
      "text/plain": [
       "| 12385        | 1e+009  | 13.6745     | 1m 20s       |"
      ]
     },
     "metadata": {},
     "output_type": "display_data"
    },
    {
     "data": {
      "text/html": [
       "<pre>| 12547        | 1e+009  | 13.8534     | 1m 21s       |</pre>"
      ],
      "text/plain": [
       "| 12547        | 1e+009  | 13.8534     | 1m 21s       |"
      ]
     },
     "metadata": {},
     "output_type": "display_data"
    },
    {
     "data": {
      "text/html": [
       "<pre>| 12710        | 1e+009  | 14.0333     | 1m 22s       |</pre>"
      ],
      "text/plain": [
       "| 12710        | 1e+009  | 14.0333     | 1m 22s       |"
      ]
     },
     "metadata": {},
     "output_type": "display_data"
    },
    {
     "data": {
      "text/html": [
       "<pre>| 12872        | 1e+009  | 14.2122     | 1m 23s       |</pre>"
      ],
      "text/plain": [
       "| 12872        | 1e+009  | 14.2122     | 1m 23s       |"
      ]
     },
     "metadata": {},
     "output_type": "display_data"
    },
    {
     "data": {
      "text/html": [
       "<pre>| 13036        | 1e+009  | 14.3933     | 1m 24s       |</pre>"
      ],
      "text/plain": [
       "| 13036        | 1e+009  | 14.3933     | 1m 24s       |"
      ]
     },
     "metadata": {},
     "output_type": "display_data"
    },
    {
     "data": {
      "text/html": [
       "<pre>| 13202        | 1e+009  | 14.5766     | 1m 25s       |</pre>"
      ],
      "text/plain": [
       "| 13202        | 1e+009  | 14.5766     | 1m 25s       |"
      ]
     },
     "metadata": {},
     "output_type": "display_data"
    },
    {
     "data": {
      "text/html": [
       "<pre>| 13360        | 1e+009  | 14.751      | 1m 26s       |</pre>"
      ],
      "text/plain": [
       "| 13360        | 1e+009  | 14.751      | 1m 26s       |"
      ]
     },
     "metadata": {},
     "output_type": "display_data"
    },
    {
     "data": {
      "text/html": [
       "<pre>| 13510        | 1e+009  | 14.9166     | 1m 27s       |</pre>"
      ],
      "text/plain": [
       "| 13510        | 1e+009  | 14.9166     | 1m 27s       |"
      ]
     },
     "metadata": {},
     "output_type": "display_data"
    },
    {
     "data": {
      "text/html": [
       "<pre>| 13646        | 1e+009  | 15.0668     | 1m 28s       |</pre>"
      ],
      "text/plain": [
       "| 13646        | 1e+009  | 15.0668     | 1m 28s       |"
      ]
     },
     "metadata": {},
     "output_type": "display_data"
    },
    {
     "data": {
      "text/html": [
       "<pre>| 13794        | 1e+009  | 15.2302     | 1m 29s       |</pre>"
      ],
      "text/plain": [
       "| 13794        | 1e+009  | 15.2302     | 1m 29s       |"
      ]
     },
     "metadata": {},
     "output_type": "display_data"
    },
    {
     "data": {
      "text/html": [
       "<pre>| 13943        | 1e+009  | 15.3947     | 1m 30s       |</pre>"
      ],
      "text/plain": [
       "| 13943        | 1e+009  | 15.3947     | 1m 30s       |"
      ]
     },
     "metadata": {},
     "output_type": "display_data"
    },
    {
     "data": {
      "text/html": [
       "<pre>| 14107        | 1e+009  | 15.5758     | 1m 31s       |</pre>"
      ],
      "text/plain": [
       "| 14107        | 1e+009  | 15.5758     | 1m 31s       |"
      ]
     },
     "metadata": {},
     "output_type": "display_data"
    },
    {
     "data": {
      "text/html": [
       "<pre>| 14268        | 1e+009  | 15.7536     | 1m 32s       |</pre>"
      ],
      "text/plain": [
       "| 14268        | 1e+009  | 15.7536     | 1m 32s       |"
      ]
     },
     "metadata": {},
     "output_type": "display_data"
    },
    {
     "data": {
      "text/html": [
       "<pre>| 14432        | 1e+009  | 15.9346     | 1m 33s       |</pre>"
      ],
      "text/plain": [
       "| 14432        | 1e+009  | 15.9346     | 1m 33s       |"
      ]
     },
     "metadata": {},
     "output_type": "display_data"
    },
    {
     "data": {
      "text/html": [
       "<pre>| 14598        | 1e+009  | 16.1179     | 1m 34s       |</pre>"
      ],
      "text/plain": [
       "| 14598        | 1e+009  | 16.1179     | 1m 34s       |"
      ]
     },
     "metadata": {},
     "output_type": "display_data"
    },
    {
     "data": {
      "text/html": [
       "<pre>| 14763        | 1e+009  | 16.3001     | 1m 35s       |</pre>"
      ],
      "text/plain": [
       "| 14763        | 1e+009  | 16.3001     | 1m 35s       |"
      ]
     },
     "metadata": {},
     "output_type": "display_data"
    },
    {
     "data": {
      "text/html": [
       "<pre>| 14929        | 1e+009  | 16.4834     | 1m 36s       |</pre>"
      ],
      "text/plain": [
       "| 14929        | 1e+009  | 16.4834     | 1m 36s       |"
      ]
     },
     "metadata": {},
     "output_type": "display_data"
    },
    {
     "data": {
      "text/html": [
       "<pre>| 15094        | 1e+009  | 16.6656     | 1m 37s       |</pre>"
      ],
      "text/plain": [
       "| 15094        | 1e+009  | 16.6656     | 1m 37s       |"
      ]
     },
     "metadata": {},
     "output_type": "display_data"
    },
    {
     "data": {
      "text/html": [
       "<pre>| 15261        | 1e+009  | 16.85       | 1m 38s       |</pre>"
      ],
      "text/plain": [
       "| 15261        | 1e+009  | 16.85       | 1m 38s       |"
      ]
     },
     "metadata": {},
     "output_type": "display_data"
    },
    {
     "data": {
      "text/html": [
       "<pre>| 15425        | 1e+009  | 17.031      | 1m 39s       |</pre>"
      ],
      "text/plain": [
       "| 15425        | 1e+009  | 17.031      | 1m 39s       |"
      ]
     },
     "metadata": {},
     "output_type": "display_data"
    },
    {
     "data": {
      "text/html": [
       "<pre>| 15588        | 1e+009  | 17.211      | 1m 40s       |</pre>"
      ],
      "text/plain": [
       "| 15588        | 1e+009  | 17.211      | 1m 40s       |"
      ]
     },
     "metadata": {},
     "output_type": "display_data"
    },
    {
     "data": {
      "text/html": [
       "<pre>| 15753        | 1e+009  | 17.3932     | 1m 41s       |</pre>"
      ],
      "text/plain": [
       "| 15753        | 1e+009  | 17.3932     | 1m 41s       |"
      ]
     },
     "metadata": {},
     "output_type": "display_data"
    },
    {
     "data": {
      "text/html": [
       "<pre>| 15919        | 1e+009  | 17.5765     | 1m 42s       |</pre>"
      ],
      "text/plain": [
       "| 15919        | 1e+009  | 17.5765     | 1m 42s       |"
      ]
     },
     "metadata": {},
     "output_type": "display_data"
    },
    {
     "data": {
      "text/html": [
       "<pre>| 16087        | 1e+009  | 17.762      | 1m 43s       |</pre>"
      ],
      "text/plain": [
       "| 16087        | 1e+009  | 17.762      | 1m 43s       |"
      ]
     },
     "metadata": {},
     "output_type": "display_data"
    },
    {
     "data": {
      "text/html": [
       "<pre>| 16251        | 1e+009  | 17.943      | 1m 44s       |</pre>"
      ],
      "text/plain": [
       "| 16251        | 1e+009  | 17.943      | 1m 44s       |"
      ]
     },
     "metadata": {},
     "output_type": "display_data"
    },
    {
     "data": {
      "text/html": [
       "<pre>| 16418        | 1e+009  | 18.1274     | 1m 45s       |</pre>"
      ],
      "text/plain": [
       "| 16418        | 1e+009  | 18.1274     | 1m 45s       |"
      ]
     },
     "metadata": {},
     "output_type": "display_data"
    },
    {
     "data": {
      "text/html": [
       "<pre>| 16586        | 2e+009  | 18.3129     | 1m 46s       |</pre>"
      ],
      "text/plain": [
       "| 16586        | 2e+009  | 18.3129     | 1m 46s       |"
      ]
     },
     "metadata": {},
     "output_type": "display_data"
    },
    {
     "data": {
      "text/html": [
       "<pre>| 16754        | 2e+009  | 18.4984     | 1m 47s       |</pre>"
      ],
      "text/plain": [
       "| 16754        | 2e+009  | 18.4984     | 1m 47s       |"
      ]
     },
     "metadata": {},
     "output_type": "display_data"
    },
    {
     "data": {
      "text/html": [
       "<pre>| 16922        | 2e+009  | 18.6839     | 1m 48s       |</pre>"
      ],
      "text/plain": [
       "| 16922        | 2e+009  | 18.6839     | 1m 48s       |"
      ]
     },
     "metadata": {},
     "output_type": "display_data"
    },
    {
     "data": {
      "text/html": [
       "<pre>| 17085        | 2e+009  | 18.8639     | 1m 49s       |</pre>"
      ],
      "text/plain": [
       "| 17085        | 2e+009  | 18.8639     | 1m 49s       |"
      ]
     },
     "metadata": {},
     "output_type": "display_data"
    },
    {
     "data": {
      "text/html": [
       "<pre>| 17254        | 2e+009  | 19.0505     | 1m 50s       |</pre>"
      ],
      "text/plain": [
       "| 17254        | 2e+009  | 19.0505     | 1m 50s       |"
      ]
     },
     "metadata": {},
     "output_type": "display_data"
    },
    {
     "data": {
      "text/html": [
       "<pre>| 17418        | 2e+009  | 19.2315     | 1m 51s       |</pre>"
      ],
      "text/plain": [
       "| 17418        | 2e+009  | 19.2315     | 1m 51s       |"
      ]
     },
     "metadata": {},
     "output_type": "display_data"
    },
    {
     "data": {
      "text/html": [
       "<pre>| 17582        | 2e+009  | 19.4126     | 1m 52s       |</pre>"
      ],
      "text/plain": [
       "| 17582        | 2e+009  | 19.4126     | 1m 52s       |"
      ]
     },
     "metadata": {},
     "output_type": "display_data"
    },
    {
     "data": {
      "text/html": [
       "<pre>| 17748        | 2e+009  | 19.5959     | 1m 53s       |</pre>"
      ],
      "text/plain": [
       "| 17748        | 2e+009  | 19.5959     | 1m 53s       |"
      ]
     },
     "metadata": {},
     "output_type": "display_data"
    },
    {
     "data": {
      "text/html": [
       "<pre>| 17915        | 2e+009  | 19.7803     | 1m 54s       |</pre>"
      ],
      "text/plain": [
       "| 17915        | 2e+009  | 19.7803     | 1m 54s       |"
      ]
     },
     "metadata": {},
     "output_type": "display_data"
    },
    {
     "data": {
      "text/html": [
       "<pre>| 18082        | 2e+009  | 19.9647     | 1m 55s       |</pre>"
      ],
      "text/plain": [
       "| 18082        | 2e+009  | 19.9647     | 1m 55s       |"
      ]
     },
     "metadata": {},
     "output_type": "display_data"
    },
    {
     "data": {
      "text/html": [
       "<pre>| 18251        | 2e+009  | 20.1513     | 1m 56s       |</pre>"
      ],
      "text/plain": [
       "| 18251        | 2e+009  | 20.1513     | 1m 56s       |"
      ]
     },
     "metadata": {},
     "output_type": "display_data"
    },
    {
     "data": {
      "text/html": [
       "<pre>| 18414        | 2e+009  | 20.3312     | 1m 57s       |</pre>"
      ],
      "text/plain": [
       "| 18414        | 2e+009  | 20.3312     | 1m 57s       |"
      ]
     },
     "metadata": {},
     "output_type": "display_data"
    },
    {
     "data": {
      "text/html": [
       "<pre>| 18576        | 2e+009  | 20.5101     | 1m 58s       |</pre>"
      ],
      "text/plain": [
       "| 18576        | 2e+009  | 20.5101     | 1m 58s       |"
      ]
     },
     "metadata": {},
     "output_type": "display_data"
    },
    {
     "data": {
      "text/html": [
       "<pre>| 18728        | 2e+009  | 20.6779     | 1m 59s       |</pre>"
      ],
      "text/plain": [
       "| 18728        | 2e+009  | 20.6779     | 1m 59s       |"
      ]
     },
     "metadata": {},
     "output_type": "display_data"
    },
    {
     "data": {
      "text/html": [
       "<pre>| 18885        | 2e+009  | 20.8513     | 2m 0s        |</pre>"
      ],
      "text/plain": [
       "| 18885        | 2e+009  | 20.8513     | 2m 0s        |"
      ]
     },
     "metadata": {},
     "output_type": "display_data"
    },
    {
     "data": {
      "text/html": [
       "<pre>| 19026        | 2e+009  | 21.007      | 2m 1s        |</pre>"
      ],
      "text/plain": [
       "| 19026        | 2e+009  | 21.007      | 2m 1s        |"
      ]
     },
     "metadata": {},
     "output_type": "display_data"
    },
    {
     "data": {
      "text/html": [
       "<pre>| 19163        | 2e+009  | 21.1582     | 2m 2s        |</pre>"
      ],
      "text/plain": [
       "| 19163        | 2e+009  | 21.1582     | 2m 2s        |"
      ]
     },
     "metadata": {},
     "output_type": "display_data"
    },
    {
     "data": {
      "text/html": [
       "<pre>| 19318        | 2e+009  | 21.3294     | 2m 3s        |</pre>"
      ],
      "text/plain": [
       "| 19318        | 2e+009  | 21.3294     | 2m 3s        |"
      ]
     },
     "metadata": {},
     "output_type": "display_data"
    },
    {
     "data": {
      "text/html": [
       "<pre>| 19486        | 2e+009  | 21.5149     | 2m 4s        |</pre>"
      ],
      "text/plain": [
       "| 19486        | 2e+009  | 21.5149     | 2m 4s        |"
      ]
     },
     "metadata": {},
     "output_type": "display_data"
    },
    {
     "data": {
      "text/html": [
       "<pre>| 19653        | 2e+009  | 21.6992     | 2m 5s        |</pre>"
      ],
      "text/plain": [
       "| 19653        | 2e+009  | 21.6992     | 2m 5s        |"
      ]
     },
     "metadata": {},
     "output_type": "display_data"
    },
    {
     "data": {
      "text/html": [
       "<pre>| 19806        | 2e+009  | 21.8682     | 2m 6s        |</pre>"
      ],
      "text/plain": [
       "| 19806        | 2e+009  | 21.8682     | 2m 6s        |"
      ]
     },
     "metadata": {},
     "output_type": "display_data"
    },
    {
     "data": {
      "text/html": [
       "<pre>| 19924        | 2e+009  | 21.9985     | 2m 7s        |</pre>"
      ],
      "text/plain": [
       "| 19924        | 2e+009  | 21.9985     | 2m 7s        |"
      ]
     },
     "metadata": {},
     "output_type": "display_data"
    },
    {
     "data": {
      "text/html": [
       "<pre>| 20069        | 2e+009  | 22.1586     | 2m 8s        |</pre>"
      ],
      "text/plain": [
       "| 20069        | 2e+009  | 22.1586     | 2m 8s        |"
      ]
     },
     "metadata": {},
     "output_type": "display_data"
    },
    {
     "data": {
      "text/html": [
       "<pre>| 20236        | 2e+009  | 22.3429     | 2m 9s        |</pre>"
      ],
      "text/plain": [
       "| 20236        | 2e+009  | 22.3429     | 2m 9s        |"
      ]
     },
     "metadata": {},
     "output_type": "display_data"
    },
    {
     "data": {
      "text/html": [
       "<pre>| 20399        | 2e+009  | 22.5229     | 2m 10s       |</pre>"
      ],
      "text/plain": [
       "| 20399        | 2e+009  | 22.5229     | 2m 10s       |"
      ]
     },
     "metadata": {},
     "output_type": "display_data"
    },
    {
     "data": {
      "text/html": [
       "<pre>| 20565        | 2e+009  | 22.7062     | 2m 11s       |</pre>"
      ],
      "text/plain": [
       "| 20565        | 2e+009  | 22.7062     | 2m 11s       |"
      ]
     },
     "metadata": {},
     "output_type": "display_data"
    },
    {
     "data": {
      "text/html": [
       "<pre>| 20730        | 2e+009  | 22.8884     | 2m 12s       |</pre>"
      ],
      "text/plain": [
       "| 20730        | 2e+009  | 22.8884     | 2m 12s       |"
      ]
     },
     "metadata": {},
     "output_type": "display_data"
    },
    {
     "data": {
      "text/html": [
       "<pre>| 20896        | 2e+009  | 23.0717     | 2m 13s       |</pre>"
      ],
      "text/plain": [
       "| 20896        | 2e+009  | 23.0717     | 2m 13s       |"
      ]
     },
     "metadata": {},
     "output_type": "display_data"
    },
    {
     "data": {
      "text/html": [
       "<pre>| 21057        | 2e+009  | 23.2494     | 2m 14s       |</pre>"
      ],
      "text/plain": [
       "| 21057        | 2e+009  | 23.2494     | 2m 14s       |"
      ]
     },
     "metadata": {},
     "output_type": "display_data"
    },
    {
     "data": {
      "text/html": [
       "<pre>| 21223        | 2e+009  | 23.4327     | 2m 15s       |</pre>"
      ],
      "text/plain": [
       "| 21223        | 2e+009  | 23.4327     | 2m 15s       |"
      ]
     },
     "metadata": {},
     "output_type": "display_data"
    },
    {
     "data": {
      "text/html": [
       "<pre>| 21387        | 2e+009  | 23.6138     | 2m 16s       |</pre>"
      ],
      "text/plain": [
       "| 21387        | 2e+009  | 23.6138     | 2m 16s       |"
      ]
     },
     "metadata": {},
     "output_type": "display_data"
    },
    {
     "data": {
      "text/html": [
       "<pre>| 21553        | 2e+009  | 23.7971     | 2m 17s       |</pre>"
      ],
      "text/plain": [
       "| 21553        | 2e+009  | 23.7971     | 2m 17s       |"
      ]
     },
     "metadata": {},
     "output_type": "display_data"
    },
    {
     "data": {
      "text/html": [
       "<pre>| 21702        | 2e+009  | 23.9616     | 2m 18s       |</pre>"
      ],
      "text/plain": [
       "| 21702        | 2e+009  | 23.9616     | 2m 18s       |"
      ]
     },
     "metadata": {},
     "output_type": "display_data"
    },
    {
     "data": {
      "text/html": [
       "<pre>| 21871        | 2e+009  | 24.1482     | 2m 19s       |</pre>"
      ],
      "text/plain": [
       "| 21871        | 2e+009  | 24.1482     | 2m 19s       |"
      ]
     },
     "metadata": {},
     "output_type": "display_data"
    },
    {
     "data": {
      "text/html": [
       "<pre>| 22036        | 2e+009  | 24.3304     | 2m 20s       |</pre>"
      ],
      "text/plain": [
       "| 22036        | 2e+009  | 24.3304     | 2m 20s       |"
      ]
     },
     "metadata": {},
     "output_type": "display_data"
    },
    {
     "data": {
      "text/html": [
       "<pre>| 22186        | 2e+009  | 24.496      | 2m 21s       |</pre>"
      ],
      "text/plain": [
       "| 22186        | 2e+009  | 24.496      | 2m 21s       |"
      ]
     },
     "metadata": {},
     "output_type": "display_data"
    },
    {
     "data": {
      "text/html": [
       "<pre>| 22337        | 2e+009  | 24.6627     | 2m 22s       |</pre>"
      ],
      "text/plain": [
       "| 22337        | 2e+009  | 24.6627     | 2m 22s       |"
      ]
     },
     "metadata": {},
     "output_type": "display_data"
    },
    {
     "data": {
      "text/html": [
       "<pre>| 22485        | 2e+009  | 24.8261     | 2m 23s       |</pre>"
      ],
      "text/plain": [
       "| 22485        | 2e+009  | 24.8261     | 2m 23s       |"
      ]
     },
     "metadata": {},
     "output_type": "display_data"
    },
    {
     "data": {
      "text/html": [
       "<pre>| 22632        | 2e+009  | 24.9884     | 2m 24s       |</pre>"
      ],
      "text/plain": [
       "| 22632        | 2e+009  | 24.9884     | 2m 24s       |"
      ]
     },
     "metadata": {},
     "output_type": "display_data"
    },
    {
     "data": {
      "text/html": [
       "<pre>| 22797        | 2e+009  | 25.1706     | 2m 25s       |</pre>"
      ],
      "text/plain": [
       "| 22797        | 2e+009  | 25.1706     | 2m 25s       |"
      ]
     },
     "metadata": {},
     "output_type": "display_data"
    },
    {
     "data": {
      "text/html": [
       "<pre>| 22928        | 2e+009  | 25.3152     | 2m 26s       |</pre>"
      ],
      "text/plain": [
       "| 22928        | 2e+009  | 25.3152     | 2m 26s       |"
      ]
     },
     "metadata": {},
     "output_type": "display_data"
    },
    {
     "data": {
      "text/html": [
       "<pre>| 23094        | 2e+009  | 25.4985     | 2m 27s       |</pre>"
      ],
      "text/plain": [
       "| 23094        | 2e+009  | 25.4985     | 2m 27s       |"
      ]
     },
     "metadata": {},
     "output_type": "display_data"
    },
    {
     "data": {
      "text/html": [
       "<pre>| 23265        | 2e+009  | 25.6873     | 2m 28s       |</pre>"
      ],
      "text/plain": [
       "| 23265        | 2e+009  | 25.6873     | 2m 28s       |"
      ]
     },
     "metadata": {},
     "output_type": "display_data"
    },
    {
     "data": {
      "text/html": [
       "<pre>| 23432        | 2e+009  | 25.8717     | 2m 29s       |</pre>"
      ],
      "text/plain": [
       "| 23432        | 2e+009  | 25.8717     | 2m 29s       |"
      ]
     },
     "metadata": {},
     "output_type": "display_data"
    },
    {
     "data": {
      "text/html": [
       "<pre>| 23594        | 2e+009  | 26.0506     | 2m 30s       |</pre>"
      ],
      "text/plain": [
       "| 23594        | 2e+009  | 26.0506     | 2m 30s       |"
      ]
     },
     "metadata": {},
     "output_type": "display_data"
    },
    {
     "data": {
      "text/html": [
       "<pre>| 23754        | -2e+009 | 26.2272     | 2m 31s       |</pre>"
      ],
      "text/plain": [
       "| 23754        | -2e+009 | 26.2272     | 2m 31s       |"
      ]
     },
     "metadata": {},
     "output_type": "display_data"
    },
    {
     "data": {
      "text/html": [
       "<pre>| 23914        | -2e+009 | 26.4039     | 2m 32s       |</pre>"
      ],
      "text/plain": [
       "| 23914        | -2e+009 | 26.4039     | 2m 32s       |"
      ]
     },
     "metadata": {},
     "output_type": "display_data"
    },
    {
     "data": {
      "text/html": [
       "<pre>| 24073        | -2e+009 | 26.5794     | 2m 33s       |</pre>"
      ],
      "text/plain": [
       "| 24073        | -2e+009 | 26.5794     | 2m 33s       |"
      ]
     },
     "metadata": {},
     "output_type": "display_data"
    },
    {
     "data": {
      "text/html": [
       "<pre>| 24237        | -2e+009 | 26.7605     | 2m 34s       |</pre>"
      ],
      "text/plain": [
       "| 24237        | -2e+009 | 26.7605     | 2m 34s       |"
      ]
     },
     "metadata": {},
     "output_type": "display_data"
    },
    {
     "data": {
      "text/html": [
       "<pre>| 24406        | -2e+009 | 26.9471     | 2m 35s       |</pre>"
      ],
      "text/plain": [
       "| 24406        | -2e+009 | 26.9471     | 2m 35s       |"
      ]
     },
     "metadata": {},
     "output_type": "display_data"
    },
    {
     "data": {
      "text/html": [
       "<pre>| 24575        | -2e+009 | 27.1337     | 2m 36s       |</pre>"
      ],
      "text/plain": [
       "| 24575        | -2e+009 | 27.1337     | 2m 36s       |"
      ]
     },
     "metadata": {},
     "output_type": "display_data"
    },
    {
     "data": {
      "text/html": [
       "<pre>| 24741        | -2e+009 | 27.317      | 2m 37s       |</pre>"
      ],
      "text/plain": [
       "| 24741        | -2e+009 | 27.317      | 2m 37s       |"
      ]
     },
     "metadata": {},
     "output_type": "display_data"
    },
    {
     "data": {
      "text/html": [
       "<pre>| 24910        | -2e+009 | 27.5036     | 2m 38s       |</pre>"
      ],
      "text/plain": [
       "| 24910        | -2e+009 | 27.5036     | 2m 38s       |"
      ]
     },
     "metadata": {},
     "output_type": "display_data"
    },
    {
     "data": {
      "text/html": [
       "<pre>| 25073        | -2e+009 | 27.6836     | 2m 39s       |</pre>"
      ],
      "text/plain": [
       "| 25073        | -2e+009 | 27.6836     | 2m 39s       |"
      ]
     },
     "metadata": {},
     "output_type": "display_data"
    },
    {
     "data": {
      "text/html": [
       "<pre>| 25237        | -2e+009 | 27.8646     | 2m 40s       |</pre>"
      ],
      "text/plain": [
       "| 25237        | -2e+009 | 27.8646     | 2m 40s       |"
      ]
     },
     "metadata": {},
     "output_type": "display_data"
    },
    {
     "data": {
      "text/html": [
       "<pre>| 25404        | -2e+009 | 28.049      | 2m 41s       |</pre>"
      ],
      "text/plain": [
       "| 25404        | -2e+009 | 28.049      | 2m 41s       |"
      ]
     },
     "metadata": {},
     "output_type": "display_data"
    },
    {
     "data": {
      "text/html": [
       "<pre>| 25572        | -2e+009 | 28.2345     | 2m 42s       |</pre>"
      ],
      "text/plain": [
       "| 25572        | -2e+009 | 28.2345     | 2m 42s       |"
      ]
     },
     "metadata": {},
     "output_type": "display_data"
    },
    {
     "data": {
      "text/html": [
       "<pre>| 25734        | -2e+009 | 28.4134     | 2m 43s       |</pre>"
      ],
      "text/plain": [
       "| 25734        | -2e+009 | 28.4134     | 2m 43s       |"
      ]
     },
     "metadata": {},
     "output_type": "display_data"
    },
    {
     "data": {
      "text/html": [
       "<pre>| 25902        | -2e+009 | 28.5989     | 2m 44s       |</pre>"
      ],
      "text/plain": [
       "| 25902        | -2e+009 | 28.5989     | 2m 44s       |"
      ]
     },
     "metadata": {},
     "output_type": "display_data"
    },
    {
     "data": {
      "text/html": [
       "<pre>| 26073        | -2e+009 | 28.7877     | 2m 45s       |</pre>"
      ],
      "text/plain": [
       "| 26073        | -2e+009 | 28.7877     | 2m 45s       |"
      ]
     },
     "metadata": {},
     "output_type": "display_data"
    },
    {
     "data": {
      "text/html": [
       "<pre>| 26237        | -2e+009 | 28.9688     | 2m 46s       |</pre>"
      ],
      "text/plain": [
       "| 26237        | -2e+009 | 28.9688     | 2m 46s       |"
      ]
     },
     "metadata": {},
     "output_type": "display_data"
    },
    {
     "data": {
      "text/html": [
       "<pre>| 26402        | -2e+009 | 29.1509     | 2m 47s       |</pre>"
      ],
      "text/plain": [
       "| 26402        | -2e+009 | 29.1509     | 2m 47s       |"
      ]
     },
     "metadata": {},
     "output_type": "display_data"
    },
    {
     "data": {
      "text/html": [
       "<pre>| 26568        | -2e+009 | 29.3342     | 2m 48s       |</pre>"
      ],
      "text/plain": [
       "| 26568        | -2e+009 | 29.3342     | 2m 48s       |"
      ]
     },
     "metadata": {},
     "output_type": "display_data"
    },
    {
     "data": {
      "text/html": [
       "<pre>| 26735        | -2e+009 | 29.5186     | 2m 49s       |</pre>"
      ],
      "text/plain": [
       "| 26735        | -2e+009 | 29.5186     | 2m 49s       |"
      ]
     },
     "metadata": {},
     "output_type": "display_data"
    },
    {
     "data": {
      "text/html": [
       "<pre>| 26880        | -2e+009 | 29.6787     | 2m 50s       |</pre>"
      ],
      "text/plain": [
       "| 26880        | -2e+009 | 29.6787     | 2m 50s       |"
      ]
     },
     "metadata": {},
     "output_type": "display_data"
    },
    {
     "data": {
      "text/html": [
       "<pre>| 27038        | -2e+009 | 29.8532     | 2m 51s       |</pre>"
      ],
      "text/plain": [
       "| 27038        | -2e+009 | 29.8532     | 2m 51s       |"
      ]
     },
     "metadata": {},
     "output_type": "display_data"
    },
    {
     "data": {
      "text/html": [
       "<pre>| 27149        | -2e+009 | 29.9757     | 2m 53s       |</pre>"
      ],
      "text/plain": [
       "| 27149        | -2e+009 | 29.9757     | 2m 53s       |"
      ]
     },
     "metadata": {},
     "output_type": "display_data"
    },
    {
     "data": {
      "text/html": [
       "<pre>| 27253        | -2e+009 | 30.0905     | 2m 53s       |</pre>"
      ],
      "text/plain": [
       "| 27253        | -2e+009 | 30.0905     | 2m 53s       |"
      ]
     },
     "metadata": {},
     "output_type": "display_data"
    },
    {
     "data": {
      "text/html": [
       "<pre>| 27418        | -2e+009 | 30.2727     | 2m 54s       |</pre>"
      ],
      "text/plain": [
       "| 27418        | -2e+009 | 30.2727     | 2m 54s       |"
      ]
     },
     "metadata": {},
     "output_type": "display_data"
    },
    {
     "data": {
      "text/html": [
       "<pre>| 27583        | -2e+009 | 30.4549     | 2m 55s       |</pre>"
      ],
      "text/plain": [
       "| 27583        | -2e+009 | 30.4549     | 2m 55s       |"
      ]
     },
     "metadata": {},
     "output_type": "display_data"
    },
    {
     "data": {
      "text/html": [
       "<pre>| 27738        | -2e+009 | 30.626      | 2m 57s       |</pre>"
      ],
      "text/plain": [
       "| 27738        | -2e+009 | 30.626      | 2m 57s       |"
      ]
     },
     "metadata": {},
     "output_type": "display_data"
    },
    {
     "data": {
      "text/html": [
       "<pre>| 27897        | -2e+009 | 30.8016     | 2m 58s       |</pre>"
      ],
      "text/plain": [
       "| 27897        | -2e+009 | 30.8016     | 2m 58s       |"
      ]
     },
     "metadata": {},
     "output_type": "display_data"
    },
    {
     "data": {
      "text/html": [
       "<pre>| 28061        | -2e+009 | 30.9827     | 2m 59s       |</pre>"
      ],
      "text/plain": [
       "| 28061        | -2e+009 | 30.9827     | 2m 59s       |"
      ]
     },
     "metadata": {},
     "output_type": "display_data"
    },
    {
     "data": {
      "text/html": [
       "<pre>| 28212        | -2e+009 | 31.1494     | 3m 0s        |</pre>"
      ],
      "text/plain": [
       "| 28212        | -2e+009 | 31.1494     | 3m 0s        |"
      ]
     },
     "metadata": {},
     "output_type": "display_data"
    },
    {
     "data": {
      "text/html": [
       "<pre>| 28360        | -2e+009 | 31.3128     | 3m 1s        |</pre>"
      ],
      "text/plain": [
       "| 28360        | -2e+009 | 31.3128     | 3m 1s        |"
      ]
     },
     "metadata": {},
     "output_type": "display_data"
    },
    {
     "data": {
      "text/html": [
       "<pre>| 28523        | -2e+009 | 31.4928     | 3m 2s        |</pre>"
      ],
      "text/plain": [
       "| 28523        | -2e+009 | 31.4928     | 3m 2s        |"
      ]
     },
     "metadata": {},
     "output_type": "display_data"
    },
    {
     "data": {
      "text/html": [
       "<pre>| 28681        | -2e+009 | 31.6672     | 3m 3s        |</pre>"
      ],
      "text/plain": [
       "| 28681        | -2e+009 | 31.6672     | 3m 3s        |"
      ]
     },
     "metadata": {},
     "output_type": "display_data"
    },
    {
     "data": {
      "text/html": [
       "<pre>| 28832        | -2e+009 | 31.8339     | 3m 4s        |</pre>"
      ],
      "text/plain": [
       "| 28832        | -2e+009 | 31.8339     | 3m 4s        |"
      ]
     },
     "metadata": {},
     "output_type": "display_data"
    },
    {
     "data": {
      "text/html": [
       "<pre>| 28963        | -2e+009 | 31.9786     | 3m 5s        |</pre>"
      ],
      "text/plain": [
       "| 28963        | -2e+009 | 31.9786     | 3m 5s        |"
      ]
     },
     "metadata": {},
     "output_type": "display_data"
    },
    {
     "data": {
      "text/html": [
       "<pre>| 29128        | -2e+009 | 32.1608     | 3m 6s        |</pre>"
      ],
      "text/plain": [
       "| 29128        | -2e+009 | 32.1608     | 3m 6s        |"
      ]
     },
     "metadata": {},
     "output_type": "display_data"
    },
    {
     "data": {
      "text/html": [
       "<pre>| 29296        | -2e+009 | 32.3463     | 3m 7s        |</pre>"
      ],
      "text/plain": [
       "| 29296        | -2e+009 | 32.3463     | 3m 7s        |"
      ]
     },
     "metadata": {},
     "output_type": "display_data"
    },
    {
     "data": {
      "text/html": [
       "<pre>| 29459        | -2e+009 | 32.5262     | 3m 8s        |</pre>"
      ],
      "text/plain": [
       "| 29459        | -2e+009 | 32.5262     | 3m 8s        |"
      ]
     },
     "metadata": {},
     "output_type": "display_data"
    },
    {
     "data": {
      "text/html": [
       "<pre>| 29605        | -2e+009 | 32.6874     | 3m 9s        |</pre>"
      ],
      "text/plain": [
       "| 29605        | -2e+009 | 32.6874     | 3m 9s        |"
      ]
     },
     "metadata": {},
     "output_type": "display_data"
    },
    {
     "data": {
      "text/html": [
       "<pre>| 29772        | -2e+009 | 32.8718     | 3m 10s       |</pre>"
      ],
      "text/plain": [
       "| 29772        | -2e+009 | 32.8718     | 3m 10s       |"
      ]
     },
     "metadata": {},
     "output_type": "display_data"
    },
    {
     "data": {
      "text/html": [
       "<pre>| 29937        | -2e+009 | 33.054      | 3m 11s       |</pre>"
      ],
      "text/plain": [
       "| 29937        | -2e+009 | 33.054      | 3m 11s       |"
      ]
     },
     "metadata": {},
     "output_type": "display_data"
    },
    {
     "data": {
      "text/html": [
       "<pre>| 30104        | -2e+009 | 33.2384     | 3m 12s       |</pre>"
      ],
      "text/plain": [
       "| 30104        | -2e+009 | 33.2384     | 3m 12s       |"
      ]
     },
     "metadata": {},
     "output_type": "display_data"
    },
    {
     "data": {
      "text/html": [
       "<pre>| 30263        | -2e+009 | 33.4139     | 3m 13s       |</pre>"
      ],
      "text/plain": [
       "| 30263        | -2e+009 | 33.4139     | 3m 13s       |"
      ]
     },
     "metadata": {},
     "output_type": "display_data"
    },
    {
     "data": {
      "text/html": [
       "<pre>| 30430        | -2e+009 | 33.5983     | 3m 14s       |</pre>"
      ],
      "text/plain": [
       "| 30430        | -2e+009 | 33.5983     | 3m 14s       |"
      ]
     },
     "metadata": {},
     "output_type": "display_data"
    },
    {
     "data": {
      "text/html": [
       "<pre>| 30585        | -2e+009 | 33.7695     | 3m 15s       |</pre>"
      ],
      "text/plain": [
       "| 30585        | -2e+009 | 33.7695     | 3m 15s       |"
      ]
     },
     "metadata": {},
     "output_type": "display_data"
    },
    {
     "data": {
      "text/html": [
       "<pre>| 30747        | -2e+009 | 33.9483     | 3m 16s       |</pre>"
      ],
      "text/plain": [
       "| 30747        | -2e+009 | 33.9483     | 3m 16s       |"
      ]
     },
     "metadata": {},
     "output_type": "display_data"
    },
    {
     "data": {
      "text/html": [
       "<pre>| 30912        | -1e+009 | 34.1305     | 3m 17s       |</pre>"
      ],
      "text/plain": [
       "| 30912        | -1e+009 | 34.1305     | 3m 17s       |"
      ]
     },
     "metadata": {},
     "output_type": "display_data"
    },
    {
     "data": {
      "text/html": [
       "<pre>| 31081        | -1e+009 | 34.3171     | 3m 18s       |</pre>"
      ],
      "text/plain": [
       "| 31081        | -1e+009 | 34.3171     | 3m 18s       |"
      ]
     },
     "metadata": {},
     "output_type": "display_data"
    },
    {
     "data": {
      "text/html": [
       "<pre>| 31249        | -1e+009 | 34.5026     | 3m 19s       |</pre>"
      ],
      "text/plain": [
       "| 31249        | -1e+009 | 34.5026     | 3m 19s       |"
      ]
     },
     "metadata": {},
     "output_type": "display_data"
    },
    {
     "data": {
      "text/html": [
       "<pre>| 31406        | -1e+009 | 34.6759     | 3m 20s       |</pre>"
      ],
      "text/plain": [
       "| 31406        | -1e+009 | 34.6759     | 3m 20s       |"
      ]
     },
     "metadata": {},
     "output_type": "display_data"
    },
    {
     "data": {
      "text/html": [
       "<pre>| 31576        | -1e+009 | 34.8636     | 3m 21s       |</pre>"
      ],
      "text/plain": [
       "| 31576        | -1e+009 | 34.8636     | 3m 21s       |"
      ]
     },
     "metadata": {},
     "output_type": "display_data"
    },
    {
     "data": {
      "text/html": [
       "<pre>| 31738        | -1e+009 | 35.0425     | 3m 22s       |</pre>"
      ],
      "text/plain": [
       "| 31738        | -1e+009 | 35.0425     | 3m 22s       |"
      ]
     },
     "metadata": {},
     "output_type": "display_data"
    },
    {
     "data": {
      "text/html": [
       "<pre>| 31903        | -1e+009 | 35.2247     | 3m 23s       |</pre>"
      ],
      "text/plain": [
       "| 31903        | -1e+009 | 35.2247     | 3m 23s       |"
      ]
     },
     "metadata": {},
     "output_type": "display_data"
    },
    {
     "data": {
      "text/html": [
       "<pre>| 32065        | -1e+009 | 35.4036     | 3m 24s       |</pre>"
      ],
      "text/plain": [
       "| 32065        | -1e+009 | 35.4036     | 3m 24s       |"
      ]
     },
     "metadata": {},
     "output_type": "display_data"
    },
    {
     "data": {
      "text/html": [
       "<pre>| 32232        | -1e+009 | 35.5879     | 3m 25s       |</pre>"
      ],
      "text/plain": [
       "| 32232        | -1e+009 | 35.5879     | 3m 25s       |"
      ]
     },
     "metadata": {},
     "output_type": "display_data"
    },
    {
     "data": {
      "text/html": [
       "<pre>| 32401        | -1e+009 | 35.7745     | 3m 26s       |</pre>"
      ],
      "text/plain": [
       "| 32401        | -1e+009 | 35.7745     | 3m 26s       |"
      ]
     },
     "metadata": {},
     "output_type": "display_data"
    },
    {
     "data": {
      "text/html": [
       "<pre>| 32568        | -1e+009 | 35.9589     | 3m 27s       |</pre>"
      ],
      "text/plain": [
       "| 32568        | -1e+009 | 35.9589     | 3m 27s       |"
      ]
     },
     "metadata": {},
     "output_type": "display_data"
    },
    {
     "data": {
      "text/html": [
       "<pre>| 32736        | -1e+009 | 36.1444     | 3m 28s       |</pre>"
      ],
      "text/plain": [
       "| 32736        | -1e+009 | 36.1444     | 3m 28s       |"
      ]
     },
     "metadata": {},
     "output_type": "display_data"
    },
    {
     "data": {
      "text/html": [
       "<pre>| 32904        | -1e+009 | 36.3299     | 3m 29s       |</pre>"
      ],
      "text/plain": [
       "| 32904        | -1e+009 | 36.3299     | 3m 29s       |"
      ]
     },
     "metadata": {},
     "output_type": "display_data"
    },
    {
     "data": {
      "text/html": [
       "<pre>| 33074        | -1e+009 | 36.5176     | 3m 30s       |</pre>"
      ],
      "text/plain": [
       "| 33074        | -1e+009 | 36.5176     | 3m 30s       |"
      ]
     },
     "metadata": {},
     "output_type": "display_data"
    },
    {
     "data": {
      "text/html": [
       "<pre>| 33245        | -1e+009 | 36.7064     | 3m 31s       |</pre>"
      ],
      "text/plain": [
       "| 33245        | -1e+009 | 36.7064     | 3m 31s       |"
      ]
     },
     "metadata": {},
     "output_type": "display_data"
    },
    {
     "data": {
      "text/html": [
       "<pre>| 33414        | -1e+009 | 36.893      | 3m 32s       |</pre>"
      ],
      "text/plain": [
       "| 33414        | -1e+009 | 36.893      | 3m 32s       |"
      ]
     },
     "metadata": {},
     "output_type": "display_data"
    },
    {
     "data": {
      "text/html": [
       "<pre>| 33577        | -1e+009 | 37.073      | 3m 33s       |</pre>"
      ],
      "text/plain": [
       "| 33577        | -1e+009 | 37.073      | 3m 33s       |"
      ]
     },
     "metadata": {},
     "output_type": "display_data"
    },
    {
     "data": {
      "text/html": [
       "<pre>| 33743        | -1e+009 | 37.2563     | 3m 34s       |</pre>"
      ],
      "text/plain": [
       "| 33743        | -1e+009 | 37.2563     | 3m 34s       |"
      ]
     },
     "metadata": {},
     "output_type": "display_data"
    },
    {
     "data": {
      "text/html": [
       "<pre>| 33912        | -1e+009 | 37.4429     | 3m 35s       |</pre>"
      ],
      "text/plain": [
       "| 33912        | -1e+009 | 37.4429     | 3m 35s       |"
      ]
     },
     "metadata": {},
     "output_type": "display_data"
    },
    {
     "data": {
      "text/html": [
       "<pre>| 34077        | -1e+009 | 37.625      | 3m 36s       |</pre>"
      ],
      "text/plain": [
       "| 34077        | -1e+009 | 37.625      | 3m 36s       |"
      ]
     },
     "metadata": {},
     "output_type": "display_data"
    },
    {
     "data": {
      "text/html": [
       "<pre>| 34246        | -1e+009 | 37.8116     | 3m 37s       |</pre>"
      ],
      "text/plain": [
       "| 34246        | -1e+009 | 37.8116     | 3m 37s       |"
      ]
     },
     "metadata": {},
     "output_type": "display_data"
    },
    {
     "data": {
      "text/html": [
       "<pre>| 34415        | -1e+009 | 37.9982     | 3m 38s       |</pre>"
      ],
      "text/plain": [
       "| 34415        | -1e+009 | 37.9982     | 3m 38s       |"
      ]
     },
     "metadata": {},
     "output_type": "display_data"
    },
    {
     "data": {
      "text/html": [
       "<pre>| 34584        | -1e+009 | 38.1848     | 3m 39s       |</pre>"
      ],
      "text/plain": [
       "| 34584        | -1e+009 | 38.1848     | 3m 39s       |"
      ]
     },
     "metadata": {},
     "output_type": "display_data"
    },
    {
     "data": {
      "text/html": [
       "<pre>| 34751        | -1e+009 | 38.3692     | 3m 40s       |</pre>"
      ],
      "text/plain": [
       "| 34751        | -1e+009 | 38.3692     | 3m 40s       |"
      ]
     },
     "metadata": {},
     "output_type": "display_data"
    },
    {
     "data": {
      "text/html": [
       "<pre>| 34920        | -1e+009 | 38.5558     | 3m 41s       |</pre>"
      ],
      "text/plain": [
       "| 34920        | -1e+009 | 38.5558     | 3m 41s       |"
      ]
     },
     "metadata": {},
     "output_type": "display_data"
    },
    {
     "data": {
      "text/html": [
       "<pre>| 35087        | -1e+009 | 38.7402     | 3m 42s       |</pre>"
      ],
      "text/plain": [
       "| 35087        | -1e+009 | 38.7402     | 3m 42s       |"
      ]
     },
     "metadata": {},
     "output_type": "display_data"
    },
    {
     "data": {
      "text/html": [
       "<pre>| 35254        | -1e+009 | 38.9246     | 3m 43s       |</pre>"
      ],
      "text/plain": [
       "| 35254        | -1e+009 | 38.9246     | 3m 43s       |"
      ]
     },
     "metadata": {},
     "output_type": "display_data"
    },
    {
     "data": {
      "text/html": [
       "<pre>| 35420        | -1e+009 | 39.1079     | 3m 44s       |</pre>"
      ],
      "text/plain": [
       "| 35420        | -1e+009 | 39.1079     | 3m 44s       |"
      ]
     },
     "metadata": {},
     "output_type": "display_data"
    },
    {
     "data": {
      "text/html": [
       "<pre>| 35588        | -1e+009 | 39.2934     | 3m 45s       |</pre>"
      ],
      "text/plain": [
       "| 35588        | -1e+009 | 39.2934     | 3m 45s       |"
      ]
     },
     "metadata": {},
     "output_type": "display_data"
    },
    {
     "data": {
      "text/html": [
       "<pre>| 35757        | -1e+009 | 39.48       | 3m 46s       |</pre>"
      ],
      "text/plain": [
       "| 35757        | -1e+009 | 39.48       | 3m 46s       |"
      ]
     },
     "metadata": {},
     "output_type": "display_data"
    },
    {
     "data": {
      "text/html": [
       "<pre>| 35923        | -1e+009 | 39.6632     | 3m 47s       |</pre>"
      ],
      "text/plain": [
       "| 35923        | -1e+009 | 39.6632     | 3m 47s       |"
      ]
     },
     "metadata": {},
     "output_type": "display_data"
    },
    {
     "data": {
      "text/html": [
       "<pre>| 36090        | -1e+009 | 39.8476     | 3m 48s       |</pre>"
      ],
      "text/plain": [
       "| 36090        | -1e+009 | 39.8476     | 3m 48s       |"
      ]
     },
     "metadata": {},
     "output_type": "display_data"
    },
    {
     "data": {
      "text/html": [
       "<pre>| 36264        | -1e+009 | 40.0397     | 3m 49s       |</pre>"
      ],
      "text/plain": [
       "| 36264        | -1e+009 | 40.0397     | 3m 49s       |"
      ]
     },
     "metadata": {},
     "output_type": "display_data"
    },
    {
     "data": {
      "text/html": [
       "<pre>| 36431        | -1e+009 | 40.2241     | 3m 50s       |</pre>"
      ],
      "text/plain": [
       "| 36431        | -1e+009 | 40.2241     | 3m 50s       |"
      ]
     },
     "metadata": {},
     "output_type": "display_data"
    },
    {
     "data": {
      "text/html": [
       "<pre>| 36602        | -1e+009 | 40.4129     | 3m 51s       |</pre>"
      ],
      "text/plain": [
       "| 36602        | -1e+009 | 40.4129     | 3m 51s       |"
      ]
     },
     "metadata": {},
     "output_type": "display_data"
    },
    {
     "data": {
      "text/html": [
       "<pre>| 36771        | -1e+009 | 40.5995     | 3m 52s       |</pre>"
      ],
      "text/plain": [
       "| 36771        | -1e+009 | 40.5995     | 3m 52s       |"
      ]
     },
     "metadata": {},
     "output_type": "display_data"
    },
    {
     "data": {
      "text/html": [
       "<pre>| 36941        | -9e+008 | 40.7872     | 3m 53s       |</pre>"
      ],
      "text/plain": [
       "| 36941        | -9e+008 | 40.7872     | 3m 53s       |"
      ]
     },
     "metadata": {},
     "output_type": "display_data"
    },
    {
     "data": {
      "text/html": [
       "<pre>| 37107        | -9e+008 | 40.9705     | 3m 54s       |</pre>"
      ],
      "text/plain": [
       "| 37107        | -9e+008 | 40.9705     | 3m 54s       |"
      ]
     },
     "metadata": {},
     "output_type": "display_data"
    },
    {
     "data": {
      "text/html": [
       "<pre>| 37273        | -9e+008 | 41.1538     | 3m 55s       |</pre>"
      ],
      "text/plain": [
       "| 37273        | -9e+008 | 41.1538     | 3m 55s       |"
      ]
     },
     "metadata": {},
     "output_type": "display_data"
    },
    {
     "data": {
      "text/html": [
       "<pre>| 37440        | -9e+008 | 41.3382     | 3m 56s       |</pre>"
      ],
      "text/plain": [
       "| 37440        | -9e+008 | 41.3382     | 3m 56s       |"
      ]
     },
     "metadata": {},
     "output_type": "display_data"
    },
    {
     "data": {
      "text/html": [
       "<pre>| 37603        | -9e+008 | 41.5182     | 3m 57s       |</pre>"
      ],
      "text/plain": [
       "| 37603        | -9e+008 | 41.5182     | 3m 57s       |"
      ]
     },
     "metadata": {},
     "output_type": "display_data"
    },
    {
     "data": {
      "text/html": [
       "<pre>| 37772        | -9e+008 | 41.7048     | 3m 58s       |</pre>"
      ],
      "text/plain": [
       "| 37772        | -9e+008 | 41.7048     | 3m 58s       |"
      ]
     },
     "metadata": {},
     "output_type": "display_data"
    },
    {
     "data": {
      "text/html": [
       "<pre>| 37936        | -9e+008 | 41.8858     | 3m 59s       |</pre>"
      ],
      "text/plain": [
       "| 37936        | -9e+008 | 41.8858     | 3m 59s       |"
      ]
     },
     "metadata": {},
     "output_type": "display_data"
    },
    {
     "data": {
      "text/html": [
       "<pre>| 38102        | -8e+008 | 42.0691     | 4m 0s        |</pre>"
      ],
      "text/plain": [
       "| 38102        | -8e+008 | 42.0691     | 4m 0s        |"
      ]
     },
     "metadata": {},
     "output_type": "display_data"
    },
    {
     "data": {
      "text/html": [
       "<pre>| 38257        | -8e+008 | 42.2403     | 4m 1s        |</pre>"
      ],
      "text/plain": [
       "| 38257        | -8e+008 | 42.2403     | 4m 1s        |"
      ]
     },
     "metadata": {},
     "output_type": "display_data"
    },
    {
     "data": {
      "text/html": [
       "<pre>| 38423        | -8e+008 | 42.4235     | 4m 2s        |</pre>"
      ],
      "text/plain": [
       "| 38423        | -8e+008 | 42.4235     | 4m 2s        |"
      ]
     },
     "metadata": {},
     "output_type": "display_data"
    },
    {
     "data": {
      "text/html": [
       "<pre>| 38580        | -8e+008 | 42.5969     | 4m 3s        |</pre>"
      ],
      "text/plain": [
       "| 38580        | -8e+008 | 42.5969     | 4m 3s        |"
      ]
     },
     "metadata": {},
     "output_type": "display_data"
    },
    {
     "data": {
      "text/html": [
       "<pre>| 38741        | -8e+008 | 42.7746     | 4m 4s        |</pre>"
      ],
      "text/plain": [
       "| 38741        | -8e+008 | 42.7746     | 4m 4s        |"
      ]
     },
     "metadata": {},
     "output_type": "display_data"
    },
    {
     "data": {
      "text/html": [
       "<pre>| 38909        | -8e+008 | 42.9601     | 4m 5s        |</pre>"
      ],
      "text/plain": [
       "| 38909        | -8e+008 | 42.9601     | 4m 5s        |"
      ]
     },
     "metadata": {},
     "output_type": "display_data"
    },
    {
     "data": {
      "text/html": [
       "<pre>| 39076        | -8e+008 | 43.1445     | 4m 6s        |</pre>"
      ],
      "text/plain": [
       "| 39076        | -8e+008 | 43.1445     | 4m 6s        |"
      ]
     },
     "metadata": {},
     "output_type": "display_data"
    },
    {
     "data": {
      "text/html": [
       "<pre>| 39242        | -7e+008 | 43.3278     | 4m 7s        |</pre>"
      ],
      "text/plain": [
       "| 39242        | -7e+008 | 43.3278     | 4m 7s        |"
      ]
     },
     "metadata": {},
     "output_type": "display_data"
    },
    {
     "data": {
      "text/html": [
       "<pre>| 39408        | -7e+008 | 43.5111     | 4m 8s        |</pre>"
      ],
      "text/plain": [
       "| 39408        | -7e+008 | 43.5111     | 4m 8s        |"
      ]
     },
     "metadata": {},
     "output_type": "display_data"
    },
    {
     "data": {
      "text/html": [
       "<pre>| 39574        | -7e+008 | 43.6944     | 4m 9s        |</pre>"
      ],
      "text/plain": [
       "| 39574        | -7e+008 | 43.6944     | 4m 9s        |"
      ]
     },
     "metadata": {},
     "output_type": "display_data"
    },
    {
     "data": {
      "text/html": [
       "<pre>| 39739        | -7e+008 | 43.8766     | 4m 10s       |</pre>"
      ],
      "text/plain": [
       "| 39739        | -7e+008 | 43.8766     | 4m 10s       |"
      ]
     },
     "metadata": {},
     "output_type": "display_data"
    },
    {
     "data": {
      "text/html": [
       "<pre>| 39903        | -7e+008 | 44.0576     | 4m 11s       |</pre>"
      ],
      "text/plain": [
       "| 39903        | -7e+008 | 44.0576     | 4m 11s       |"
      ]
     },
     "metadata": {},
     "output_type": "display_data"
    },
    {
     "data": {
      "text/html": [
       "<pre>| 40068        | -7e+008 | 44.2398     | 4m 12s       |</pre>"
      ],
      "text/plain": [
       "| 40068        | -7e+008 | 44.2398     | 4m 12s       |"
      ]
     },
     "metadata": {},
     "output_type": "display_data"
    },
    {
     "data": {
      "text/html": [
       "<pre>| 40231        | -7e+008 | 44.4198     | 4m 13s       |</pre>"
      ],
      "text/plain": [
       "| 40231        | -7e+008 | 44.4198     | 4m 13s       |"
      ]
     },
     "metadata": {},
     "output_type": "display_data"
    },
    {
     "data": {
      "text/html": [
       "<pre>| 40396        | -6e+008 | 44.602      | 4m 14s       |</pre>"
      ],
      "text/plain": [
       "| 40396        | -6e+008 | 44.602      | 4m 14s       |"
      ]
     },
     "metadata": {},
     "output_type": "display_data"
    },
    {
     "data": {
      "text/html": [
       "<pre>| 40558        | -6e+008 | 44.7808     | 4m 15s       |</pre>"
      ],
      "text/plain": [
       "| 40558        | -6e+008 | 44.7808     | 4m 15s       |"
      ]
     },
     "metadata": {},
     "output_type": "display_data"
    },
    {
     "data": {
      "text/html": [
       "<pre>| 40724        | -6e+008 | 44.9641     | 4m 16s       |</pre>"
      ],
      "text/plain": [
       "| 40724        | -6e+008 | 44.9641     | 4m 16s       |"
      ]
     },
     "metadata": {},
     "output_type": "display_data"
    },
    {
     "data": {
      "text/html": [
       "<pre>| 40888        | -6e+008 | 45.1452     | 4m 17s       |</pre>"
      ],
      "text/plain": [
       "| 40888        | -6e+008 | 45.1452     | 4m 17s       |"
      ]
     },
     "metadata": {},
     "output_type": "display_data"
    },
    {
     "data": {
      "text/html": [
       "<pre>| 41052        | -6e+008 | 45.3263     | 4m 18s       |</pre>"
      ],
      "text/plain": [
       "| 41052        | -6e+008 | 45.3263     | 4m 18s       |"
      ]
     },
     "metadata": {},
     "output_type": "display_data"
    },
    {
     "data": {
      "text/html": [
       "<pre>| 41214        | -6e+008 | 45.5051     | 4m 19s       |</pre>"
      ],
      "text/plain": [
       "| 41214        | -6e+008 | 45.5051     | 4m 19s       |"
      ]
     },
     "metadata": {},
     "output_type": "display_data"
    },
    {
     "data": {
      "text/html": [
       "<pre>| 41380        | -5e+008 | 45.6884     | 4m 20s       |</pre>"
      ],
      "text/plain": [
       "| 41380        | -5e+008 | 45.6884     | 4m 20s       |"
      ]
     },
     "metadata": {},
     "output_type": "display_data"
    },
    {
     "data": {
      "text/html": [
       "<pre>| 41540        | -5e+008 | 45.8651     | 4m 21s       |</pre>"
      ],
      "text/plain": [
       "| 41540        | -5e+008 | 45.8651     | 4m 21s       |"
      ]
     },
     "metadata": {},
     "output_type": "display_data"
    },
    {
     "data": {
      "text/html": [
       "<pre>| 41685        | -5e+008 | 46.0252     | 4m 22s       |</pre>"
      ],
      "text/plain": [
       "| 41685        | -5e+008 | 46.0252     | 4m 22s       |"
      ]
     },
     "metadata": {},
     "output_type": "display_data"
    },
    {
     "data": {
      "text/html": [
       "<pre>| 41848        | -5e+008 | 46.2051     | 4m 23s       |</pre>"
      ],
      "text/plain": [
       "| 41848        | -5e+008 | 46.2051     | 4m 23s       |"
      ]
     },
     "metadata": {},
     "output_type": "display_data"
    },
    {
     "data": {
      "text/html": [
       "<pre>| 42013        | -5e+008 | 46.3873     | 4m 24s       |</pre>"
      ],
      "text/plain": [
       "| 42013        | -5e+008 | 46.3873     | 4m 24s       |"
      ]
     },
     "metadata": {},
     "output_type": "display_data"
    },
    {
     "data": {
      "text/html": [
       "<pre>| 42179        | -5e+008 | 46.5706     | 4m 25s       |</pre>"
      ],
      "text/plain": [
       "| 42179        | -5e+008 | 46.5706     | 4m 25s       |"
      ]
     },
     "metadata": {},
     "output_type": "display_data"
    },
    {
     "data": {
      "text/html": [
       "<pre>| 42345        | -5e+008 | 46.7539     | 4m 26s       |</pre>"
      ],
      "text/plain": [
       "| 42345        | -5e+008 | 46.7539     | 4m 26s       |"
      ]
     },
     "metadata": {},
     "output_type": "display_data"
    },
    {
     "data": {
      "text/html": [
       "<pre>| 42516        | -4e+008 | 46.9427     | 4m 27s       |</pre>"
      ],
      "text/plain": [
       "| 42516        | -4e+008 | 46.9427     | 4m 27s       |"
      ]
     },
     "metadata": {},
     "output_type": "display_data"
    },
    {
     "data": {
      "text/html": [
       "<pre>| 42682        | -4e+008 | 47.126      | 4m 28s       |</pre>"
      ],
      "text/plain": [
       "| 42682        | -4e+008 | 47.126      | 4m 28s       |"
      ]
     },
     "metadata": {},
     "output_type": "display_data"
    },
    {
     "data": {
      "text/html": [
       "<pre>| 42852        | -4e+008 | 47.3137     | 4m 29s       |</pre>"
      ],
      "text/plain": [
       "| 42852        | -4e+008 | 47.3137     | 4m 29s       |"
      ]
     },
     "metadata": {},
     "output_type": "display_data"
    },
    {
     "data": {
      "text/html": [
       "<pre>| 43015        | -4e+008 | 47.4937     | 4m 30s       |</pre>"
      ],
      "text/plain": [
       "| 43015        | -4e+008 | 47.4937     | 4m 30s       |"
      ]
     },
     "metadata": {},
     "output_type": "display_data"
    },
    {
     "data": {
      "text/html": [
       "<pre>| 43178        | -4e+008 | 47.6736     | 4m 31s       |</pre>"
      ],
      "text/plain": [
       "| 43178        | -4e+008 | 47.6736     | 4m 31s       |"
      ]
     },
     "metadata": {},
     "output_type": "display_data"
    },
    {
     "data": {
      "text/html": [
       "<pre>| 43346        | -4e+008 | 47.8591     | 4m 32s       |</pre>"
      ],
      "text/plain": [
       "| 43346        | -4e+008 | 47.8591     | 4m 32s       |"
      ]
     },
     "metadata": {},
     "output_type": "display_data"
    },
    {
     "data": {
      "text/html": [
       "<pre>| 43513        | -4e+008 | 48.0435     | 4m 33s       |</pre>"
      ],
      "text/plain": [
       "| 43513        | -4e+008 | 48.0435     | 4m 33s       |"
      ]
     },
     "metadata": {},
     "output_type": "display_data"
    },
    {
     "data": {
      "text/html": [
       "<pre>| 43679        | -3e+008 | 48.2268     | 4m 34s       |</pre>"
      ],
      "text/plain": [
       "| 43679        | -3e+008 | 48.2268     | 4m 34s       |"
      ]
     },
     "metadata": {},
     "output_type": "display_data"
    },
    {
     "data": {
      "text/html": [
       "<pre>| 43844        | -3e+008 | 48.409      | 4m 35s       |</pre>"
      ],
      "text/plain": [
       "| 43844        | -3e+008 | 48.409      | 4m 35s       |"
      ]
     },
     "metadata": {},
     "output_type": "display_data"
    },
    {
     "data": {
      "text/html": [
       "<pre>| 44011        | -3e+008 | 48.5934     | 4m 36s       |</pre>"
      ],
      "text/plain": [
       "| 44011        | -3e+008 | 48.5934     | 4m 36s       |"
      ]
     },
     "metadata": {},
     "output_type": "display_data"
    },
    {
     "data": {
      "text/html": [
       "<pre>| 44183        | -3e+008 | 48.7833     | 4m 37s       |</pre>"
      ],
      "text/plain": [
       "| 44183        | -3e+008 | 48.7833     | 4m 37s       |"
      ]
     },
     "metadata": {},
     "output_type": "display_data"
    },
    {
     "data": {
      "text/html": [
       "<pre>| 44347        | -3e+008 | 48.9643     | 4m 38s       |</pre>"
      ],
      "text/plain": [
       "| 44347        | -3e+008 | 48.9643     | 4m 38s       |"
      ]
     },
     "metadata": {},
     "output_type": "display_data"
    },
    {
     "data": {
      "text/html": [
       "<pre>| 44520        | -3e+008 | 49.1553     | 4m 39s       |</pre>"
      ],
      "text/plain": [
       "| 44520        | -3e+008 | 49.1553     | 4m 39s       |"
      ]
     },
     "metadata": {},
     "output_type": "display_data"
    },
    {
     "data": {
      "text/html": [
       "<pre>| 44687        | -2e+008 | 49.3397     | 4m 40s       |</pre>"
      ],
      "text/plain": [
       "| 44687        | -2e+008 | 49.3397     | 4m 40s       |"
      ]
     },
     "metadata": {},
     "output_type": "display_data"
    },
    {
     "data": {
      "text/html": [
       "<pre>| 44854        | -2e+008 | 49.5241     | 4m 41s       |</pre>"
      ],
      "text/plain": [
       "| 44854        | -2e+008 | 49.5241     | 4m 41s       |"
      ]
     },
     "metadata": {},
     "output_type": "display_data"
    },
    {
     "data": {
      "text/html": [
       "<pre>| 45023        | -2e+008 | 49.7107     | 4m 42s       |</pre>"
      ],
      "text/plain": [
       "| 45023        | -2e+008 | 49.7107     | 4m 42s       |"
      ]
     },
     "metadata": {},
     "output_type": "display_data"
    },
    {
     "data": {
      "text/html": [
       "<pre>| 45186        | -2e+008 | 49.8907     | 4m 43s       |</pre>"
      ],
      "text/plain": [
       "| 45186        | -2e+008 | 49.8907     | 4m 43s       |"
      ]
     },
     "metadata": {},
     "output_type": "display_data"
    },
    {
     "data": {
      "text/html": [
       "<pre>| 45353        | -2e+008 | 50.0751     | 4m 44s       |</pre>"
      ],
      "text/plain": [
       "| 45353        | -2e+008 | 50.0751     | 4m 44s       |"
      ]
     },
     "metadata": {},
     "output_type": "display_data"
    },
    {
     "data": {
      "text/html": [
       "<pre>| 45517        | -2e+008 | 50.2562     | 4m 45s       |</pre>"
      ],
      "text/plain": [
       "| 45517        | -2e+008 | 50.2562     | 4m 45s       |"
      ]
     },
     "metadata": {},
     "output_type": "display_data"
    },
    {
     "data": {
      "text/html": [
       "<pre>| 45685        | -2e+008 | 50.4416     | 4m 46s       |</pre>"
      ],
      "text/plain": [
       "| 45685        | -2e+008 | 50.4416     | 4m 46s       |"
      ]
     },
     "metadata": {},
     "output_type": "display_data"
    },
    {
     "data": {
      "text/html": [
       "<pre>| 45859        | -1e+008 | 50.6338     | 4m 47s       |</pre>"
      ],
      "text/plain": [
       "| 45859        | -1e+008 | 50.6338     | 4m 47s       |"
      ]
     },
     "metadata": {},
     "output_type": "display_data"
    },
    {
     "data": {
      "text/html": [
       "<pre>| 46026        | -1e+008 | 50.8182     | 4m 48s       |</pre>"
      ],
      "text/plain": [
       "| 46026        | -1e+008 | 50.8182     | 4m 48s       |"
      ]
     },
     "metadata": {},
     "output_type": "display_data"
    },
    {
     "data": {
      "text/html": [
       "<pre>| 46194        | -1e+008 | 51.0036     | 4m 49s       |</pre>"
      ],
      "text/plain": [
       "| 46194        | -1e+008 | 51.0036     | 4m 49s       |"
      ]
     },
     "metadata": {},
     "output_type": "display_data"
    },
    {
     "data": {
      "text/html": [
       "<pre>| 46363        | -1e+008 | 51.1902     | 4m 50s       |</pre>"
      ],
      "text/plain": [
       "| 46363        | -1e+008 | 51.1902     | 4m 50s       |"
      ]
     },
     "metadata": {},
     "output_type": "display_data"
    },
    {
     "data": {
      "text/html": [
       "<pre>| 46531        | -8e+007 | 51.3757     | 4m 51s       |</pre>"
      ],
      "text/plain": [
       "| 46531        | -8e+007 | 51.3757     | 4m 51s       |"
      ]
     },
     "metadata": {},
     "output_type": "display_data"
    },
    {
     "data": {
      "text/html": [
       "<pre>| 46699        | -7e+007 | 51.5612     | 4m 52s       |</pre>"
      ],
      "text/plain": [
       "| 46699        | -7e+007 | 51.5612     | 4m 52s       |"
      ]
     },
     "metadata": {},
     "output_type": "display_data"
    },
    {
     "data": {
      "text/html": [
       "<pre>| 46872        | -5e+007 | 51.7522     | 4m 53s       |</pre>"
      ],
      "text/plain": [
       "| 46872        | -5e+007 | 51.7522     | 4m 53s       |"
      ]
     },
     "metadata": {},
     "output_type": "display_data"
    },
    {
     "data": {
      "text/html": [
       "<pre>| 47040        | -3e+007 | 51.9377     | 4m 54s       |</pre>"
      ],
      "text/plain": [
       "| 47040        | -3e+007 | 51.9377     | 4m 54s       |"
      ]
     },
     "metadata": {},
     "output_type": "display_data"
    },
    {
     "data": {
      "text/html": [
       "<pre>| 47206        | -2e+007 | 52.121      | 4m 55s       |</pre>"
      ],
      "text/plain": [
       "| 47206        | -2e+007 | 52.121      | 4m 55s       |"
      ]
     },
     "metadata": {},
     "output_type": "display_data"
    },
    {
     "data": {
      "text/html": [
       "<pre>| 47372        | -4e+006 | 52.3043     | 4m 56s       |</pre>"
      ],
      "text/plain": [
       "| 47372        | -4e+006 | 52.3043     | 4m 56s       |"
      ]
     },
     "metadata": {},
     "output_type": "display_data"
    },
    {
     "data": {
      "text/html": [
       "<pre>| 47537        | 1e+007  | 52.4865     | 4m 57s       |</pre>"
      ],
      "text/plain": [
       "| 47537        | 1e+007  | 52.4865     | 4m 57s       |"
      ]
     },
     "metadata": {},
     "output_type": "display_data"
    },
    {
     "data": {
      "text/html": [
       "<pre>| 47703        | 3e+007  | 52.6698     | 4m 58s       |</pre>"
      ],
      "text/plain": [
       "| 47703        | 3e+007  | 52.6698     | 4m 58s       |"
      ]
     },
     "metadata": {},
     "output_type": "display_data"
    },
    {
     "data": {
      "text/html": [
       "<pre>| 47866        | 4e+007  | 52.8497     | 4m 59s       |</pre>"
      ],
      "text/plain": [
       "| 47866        | 4e+007  | 52.8497     | 4m 59s       |"
      ]
     },
     "metadata": {},
     "output_type": "display_data"
    },
    {
     "data": {
      "text/html": [
       "<pre>| 48034        | 6e+007  | 53.0352     | 5m 0s        |</pre>"
      ],
      "text/plain": [
       "| 48034        | 6e+007  | 53.0352     | 5m 0s        |"
      ]
     },
     "metadata": {},
     "output_type": "display_data"
    },
    {
     "data": {
      "text/html": [
       "<pre>| 48205        | 7e+007  | 53.224      | 5m 1s        |</pre>"
      ],
      "text/plain": [
       "| 48205        | 7e+007  | 53.224      | 5m 1s        |"
      ]
     },
     "metadata": {},
     "output_type": "display_data"
    },
    {
     "data": {
      "text/html": [
       "<pre>| 48372        | 9e+007  | 53.4084     | 5m 2s        |</pre>"
      ],
      "text/plain": [
       "| 48372        | 9e+007  | 53.4084     | 5m 2s        |"
      ]
     },
     "metadata": {},
     "output_type": "display_data"
    },
    {
     "data": {
      "text/html": [
       "<pre>| 48538        | 1e+008  | 53.5917     | 5m 3s        |</pre>"
      ],
      "text/plain": [
       "| 48538        | 1e+008  | 53.5917     | 5m 3s        |"
      ]
     },
     "metadata": {},
     "output_type": "display_data"
    },
    {
     "data": {
      "text/html": [
       "<pre>| 48705        | 1e+008  | 53.7761     | 5m 4s        |</pre>"
      ],
      "text/plain": [
       "| 48705        | 1e+008  | 53.7761     | 5m 4s        |"
      ]
     },
     "metadata": {},
     "output_type": "display_data"
    },
    {
     "data": {
      "text/html": [
       "<pre>| 48872        | 1e+008  | 53.9605     | 5m 5s        |</pre>"
      ],
      "text/plain": [
       "| 48872        | 1e+008  | 53.9605     | 5m 5s        |"
      ]
     },
     "metadata": {},
     "output_type": "display_data"
    },
    {
     "data": {
      "text/html": [
       "<pre>| 49042        | 1e+008  | 54.1482     | 5m 6s        |</pre>"
      ],
      "text/plain": [
       "| 49042        | 1e+008  | 54.1482     | 5m 6s        |"
      ]
     },
     "metadata": {},
     "output_type": "display_data"
    },
    {
     "data": {
      "text/html": [
       "<pre>| 49201        | 2e+008  | 54.3237     | 5m 7s        |</pre>"
      ],
      "text/plain": [
       "| 49201        | 2e+008  | 54.3237     | 5m 7s        |"
      ]
     },
     "metadata": {},
     "output_type": "display_data"
    },
    {
     "data": {
      "text/html": [
       "<pre>| 49367        | 2e+008  | 54.507      | 5m 8s        |</pre>"
      ],
      "text/plain": [
       "| 49367        | 2e+008  | 54.507      | 5m 8s        |"
      ]
     },
     "metadata": {},
     "output_type": "display_data"
    },
    {
     "data": {
      "text/html": [
       "<pre>| 49526        | 2e+008  | 54.6826     | 5m 9s        |</pre>"
      ],
      "text/plain": [
       "| 49526        | 2e+008  | 54.6826     | 5m 9s        |"
      ]
     },
     "metadata": {},
     "output_type": "display_data"
    },
    {
     "data": {
      "text/html": [
       "<pre>| 49685        | 2e+008  | 54.8581     | 5m 10s       |</pre>"
      ],
      "text/plain": [
       "| 49685        | 2e+008  | 54.8581     | 5m 10s       |"
      ]
     },
     "metadata": {},
     "output_type": "display_data"
    },
    {
     "data": {
      "text/html": [
       "<pre>| 49850        | 2e+008  | 55.0403     | 5m 11s       |</pre>"
      ],
      "text/plain": [
       "| 49850        | 2e+008  | 55.0403     | 5m 11s       |"
      ]
     },
     "metadata": {},
     "output_type": "display_data"
    },
    {
     "data": {
      "text/html": [
       "<pre>| 50014        | 2e+008  | 55.2214     | 5m 12s       |</pre>"
      ],
      "text/plain": [
       "| 50014        | 2e+008  | 55.2214     | 5m 12s       |"
      ]
     },
     "metadata": {},
     "output_type": "display_data"
    },
    {
     "data": {
      "text/html": [
       "<pre>| 50174        | 2e+008  | 55.398      | 5m 13s       |</pre>"
      ],
      "text/plain": [
       "| 50174        | 2e+008  | 55.398      | 5m 13s       |"
      ]
     },
     "metadata": {},
     "output_type": "display_data"
    },
    {
     "data": {
      "text/html": [
       "<pre>| 50342        | 3e+008  | 55.5835     | 5m 14s       |</pre>"
      ],
      "text/plain": [
       "| 50342        | 3e+008  | 55.5835     | 5m 14s       |"
      ]
     },
     "metadata": {},
     "output_type": "display_data"
    },
    {
     "data": {
      "text/html": [
       "<pre>| 50510        | 3e+008  | 55.769      | 5m 15s       |</pre>"
      ],
      "text/plain": [
       "| 50510        | 3e+008  | 55.769      | 5m 15s       |"
      ]
     },
     "metadata": {},
     "output_type": "display_data"
    },
    {
     "data": {
      "text/html": [
       "<pre>| 50674        | 3e+008  | 55.9501     | 5m 16s       |</pre>"
      ],
      "text/plain": [
       "| 50674        | 3e+008  | 55.9501     | 5m 16s       |"
      ]
     },
     "metadata": {},
     "output_type": "display_data"
    },
    {
     "data": {
      "text/html": [
       "<pre>| 50838        | 3e+008  | 56.1312     | 5m 17s       |</pre>"
      ],
      "text/plain": [
       "| 50838        | 3e+008  | 56.1312     | 5m 17s       |"
      ]
     },
     "metadata": {},
     "output_type": "display_data"
    },
    {
     "data": {
      "text/html": [
       "<pre>| 51009        | 3e+008  | 56.32       | 5m 18s       |</pre>"
      ],
      "text/plain": [
       "| 51009        | 3e+008  | 56.32       | 5m 18s       |"
      ]
     },
     "metadata": {},
     "output_type": "display_data"
    },
    {
     "data": {
      "text/html": [
       "<pre>| 51173        | 3e+008  | 56.501      | 5m 19s       |</pre>"
      ],
      "text/plain": [
       "| 51173        | 3e+008  | 56.501      | 5m 19s       |"
      ]
     },
     "metadata": {},
     "output_type": "display_data"
    },
    {
     "data": {
      "text/html": [
       "<pre>| 51334        | 4e+008  | 56.6788     | 5m 20s       |</pre>"
      ],
      "text/plain": [
       "| 51334        | 4e+008  | 56.6788     | 5m 20s       |"
      ]
     },
     "metadata": {},
     "output_type": "display_data"
    },
    {
     "data": {
      "text/html": [
       "<pre>| 51483        | 4e+008  | 56.8433     | 5m 21s       |</pre>"
      ],
      "text/plain": [
       "| 51483        | 4e+008  | 56.8433     | 5m 21s       |"
      ]
     },
     "metadata": {},
     "output_type": "display_data"
    },
    {
     "data": {
      "text/html": [
       "<pre>| 51626        | 4e+008  | 57.0012     | 5m 22s       |</pre>"
      ],
      "text/plain": [
       "| 51626        | 4e+008  | 57.0012     | 5m 22s       |"
      ]
     },
     "metadata": {},
     "output_type": "display_data"
    },
    {
     "data": {
      "text/html": [
       "<pre>| 51786        | 4e+008  | 57.1779     | 5m 23s       |</pre>"
      ],
      "text/plain": [
       "| 51786        | 4e+008  | 57.1779     | 5m 23s       |"
      ]
     },
     "metadata": {},
     "output_type": "display_data"
    },
    {
     "data": {
      "text/html": [
       "<pre>| 51948        | 4e+008  | 57.3567     | 5m 24s       |</pre>"
      ],
      "text/plain": [
       "| 51948        | 4e+008  | 57.3567     | 5m 24s       |"
      ]
     },
     "metadata": {},
     "output_type": "display_data"
    },
    {
     "data": {
      "text/html": [
       "<pre>| 52113        | 4e+008  | 57.5389     | 5m 25s       |</pre>"
      ],
      "text/plain": [
       "| 52113        | 4e+008  | 57.5389     | 5m 25s       |"
      ]
     },
     "metadata": {},
     "output_type": "display_data"
    },
    {
     "data": {
      "text/html": [
       "<pre>| 52231        | 4e+008  | 57.6692     | 5m 26s       |</pre>"
      ],
      "text/plain": [
       "| 52231        | 4e+008  | 57.6692     | 5m 26s       |"
      ]
     },
     "metadata": {},
     "output_type": "display_data"
    },
    {
     "data": {
      "text/html": [
       "<pre>| 52392        | 5e+008  | 57.847      | 5m 27s       |</pre>"
      ],
      "text/plain": [
       "| 52392        | 5e+008  | 57.847      | 5m 27s       |"
      ]
     },
     "metadata": {},
     "output_type": "display_data"
    },
    {
     "data": {
      "text/html": [
       "<pre>| 52557        | 5e+008  | 58.0291     | 5m 28s       |</pre>"
      ],
      "text/plain": [
       "| 52557        | 5e+008  | 58.0291     | 5m 28s       |"
      ]
     },
     "metadata": {},
     "output_type": "display_data"
    },
    {
     "data": {
      "text/html": [
       "<pre>| 52719        | 5e+008  | 58.208      | 5m 29s       |</pre>"
      ],
      "text/plain": [
       "| 52719        | 5e+008  | 58.208      | 5m 29s       |"
      ]
     },
     "metadata": {},
     "output_type": "display_data"
    },
    {
     "data": {
      "text/html": [
       "<pre>| 52872        | 5e+008  | 58.3769     | 5m 30s       |</pre>"
      ],
      "text/plain": [
       "| 52872        | 5e+008  | 58.3769     | 5m 30s       |"
      ]
     },
     "metadata": {},
     "output_type": "display_data"
    },
    {
     "data": {
      "text/html": [
       "<pre>| 53007        | 5e+008  | 58.526      | 5m 31s       |</pre>"
      ],
      "text/plain": [
       "| 53007        | 5e+008  | 58.526      | 5m 31s       |"
      ]
     },
     "metadata": {},
     "output_type": "display_data"
    },
    {
     "data": {
      "text/html": [
       "<pre>| 53171        | 5e+008  | 58.7071     | 5m 32s       |</pre>"
      ],
      "text/plain": [
       "| 53171        | 5e+008  | 58.7071     | 5m 32s       |"
      ]
     },
     "metadata": {},
     "output_type": "display_data"
    },
    {
     "data": {
      "text/html": [
       "<pre>| 53337        | 5e+008  | 58.8904     | 5m 33s       |</pre>"
      ],
      "text/plain": [
       "| 53337        | 5e+008  | 58.8904     | 5m 33s       |"
      ]
     },
     "metadata": {},
     "output_type": "display_data"
    },
    {
     "data": {
      "text/html": [
       "<pre>| 53500        | 6e+008  | 59.0703     | 5m 34s       |</pre>"
      ],
      "text/plain": [
       "| 53500        | 6e+008  | 59.0703     | 5m 34s       |"
      ]
     },
     "metadata": {},
     "output_type": "display_data"
    },
    {
     "data": {
      "text/html": [
       "<pre>| 53668        | 6e+008  | 59.2558     | 5m 35s       |</pre>"
      ],
      "text/plain": [
       "| 53668        | 6e+008  | 59.2558     | 5m 35s       |"
      ]
     },
     "metadata": {},
     "output_type": "display_data"
    },
    {
     "data": {
      "text/html": [
       "<pre>| 53836        | 6e+008  | 59.4413     | 5m 36s       |</pre>"
      ],
      "text/plain": [
       "| 53836        | 6e+008  | 59.4413     | 5m 36s       |"
      ]
     },
     "metadata": {},
     "output_type": "display_data"
    },
    {
     "data": {
      "text/html": [
       "<pre>| 53997        | 6e+008  | 59.6191     | 5m 37s       |</pre>"
      ],
      "text/plain": [
       "| 53997        | 6e+008  | 59.6191     | 5m 37s       |"
      ]
     },
     "metadata": {},
     "output_type": "display_data"
    },
    {
     "data": {
      "text/html": [
       "<pre>| 54164        | 6e+008  | 59.8035     | 5m 38s       |</pre>"
      ],
      "text/plain": [
       "| 54164        | 6e+008  | 59.8035     | 5m 38s       |"
      ]
     },
     "metadata": {},
     "output_type": "display_data"
    },
    {
     "data": {
      "text/html": [
       "<pre>| 54329        | 6e+008  | 59.9856     | 5m 39s       |</pre>"
      ],
      "text/plain": [
       "| 54329        | 6e+008  | 59.9856     | 5m 39s       |"
      ]
     },
     "metadata": {},
     "output_type": "display_data"
    },
    {
     "data": {
      "text/html": [
       "<pre>| 54492        | 6e+008  | 60.1656     | 5m 40s       |</pre>"
      ],
      "text/plain": [
       "| 54492        | 6e+008  | 60.1656     | 5m 40s       |"
      ]
     },
     "metadata": {},
     "output_type": "display_data"
    },
    {
     "data": {
      "text/html": [
       "<pre>| 54656        | 7e+008  | 60.3467     | 5m 41s       |</pre>"
      ],
      "text/plain": [
       "| 54656        | 7e+008  | 60.3467     | 5m 41s       |"
      ]
     },
     "metadata": {},
     "output_type": "display_data"
    },
    {
     "data": {
      "text/html": [
       "<pre>| 54825        | 7e+008  | 60.5333     | 5m 42s       |</pre>"
      ],
      "text/plain": [
       "| 54825        | 7e+008  | 60.5333     | 5m 42s       |"
      ]
     },
     "metadata": {},
     "output_type": "display_data"
    },
    {
     "data": {
      "text/html": [
       "<pre>| 54988        | 7e+008  | 60.7133     | 5m 43s       |</pre>"
      ],
      "text/plain": [
       "| 54988        | 7e+008  | 60.7133     | 5m 43s       |"
      ]
     },
     "metadata": {},
     "output_type": "display_data"
    },
    {
     "data": {
      "text/html": [
       "<pre>| 55155        | 7e+008  | 60.8976     | 5m 44s       |</pre>"
      ],
      "text/plain": [
       "| 55155        | 7e+008  | 60.8976     | 5m 44s       |"
      ]
     },
     "metadata": {},
     "output_type": "display_data"
    },
    {
     "data": {
      "text/html": [
       "<pre>| 55322        | 7e+008  | 61.082      | 5m 45s       |</pre>"
      ],
      "text/plain": [
       "| 55322        | 7e+008  | 61.082      | 5m 45s       |"
      ]
     },
     "metadata": {},
     "output_type": "display_data"
    },
    {
     "data": {
      "text/html": [
       "<pre>| 55489        | 7e+008  | 61.2664     | 5m 46s       |</pre>"
      ],
      "text/plain": [
       "| 55489        | 7e+008  | 61.2664     | 5m 46s       |"
      ]
     },
     "metadata": {},
     "output_type": "display_data"
    },
    {
     "data": {
      "text/html": [
       "<pre>| 55652        | 7e+008  | 61.4464     | 5m 47s       |</pre>"
      ],
      "text/plain": [
       "| 55652        | 7e+008  | 61.4464     | 5m 47s       |"
      ]
     },
     "metadata": {},
     "output_type": "display_data"
    },
    {
     "data": {
      "text/html": [
       "<pre>| 55814        | 8e+008  | 61.6253     | 5m 48s       |</pre>"
      ],
      "text/plain": [
       "| 55814        | 8e+008  | 61.6253     | 5m 48s       |"
      ]
     },
     "metadata": {},
     "output_type": "display_data"
    },
    {
     "data": {
      "text/html": [
       "<pre>| 55977        | 8e+008  | 61.8052     | 5m 49s       |</pre>"
      ],
      "text/plain": [
       "| 55977        | 8e+008  | 61.8052     | 5m 49s       |"
      ]
     },
     "metadata": {},
     "output_type": "display_data"
    },
    {
     "data": {
      "text/html": [
       "<pre>| 56144        | 8e+008  | 61.9896     | 5m 50s       |</pre>"
      ],
      "text/plain": [
       "| 56144        | 8e+008  | 61.9896     | 5m 50s       |"
      ]
     },
     "metadata": {},
     "output_type": "display_data"
    },
    {
     "data": {
      "text/html": [
       "<pre>| 56308        | 8e+008  | 62.1707     | 5m 51s       |</pre>"
      ],
      "text/plain": [
       "| 56308        | 8e+008  | 62.1707     | 5m 51s       |"
      ]
     },
     "metadata": {},
     "output_type": "display_data"
    },
    {
     "data": {
      "text/html": [
       "<pre>| 56476        | 8e+008  | 62.3562     | 5m 52s       |</pre>"
      ],
      "text/plain": [
       "| 56476        | 8e+008  | 62.3562     | 5m 52s       |"
      ]
     },
     "metadata": {},
     "output_type": "display_data"
    },
    {
     "data": {
      "text/html": [
       "<pre>| 56642        | 8e+008  | 62.5395     | 5m 53s       |</pre>"
      ],
      "text/plain": [
       "| 56642        | 8e+008  | 62.5395     | 5m 53s       |"
      ]
     },
     "metadata": {},
     "output_type": "display_data"
    },
    {
     "data": {
      "text/html": [
       "<pre>| 56810        | 9e+008  | 62.725      | 5m 54s       |</pre>"
      ],
      "text/plain": [
       "| 56810        | 9e+008  | 62.725      | 5m 54s       |"
      ]
     },
     "metadata": {},
     "output_type": "display_data"
    },
    {
     "data": {
      "text/html": [
       "<pre>| 56975        | 9e+008  | 62.9071     | 5m 55s       |</pre>"
      ],
      "text/plain": [
       "| 56975        | 9e+008  | 62.9071     | 5m 55s       |"
      ]
     },
     "metadata": {},
     "output_type": "display_data"
    },
    {
     "data": {
      "text/html": [
       "<pre>| 57131        | 9e+008  | 63.0794     | 5m 56s       |</pre>"
      ],
      "text/plain": [
       "| 57131        | 9e+008  | 63.0794     | 5m 56s       |"
      ]
     },
     "metadata": {},
     "output_type": "display_data"
    },
    {
     "data": {
      "text/html": [
       "<pre>| 57300        | 9e+008  | 63.266      | 5m 57s       |</pre>"
      ],
      "text/plain": [
       "| 57300        | 9e+008  | 63.266      | 5m 57s       |"
      ]
     },
     "metadata": {},
     "output_type": "display_data"
    },
    {
     "data": {
      "text/html": [
       "<pre>| 57468        | 9e+008  | 63.4515     | 5m 58s       |</pre>"
      ],
      "text/plain": [
       "| 57468        | 9e+008  | 63.4515     | 5m 58s       |"
      ]
     },
     "metadata": {},
     "output_type": "display_data"
    },
    {
     "data": {
      "text/html": [
       "<pre>| 57631        | 9e+008  | 63.6314     | 6m 0s        |</pre>"
      ],
      "text/plain": [
       "| 57631        | 9e+008  | 63.6314     | 6m 0s        |"
      ]
     },
     "metadata": {},
     "output_type": "display_data"
    },
    {
     "data": {
      "text/html": [
       "<pre>| 57796        | 9e+008  | 63.8136     | 6m 1s        |</pre>"
      ],
      "text/plain": [
       "| 57796        | 9e+008  | 63.8136     | 6m 1s        |"
      ]
     },
     "metadata": {},
     "output_type": "display_data"
    },
    {
     "data": {
      "text/html": [
       "<pre>| 57959        | 1e+009  | 63.9936     | 6m 2s        |</pre>"
      ],
      "text/plain": [
       "| 57959        | 1e+009  | 63.9936     | 6m 2s        |"
      ]
     },
     "metadata": {},
     "output_type": "display_data"
    },
    {
     "data": {
      "text/html": [
       "<pre>| 58122        | 1e+009  | 64.1736     | 6m 3s        |</pre>"
      ],
      "text/plain": [
       "| 58122        | 1e+009  | 64.1736     | 6m 3s        |"
      ]
     },
     "metadata": {},
     "output_type": "display_data"
    },
    {
     "data": {
      "text/html": [
       "<pre>| 58288        | 1e+009  | 64.3569     | 6m 4s        |</pre>"
      ],
      "text/plain": [
       "| 58288        | 1e+009  | 64.3569     | 6m 4s        |"
      ]
     },
     "metadata": {},
     "output_type": "display_data"
    },
    {
     "data": {
      "text/html": [
       "<pre>| 58450        | 1e+009  | 64.5357     | 6m 5s        |</pre>"
      ],
      "text/plain": [
       "| 58450        | 1e+009  | 64.5357     | 6m 5s        |"
      ]
     },
     "metadata": {},
     "output_type": "display_data"
    },
    {
     "data": {
      "text/html": [
       "<pre>| 58620        | 1e+009  | 64.7234     | 6m 6s        |</pre>"
      ],
      "text/plain": [
       "| 58620        | 1e+009  | 64.7234     | 6m 6s        |"
      ]
     },
     "metadata": {},
     "output_type": "display_data"
    },
    {
     "data": {
      "text/html": [
       "<pre>| 58787        | 1e+009  | 64.9078     | 6m 7s        |</pre>"
      ],
      "text/plain": [
       "| 58787        | 1e+009  | 64.9078     | 6m 7s        |"
      ]
     },
     "metadata": {},
     "output_type": "display_data"
    },
    {
     "data": {
      "text/html": [
       "<pre>| 58956        | 1e+009  | 65.0944     | 6m 8s        |</pre>"
      ],
      "text/plain": [
       "| 58956        | 1e+009  | 65.0944     | 6m 8s        |"
      ]
     },
     "metadata": {},
     "output_type": "display_data"
    },
    {
     "data": {
      "text/html": [
       "<pre>| 59120        | 1e+009  | 65.2755     | 6m 9s        |</pre>"
      ],
      "text/plain": [
       "| 59120        | 1e+009  | 65.2755     | 6m 9s        |"
      ]
     },
     "metadata": {},
     "output_type": "display_data"
    },
    {
     "data": {
      "text/html": [
       "<pre>| 59284        | 1e+009  | 65.4566     | 6m 10s       |</pre>"
      ],
      "text/plain": [
       "| 59284        | 1e+009  | 65.4566     | 6m 10s       |"
      ]
     },
     "metadata": {},
     "output_type": "display_data"
    },
    {
     "data": {
      "text/html": [
       "<pre>| 59448        | 1e+009  | 65.6376     | 6m 11s       |</pre>"
      ],
      "text/plain": [
       "| 59448        | 1e+009  | 65.6376     | 6m 11s       |"
      ]
     },
     "metadata": {},
     "output_type": "display_data"
    },
    {
     "data": {
      "text/html": [
       "<pre>| 59608        | 1e+009  | 65.8143     | 6m 12s       |</pre>"
      ],
      "text/plain": [
       "| 59608        | 1e+009  | 65.8143     | 6m 12s       |"
      ]
     },
     "metadata": {},
     "output_type": "display_data"
    },
    {
     "data": {
      "text/html": [
       "<pre>| 59768        | 1e+009  | 65.9909     | 6m 13s       |</pre>"
      ],
      "text/plain": [
       "| 59768        | 1e+009  | 65.9909     | 6m 13s       |"
      ]
     },
     "metadata": {},
     "output_type": "display_data"
    },
    {
     "data": {
      "text/html": [
       "<pre>| 59933        | 1e+009  | 66.1731     | 6m 14s       |</pre>"
      ],
      "text/plain": [
       "| 59933        | 1e+009  | 66.1731     | 6m 14s       |"
      ]
     },
     "metadata": {},
     "output_type": "display_data"
    },
    {
     "data": {
      "text/html": [
       "<pre>| 60099        | 1e+009  | 66.3564     | 6m 15s       |</pre>"
      ],
      "text/plain": [
       "| 60099        | 1e+009  | 66.3564     | 6m 15s       |"
      ]
     },
     "metadata": {},
     "output_type": "display_data"
    },
    {
     "data": {
      "text/html": [
       "<pre>| 60264        | 1e+009  | 66.5386     | 6m 16s       |</pre>"
      ],
      "text/plain": [
       "| 60264        | 1e+009  | 66.5386     | 6m 16s       |"
      ]
     },
     "metadata": {},
     "output_type": "display_data"
    },
    {
     "data": {
      "text/html": [
       "<pre>| 60432        | 1e+009  | 66.7241     | 6m 17s       |</pre>"
      ],
      "text/plain": [
       "| 60432        | 1e+009  | 66.7241     | 6m 17s       |"
      ]
     },
     "metadata": {},
     "output_type": "display_data"
    },
    {
     "data": {
      "text/html": [
       "<pre>| 60595        | 1e+009  | 66.9041     | 6m 18s       |</pre>"
      ],
      "text/plain": [
       "| 60595        | 1e+009  | 66.9041     | 6m 18s       |"
      ]
     },
     "metadata": {},
     "output_type": "display_data"
    },
    {
     "data": {
      "text/html": [
       "<pre>| 60758        | 1e+009  | 67.084      | 6m 19s       |</pre>"
      ],
      "text/plain": [
       "| 60758        | 1e+009  | 67.084      | 6m 19s       |"
      ]
     },
     "metadata": {},
     "output_type": "display_data"
    },
    {
     "data": {
      "text/html": [
       "<pre>| 60924        | 1e+009  | 67.2673     | 6m 20s       |</pre>"
      ],
      "text/plain": [
       "| 60924        | 1e+009  | 67.2673     | 6m 20s       |"
      ]
     },
     "metadata": {},
     "output_type": "display_data"
    },
    {
     "data": {
      "text/html": [
       "<pre>| 61087        | 1e+009  | 67.4473     | 6m 21s       |</pre>"
      ],
      "text/plain": [
       "| 61087        | 1e+009  | 67.4473     | 6m 21s       |"
      ]
     },
     "metadata": {},
     "output_type": "display_data"
    },
    {
     "data": {
      "text/html": [
       "<pre>| 61252        | 1e+009  | 67.6295     | 6m 22s       |</pre>"
      ],
      "text/plain": [
       "| 61252        | 1e+009  | 67.6295     | 6m 22s       |"
      ]
     },
     "metadata": {},
     "output_type": "display_data"
    },
    {
     "data": {
      "text/html": [
       "<pre>| 61419        | 1e+009  | 67.8138     | 6m 23s       |</pre>"
      ],
      "text/plain": [
       "| 61419        | 1e+009  | 67.8138     | 6m 23s       |"
      ]
     },
     "metadata": {},
     "output_type": "display_data"
    },
    {
     "data": {
      "text/html": [
       "<pre>| 61586        | 1e+009  | 67.9982     | 6m 24s       |</pre>"
      ],
      "text/plain": [
       "| 61586        | 1e+009  | 67.9982     | 6m 24s       |"
      ]
     },
     "metadata": {},
     "output_type": "display_data"
    },
    {
     "data": {
      "text/html": [
       "<pre>| 61751        | 1e+009  | 68.1804     | 6m 25s       |</pre>"
      ],
      "text/plain": [
       "| 61751        | 1e+009  | 68.1804     | 6m 25s       |"
      ]
     },
     "metadata": {},
     "output_type": "display_data"
    },
    {
     "data": {
      "text/html": [
       "<pre>| 61919        | 1e+009  | 68.3659     | 6m 26s       |</pre>"
      ],
      "text/plain": [
       "| 61919        | 1e+009  | 68.3659     | 6m 26s       |"
      ]
     },
     "metadata": {},
     "output_type": "display_data"
    },
    {
     "data": {
      "text/html": [
       "<pre>| 62086        | 1e+009  | 68.5503     | 6m 27s       |</pre>"
      ],
      "text/plain": [
       "| 62086        | 1e+009  | 68.5503     | 6m 27s       |"
      ]
     },
     "metadata": {},
     "output_type": "display_data"
    },
    {
     "data": {
      "text/html": [
       "<pre>| 62250        | 1e+009  | 68.7314     | 6m 28s       |</pre>"
      ],
      "text/plain": [
       "| 62250        | 1e+009  | 68.7314     | 6m 28s       |"
      ]
     },
     "metadata": {},
     "output_type": "display_data"
    },
    {
     "data": {
      "text/html": [
       "<pre>| 62420        | 1e+009  | 68.9191     | 6m 29s       |</pre>"
      ],
      "text/plain": [
       "| 62420        | 1e+009  | 68.9191     | 6m 29s       |"
      ]
     },
     "metadata": {},
     "output_type": "display_data"
    },
    {
     "data": {
      "text/html": [
       "<pre>| 62589        | 1e+009  | 69.1057     | 6m 30s       |</pre>"
      ],
      "text/plain": [
       "| 62589        | 1e+009  | 69.1057     | 6m 30s       |"
      ]
     },
     "metadata": {},
     "output_type": "display_data"
    },
    {
     "data": {
      "text/html": [
       "<pre>| 62757        | 1e+009  | 69.2912     | 6m 31s       |</pre>"
      ],
      "text/plain": [
       "| 62757        | 1e+009  | 69.2912     | 6m 31s       |"
      ]
     },
     "metadata": {},
     "output_type": "display_data"
    },
    {
     "data": {
      "text/html": [
       "<pre>| 62925        | 1e+009  | 69.4766     | 6m 32s       |</pre>"
      ],
      "text/plain": [
       "| 62925        | 1e+009  | 69.4766     | 6m 32s       |"
      ]
     },
     "metadata": {},
     "output_type": "display_data"
    },
    {
     "data": {
      "text/html": [
       "<pre>| 63094        | 1e+009  | 69.6632     | 6m 33s       |</pre>"
      ],
      "text/plain": [
       "| 63094        | 1e+009  | 69.6632     | 6m 33s       |"
      ]
     },
     "metadata": {},
     "output_type": "display_data"
    },
    {
     "data": {
      "text/html": [
       "<pre>| 63261        | 1e+009  | 69.8476     | 6m 34s       |</pre>"
      ],
      "text/plain": [
       "| 63261        | 1e+009  | 69.8476     | 6m 34s       |"
      ]
     },
     "metadata": {},
     "output_type": "display_data"
    },
    {
     "data": {
      "text/html": [
       "<pre>| 63424        | 1e+009  | 70.0276     | 6m 35s       |</pre>"
      ],
      "text/plain": [
       "| 63424        | 1e+009  | 70.0276     | 6m 35s       |"
      ]
     },
     "metadata": {},
     "output_type": "display_data"
    },
    {
     "data": {
      "text/html": [
       "<pre>| 63583        | 1e+009  | 70.2032     | 6m 36s       |</pre>"
      ],
      "text/plain": [
       "| 63583        | 1e+009  | 70.2032     | 6m 36s       |"
      ]
     },
     "metadata": {},
     "output_type": "display_data"
    },
    {
     "data": {
      "text/html": [
       "<pre>| 63750        | 1e+009  | 70.3875     | 6m 37s       |</pre>"
      ],
      "text/plain": [
       "| 63750        | 1e+009  | 70.3875     | 6m 37s       |"
      ]
     },
     "metadata": {},
     "output_type": "display_data"
    },
    {
     "data": {
      "text/html": [
       "<pre>| 63916        | 1e+009  | 70.5708     | 6m 38s       |</pre>"
      ],
      "text/plain": [
       "| 63916        | 1e+009  | 70.5708     | 6m 38s       |"
      ]
     },
     "metadata": {},
     "output_type": "display_data"
    },
    {
     "data": {
      "text/html": [
       "<pre>| 64079        | 2e+009  | 70.7508     | 6m 39s       |</pre>"
      ],
      "text/plain": [
       "| 64079        | 2e+009  | 70.7508     | 6m 39s       |"
      ]
     },
     "metadata": {},
     "output_type": "display_data"
    },
    {
     "data": {
      "text/html": [
       "<pre>| 64245        | 2e+009  | 70.9341     | 6m 40s       |</pre>"
      ],
      "text/plain": [
       "| 64245        | 2e+009  | 70.9341     | 6m 40s       |"
      ]
     },
     "metadata": {},
     "output_type": "display_data"
    },
    {
     "data": {
      "text/html": [
       "<pre>| 64411        | 2e+009  | 71.1174     | 6m 41s       |</pre>"
      ],
      "text/plain": [
       "| 64411        | 2e+009  | 71.1174     | 6m 41s       |"
      ]
     },
     "metadata": {},
     "output_type": "display_data"
    },
    {
     "data": {
      "text/html": [
       "<pre>| 64581        | 2e+009  | 71.3051     | 6m 42s       |</pre>"
      ],
      "text/plain": [
       "| 64581        | 2e+009  | 71.3051     | 6m 42s       |"
      ]
     },
     "metadata": {},
     "output_type": "display_data"
    },
    {
     "data": {
      "text/html": [
       "<pre>| 64746        | 2e+009  | 71.4872     | 6m 43s       |</pre>"
      ],
      "text/plain": [
       "| 64746        | 2e+009  | 71.4872     | 6m 43s       |"
      ]
     },
     "metadata": {},
     "output_type": "display_data"
    },
    {
     "data": {
      "text/html": [
       "<pre>| 64901        | 2e+009  | 71.6584     | 6m 44s       |</pre>"
      ],
      "text/plain": [
       "| 64901        | 2e+009  | 71.6584     | 6m 44s       |"
      ]
     },
     "metadata": {},
     "output_type": "display_data"
    },
    {
     "data": {
      "text/html": [
       "<pre>| 65070        | 2e+009  | 71.845      | 6m 45s       |</pre>"
      ],
      "text/plain": [
       "| 65070        | 2e+009  | 71.845      | 6m 45s       |"
      ]
     },
     "metadata": {},
     "output_type": "display_data"
    },
    {
     "data": {
      "text/html": [
       "<pre>| 65237        | 2e+009  | 72.0294     | 6m 46s       |</pre>"
      ],
      "text/plain": [
       "| 65237        | 2e+009  | 72.0294     | 6m 46s       |"
      ]
     },
     "metadata": {},
     "output_type": "display_data"
    },
    {
     "data": {
      "text/html": [
       "<pre>| 65401        | 2e+009  | 72.2104     | 6m 47s       |</pre>"
      ],
      "text/plain": [
       "| 65401        | 2e+009  | 72.2104     | 6m 47s       |"
      ]
     },
     "metadata": {},
     "output_type": "display_data"
    },
    {
     "data": {
      "text/html": [
       "<pre>| 65558        | 2e+009  | 72.3838     | 6m 48s       |</pre>"
      ],
      "text/plain": [
       "| 65558        | 2e+009  | 72.3838     | 6m 48s       |"
      ]
     },
     "metadata": {},
     "output_type": "display_data"
    },
    {
     "data": {
      "text/html": [
       "<pre>| 65712        | 2e+009  | 72.5538     | 6m 49s       |</pre>"
      ],
      "text/plain": [
       "| 65712        | 2e+009  | 72.5538     | 6m 49s       |"
      ]
     },
     "metadata": {},
     "output_type": "display_data"
    },
    {
     "data": {
      "text/html": [
       "<pre>| 65860        | 2e+009  | 72.7172     | 6m 50s       |</pre>"
      ],
      "text/plain": [
       "| 65860        | 2e+009  | 72.7172     | 6m 50s       |"
      ]
     },
     "metadata": {},
     "output_type": "display_data"
    },
    {
     "data": {
      "text/html": [
       "<pre>| 66018        | 2e+009  | 72.8917     | 6m 51s       |</pre>"
      ],
      "text/plain": [
       "| 66018        | 2e+009  | 72.8917     | 6m 51s       |"
      ]
     },
     "metadata": {},
     "output_type": "display_data"
    },
    {
     "data": {
      "text/html": [
       "<pre>| 66175        | 2e+009  | 73.065      | 6m 52s       |</pre>"
      ],
      "text/plain": [
       "| 66175        | 2e+009  | 73.065      | 6m 52s       |"
      ]
     },
     "metadata": {},
     "output_type": "display_data"
    },
    {
     "data": {
      "text/html": [
       "<pre>| 66341        | 2e+009  | 73.2483     | 6m 53s       |</pre>"
      ],
      "text/plain": [
       "| 66341        | 2e+009  | 73.2483     | 6m 53s       |"
      ]
     },
     "metadata": {},
     "output_type": "display_data"
    },
    {
     "data": {
      "text/html": [
       "<pre>| 66506        | 2e+009  | 73.4305     | 6m 54s       |</pre>"
      ],
      "text/plain": [
       "| 66506        | 2e+009  | 73.4305     | 6m 54s       |"
      ]
     },
     "metadata": {},
     "output_type": "display_data"
    },
    {
     "data": {
      "text/html": [
       "<pre>| 66667        | 2e+009  | 73.6083     | 6m 55s       |</pre>"
      ],
      "text/plain": [
       "| 66667        | 2e+009  | 73.6083     | 6m 55s       |"
      ]
     },
     "metadata": {},
     "output_type": "display_data"
    },
    {
     "data": {
      "text/html": [
       "<pre>| 66812        | 2e+009  | 73.7684     | 6m 56s       |</pre>"
      ],
      "text/plain": [
       "| 66812        | 2e+009  | 73.7684     | 6m 56s       |"
      ]
     },
     "metadata": {},
     "output_type": "display_data"
    },
    {
     "data": {
      "text/html": [
       "<pre>| 66970        | 2e+009  | 73.9428     | 6m 57s       |</pre>"
      ],
      "text/plain": [
       "| 66970        | 2e+009  | 73.9428     | 6m 57s       |"
      ]
     },
     "metadata": {},
     "output_type": "display_data"
    },
    {
     "data": {
      "text/html": [
       "<pre>| 67126        | 2e+009  | 74.115      | 6m 58s       |</pre>"
      ],
      "text/plain": [
       "| 67126        | 2e+009  | 74.115      | 6m 58s       |"
      ]
     },
     "metadata": {},
     "output_type": "display_data"
    },
    {
     "data": {
      "text/html": [
       "<pre>| 67279        | 2e+009  | 74.284      | 6m 59s       |</pre>"
      ],
      "text/plain": [
       "| 67279        | 2e+009  | 74.284      | 6m 59s       |"
      ]
     },
     "metadata": {},
     "output_type": "display_data"
    },
    {
     "data": {
      "text/html": [
       "<pre>| 67443        | 2e+009  | 74.4651     | 7m 0s        |</pre>"
      ],
      "text/plain": [
       "| 67443        | 2e+009  | 74.4651     | 7m 0s        |"
      ]
     },
     "metadata": {},
     "output_type": "display_data"
    },
    {
     "data": {
      "text/html": [
       "<pre>| 67604        | 2e+009  | 74.6428     | 7m 1s        |</pre>"
      ],
      "text/plain": [
       "| 67604        | 2e+009  | 74.6428     | 7m 1s        |"
      ]
     },
     "metadata": {},
     "output_type": "display_data"
    },
    {
     "data": {
      "text/html": [
       "<pre>| 67770        | 2e+009  | 74.8261     | 7m 2s        |</pre>"
      ],
      "text/plain": [
       "| 67770        | 2e+009  | 74.8261     | 7m 2s        |"
      ]
     },
     "metadata": {},
     "output_type": "display_data"
    },
    {
     "data": {
      "text/html": [
       "<pre>| 67919        | 2e+009  | 74.9906     | 7m 3s        |</pre>"
      ],
      "text/plain": [
       "| 67919        | 2e+009  | 74.9906     | 7m 3s        |"
      ]
     },
     "metadata": {},
     "output_type": "display_data"
    },
    {
     "data": {
      "text/html": [
       "<pre>| 68080        | 2e+009  | 75.1684     | 7m 4s        |</pre>"
      ],
      "text/plain": [
       "| 68080        | 2e+009  | 75.1684     | 7m 4s        |"
      ]
     },
     "metadata": {},
     "output_type": "display_data"
    },
    {
     "data": {
      "text/html": [
       "<pre>| 68240        | 2e+009  | 75.345      | 7m 5s        |</pre>"
      ],
      "text/plain": [
       "| 68240        | 2e+009  | 75.345      | 7m 5s        |"
      ]
     },
     "metadata": {},
     "output_type": "display_data"
    },
    {
     "data": {
      "text/html": [
       "<pre>| 68404        | 2e+009  | 75.5261     | 7m 6s        |</pre>"
      ],
      "text/plain": [
       "| 68404        | 2e+009  | 75.5261     | 7m 6s        |"
      ]
     },
     "metadata": {},
     "output_type": "display_data"
    },
    {
     "data": {
      "text/html": [
       "<pre>| 68565        | 2e+009  | 75.7039     | 7m 7s        |</pre>"
      ],
      "text/plain": [
       "| 68565        | 2e+009  | 75.7039     | 7m 7s        |"
      ]
     },
     "metadata": {},
     "output_type": "display_data"
    },
    {
     "data": {
      "text/html": [
       "<pre>| 68726        | 2e+009  | 75.8816     | 7m 8s        |</pre>"
      ],
      "text/plain": [
       "| 68726        | 2e+009  | 75.8816     | 7m 8s        |"
      ]
     },
     "metadata": {},
     "output_type": "display_data"
    },
    {
     "data": {
      "text/html": [
       "<pre>| 68882        | 2e+009  | 76.0539     | 7m 9s        |</pre>"
      ],
      "text/plain": [
       "| 68882        | 2e+009  | 76.0539     | 7m 9s        |"
      ]
     },
     "metadata": {},
     "output_type": "display_data"
    },
    {
     "data": {
      "text/html": [
       "<pre>| 69045        | 2e+009  | 76.2339     | 7m 10s       |</pre>"
      ],
      "text/plain": [
       "| 69045        | 2e+009  | 76.2339     | 7m 10s       |"
      ]
     },
     "metadata": {},
     "output_type": "display_data"
    },
    {
     "data": {
      "text/html": [
       "<pre>| 69208        | 2e+009  | 76.4138     | 7m 11s       |</pre>"
      ],
      "text/plain": [
       "| 69208        | 2e+009  | 76.4138     | 7m 11s       |"
      ]
     },
     "metadata": {},
     "output_type": "display_data"
    },
    {
     "data": {
      "text/html": [
       "<pre>| 69370        | 2e+009  | 76.5927     | 7m 12s       |</pre>"
      ],
      "text/plain": [
       "| 69370        | 2e+009  | 76.5927     | 7m 12s       |"
      ]
     },
     "metadata": {},
     "output_type": "display_data"
    },
    {
     "data": {
      "text/html": [
       "<pre>| 69529        | 2e+009  | 76.7682     | 7m 13s       |</pre>"
      ],
      "text/plain": [
       "| 69529        | 2e+009  | 76.7682     | 7m 13s       |"
      ]
     },
     "metadata": {},
     "output_type": "display_data"
    },
    {
     "data": {
      "text/html": [
       "<pre>| 69685        | 2e+009  | 76.9405     | 7m 14s       |</pre>"
      ],
      "text/plain": [
       "| 69685        | 2e+009  | 76.9405     | 7m 14s       |"
      ]
     },
     "metadata": {},
     "output_type": "display_data"
    },
    {
     "data": {
      "text/html": [
       "<pre>| 69850        | 2e+009  | 77.1227     | 7m 15s       |</pre>"
      ],
      "text/plain": [
       "| 69850        | 2e+009  | 77.1227     | 7m 15s       |"
      ]
     },
     "metadata": {},
     "output_type": "display_data"
    },
    {
     "data": {
      "text/html": [
       "<pre>| 70012        | 2e+009  | 77.3015     | 7m 16s       |</pre>"
      ],
      "text/plain": [
       "| 70012        | 2e+009  | 77.3015     | 7m 16s       |"
      ]
     },
     "metadata": {},
     "output_type": "display_data"
    },
    {
     "data": {
      "text/html": [
       "<pre>| 70179        | 2e+009  | 77.4859     | 7m 17s       |</pre>"
      ],
      "text/plain": [
       "| 70179        | 2e+009  | 77.4859     | 7m 17s       |"
      ]
     },
     "metadata": {},
     "output_type": "display_data"
    },
    {
     "data": {
      "text/html": [
       "<pre>| 70343        | 2e+009  | 77.667      | 7m 18s       |</pre>"
      ],
      "text/plain": [
       "| 70343        | 2e+009  | 77.667      | 7m 18s       |"
      ]
     },
     "metadata": {},
     "output_type": "display_data"
    },
    {
     "data": {
      "text/html": [
       "<pre>| 70497        | 2e+009  | 77.837      | 7m 19s       |</pre>"
      ],
      "text/plain": [
       "| 70497        | 2e+009  | 77.837      | 7m 19s       |"
      ]
     },
     "metadata": {},
     "output_type": "display_data"
    },
    {
     "data": {
      "text/html": [
       "<pre>| 70661        | 2e+009  | 78.0181     | 7m 20s       |</pre>"
      ],
      "text/plain": [
       "| 70661        | 2e+009  | 78.0181     | 7m 20s       |"
      ]
     },
     "metadata": {},
     "output_type": "display_data"
    },
    {
     "data": {
      "text/html": [
       "<pre>| 70779        | 2e+009  | 78.1484     | 7m 21s       |</pre>"
      ],
      "text/plain": [
       "| 70779        | 2e+009  | 78.1484     | 7m 21s       |"
      ]
     },
     "metadata": {},
     "output_type": "display_data"
    },
    {
     "data": {
      "text/html": [
       "<pre>| 70940        | 2e+009  | 78.3262     | 7m 22s       |</pre>"
      ],
      "text/plain": [
       "| 70940        | 2e+009  | 78.3262     | 7m 22s       |"
      ]
     },
     "metadata": {},
     "output_type": "display_data"
    },
    {
     "data": {
      "text/html": [
       "<pre>| 71105        | 2e+009  | 78.5083     | 7m 23s       |</pre>"
      ],
      "text/plain": [
       "| 71105        | 2e+009  | 78.5083     | 7m 23s       |"
      ]
     },
     "metadata": {},
     "output_type": "display_data"
    },
    {
     "data": {
      "text/html": [
       "<pre>| 71262        | -2e+009 | 78.6817     | 7m 24s       |</pre>"
      ],
      "text/plain": [
       "| 71262        | -2e+009 | 78.6817     | 7m 24s       |"
      ]
     },
     "metadata": {},
     "output_type": "display_data"
    },
    {
     "data": {
      "text/html": [
       "<pre>| 71429        | -2e+009 | 78.8661     | 7m 25s       |</pre>"
      ],
      "text/plain": [
       "| 71429        | -2e+009 | 78.8661     | 7m 25s       |"
      ]
     },
     "metadata": {},
     "output_type": "display_data"
    },
    {
     "data": {
      "text/html": [
       "<pre>| 71593        | -2e+009 | 79.0471     | 7m 26s       |</pre>"
      ],
      "text/plain": [
       "| 71593        | -2e+009 | 79.0471     | 7m 26s       |"
      ]
     },
     "metadata": {},
     "output_type": "display_data"
    },
    {
     "data": {
      "text/html": [
       "<pre>| 71755        | -2e+009 | 79.226      | 7m 27s       |</pre>"
      ],
      "text/plain": [
       "| 71755        | -2e+009 | 79.226      | 7m 27s       |"
      ]
     },
     "metadata": {},
     "output_type": "display_data"
    },
    {
     "data": {
      "text/html": [
       "<pre>| 71925        | -2e+009 | 79.4137     | 7m 28s       |</pre>"
      ],
      "text/plain": [
       "| 71925        | -2e+009 | 79.4137     | 7m 28s       |"
      ]
     },
     "metadata": {},
     "output_type": "display_data"
    },
    {
     "data": {
      "text/html": [
       "<pre>| 72094        | -2e+009 | 79.6003     | 7m 29s       |</pre>"
      ],
      "text/plain": [
       "| 72094        | -2e+009 | 79.6003     | 7m 29s       |"
      ]
     },
     "metadata": {},
     "output_type": "display_data"
    },
    {
     "data": {
      "text/html": [
       "<pre>| 72264        | -2e+009 | 79.788      | 7m 30s       |</pre>"
      ],
      "text/plain": [
       "| 72264        | -2e+009 | 79.788      | 7m 30s       |"
      ]
     },
     "metadata": {},
     "output_type": "display_data"
    },
    {
     "data": {
      "text/html": [
       "<pre>| 72431        | -2e+009 | 79.9724     | 7m 31s       |</pre>"
      ],
      "text/plain": [
       "| 72431        | -2e+009 | 79.9724     | 7m 31s       |"
      ]
     },
     "metadata": {},
     "output_type": "display_data"
    },
    {
     "data": {
      "text/html": [
       "<pre>| 72593        | -2e+009 | 80.1513     | 7m 32s       |</pre>"
      ],
      "text/plain": [
       "| 72593        | -2e+009 | 80.1513     | 7m 32s       |"
      ]
     },
     "metadata": {},
     "output_type": "display_data"
    },
    {
     "data": {
      "text/html": [
       "<pre>| 72755        | -2e+009 | 80.3301     | 7m 33s       |</pre>"
      ],
      "text/plain": [
       "| 72755        | -2e+009 | 80.3301     | 7m 33s       |"
      ]
     },
     "metadata": {},
     "output_type": "display_data"
    },
    {
     "data": {
      "text/html": [
       "<pre>| 72917        | -2e+009 | 80.509      | 7m 34s       |</pre>"
      ],
      "text/plain": [
       "| 72917        | -2e+009 | 80.509      | 7m 34s       |"
      ]
     },
     "metadata": {},
     "output_type": "display_data"
    },
    {
     "data": {
      "text/html": [
       "<pre>| 73074        | -2e+009 | 80.6823     | 7m 35s       |</pre>"
      ],
      "text/plain": [
       "| 73074        | -2e+009 | 80.6823     | 7m 35s       |"
      ]
     },
     "metadata": {},
     "output_type": "display_data"
    },
    {
     "data": {
      "text/html": [
       "<pre>| 73239        | -2e+009 | 80.8645     | 7m 36s       |</pre>"
      ],
      "text/plain": [
       "| 73239        | -2e+009 | 80.8645     | 7m 36s       |"
      ]
     },
     "metadata": {},
     "output_type": "display_data"
    },
    {
     "data": {
      "text/html": [
       "<pre>| 73401        | -2e+009 | 81.0434     | 7m 37s       |</pre>"
      ],
      "text/plain": [
       "| 73401        | -2e+009 | 81.0434     | 7m 37s       |"
      ]
     },
     "metadata": {},
     "output_type": "display_data"
    },
    {
     "data": {
      "text/html": [
       "<pre>| 73564        | -2e+009 | 81.2234     | 7m 38s       |</pre>"
      ],
      "text/plain": [
       "| 73564        | -2e+009 | 81.2234     | 7m 38s       |"
      ]
     },
     "metadata": {},
     "output_type": "display_data"
    },
    {
     "data": {
      "text/html": [
       "<pre>| 73729        | -2e+009 | 81.4055     | 7m 39s       |</pre>"
      ],
      "text/plain": [
       "| 73729        | -2e+009 | 81.4055     | 7m 39s       |"
      ]
     },
     "metadata": {},
     "output_type": "display_data"
    },
    {
     "data": {
      "text/html": [
       "<pre>| 73893        | -2e+009 | 81.5866     | 7m 40s       |</pre>"
      ],
      "text/plain": [
       "| 73893        | -2e+009 | 81.5866     | 7m 40s       |"
      ]
     },
     "metadata": {},
     "output_type": "display_data"
    },
    {
     "data": {
      "text/html": [
       "<pre>| 74054        | -2e+009 | 81.7644     | 7m 41s       |</pre>"
      ],
      "text/plain": [
       "| 74054        | -2e+009 | 81.7644     | 7m 41s       |"
      ]
     },
     "metadata": {},
     "output_type": "display_data"
    },
    {
     "data": {
      "text/html": [
       "<pre>| 74221        | -2e+009 | 81.9488     | 7m 42s       |</pre>"
      ],
      "text/plain": [
       "| 74221        | -2e+009 | 81.9488     | 7m 42s       |"
      ]
     },
     "metadata": {},
     "output_type": "display_data"
    },
    {
     "data": {
      "text/html": [
       "<pre>| 74384        | -2e+009 | 82.1287     | 7m 43s       |</pre>"
      ],
      "text/plain": [
       "| 74384        | -2e+009 | 82.1287     | 7m 43s       |"
      ]
     },
     "metadata": {},
     "output_type": "display_data"
    },
    {
     "data": {
      "text/html": [
       "<pre>| 74544        | -2e+009 | 82.3054     | 7m 44s       |</pre>"
      ],
      "text/plain": [
       "| 74544        | -2e+009 | 82.3054     | 7m 44s       |"
      ]
     },
     "metadata": {},
     "output_type": "display_data"
    },
    {
     "data": {
      "text/html": [
       "<pre>| 74705        | -2e+009 | 82.4832     | 7m 45s       |</pre>"
      ],
      "text/plain": [
       "| 74705        | -2e+009 | 82.4832     | 7m 45s       |"
      ]
     },
     "metadata": {},
     "output_type": "display_data"
    },
    {
     "data": {
      "text/html": [
       "<pre>| 74871        | -2e+009 | 82.6664     | 7m 46s       |</pre>"
      ],
      "text/plain": [
       "| 74871        | -2e+009 | 82.6664     | 7m 46s       |"
      ]
     },
     "metadata": {},
     "output_type": "display_data"
    },
    {
     "data": {
      "text/html": [
       "<pre>| 75040        | -2e+009 | 82.853      | 7m 47s       |</pre>"
      ],
      "text/plain": [
       "| 75040        | -2e+009 | 82.853      | 7m 47s       |"
      ]
     },
     "metadata": {},
     "output_type": "display_data"
    },
    {
     "data": {
      "text/html": [
       "<pre>| 75194        | -2e+009 | 83.0231     | 7m 48s       |</pre>"
      ],
      "text/plain": [
       "| 75194        | -2e+009 | 83.0231     | 7m 48s       |"
      ]
     },
     "metadata": {},
     "output_type": "display_data"
    },
    {
     "data": {
      "text/html": [
       "<pre>| 75349        | -2e+009 | 83.1942     | 7m 49s       |</pre>"
      ],
      "text/plain": [
       "| 75349        | -2e+009 | 83.1942     | 7m 49s       |"
      ]
     },
     "metadata": {},
     "output_type": "display_data"
    },
    {
     "data": {
      "text/html": [
       "<pre>| 75509        | -2e+009 | 83.3709     | 7m 50s       |</pre>"
      ],
      "text/plain": [
       "| 75509        | -2e+009 | 83.3709     | 7m 50s       |"
      ]
     },
     "metadata": {},
     "output_type": "display_data"
    },
    {
     "data": {
      "text/html": [
       "<pre>| 75671        | -2e+009 | 83.5497     | 7m 51s       |</pre>"
      ],
      "text/plain": [
       "| 75671        | -2e+009 | 83.5497     | 7m 51s       |"
      ]
     },
     "metadata": {},
     "output_type": "display_data"
    },
    {
     "data": {
      "text/html": [
       "<pre>| 75839        | -2e+009 | 83.7352     | 7m 52s       |</pre>"
      ],
      "text/plain": [
       "| 75839        | -2e+009 | 83.7352     | 7m 52s       |"
      ]
     },
     "metadata": {},
     "output_type": "display_data"
    },
    {
     "data": {
      "text/html": [
       "<pre>| 76009        | -2e+009 | 83.9229     | 7m 53s       |</pre>"
      ],
      "text/plain": [
       "| 76009        | -2e+009 | 83.9229     | 7m 53s       |"
      ]
     },
     "metadata": {},
     "output_type": "display_data"
    },
    {
     "data": {
      "text/html": [
       "<pre>| 76172        | -2e+009 | 84.1029     | 7m 54s       |</pre>"
      ],
      "text/plain": [
       "| 76172        | -2e+009 | 84.1029     | 7m 54s       |"
      ]
     },
     "metadata": {},
     "output_type": "display_data"
    },
    {
     "data": {
      "text/html": [
       "<pre>| 76336        | -2e+009 | 84.284      | 7m 55s       |</pre>"
      ],
      "text/plain": [
       "| 76336        | -2e+009 | 84.284      | 7m 55s       |"
      ]
     },
     "metadata": {},
     "output_type": "display_data"
    },
    {
     "data": {
      "text/html": [
       "<pre>| 76497        | -2e+009 | 84.4617     | 7m 56s       |</pre>"
      ],
      "text/plain": [
       "| 76497        | -2e+009 | 84.4617     | 7m 56s       |"
      ]
     },
     "metadata": {},
     "output_type": "display_data"
    },
    {
     "data": {
      "text/html": [
       "<pre>| 76663        | -2e+009 | 84.645      | 7m 57s       |</pre>"
      ],
      "text/plain": [
       "| 76663        | -2e+009 | 84.645      | 7m 57s       |"
      ]
     },
     "metadata": {},
     "output_type": "display_data"
    },
    {
     "data": {
      "text/html": [
       "<pre>| 76828        | -2e+009 | 84.8272     | 7m 58s       |</pre>"
      ],
      "text/plain": [
       "| 76828        | -2e+009 | 84.8272     | 7m 58s       |"
      ]
     },
     "metadata": {},
     "output_type": "display_data"
    },
    {
     "data": {
      "text/html": [
       "<pre>| 76996        | -2e+009 | 85.0127     | 7m 59s       |</pre>"
      ],
      "text/plain": [
       "| 76996        | -2e+009 | 85.0127     | 7m 59s       |"
      ]
     },
     "metadata": {},
     "output_type": "display_data"
    },
    {
     "data": {
      "text/html": [
       "<pre>| 77161        | -2e+009 | 85.1949     | 8m 0s        |</pre>"
      ],
      "text/plain": [
       "| 77161        | -2e+009 | 85.1949     | 8m 0s        |"
      ]
     },
     "metadata": {},
     "output_type": "display_data"
    },
    {
     "data": {
      "text/html": [
       "<pre>| 77324        | -2e+009 | 85.3748     | 8m 1s        |</pre>"
      ],
      "text/plain": [
       "| 77324        | -2e+009 | 85.3748     | 8m 1s        |"
      ]
     },
     "metadata": {},
     "output_type": "display_data"
    },
    {
     "data": {
      "text/html": [
       "<pre>| 77492        | -2e+009 | 85.5603     | 8m 2s        |</pre>"
      ],
      "text/plain": [
       "| 77492        | -2e+009 | 85.5603     | 8m 2s        |"
      ]
     },
     "metadata": {},
     "output_type": "display_data"
    },
    {
     "data": {
      "text/html": [
       "<pre>| 77661        | -2e+009 | 85.7469     | 8m 3s        |</pre>"
      ],
      "text/plain": [
       "| 77661        | -2e+009 | 85.7469     | 8m 3s        |"
      ]
     },
     "metadata": {},
     "output_type": "display_data"
    },
    {
     "data": {
      "text/html": [
       "<pre>| 77826        | -2e+009 | 85.9291     | 8m 4s        |</pre>"
      ],
      "text/plain": [
       "| 77826        | -2e+009 | 85.9291     | 8m 4s        |"
      ]
     },
     "metadata": {},
     "output_type": "display_data"
    },
    {
     "data": {
      "text/html": [
       "<pre>| 77995        | -2e+009 | 86.1157     | 8m 5s        |</pre>"
      ],
      "text/plain": [
       "| 77995        | -2e+009 | 86.1157     | 8m 5s        |"
      ]
     },
     "metadata": {},
     "output_type": "display_data"
    },
    {
     "data": {
      "text/html": [
       "<pre>| 78155        | -2e+009 | 86.2924     | 8m 6s        |</pre>"
      ],
      "text/plain": [
       "| 78155        | -2e+009 | 86.2924     | 8m 6s        |"
      ]
     },
     "metadata": {},
     "output_type": "display_data"
    },
    {
     "data": {
      "text/html": [
       "<pre>| 78323        | -1e+009 | 86.4779     | 8m 7s        |</pre>"
      ],
      "text/plain": [
       "| 78323        | -1e+009 | 86.4779     | 8m 7s        |"
      ]
     },
     "metadata": {},
     "output_type": "display_data"
    },
    {
     "data": {
      "text/html": [
       "<pre>| 78491        | -1e+009 | 86.6634     | 8m 8s        |</pre>"
      ],
      "text/plain": [
       "| 78491        | -1e+009 | 86.6634     | 8m 8s        |"
      ]
     },
     "metadata": {},
     "output_type": "display_data"
    },
    {
     "data": {
      "text/html": [
       "<pre>| 78659        | -1e+009 | 86.8488     | 8m 9s        |</pre>"
      ],
      "text/plain": [
       "| 78659        | -1e+009 | 86.8488     | 8m 9s        |"
      ]
     },
     "metadata": {},
     "output_type": "display_data"
    },
    {
     "data": {
      "text/html": [
       "<pre>| 78828        | -1e+009 | 87.0354     | 8m 10s       |</pre>"
      ],
      "text/plain": [
       "| 78828        | -1e+009 | 87.0354     | 8m 10s       |"
      ]
     },
     "metadata": {},
     "output_type": "display_data"
    },
    {
     "data": {
      "text/html": [
       "<pre>| 78989        | -1e+009 | 87.2132     | 8m 11s       |</pre>"
      ],
      "text/plain": [
       "| 78989        | -1e+009 | 87.2132     | 8m 11s       |"
      ]
     },
     "metadata": {},
     "output_type": "display_data"
    },
    {
     "data": {
      "text/html": [
       "<pre>| 79156        | -1e+009 | 87.3976     | 8m 12s       |</pre>"
      ],
      "text/plain": [
       "| 79156        | -1e+009 | 87.3976     | 8m 12s       |"
      ]
     },
     "metadata": {},
     "output_type": "display_data"
    },
    {
     "data": {
      "text/html": [
       "<pre>| 79326        | -1e+009 | 87.5853     | 8m 13s       |</pre>"
      ],
      "text/plain": [
       "| 79326        | -1e+009 | 87.5853     | 8m 13s       |"
      ]
     },
     "metadata": {},
     "output_type": "display_data"
    },
    {
     "data": {
      "text/html": [
       "<pre>| 79488        | -1e+009 | 87.7642     | 8m 14s       |</pre>"
      ],
      "text/plain": [
       "| 79488        | -1e+009 | 87.7642     | 8m 14s       |"
      ]
     },
     "metadata": {},
     "output_type": "display_data"
    },
    {
     "data": {
      "text/html": [
       "<pre>| 79649        | -1e+009 | 87.9419     | 8m 15s       |</pre>"
      ],
      "text/plain": [
       "| 79649        | -1e+009 | 87.9419     | 8m 15s       |"
      ]
     },
     "metadata": {},
     "output_type": "display_data"
    },
    {
     "data": {
      "text/html": [
       "<pre>| 79811        | -1e+009 | 88.1208     | 8m 16s       |</pre>"
      ],
      "text/plain": [
       "| 79811        | -1e+009 | 88.1208     | 8m 16s       |"
      ]
     },
     "metadata": {},
     "output_type": "display_data"
    },
    {
     "data": {
      "text/html": [
       "<pre>| 79979        | -1e+009 | 88.3063     | 8m 17s       |</pre>"
      ],
      "text/plain": [
       "| 79979        | -1e+009 | 88.3063     | 8m 17s       |"
      ]
     },
     "metadata": {},
     "output_type": "display_data"
    },
    {
     "data": {
      "text/html": [
       "<pre>| 80140        | -1e+009 | 88.484      | 8m 18s       |</pre>"
      ],
      "text/plain": [
       "| 80140        | -1e+009 | 88.484      | 8m 18s       |"
      ]
     },
     "metadata": {},
     "output_type": "display_data"
    },
    {
     "data": {
      "text/html": [
       "<pre>| 80304        | -1e+009 | 88.6651     | 8m 19s       |</pre>"
      ],
      "text/plain": [
       "| 80304        | -1e+009 | 88.6651     | 8m 19s       |"
      ]
     },
     "metadata": {},
     "output_type": "display_data"
    },
    {
     "data": {
      "text/html": [
       "<pre>| 80470        | -1e+009 | 88.8484     | 8m 20s       |</pre>"
      ],
      "text/plain": [
       "| 80470        | -1e+009 | 88.8484     | 8m 20s       |"
      ]
     },
     "metadata": {},
     "output_type": "display_data"
    },
    {
     "data": {
      "text/html": [
       "<pre>| 80630        | -1e+009 | 89.0251     | 8m 21s       |</pre>"
      ],
      "text/plain": [
       "| 80630        | -1e+009 | 89.0251     | 8m 21s       |"
      ]
     },
     "metadata": {},
     "output_type": "display_data"
    },
    {
     "data": {
      "text/html": [
       "<pre>| 80799        | -1e+009 | 89.2117     | 8m 22s       |</pre>"
      ],
      "text/plain": [
       "| 80799        | -1e+009 | 89.2117     | 8m 22s       |"
      ]
     },
     "metadata": {},
     "output_type": "display_data"
    },
    {
     "data": {
      "text/html": [
       "<pre>| 80964        | -1e+009 | 89.3938     | 8m 23s       |</pre>"
      ],
      "text/plain": [
       "| 80964        | -1e+009 | 89.3938     | 8m 23s       |"
      ]
     },
     "metadata": {},
     "output_type": "display_data"
    },
    {
     "data": {
      "text/html": [
       "<pre>| 81128        | -1e+009 | 89.5749     | 8m 24s       |</pre>"
      ],
      "text/plain": [
       "| 81128        | -1e+009 | 89.5749     | 8m 24s       |"
      ]
     },
     "metadata": {},
     "output_type": "display_data"
    },
    {
     "data": {
      "text/html": [
       "<pre>| 81289        | -1e+009 | 89.7527     | 8m 25s       |</pre>"
      ],
      "text/plain": [
       "| 81289        | -1e+009 | 89.7527     | 8m 25s       |"
      ]
     },
     "metadata": {},
     "output_type": "display_data"
    },
    {
     "data": {
      "text/html": [
       "<pre>| 81453        | -1e+009 | 89.9338     | 8m 26s       |</pre>"
      ],
      "text/plain": [
       "| 81453        | -1e+009 | 89.9338     | 8m 26s       |"
      ]
     },
     "metadata": {},
     "output_type": "display_data"
    },
    {
     "data": {
      "text/html": [
       "<pre>| 81623        | -1e+009 | 90.1215     | 8m 27s       |</pre>"
      ],
      "text/plain": [
       "| 81623        | -1e+009 | 90.1215     | 8m 27s       |"
      ]
     },
     "metadata": {},
     "output_type": "display_data"
    },
    {
     "data": {
      "text/html": [
       "<pre>| 81792        | -1e+009 | 90.308      | 8m 28s       |</pre>"
      ],
      "text/plain": [
       "| 81792        | -1e+009 | 90.308      | 8m 28s       |"
      ]
     },
     "metadata": {},
     "output_type": "display_data"
    },
    {
     "data": {
      "text/html": [
       "<pre>| 81954        | -1e+009 | 90.4869     | 8m 29s       |</pre>"
      ],
      "text/plain": [
       "| 81954        | -1e+009 | 90.4869     | 8m 29s       |"
      ]
     },
     "metadata": {},
     "output_type": "display_data"
    },
    {
     "data": {
      "text/html": [
       "<pre>| 82119        | -1e+009 | 90.6691     | 8m 30s       |</pre>"
      ],
      "text/plain": [
       "| 82119        | -1e+009 | 90.6691     | 8m 30s       |"
      ]
     },
     "metadata": {},
     "output_type": "display_data"
    },
    {
     "data": {
      "text/html": [
       "<pre>| 82286        | -1e+009 | 90.8535     | 8m 31s       |</pre>"
      ],
      "text/plain": [
       "| 82286        | -1e+009 | 90.8535     | 8m 31s       |"
      ]
     },
     "metadata": {},
     "output_type": "display_data"
    },
    {
     "data": {
      "text/html": [
       "<pre>| 82446        | -1e+009 | 91.0301     | 8m 32s       |</pre>"
      ],
      "text/plain": [
       "| 82446        | -1e+009 | 91.0301     | 8m 32s       |"
      ]
     },
     "metadata": {},
     "output_type": "display_data"
    },
    {
     "data": {
      "text/html": [
       "<pre>| 82608        | -1e+009 | 91.209      | 8m 33s       |</pre>"
      ],
      "text/plain": [
       "| 82608        | -1e+009 | 91.209      | 8m 33s       |"
      ]
     },
     "metadata": {},
     "output_type": "display_data"
    },
    {
     "data": {
      "text/html": [
       "<pre>| 82772        | -1e+009 | 91.3901     | 8m 34s       |</pre>"
      ],
      "text/plain": [
       "| 82772        | -1e+009 | 91.3901     | 8m 34s       |"
      ]
     },
     "metadata": {},
     "output_type": "display_data"
    },
    {
     "data": {
      "text/html": [
       "<pre>| 82939        | -1e+009 | 91.5745     | 8m 35s       |</pre>"
      ],
      "text/plain": [
       "| 82939        | -1e+009 | 91.5745     | 8m 35s       |"
      ]
     },
     "metadata": {},
     "output_type": "display_data"
    },
    {
     "data": {
      "text/html": [
       "<pre>| 83102        | -1e+009 | 91.7544     | 8m 36s       |</pre>"
      ],
      "text/plain": [
       "| 83102        | -1e+009 | 91.7544     | 8m 36s       |"
      ]
     },
     "metadata": {},
     "output_type": "display_data"
    },
    {
     "data": {
      "text/html": [
       "<pre>| 83270        | -1e+009 | 91.9399     | 8m 37s       |</pre>"
      ],
      "text/plain": [
       "| 83270        | -1e+009 | 91.9399     | 8m 37s       |"
      ]
     },
     "metadata": {},
     "output_type": "display_data"
    },
    {
     "data": {
      "text/html": [
       "<pre>| 83439        | -1e+009 | 92.1265     | 8m 38s       |</pre>"
      ],
      "text/plain": [
       "| 83439        | -1e+009 | 92.1265     | 8m 38s       |"
      ]
     },
     "metadata": {},
     "output_type": "display_data"
    },
    {
     "data": {
      "text/html": [
       "<pre>| 83607        | -1e+009 | 92.312      | 8m 39s       |</pre>"
      ],
      "text/plain": [
       "| 83607        | -1e+009 | 92.312      | 8m 39s       |"
      ]
     },
     "metadata": {},
     "output_type": "display_data"
    },
    {
     "data": {
      "text/html": [
       "<pre>| 83773        | -1e+009 | 92.4953     | 8m 40s       |</pre>"
      ],
      "text/plain": [
       "| 83773        | -1e+009 | 92.4953     | 8m 40s       |"
      ]
     },
     "metadata": {},
     "output_type": "display_data"
    },
    {
     "data": {
      "text/html": [
       "<pre>| 83935        | -1e+009 | 92.6742     | 8m 41s       |</pre>"
      ],
      "text/plain": [
       "| 83935        | -1e+009 | 92.6742     | 8m 41s       |"
      ]
     },
     "metadata": {},
     "output_type": "display_data"
    },
    {
     "data": {
      "text/html": [
       "<pre>| 84103        | -1e+009 | 92.8597     | 8m 42s       |</pre>"
      ],
      "text/plain": [
       "| 84103        | -1e+009 | 92.8597     | 8m 42s       |"
      ]
     },
     "metadata": {},
     "output_type": "display_data"
    },
    {
     "data": {
      "text/html": [
       "<pre>| 84269        | -1e+009 | 93.043      | 8m 43s       |</pre>"
      ],
      "text/plain": [
       "| 84269        | -1e+009 | 93.043      | 8m 43s       |"
      ]
     },
     "metadata": {},
     "output_type": "display_data"
    },
    {
     "data": {
      "text/html": [
       "<pre>| 84430        | -9e+008 | 93.2207     | 8m 44s       |</pre>"
      ],
      "text/plain": [
       "| 84430        | -9e+008 | 93.2207     | 8m 44s       |"
      ]
     },
     "metadata": {},
     "output_type": "display_data"
    },
    {
     "data": {
      "text/html": [
       "<pre>| 84597        | -9e+008 | 93.4051     | 8m 45s       |</pre>"
      ],
      "text/plain": [
       "| 84597        | -9e+008 | 93.4051     | 8m 45s       |"
      ]
     },
     "metadata": {},
     "output_type": "display_data"
    },
    {
     "data": {
      "text/html": [
       "<pre>| 84764        | -9e+008 | 93.5895     | 8m 46s       |</pre>"
      ],
      "text/plain": [
       "| 84764        | -9e+008 | 93.5895     | 8m 46s       |"
      ]
     },
     "metadata": {},
     "output_type": "display_data"
    },
    {
     "data": {
      "text/html": [
       "<pre>| 84927        | -9e+008 | 93.7695     | 8m 47s       |</pre>"
      ],
      "text/plain": [
       "| 84927        | -9e+008 | 93.7695     | 8m 47s       |"
      ]
     },
     "metadata": {},
     "output_type": "display_data"
    },
    {
     "data": {
      "text/html": [
       "<pre>| 85077        | -9e+008 | 93.9351     | 8m 48s       |</pre>"
      ],
      "text/plain": [
       "| 85077        | -9e+008 | 93.9351     | 8m 48s       |"
      ]
     },
     "metadata": {},
     "output_type": "display_data"
    },
    {
     "data": {
      "text/html": [
       "<pre>| 85225        | -9e+008 | 94.0985     | 8m 49s       |</pre>"
      ],
      "text/plain": [
       "| 85225        | -9e+008 | 94.0985     | 8m 49s       |"
      ]
     },
     "metadata": {},
     "output_type": "display_data"
    },
    {
     "data": {
      "text/html": [
       "<pre>| 85379        | -9e+008 | 94.2685     | 8m 50s       |</pre>"
      ],
      "text/plain": [
       "| 85379        | -9e+008 | 94.2685     | 8m 50s       |"
      ]
     },
     "metadata": {},
     "output_type": "display_data"
    },
    {
     "data": {
      "text/html": [
       "<pre>| 85533        | -8e+008 | 94.4386     | 8m 51s       |</pre>"
      ],
      "text/plain": [
       "| 85533        | -8e+008 | 94.4386     | 8m 51s       |"
      ]
     },
     "metadata": {},
     "output_type": "display_data"
    },
    {
     "data": {
      "text/html": [
       "<pre>| 85676        | -8e+008 | 94.5964     | 8m 52s       |</pre>"
      ],
      "text/plain": [
       "| 85676        | -8e+008 | 94.5964     | 8m 52s       |"
      ]
     },
     "metadata": {},
     "output_type": "display_data"
    },
    {
     "data": {
      "text/html": [
       "<pre>| 85831        | -8e+008 | 94.7676     | 8m 53s       |</pre>"
      ],
      "text/plain": [
       "| 85831        | -8e+008 | 94.7676     | 8m 53s       |"
      ]
     },
     "metadata": {},
     "output_type": "display_data"
    },
    {
     "data": {
      "text/html": [
       "<pre>| 85982        | -8e+008 | 94.9343     | 8m 54s       |</pre>"
      ],
      "text/plain": [
       "| 85982        | -8e+008 | 94.9343     | 8m 54s       |"
      ]
     },
     "metadata": {},
     "output_type": "display_data"
    },
    {
     "data": {
      "text/html": [
       "<pre>| 86149        | -8e+008 | 95.1187     | 8m 55s       |</pre>"
      ],
      "text/plain": [
       "| 86149        | -8e+008 | 95.1187     | 8m 55s       |"
      ]
     },
     "metadata": {},
     "output_type": "display_data"
    },
    {
     "data": {
      "text/html": [
       "<pre>| 86317        | -8e+008 | 95.3042     | 8m 56s       |</pre>"
      ],
      "text/plain": [
       "| 86317        | -8e+008 | 95.3042     | 8m 56s       |"
      ]
     },
     "metadata": {},
     "output_type": "display_data"
    },
    {
     "data": {
      "text/html": [
       "<pre>| 86487        | -8e+008 | 95.4919     | 8m 57s       |</pre>"
      ],
      "text/plain": [
       "| 86487        | -8e+008 | 95.4919     | 8m 57s       |"
      ]
     },
     "metadata": {},
     "output_type": "display_data"
    },
    {
     "data": {
      "text/html": [
       "<pre>| 86646        | -7e+008 | 95.6674     | 8m 58s       |</pre>"
      ],
      "text/plain": [
       "| 86646        | -7e+008 | 95.6674     | 8m 58s       |"
      ]
     },
     "metadata": {},
     "output_type": "display_data"
    },
    {
     "data": {
      "text/html": [
       "<pre>| 86814        | -7e+008 | 95.8529     | 8m 59s       |</pre>"
      ],
      "text/plain": [
       "| 86814        | -7e+008 | 95.8529     | 8m 59s       |"
      ]
     },
     "metadata": {},
     "output_type": "display_data"
    },
    {
     "data": {
      "text/html": [
       "<pre>| 86971        | -7e+008 | 96.0263     | 9m 0s        |</pre>"
      ],
      "text/plain": [
       "| 86971        | -7e+008 | 96.0263     | 9m 0s        |"
      ]
     },
     "metadata": {},
     "output_type": "display_data"
    },
    {
     "data": {
      "text/html": [
       "<pre>| 87118        | -7e+008 | 96.1886     | 9m 1s        |</pre>"
      ],
      "text/plain": [
       "| 87118        | -7e+008 | 96.1886     | 9m 1s        |"
      ]
     },
     "metadata": {},
     "output_type": "display_data"
    },
    {
     "data": {
      "text/html": [
       "<pre>| 87271        | -7e+008 | 96.3575     | 9m 2s        |</pre>"
      ],
      "text/plain": [
       "| 87271        | -7e+008 | 96.3575     | 9m 2s        |"
      ]
     },
     "metadata": {},
     "output_type": "display_data"
    },
    {
     "data": {
      "text/html": [
       "<pre>| 87438        | -7e+008 | 96.5419     | 9m 4s        |</pre>"
      ],
      "text/plain": [
       "| 87438        | -7e+008 | 96.5419     | 9m 4s        |"
      ]
     },
     "metadata": {},
     "output_type": "display_data"
    },
    {
     "data": {
      "text/html": [
       "<pre>| 87602        | -7e+008 | 96.723      | 9m 5s        |</pre>"
      ],
      "text/plain": [
       "| 87602        | -7e+008 | 96.723      | 9m 5s        |"
      ]
     },
     "metadata": {},
     "output_type": "display_data"
    },
    {
     "data": {
      "text/html": [
       "<pre>| 87768        | -6e+008 | 96.9063     | 9m 6s        |</pre>"
      ],
      "text/plain": [
       "| 87768        | -6e+008 | 96.9063     | 9m 6s        |"
      ]
     },
     "metadata": {},
     "output_type": "display_data"
    },
    {
     "data": {
      "text/html": [
       "<pre>| 87935        | -6e+008 | 97.0906     | 9m 7s        |</pre>"
      ],
      "text/plain": [
       "| 87935        | -6e+008 | 97.0906     | 9m 7s        |"
      ]
     },
     "metadata": {},
     "output_type": "display_data"
    },
    {
     "data": {
      "text/html": [
       "<pre>| 88099        | -6e+008 | 97.2717     | 9m 8s        |</pre>"
      ],
      "text/plain": [
       "| 88099        | -6e+008 | 97.2717     | 9m 8s        |"
      ]
     },
     "metadata": {},
     "output_type": "display_data"
    },
    {
     "data": {
      "text/html": [
       "<pre>| 88268        | -6e+008 | 97.4583     | 9m 9s        |</pre>"
      ],
      "text/plain": [
       "| 88268        | -6e+008 | 97.4583     | 9m 9s        |"
      ]
     },
     "metadata": {},
     "output_type": "display_data"
    },
    {
     "data": {
      "text/html": [
       "<pre>| 88433        | -6e+008 | 97.6405     | 9m 10s       |</pre>"
      ],
      "text/plain": [
       "| 88433        | -6e+008 | 97.6405     | 9m 10s       |"
      ]
     },
     "metadata": {},
     "output_type": "display_data"
    },
    {
     "data": {
      "text/html": [
       "<pre>| 88596        | -6e+008 | 97.8205     | 9m 11s       |</pre>"
      ],
      "text/plain": [
       "| 88596        | -6e+008 | 97.8205     | 9m 11s       |"
      ]
     },
     "metadata": {},
     "output_type": "display_data"
    },
    {
     "data": {
      "text/html": [
       "<pre>| 88764        | -6e+008 | 98.006      | 9m 12s       |</pre>"
      ],
      "text/plain": [
       "| 88764        | -6e+008 | 98.006      | 9m 12s       |"
      ]
     },
     "metadata": {},
     "output_type": "display_data"
    },
    {
     "data": {
      "text/html": [
       "<pre>| 88929        | -5e+008 | 98.1881     | 9m 13s       |</pre>"
      ],
      "text/plain": [
       "| 88929        | -5e+008 | 98.1881     | 9m 13s       |"
      ]
     },
     "metadata": {},
     "output_type": "display_data"
    },
    {
     "data": {
      "text/html": [
       "<pre>| 89095        | -5e+008 | 98.3714     | 9m 14s       |</pre>"
      ],
      "text/plain": [
       "| 89095        | -5e+008 | 98.3714     | 9m 14s       |"
      ]
     },
     "metadata": {},
     "output_type": "display_data"
    },
    {
     "data": {
      "text/html": [
       "<pre>| 89264        | -5e+008 | 98.558      | 9m 15s       |</pre>"
      ],
      "text/plain": [
       "| 89264        | -5e+008 | 98.558      | 9m 15s       |"
      ]
     },
     "metadata": {},
     "output_type": "display_data"
    },
    {
     "data": {
      "text/html": [
       "<pre>| 89429        | -5e+008 | 98.7402     | 9m 16s       |</pre>"
      ],
      "text/plain": [
       "| 89429        | -5e+008 | 98.7402     | 9m 16s       |"
      ]
     },
     "metadata": {},
     "output_type": "display_data"
    },
    {
     "data": {
      "text/html": [
       "<pre>| 89555        | -5e+008 | 98.8793     | 9m 17s       |</pre>"
      ],
      "text/plain": [
       "| 89555        | -5e+008 | 98.8793     | 9m 17s       |"
      ]
     },
     "metadata": {},
     "output_type": "display_data"
    },
    {
     "data": {
      "text/html": [
       "<pre>| 89683        | -5e+008 | 99.0206     | 9m 18s       |</pre>"
      ],
      "text/plain": [
       "| 89683        | -5e+008 | 99.0206     | 9m 18s       |"
      ]
     },
     "metadata": {},
     "output_type": "display_data"
    },
    {
     "data": {
      "text/html": [
       "<pre>| 89811        | -5e+008 | 99.162      | 9m 19s       |</pre>"
      ],
      "text/plain": [
       "| 89811        | -5e+008 | 99.162      | 9m 19s       |"
      ]
     },
     "metadata": {},
     "output_type": "display_data"
    },
    {
     "data": {
      "text/html": [
       "<pre>| 89898        | -4e+008 | 99.258      | 9m 20s       |</pre>"
      ],
      "text/plain": [
       "| 89898        | -4e+008 | 99.258      | 9m 20s       |"
      ]
     },
     "metadata": {},
     "output_type": "display_data"
    },
    {
     "data": {
      "text/html": [
       "<pre>| 89985        | -4e+008 | 99.3541     | 9m 21s       |</pre>"
      ],
      "text/plain": [
       "| 89985        | -4e+008 | 99.3541     | 9m 21s       |"
      ]
     },
     "metadata": {},
     "output_type": "display_data"
    },
    {
     "data": {
      "text/html": [
       "<pre>| 90068        | -4e+008 | 99.4457     | 9m 22s       |</pre>"
      ],
      "text/plain": [
       "| 90068        | -4e+008 | 99.4457     | 9m 22s       |"
      ]
     },
     "metadata": {},
     "output_type": "display_data"
    },
    {
     "data": {
      "text/html": [
       "<pre>| 90151        | -4e+008 | 99.5374     | 9m 23s       |</pre>"
      ],
      "text/plain": [
       "| 90151        | -4e+008 | 99.5374     | 9m 23s       |"
      ]
     },
     "metadata": {},
     "output_type": "display_data"
    },
    {
     "data": {
      "text/html": [
       "<pre>| 90237        | -4e+008 | 99.6323     | 9m 24s       |</pre>"
      ],
      "text/plain": [
       "| 90237        | -4e+008 | 99.6323     | 9m 24s       |"
      ]
     },
     "metadata": {},
     "output_type": "display_data"
    },
    {
     "data": {
      "text/html": [
       "<pre>| 90311        | -4e+008 | 99.714      | 9m 25s       |</pre>"
      ],
      "text/plain": [
       "| 90311        | -4e+008 | 99.714      | 9m 25s       |"
      ]
     },
     "metadata": {},
     "output_type": "display_data"
    },
    {
     "data": {
      "text/html": [
       "<pre>| 90356        | -4e+008 | 99.7637     | 9m 26s       |</pre>"
      ],
      "text/plain": [
       "| 90356        | -4e+008 | 99.7637     | 9m 26s       |"
      ]
     },
     "metadata": {},
     "output_type": "display_data"
    },
    {
     "data": {
      "text/html": [
       "<pre>| 90397        | -4e+008 | 99.809      | 9m 27s       |</pre>"
      ],
      "text/plain": [
       "| 90397        | -4e+008 | 99.809      | 9m 27s       |"
      ]
     },
     "metadata": {},
     "output_type": "display_data"
    },
    {
     "data": {
      "text/html": [
       "<pre>| 90441        | -4e+008 | 99.8576     | 9m 28s       |</pre>"
      ],
      "text/plain": [
       "| 90441        | -4e+008 | 99.8576     | 9m 28s       |"
      ]
     },
     "metadata": {},
     "output_type": "display_data"
    },
    {
     "data": {
      "text/html": [
       "<pre>| 90485        | -4e+008 | 99.9061     | 9m 29s       |</pre>"
      ],
      "text/plain": [
       "| 90485        | -4e+008 | 99.9061     | 9m 29s       |"
      ]
     },
     "metadata": {},
     "output_type": "display_data"
    },
    {
     "data": {
      "text/html": [
       "<pre>| 90529        | -4e+008 | 99.9547     | 9m 30s       |</pre>"
      ],
      "text/plain": [
       "| 90529        | -4e+008 | 99.9547     | 9m 30s       |"
      ]
     },
     "metadata": {},
     "output_type": "display_data"
    },
    {
     "data": {
      "text/html": [
       "<pre>| Done         |         | 100         | 9m 31s       |</pre>"
      ],
      "text/plain": [
       "| Done         |         | 100         | 9m 31s       |"
      ]
     },
     "metadata": {},
     "output_type": "display_data"
    },
    {
     "data": {
      "text/html": [
       "<pre>+--------------+---------+-------------+--------------+</pre>"
      ],
      "text/plain": [
       "+--------------+---------+-------------+--------------+"
      ]
     },
     "metadata": {},
     "output_type": "display_data"
    },
    {
     "name": "stderr",
     "output_type": "stream",
     "text": [
      "[ERROR] graphlab.toolkits._main: Toolkit error: Target column given as 'rating', but this is not present in the provided data.\n"
     ]
    },
    {
     "ename": "ToolkitError",
     "evalue": "Target column given as 'rating', but this is not present in the provided data.",
     "output_type": "error",
     "traceback": [
      "\u001b[1;31m---------------------------------------------------------------------------\u001b[0m",
      "\u001b[1;31mToolkitError\u001b[0m                              Traceback (most recent call last)",
      "\u001b[1;32m<ipython-input-23-d3a9031dfae3>\u001b[0m in \u001b[0;36m<module>\u001b[1;34m()\u001b[0m\n\u001b[1;32m----> 1\u001b[1;33m \u001b[0mitem_cont_recomm\u001b[0m \u001b[1;33m=\u001b[0m \u001b[0mgraphlab\u001b[0m\u001b[1;33m.\u001b[0m\u001b[0mrecommender\u001b[0m\u001b[1;33m.\u001b[0m\u001b[0mitem_content_recommender\u001b[0m\u001b[1;33m.\u001b[0m\u001b[0mcreate\u001b[0m\u001b[1;33m(\u001b[0m\u001b[0mtrain_data\u001b[0m\u001b[1;33m,\u001b[0m \u001b[0muser_id\u001b[0m\u001b[1;33m=\u001b[0m\u001b[1;34m'user_id'\u001b[0m\u001b[1;33m,\u001b[0m \u001b[0mitem_id\u001b[0m\u001b[1;33m=\u001b[0m\u001b[1;34m'movie_id'\u001b[0m\u001b[1;33m,\u001b[0m \u001b[0mtarget\u001b[0m\u001b[1;33m=\u001b[0m\u001b[1;34m'rating'\u001b[0m\u001b[1;33m)\u001b[0m\u001b[1;33m\u001b[0m\u001b[0m\n\u001b[0m",
      "\u001b[1;32mC:\\Users\\student06\\Anaconda2\\lib\\site-packages\\graphlab\\toolkits\\recommender\\item_content_recommender.pyc\u001b[0m in \u001b[0;36mcreate\u001b[1;34m(item_data, item_id, observation_data, user_id, target, weights, similarity_metrics, item_data_transform, max_item_neighborhood_size, verbose)\u001b[0m\n\u001b[0;32m    269\u001b[0m             'max_item_neighborhood_size' : max_item_neighborhood_size}\n\u001b[0;32m    270\u001b[0m \u001b[1;33m\u001b[0m\u001b[0m\n\u001b[1;32m--> 271\u001b[1;33m     \u001b[0mresponse\u001b[0m \u001b[1;33m=\u001b[0m \u001b[0m_graphlab\u001b[0m\u001b[1;33m.\u001b[0m\u001b[0mtoolkits\u001b[0m\u001b[1;33m.\u001b[0m\u001b[0m_main\u001b[0m\u001b[1;33m.\u001b[0m\u001b[0mrun\u001b[0m\u001b[1;33m(\u001b[0m\u001b[1;34m'recsys_train'\u001b[0m\u001b[1;33m,\u001b[0m \u001b[0mopts\u001b[0m\u001b[1;33m,\u001b[0m \u001b[0mverbose\u001b[0m\u001b[1;33m)\u001b[0m\u001b[1;33m\u001b[0m\u001b[0m\n\u001b[0m\u001b[0;32m    272\u001b[0m     \u001b[0mout_model\u001b[0m \u001b[1;33m=\u001b[0m \u001b[0mItemContentRecommender\u001b[0m\u001b[1;33m(\u001b[0m\u001b[0mresponse\u001b[0m\u001b[1;33m[\u001b[0m\u001b[1;34m'model'\u001b[0m\u001b[1;33m]\u001b[0m\u001b[1;33m)\u001b[0m\u001b[1;33m\u001b[0m\u001b[0m\n\u001b[0;32m    273\u001b[0m \u001b[1;33m\u001b[0m\u001b[0m\n",
      "\u001b[1;32mC:\\Users\\student06\\Anaconda2\\lib\\site-packages\\graphlab\\toolkits\\_main.pyc\u001b[0m in \u001b[0;36mrun\u001b[1;34m(toolkit_name, options, verbose, show_progress)\u001b[0m\n\u001b[0;32m     87\u001b[0m         \u001b[0m_get_metric_tracker\u001b[0m\u001b[1;33m(\u001b[0m\u001b[1;33m)\u001b[0m\u001b[1;33m.\u001b[0m\u001b[0mtrack\u001b[0m\u001b[1;33m(\u001b[0m\u001b[0mmetric_name\u001b[0m\u001b[1;33m,\u001b[0m \u001b[0mvalue\u001b[0m\u001b[1;33m=\u001b[0m\u001b[1;36m1\u001b[0m\u001b[1;33m,\u001b[0m \u001b[0mproperties\u001b[0m\u001b[1;33m=\u001b[0m\u001b[0mtrack_props\u001b[0m\u001b[1;33m,\u001b[0m \u001b[0msend_sys_info\u001b[0m\u001b[1;33m=\u001b[0m\u001b[0mFalse\u001b[0m\u001b[1;33m)\u001b[0m\u001b[1;33m\u001b[0m\u001b[0m\n\u001b[0;32m     88\u001b[0m \u001b[1;33m\u001b[0m\u001b[0m\n\u001b[1;32m---> 89\u001b[1;33m         \u001b[1;32mraise\u001b[0m \u001b[0mToolkitError\u001b[0m\u001b[1;33m(\u001b[0m\u001b[0mstr\u001b[0m\u001b[1;33m(\u001b[0m\u001b[0mmessage\u001b[0m\u001b[1;33m)\u001b[0m\u001b[1;33m)\u001b[0m\u001b[1;33m\u001b[0m\u001b[0m\n\u001b[0m",
      "\u001b[1;31mToolkitError\u001b[0m: Target column given as 'rating', but this is not present in the provided data."
     ]
    }
   ],
   "source": []
  },
  {
   "cell_type": "code",
   "execution_count": 25,
   "metadata": {
    "collapsed": false
   },
   "outputs": [
    {
     "ename": "NameError",
     "evalue": "name 'item_cont_recomm' is not defined",
     "output_type": "error",
     "traceback": [
      "\u001b[1;31m---------------------------------------------------------------------------\u001b[0m",
      "\u001b[1;31mNameError\u001b[0m                                 Traceback (most recent call last)",
      "\u001b[1;32m<ipython-input-25-70949193e23e>\u001b[0m in \u001b[0;36m<module>\u001b[1;34m()\u001b[0m\n\u001b[1;32m----> 1\u001b[1;33m \u001b[0mfinal\u001b[0m \u001b[1;33m=\u001b[0m \u001b[0mitem_cont_recomm\u001b[0m\u001b[1;33m.\u001b[0m\u001b[0mrecommend\u001b[0m\u001b[1;33m(\u001b[0m\u001b[0musers\u001b[0m\u001b[1;33m=\u001b[0m\u001b[0mrange\u001b[0m\u001b[1;33m(\u001b[0m\u001b[1;36m1\u001b[0m\u001b[1;33m,\u001b[0m\u001b[1;36m6\u001b[0m\u001b[1;33m)\u001b[0m\u001b[1;33m,\u001b[0m\u001b[0mk\u001b[0m\u001b[1;33m=\u001b[0m\u001b[1;36m5\u001b[0m\u001b[1;33m)\u001b[0m\u001b[1;33m\u001b[0m\u001b[0m\n\u001b[0m\u001b[0;32m      2\u001b[0m \u001b[0mfinal\u001b[0m\u001b[1;33m.\u001b[0m\u001b[0mprint_rows\u001b[0m\u001b[1;33m(\u001b[0m\u001b[0mnum_rows\u001b[0m\u001b[1;33m=\u001b[0m\u001b[1;36m25\u001b[0m\u001b[1;33m)\u001b[0m\u001b[1;33m\u001b[0m\u001b[0m\n",
      "\u001b[1;31mNameError\u001b[0m: name 'item_cont_recomm' is not defined"
     ]
    }
   ],
   "source": []
  },
  {
   "cell_type": "code",
   "execution_count": null,
   "metadata": {
    "collapsed": true
   },
   "outputs": [],
   "source": []
  }
 ],
 "metadata": {
  "anaconda-cloud": {},
  "kernelspec": {
   "display_name": "Python [Root]",
   "language": "python",
   "name": "Python [Root]"
  },
  "language_info": {
   "codemirror_mode": {
    "name": "ipython",
    "version": 2
   },
   "file_extension": ".py",
   "mimetype": "text/x-python",
   "name": "python",
   "nbconvert_exporter": "python",
   "pygments_lexer": "ipython2",
   "version": "2.7.12"
  }
 },
 "nbformat": 4,
 "nbformat_minor": 0
}
