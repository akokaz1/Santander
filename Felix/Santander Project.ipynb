{
 "cells": [
  {
   "cell_type": "code",
   "execution_count": 1,
   "metadata": {
    "collapsed": false
   },
   "outputs": [
    {
     "name": "stdout",
     "output_type": "stream",
     "text": [
      "Populating the interactive namespace from numpy and matplotlib\n"
     ]
    }
   ],
   "source": [
    "import numpy as np\n",
    "import pandas as pd\n",
    "import matplotlib.pyplot as plt\n",
    "import seaborn as sns\n",
    "%pylab inline\n",
    "pylab.rcParams['figure.figsize'] = (10, 6)"
   ]
  },
  {
   "cell_type": "code",
   "execution_count": 2,
   "metadata": {
    "collapsed": false
   },
   "outputs": [
    {
     "name": "stderr",
     "output_type": "stream",
     "text": [
      "C:\\Users\\student10\\Anaconda2\\lib\\site-packages\\IPython\\core\\interactiveshell.py:2723: DtypeWarning: Columns (5,8,11,15) have mixed types. Specify dtype option on import or set low_memory=False.\n",
      "  interactivity=interactivity, compiler=compiler, result=result)\n",
      "C:\\Users\\student10\\Anaconda2\\lib\\site-packages\\pandas\\core\\generic.py:2572: VisibleDeprecationWarning: using a non-integer number instead of an integer will result in an error in the future\n",
      "  locs = rs.choice(axis_length, size=n, replace=replace, p=weights)\n",
      "C:\\Users\\student10\\Anaconda2\\lib\\site-packages\\numpy\\lib\\function_base.py:3834: RuntimeWarning: Invalid value encountered in percentile\n",
      "  RuntimeWarning)\n"
     ]
    },
    {
     "data": {
      "text/html": [
       "<div>\n",
       "<table border=\"1\" class=\"dataframe\">\n",
       "  <thead>\n",
       "    <tr style=\"text-align: right;\">\n",
       "      <th></th>\n",
       "      <th>ncodpers</th>\n",
       "      <th>indrel</th>\n",
       "      <th>tipodom</th>\n",
       "      <th>cod_prov</th>\n",
       "      <th>ind_actividad_cliente</th>\n",
       "      <th>renta</th>\n",
       "      <th>ind_ahor_fin_ult1</th>\n",
       "      <th>ind_aval_fin_ult1</th>\n",
       "      <th>ind_cco_fin_ult1</th>\n",
       "      <th>ind_cder_fin_ult1</th>\n",
       "      <th>...</th>\n",
       "      <th>ind_hip_fin_ult1</th>\n",
       "      <th>ind_plan_fin_ult1</th>\n",
       "      <th>ind_pres_fin_ult1</th>\n",
       "      <th>ind_reca_fin_ult1</th>\n",
       "      <th>ind_tjcr_fin_ult1</th>\n",
       "      <th>ind_valo_fin_ult1</th>\n",
       "      <th>ind_viv_fin_ult1</th>\n",
       "      <th>ind_nomina_ult1</th>\n",
       "      <th>ind_nom_pens_ult1</th>\n",
       "      <th>ind_recibo_ult1</th>\n",
       "    </tr>\n",
       "  </thead>\n",
       "  <tbody>\n",
       "    <tr>\n",
       "      <th>count</th>\n",
       "      <td>9.338900e+04</td>\n",
       "      <td>93046.000000</td>\n",
       "      <td>93046.0</td>\n",
       "      <td>92541.000000</td>\n",
       "      <td>93046.000000</td>\n",
       "      <td>7.709700e+04</td>\n",
       "      <td>93389.0</td>\n",
       "      <td>93389.0</td>\n",
       "      <td>93389.000000</td>\n",
       "      <td>93389.000000</td>\n",
       "      <td>...</td>\n",
       "      <td>93389.000000</td>\n",
       "      <td>93389.000000</td>\n",
       "      <td>93389.000000</td>\n",
       "      <td>93389.000000</td>\n",
       "      <td>93389.000000</td>\n",
       "      <td>93389.000000</td>\n",
       "      <td>93389.000000</td>\n",
       "      <td>93191.000000</td>\n",
       "      <td>93191.000000</td>\n",
       "      <td>93389.000000</td>\n",
       "    </tr>\n",
       "    <tr>\n",
       "      <th>mean</th>\n",
       "      <td>7.996833e+05</td>\n",
       "      <td>1.157986</td>\n",
       "      <td>1.0</td>\n",
       "      <td>26.599226</td>\n",
       "      <td>0.493519</td>\n",
       "      <td>1.363816e+05</td>\n",
       "      <td>0.0</td>\n",
       "      <td>0.0</td>\n",
       "      <td>0.702224</td>\n",
       "      <td>0.000407</td>\n",
       "      <td>...</td>\n",
       "      <td>0.006821</td>\n",
       "      <td>0.010676</td>\n",
       "      <td>0.002581</td>\n",
       "      <td>0.056099</td>\n",
       "      <td>0.052586</td>\n",
       "      <td>0.028044</td>\n",
       "      <td>0.004347</td>\n",
       "      <td>0.059544</td>\n",
       "      <td>0.065081</td>\n",
       "      <td>0.138796</td>\n",
       "    </tr>\n",
       "    <tr>\n",
       "      <th>std</th>\n",
       "      <td>4.223790e+05</td>\n",
       "      <td>3.931650</td>\n",
       "      <td>0.0</td>\n",
       "      <td>12.762342</td>\n",
       "      <td>0.499961</td>\n",
       "      <td>2.598026e+05</td>\n",
       "      <td>0.0</td>\n",
       "      <td>0.0</td>\n",
       "      <td>0.457283</td>\n",
       "      <td>0.020168</td>\n",
       "      <td>...</td>\n",
       "      <td>0.082307</td>\n",
       "      <td>0.102771</td>\n",
       "      <td>0.050734</td>\n",
       "      <td>0.230113</td>\n",
       "      <td>0.223208</td>\n",
       "      <td>0.165099</td>\n",
       "      <td>0.065792</td>\n",
       "      <td>0.236642</td>\n",
       "      <td>0.246671</td>\n",
       "      <td>0.345735</td>\n",
       "    </tr>\n",
       "    <tr>\n",
       "      <th>min</th>\n",
       "      <td>1.592900e+04</td>\n",
       "      <td>1.000000</td>\n",
       "      <td>1.0</td>\n",
       "      <td>1.000000</td>\n",
       "      <td>0.000000</td>\n",
       "      <td>8.547750e+03</td>\n",
       "      <td>0.0</td>\n",
       "      <td>0.0</td>\n",
       "      <td>0.000000</td>\n",
       "      <td>0.000000</td>\n",
       "      <td>...</td>\n",
       "      <td>0.000000</td>\n",
       "      <td>0.000000</td>\n",
       "      <td>0.000000</td>\n",
       "      <td>0.000000</td>\n",
       "      <td>0.000000</td>\n",
       "      <td>0.000000</td>\n",
       "      <td>0.000000</td>\n",
       "      <td>0.000000</td>\n",
       "      <td>0.000000</td>\n",
       "      <td>0.000000</td>\n",
       "    </tr>\n",
       "    <tr>\n",
       "      <th>25%</th>\n",
       "      <td>4.139520e+05</td>\n",
       "      <td>NaN</td>\n",
       "      <td>NaN</td>\n",
       "      <td>NaN</td>\n",
       "      <td>NaN</td>\n",
       "      <td>NaN</td>\n",
       "      <td>0.0</td>\n",
       "      <td>0.0</td>\n",
       "      <td>0.000000</td>\n",
       "      <td>0.000000</td>\n",
       "      <td>...</td>\n",
       "      <td>0.000000</td>\n",
       "      <td>0.000000</td>\n",
       "      <td>0.000000</td>\n",
       "      <td>0.000000</td>\n",
       "      <td>0.000000</td>\n",
       "      <td>0.000000</td>\n",
       "      <td>0.000000</td>\n",
       "      <td>NaN</td>\n",
       "      <td>NaN</td>\n",
       "      <td>0.000000</td>\n",
       "    </tr>\n",
       "    <tr>\n",
       "      <th>50%</th>\n",
       "      <td>9.124330e+05</td>\n",
       "      <td>NaN</td>\n",
       "      <td>NaN</td>\n",
       "      <td>NaN</td>\n",
       "      <td>NaN</td>\n",
       "      <td>NaN</td>\n",
       "      <td>0.0</td>\n",
       "      <td>0.0</td>\n",
       "      <td>1.000000</td>\n",
       "      <td>0.000000</td>\n",
       "      <td>...</td>\n",
       "      <td>0.000000</td>\n",
       "      <td>0.000000</td>\n",
       "      <td>0.000000</td>\n",
       "      <td>0.000000</td>\n",
       "      <td>0.000000</td>\n",
       "      <td>0.000000</td>\n",
       "      <td>0.000000</td>\n",
       "      <td>NaN</td>\n",
       "      <td>NaN</td>\n",
       "      <td>0.000000</td>\n",
       "    </tr>\n",
       "    <tr>\n",
       "      <th>75%</th>\n",
       "      <td>1.164990e+06</td>\n",
       "      <td>NaN</td>\n",
       "      <td>NaN</td>\n",
       "      <td>NaN</td>\n",
       "      <td>NaN</td>\n",
       "      <td>NaN</td>\n",
       "      <td>0.0</td>\n",
       "      <td>0.0</td>\n",
       "      <td>1.000000</td>\n",
       "      <td>0.000000</td>\n",
       "      <td>...</td>\n",
       "      <td>0.000000</td>\n",
       "      <td>0.000000</td>\n",
       "      <td>0.000000</td>\n",
       "      <td>0.000000</td>\n",
       "      <td>0.000000</td>\n",
       "      <td>0.000000</td>\n",
       "      <td>0.000000</td>\n",
       "      <td>NaN</td>\n",
       "      <td>NaN</td>\n",
       "      <td>0.000000</td>\n",
       "    </tr>\n",
       "    <tr>\n",
       "      <th>max</th>\n",
       "      <td>1.495427e+06</td>\n",
       "      <td>99.000000</td>\n",
       "      <td>1.0</td>\n",
       "      <td>52.000000</td>\n",
       "      <td>1.000000</td>\n",
       "      <td>1.601868e+07</td>\n",
       "      <td>0.0</td>\n",
       "      <td>0.0</td>\n",
       "      <td>1.000000</td>\n",
       "      <td>1.000000</td>\n",
       "      <td>...</td>\n",
       "      <td>1.000000</td>\n",
       "      <td>1.000000</td>\n",
       "      <td>1.000000</td>\n",
       "      <td>1.000000</td>\n",
       "      <td>1.000000</td>\n",
       "      <td>1.000000</td>\n",
       "      <td>1.000000</td>\n",
       "      <td>1.000000</td>\n",
       "      <td>1.000000</td>\n",
       "      <td>1.000000</td>\n",
       "    </tr>\n",
       "  </tbody>\n",
       "</table>\n",
       "<p>8 rows × 30 columns</p>\n",
       "</div>"
      ],
      "text/plain": [
       "           ncodpers        indrel  tipodom      cod_prov  \\\n",
       "count  9.338900e+04  93046.000000  93046.0  92541.000000   \n",
       "mean   7.996833e+05      1.157986      1.0     26.599226   \n",
       "std    4.223790e+05      3.931650      0.0     12.762342   \n",
       "min    1.592900e+04      1.000000      1.0      1.000000   \n",
       "25%    4.139520e+05           NaN      NaN           NaN   \n",
       "50%    9.124330e+05           NaN      NaN           NaN   \n",
       "75%    1.164990e+06           NaN      NaN           NaN   \n",
       "max    1.495427e+06     99.000000      1.0     52.000000   \n",
       "\n",
       "       ind_actividad_cliente         renta  ind_ahor_fin_ult1  \\\n",
       "count           93046.000000  7.709700e+04            93389.0   \n",
       "mean                0.493519  1.363816e+05                0.0   \n",
       "std                 0.499961  2.598026e+05                0.0   \n",
       "min                 0.000000  8.547750e+03                0.0   \n",
       "25%                      NaN           NaN                0.0   \n",
       "50%                      NaN           NaN                0.0   \n",
       "75%                      NaN           NaN                0.0   \n",
       "max                 1.000000  1.601868e+07                0.0   \n",
       "\n",
       "       ind_aval_fin_ult1  ind_cco_fin_ult1  ind_cder_fin_ult1  \\\n",
       "count            93389.0      93389.000000       93389.000000   \n",
       "mean                 0.0          0.702224           0.000407   \n",
       "std                  0.0          0.457283           0.020168   \n",
       "min                  0.0          0.000000           0.000000   \n",
       "25%                  0.0          0.000000           0.000000   \n",
       "50%                  0.0          1.000000           0.000000   \n",
       "75%                  0.0          1.000000           0.000000   \n",
       "max                  0.0          1.000000           1.000000   \n",
       "\n",
       "            ...         ind_hip_fin_ult1  ind_plan_fin_ult1  \\\n",
       "count       ...             93389.000000       93389.000000   \n",
       "mean        ...                 0.006821           0.010676   \n",
       "std         ...                 0.082307           0.102771   \n",
       "min         ...                 0.000000           0.000000   \n",
       "25%         ...                 0.000000           0.000000   \n",
       "50%         ...                 0.000000           0.000000   \n",
       "75%         ...                 0.000000           0.000000   \n",
       "max         ...                 1.000000           1.000000   \n",
       "\n",
       "       ind_pres_fin_ult1  ind_reca_fin_ult1  ind_tjcr_fin_ult1  \\\n",
       "count       93389.000000       93389.000000       93389.000000   \n",
       "mean            0.002581           0.056099           0.052586   \n",
       "std             0.050734           0.230113           0.223208   \n",
       "min             0.000000           0.000000           0.000000   \n",
       "25%             0.000000           0.000000           0.000000   \n",
       "50%             0.000000           0.000000           0.000000   \n",
       "75%             0.000000           0.000000           0.000000   \n",
       "max             1.000000           1.000000           1.000000   \n",
       "\n",
       "       ind_valo_fin_ult1  ind_viv_fin_ult1  ind_nomina_ult1  \\\n",
       "count       93389.000000      93389.000000     93191.000000   \n",
       "mean            0.028044          0.004347         0.059544   \n",
       "std             0.165099          0.065792         0.236642   \n",
       "min             0.000000          0.000000         0.000000   \n",
       "25%             0.000000          0.000000              NaN   \n",
       "50%             0.000000          0.000000              NaN   \n",
       "75%             0.000000          0.000000              NaN   \n",
       "max             1.000000          1.000000         1.000000   \n",
       "\n",
       "       ind_nom_pens_ult1  ind_recibo_ult1  \n",
       "count       93191.000000     93389.000000  \n",
       "mean            0.065081         0.138796  \n",
       "std             0.246671         0.345735  \n",
       "min             0.000000         0.000000  \n",
       "25%                  NaN         0.000000  \n",
       "50%                  NaN         0.000000  \n",
       "75%                  NaN         0.000000  \n",
       "max             1.000000         1.000000  \n",
       "\n",
       "[8 rows x 30 columns]"
      ]
     },
     "execution_count": 2,
     "metadata": {},
     "output_type": "execute_result"
    }
   ],
   "source": [
    "limit_rows   = 7000000\n",
    "df           = pd.read_csv(\"C:\\\\Santander\\\\train_ver2.csv\",dtype={\"sexo\":str,\n",
    "                                                    \"ind_nuevo\":str,\n",
    "                                                    \"ult_fec_cli_1t\":str,\n",
    "                                                    \"indext\":str}, nrows=limit_rows)\n",
    "unique_ids   = pd.Series(df[\"ncodpers\"].unique())\n",
    "limit_people = 1.2e4\n",
    "unique_id    = unique_ids.sample(n=limit_people)\n",
    "df           = df[df.ncodpers.isin(unique_id)]\n",
    "df.describe()"
   ]
  },
  {
   "cell_type": "code",
   "execution_count": 3,
   "metadata": {
    "collapsed": false
   },
   "outputs": [
    {
     "data": {
      "text/plain": [
       "array(['2015-01-28T00:00:00.000000000', '2015-02-28T00:00:00.000000000',\n",
       "       '2015-03-28T00:00:00.000000000', '2015-04-28T00:00:00.000000000',\n",
       "       '2015-05-28T00:00:00.000000000', '2015-06-28T00:00:00.000000000',\n",
       "       '2015-07-28T00:00:00.000000000', '2015-08-28T00:00:00.000000000',\n",
       "       '2015-09-28T00:00:00.000000000', '2015-10-28T00:00:00.000000000'], dtype='datetime64[ns]')"
      ]
     },
     "execution_count": 3,
     "metadata": {},
     "output_type": "execute_result"
    }
   ],
   "source": [
    "df[\"fecha_dato\"] = pd.to_datetime(df[\"fecha_dato\"],format=\"%Y-%m-%d\")\n",
    "df[\"fecha_alta\"] = pd.to_datetime(df[\"fecha_alta\"],format=\"%Y-%m-%d\")\n",
    "df[\"fecha_dato\"].unique()"
   ]
  },
  {
   "cell_type": "code",
   "execution_count": 4,
   "metadata": {
    "collapsed": true
   },
   "outputs": [],
   "source": [
    "df['month'] = pd.DatetimeIndex(df['fecha_dato']).month\n",
    "df['age']   = pd.to_numeric(df['age'], errors='coerce')"
   ]
  },
  {
   "cell_type": "code",
   "execution_count": 5,
   "metadata": {
    "collapsed": false
   },
   "outputs": [
    {
     "data": {
      "text/plain": [
       "fecha_dato               False\n",
       "ncodpers                 False\n",
       "ind_empleado              True\n",
       "pais_residencia           True\n",
       "sexo                      True\n",
       "age                       True\n",
       "fecha_alta                True\n",
       "ind_nuevo                 True\n",
       "antiguedad               False\n",
       "indrel                    True\n",
       "ult_fec_cli_1t            True\n",
       "indrel_1mes               True\n",
       "tiprel_1mes               True\n",
       "indresi                   True\n",
       "indext                    True\n",
       "conyuemp                  True\n",
       "canal_entrada             True\n",
       "indfall                   True\n",
       "tipodom                   True\n",
       "cod_prov                  True\n",
       "nomprov                   True\n",
       "ind_actividad_cliente     True\n",
       "renta                     True\n",
       "segmento                  True\n",
       "ind_ahor_fin_ult1        False\n",
       "ind_aval_fin_ult1        False\n",
       "ind_cco_fin_ult1         False\n",
       "ind_cder_fin_ult1        False\n",
       "ind_cno_fin_ult1         False\n",
       "ind_ctju_fin_ult1        False\n",
       "ind_ctma_fin_ult1        False\n",
       "ind_ctop_fin_ult1        False\n",
       "ind_ctpp_fin_ult1        False\n",
       "ind_deco_fin_ult1        False\n",
       "ind_deme_fin_ult1        False\n",
       "ind_dela_fin_ult1        False\n",
       "ind_ecue_fin_ult1        False\n",
       "ind_fond_fin_ult1        False\n",
       "ind_hip_fin_ult1         False\n",
       "ind_plan_fin_ult1        False\n",
       "ind_pres_fin_ult1        False\n",
       "ind_reca_fin_ult1        False\n",
       "ind_tjcr_fin_ult1        False\n",
       "ind_valo_fin_ult1        False\n",
       "ind_viv_fin_ult1         False\n",
       "ind_nomina_ult1           True\n",
       "ind_nom_pens_ult1         True\n",
       "ind_recibo_ult1          False\n",
       "month                    False\n",
       "dtype: bool"
      ]
     },
     "execution_count": 5,
     "metadata": {},
     "output_type": "execute_result"
    }
   ],
   "source": [
    "df.isnull().any()"
   ]
  },
  {
   "cell_type": "code",
   "execution_count": 6,
   "metadata": {
    "collapsed": false
   },
   "outputs": [
    {
     "data": {
      "image/png": "[encoded data removed]",
      "text/plain": [
       "<matplotlib.figure.Figure at 0x15592c18>"
      ]
     },
     "metadata": {},
     "output_type": "display_data"
    }
   ],
   "source": [
    "with sns.plotting_context(\"notebook\",font_scale=1.5):\n",
    "    sns.set_style(\"whitegrid\")\n",
    "    sns.distplot(df[\"age\"].dropna(),\n",
    "                 bins=80,\n",
    "                 kde=False,\n",
    "                 color=\"tomato\")\n",
    "    sns.plt.title(\"Age Distribution\")\n",
    "    plt.ylabel(\"Count\")"
   ]
  },
  {
   "cell_type": "code",
   "execution_count": 7,
   "metadata": {
    "collapsed": false
   },
   "outputs": [],
   "source": [
    "df.loc[df.age < 18,\"age\"]  = df.loc[(df.age >= 18) & (df.age <= 30),\"age\"].mean(skipna=True)\n",
    "df.loc[df.age > 100,\"age\"] = df.loc[(df.age >= 30) & (df.age <= 100),\"age\"].mean(skipna=True)\n",
    "df[\"age\"].fillna(df[\"age\"].mean(),inplace=True)\n",
    "df[\"age\"]                  = df[\"age\"].astype(int)"
   ]
  },
  {
   "cell_type": "code",
   "execution_count": 8,
   "metadata": {
    "collapsed": false
   },
   "outputs": [
    {
     "data": {
      "image/png": "[encoded data removed]",
      "text/plain": [
       "<matplotlib.figure.Figure at 0x3a7bdd30>"
      ]
     },
     "metadata": {},
     "output_type": "display_data"
    }
   ],
   "source": [
    "with sns.plotting_context(\"notebook\",font_scale=1.5):\n",
    "    sns.set_style(\"whitegrid\")\n",
    "    sns.distplot(df[\"age\"].dropna(),\n",
    "                 bins=80,\n",
    "                 kde=False,\n",
    "                 color=\"tomato\")\n",
    "    sns.plt.title(\"Age Distribution\")\n",
    "    plt.ylabel(\"Count\")\n",
    "    plt.xlim((15,100))"
   ]
  },
  {
   "cell_type": "code",
   "execution_count": 9,
   "metadata": {
    "collapsed": false
   },
   "outputs": [
    {
     "data": {
      "text/plain": [
       "343"
      ]
     },
     "execution_count": 9,
     "metadata": {},
     "output_type": "execute_result"
    }
   ],
   "source": [
    "df[\"ind_nuevo\"].isnull().sum()"
   ]
  },
  {
   "cell_type": "code",
   "execution_count": 10,
   "metadata": {
    "collapsed": false
   },
   "outputs": [
    {
     "data": {
      "text/plain": [
       "6"
      ]
     },
     "execution_count": 10,
     "metadata": {},
     "output_type": "execute_result"
    }
   ],
   "source": [
    "months_active = df.loc[df[\"ind_nuevo\"].isnull(),:].groupby(\"ncodpers\", sort=False).size()\n",
    "months_active.max()"
   ]
  },
  {
   "cell_type": "code",
   "execution_count": 11,
   "metadata": {
    "collapsed": false
   },
   "outputs": [],
   "source": [
    "df.loc[df[\"ind_nuevo\"].isnull(),\"ind_nuevo\"] = 1"
   ]
  },
  {
   "cell_type": "code",
   "execution_count": 12,
   "metadata": {
    "collapsed": false
   },
   "outputs": [
    {
     "data": {
      "text/plain": [
       "343"
      ]
     },
     "execution_count": 12,
     "metadata": {},
     "output_type": "execute_result"
    }
   ],
   "source": [
    "df.antiguedad = pd.to_numeric(df.antiguedad,errors=\"coerce\")\n",
    "np.sum(df[\"antiguedad\"].isnull())"
   ]
  },
  {
   "cell_type": "code",
   "execution_count": 13,
   "metadata": {
    "collapsed": false
   },
   "outputs": [
    {
     "data": {
      "text/plain": [
       "count     343\n",
       "unique      1\n",
       "top         1\n",
       "freq      343\n",
       "Name: ind_nuevo, dtype: int64"
      ]
     },
     "execution_count": 13,
     "metadata": {},
     "output_type": "execute_result"
    }
   ],
   "source": [
    "df.loc[df[\"antiguedad\"].isnull(),\"ind_nuevo\"].describe()"
   ]
  },
  {
   "cell_type": "code",
   "execution_count": 14,
   "metadata": {
    "collapsed": true
   },
   "outputs": [],
   "source": [
    "df.loc[df.antiguedad.isnull(), \"antiguedad\"] = df.antiguedad.min()\n",
    "df.loc[df.antiguedad <0, \"antiguedad\"]      = 0 "
   ]
  },
  {
   "cell_type": "code",
   "execution_count": 15,
   "metadata": {
    "collapsed": false
   },
   "outputs": [
    {
     "data": {
      "text/plain": [
       "count                   93389\n",
       "unique                   3926\n",
       "top       2014-07-28 00:00:00\n",
       "freq                      504\n",
       "first     1995-01-16 00:00:00\n",
       "last      2015-10-30 00:00:00\n",
       "Name: fecha_alta, dtype: object"
      ]
     },
     "execution_count": 15,
     "metadata": {},
     "output_type": "execute_result"
    }
   ],
   "source": [
    "dates = df.loc[:, \"fecha_alta\"].sort_values().reset_index()\n",
    "median_date = int(np.median(dates.index.values))\n",
    "df.loc[df.fecha_alta.isnull(), \"fecha_alta\"] = dates.loc[median_date, \"fecha_alta\"]\n",
    "df[\"fecha_alta\"].describe()"
   ]
  },
  {
   "cell_type": "code",
   "execution_count": 16,
   "metadata": {
    "collapsed": false
   },
   "outputs": [
    {
     "data": {
      "text/plain": [
       "1.0     92896\n",
       "99.0      150\n",
       "dtype: int64"
      ]
     },
     "execution_count": 16,
     "metadata": {},
     "output_type": "execute_result"
    }
   ],
   "source": [
    "pd.Series([i for i in df.indrel]).value_counts()"
   ]
  },
  {
   "cell_type": "code",
   "execution_count": 17,
   "metadata": {
    "collapsed": true
   },
   "outputs": [],
   "source": [
    "df.loc[df.indrel.isnull(), \"indrel\"] = 1"
   ]
  },
  {
   "cell_type": "code",
   "execution_count": 18,
   "metadata": {
    "collapsed": false
   },
   "outputs": [],
   "source": [
    "df.drop([\"tipodom\", \"cod_prov\"], axis=1,inplace=True)"
   ]
  },
  {
   "cell_type": "code",
   "execution_count": 19,
   "metadata": {
    "collapsed": false
   },
   "outputs": [
    {
     "data": {
      "text/plain": [
       "fecha_dato               False\n",
       "ncodpers                 False\n",
       "ind_empleado              True\n",
       "pais_residencia           True\n",
       "sexo                      True\n",
       "age                      False\n",
       "fecha_alta               False\n",
       "ind_nuevo                False\n",
       "antiguedad               False\n",
       "indrel                   False\n",
       "ult_fec_cli_1t            True\n",
       "indrel_1mes               True\n",
       "tiprel_1mes               True\n",
       "indresi                   True\n",
       "indext                    True\n",
       "conyuemp                  True\n",
       "canal_entrada             True\n",
       "indfall                   True\n",
       "nomprov                   True\n",
       "ind_actividad_cliente     True\n",
       "renta                     True\n",
       "segmento                  True\n",
       "ind_ahor_fin_ult1        False\n",
       "ind_aval_fin_ult1        False\n",
       "ind_cco_fin_ult1         False\n",
       "ind_cder_fin_ult1        False\n",
       "ind_cno_fin_ult1         False\n",
       "ind_ctju_fin_ult1        False\n",
       "ind_ctma_fin_ult1        False\n",
       "ind_ctop_fin_ult1        False\n",
       "ind_ctpp_fin_ult1        False\n",
       "ind_deco_fin_ult1        False\n",
       "ind_deme_fin_ult1        False\n",
       "ind_dela_fin_ult1        False\n",
       "ind_ecue_fin_ult1        False\n",
       "ind_fond_fin_ult1        False\n",
       "ind_hip_fin_ult1         False\n",
       "ind_plan_fin_ult1        False\n",
       "ind_pres_fin_ult1        False\n",
       "ind_reca_fin_ult1        False\n",
       "ind_tjcr_fin_ult1        False\n",
       "ind_valo_fin_ult1        False\n",
       "ind_viv_fin_ult1         False\n",
       "ind_nomina_ult1           True\n",
       "ind_nom_pens_ult1         True\n",
       "ind_recibo_ult1          False\n",
       "month                    False\n",
       "dtype: bool"
      ]
     },
     "execution_count": 19,
     "metadata": {},
     "output_type": "execute_result"
    }
   ],
   "source": [
    "df.isnull().any()"
   ]
  },
  {
   "cell_type": "code",
   "execution_count": 20,
   "metadata": {
    "collapsed": false
   },
   "outputs": [
    {
     "data": {
      "text/plain": [
       "343"
      ]
     },
     "execution_count": 20,
     "metadata": {},
     "output_type": "execute_result"
    }
   ],
   "source": [
    "np.sum(df[\"ind_actividad_cliente\"].isnull())"
   ]
  },
  {
   "cell_type": "code",
   "execution_count": 21,
   "metadata": {
    "collapsed": true
   },
   "outputs": [],
   "source": [
    "df.loc[df.ind_actividad_cliente.isnull(), \"ind_actividad_cliente\"] = df[\"ind_actividad_cliente\"].median()"
   ]
  },
  {
   "cell_type": "code",
   "execution_count": 22,
   "metadata": {
    "collapsed": false
   },
   "outputs": [
    {
     "data": {
      "text/plain": [
       "array(['SEVILLA', 'TOLEDO', 'VALENCIA', 'AVILA', 'MADRID', 'VALLADOLID',\n",
       "       'MALAGA', 'HUELVA', 'BARCELONA', 'BIZKAIA', 'PALMAS, LAS',\n",
       "       'CORU\\xc3\\x91A, A', 'BURGOS', 'OURENSE', 'CASTELLON', 'LERIDA',\n",
       "       'ZARAGOZA', 'NAVARRA', 'GUADALAJARA', 'BADAJOZ', 'PONTEVEDRA',\n",
       "       'CIUDAD REAL', 'LUGO', 'RIOJA, LA', 'CADIZ', 'GRANADA', 'ALBACETE',\n",
       "       nan, 'SALAMANCA', 'MURCIA', 'CACERES', 'LEON', 'SEGOVIA', 'ZAMORA',\n",
       "       'CANTABRIA', 'GIRONA', 'CUENCA', 'CORDOBA', 'TARRAGONA', 'HUESCA',\n",
       "       'ALMERIA', 'ALICANTE', 'ASTURIAS', 'TERUEL', 'BALEARS, ILLES',\n",
       "       'SORIA', 'PALENCIA', 'ALAVA', 'SANTA CRUZ DE TENERIFE', 'GIPUZKOA',\n",
       "       'JAEN', 'CEUTA', 'MELILLA'], dtype=object)"
      ]
     },
     "execution_count": 22,
     "metadata": {},
     "output_type": "execute_result"
    }
   ],
   "source": [
    "df.nomprov.unique()"
   ]
  },
  {
   "cell_type": "code",
   "execution_count": 23,
   "metadata": {
    "collapsed": true
   },
   "outputs": [],
   "source": [
    "df.loc[df.nomprov== \"CORU\\xc3\\x91A, A\",\"nomprov\"] = \"CORUNA, A\""
   ]
  },
  {
   "cell_type": "code",
   "execution_count": 24,
   "metadata": {
    "collapsed": true
   },
   "outputs": [],
   "source": [
    "df.loc[df.nomprov.isnull(), \"nomprov\"] = \"UNKNOWN\""
   ]
  },
  {
   "cell_type": "code",
   "execution_count": 25,
   "metadata": {
    "collapsed": false
   },
   "outputs": [
    {
     "data": {
      "text/plain": [
       "16292"
      ]
     },
     "execution_count": 25,
     "metadata": {},
     "output_type": "execute_result"
    }
   ],
   "source": [
    "df.renta.isnull().sum()"
   ]
  },
  {
   "cell_type": "code",
   "execution_count": 26,
   "metadata": {
    "collapsed": false
   },
   "outputs": [
    {
     "data": {
      "text/html": [
       "<div>\n",
       "<table border=\"1\" class=\"dataframe\">\n",
       "  <thead>\n",
       "    <tr>\n",
       "      <th></th>\n",
       "      <th>nomprov</th>\n",
       "      <th>renta</th>\n",
       "    </tr>\n",
       "    <tr>\n",
       "      <th></th>\n",
       "      <th></th>\n",
       "      <th>Median_Income</th>\n",
       "    </tr>\n",
       "  </thead>\n",
       "  <tbody>\n",
       "    <tr>\n",
       "      <th>0</th>\n",
       "      <td>CEUTA</td>\n",
       "      <td>54880.11</td>\n",
       "    </tr>\n",
       "    <tr>\n",
       "      <th>1</th>\n",
       "      <td>AVILA</td>\n",
       "      <td>64589.04</td>\n",
       "    </tr>\n",
       "    <tr>\n",
       "      <th>2</th>\n",
       "      <td>CASTELLON</td>\n",
       "      <td>65082.54</td>\n",
       "    </tr>\n",
       "    <tr>\n",
       "      <th>3</th>\n",
       "      <td>LUGO</td>\n",
       "      <td>65374.59</td>\n",
       "    </tr>\n",
       "    <tr>\n",
       "      <th>4</th>\n",
       "      <td>BADAJOZ</td>\n",
       "      <td>65632.08</td>\n",
       "    </tr>\n",
       "  </tbody>\n",
       "</table>\n",
       "</div>"
      ],
      "text/plain": [
       "     nomprov         renta\n",
       "             Median_Income\n",
       "0      CEUTA      54880.11\n",
       "1      AVILA      64589.04\n",
       "2  CASTELLON      65082.54\n",
       "3       LUGO      65374.59\n",
       "4    BADAJOZ      65632.08"
      ]
     },
     "execution_count": 26,
     "metadata": {},
     "output_type": "execute_result"
    }
   ],
   "source": [
    "#df.loc[df.renta.notnull(),:].groupby(\"nomprov\").agg([{\"Sum\":sum},{\"Mean\":mean}])\n",
    "incomes = df.loc[df.renta.notnull(),:].groupby(\"nomprov\").agg({\"renta\":{\"Median_Income\":median}})\n",
    "incomes.sort_values(by=(\"renta\",\"Median_Income\"),inplace=True)\n",
    "incomes.reset_index(inplace=True)\n",
    "incomes.nomprov = incomes.nomprov.astype(\"category\", categories=[i for i in df.nomprov.unique()],ordered=False)\n",
    "incomes.head()"
   ]
  },
  {
   "cell_type": "code",
   "execution_count": 27,
   "metadata": {
    "collapsed": false
   },
   "outputs": [
    {
     "data": {
      "text/plain": [
       "([<matplotlib.axis.YTick at 0x11974080>,\n",
       "  <matplotlib.axis.YTick at 0x4929f080>,\n",
       "  <matplotlib.axis.YTick at 0xa3bf9e10>,\n",
       "  <matplotlib.axis.YTick at 0xa3c12358>,\n",
       "  <matplotlib.axis.YTick at 0xa3c129b0>],\n",
       " <a list of 5 Text yticklabel objects>)"
      ]
     },
     "execution_count": 27,
     "metadata": {},
     "output_type": "execute_result"
    },
    {
     "data": {
      "image/png": "[encoded data removed]",
      "text/plain": [
       "<matplotlib.figure.Figure at 0x3c086f28>"
      ]
     },
     "metadata": {},
     "output_type": "display_data"
    }
   ],
   "source": [
    "with sns.axes_style({\n",
    "        \"axes.facecolor\":   \"#ffc400\",\n",
    "        \"axes.grid\"     :    False,\n",
    "        \"figure.facecolor\": \"#c60b1e\"}):\n",
    "    h = sns.factorplot(data=incomes,\n",
    "                   x=\"nomprov\",\n",
    "                   y=(\"renta\",\"Median_Income\"),\n",
    "                   order=(i for i in incomes.nomprov),\n",
    "                   size=7,\n",
    "                   aspect=1.5,\n",
    "                   scale=1.0,\n",
    "                   color=\"#c60b1e\",\n",
    "                   linestyles=\"None\")\n",
    "plt.xticks(rotation=90)\n",
    "plt.tick_params(labelsize=12,labelcolor=\"#ffc400\")#\n",
    "plt.ylabel(\"Median Income\",size=32,color=\"#ffc400\")\n",
    "plt.xlabel(\"City\",size=32,color=\"#ffc400\")\n",
    "plt.title(\"Income Distribution by City\",size=40,color=\"#ffc400\")\n",
    "plt.ylim(0,180000)\n",
    "plt.yticks(range(0,180000,40000))"
   ]
  },
  {
   "cell_type": "code",
   "execution_count": 28,
   "metadata": {
    "collapsed": true
   },
   "outputs": [],
   "source": [
    "grouped        = df.groupby(\"nomprov\").agg({\"renta\":lambda x: x.median(skipna=True)}).reset_index()\n",
    "new_incomes    = pd.merge(df,grouped,how=\"inner\",on=\"nomprov\").loc[:, [\"nomprov\",\"renta_y\"]]\n",
    "new_incomes    = new_incomes.rename(columns={\"renta_y\":\"renta\"}).sort_values(\"renta\").sort_values(\"nomprov\")\n",
    "df.sort_values(\"nomprov\",inplace=True)\n",
    "df             = df.reset_index()\n",
    "new_incomes    = new_incomes.reset_index()"
   ]
  },
  {
   "cell_type": "code",
   "execution_count": 29,
   "metadata": {
    "collapsed": true
   },
   "outputs": [],
   "source": [
    "df.loc[df.renta.isnull(),\"renta\"] = new_incomes.loc[df.renta.isnull(),\"renta\"].reset_index()\n",
    "df.loc[df.renta.isnull(),\"renta\"] = df.loc[df.renta.notnull(),\"renta\"].median()\n",
    "df.sort_values(by=\"fecha_dato\",inplace=True)"
   ]
  },
  {
   "cell_type": "code",
   "execution_count": 30,
   "metadata": {
    "collapsed": false
   },
   "outputs": [
    {
     "data": {
      "text/plain": [
       "198"
      ]
     },
     "execution_count": 30,
     "metadata": {},
     "output_type": "execute_result"
    }
   ],
   "source": [
    "df.ind_nomina_ult1.isnull().sum()"
   ]
  },
  {
   "cell_type": "code",
   "execution_count": 31,
   "metadata": {
    "collapsed": true
   },
   "outputs": [],
   "source": [
    "df.loc[df.ind_nomina_ult1.isnull(), \"ind_nomina_ult1\"] = 0\n",
    "df.loc[df.ind_nom_pens_ult1.isnull(), \"ind_nom_pens_ult1\"] = 0"
   ]
  },
  {
   "cell_type": "code",
   "execution_count": 32,
   "metadata": {
    "collapsed": false
   },
   "outputs": [
    {
     "name": "stdout",
     "output_type": "stream",
     "text": [
      "Unique values for ind_empleado:\n",
      "[nan 'N' 'A' 'B' 'F']\n",
      "\n",
      "Unique values for pais_residencia:\n",
      "[nan 'ES' 'PL' 'VE' 'DE' 'RO' 'ZA' 'PT' 'GB' 'US' 'SE' 'PY' 'FR' 'AT' 'PE'\n",
      " 'BE' 'TH' 'AR' 'IT' 'MX' 'CL' 'DK' 'EC' 'BR' 'FI']\n",
      "\n",
      "Unique values for sexo:\n",
      "[nan 'V' 'H']\n",
      "\n",
      "Unique values for ult_fec_cli_1t:\n",
      "[nan '2015-07-22' '2015-07-01' '2015-07-28' '2015-07-13' '2015-07-30'\n",
      " '2015-07-09' '2015-07-20' '2015-07-23' '2015-07-07' '2015-07-17'\n",
      " '2015-07-02' '2015-07-16' '2015-07-10' '2015-07-27' '2015-07-14'\n",
      " '2015-08-27' '2015-08-20' '2015-08-07' '2015-08-21' '2015-08-25'\n",
      " '2015-08-14' '2015-08-18' '2015-08-12' '2015-08-17' '2015-08-10'\n",
      " '2015-09-21' '2015-09-23' '2015-09-01' '2015-09-02' '2015-09-11'\n",
      " '2015-09-25' '2015-09-22' '2015-09-14' '2015-09-15' '2015-09-08'\n",
      " '2015-09-04' '2015-09-24' '2015-10-05' '2015-10-20' '2015-10-02'\n",
      " '2015-10-07' '2015-10-26' '2015-10-13' '2015-10-27' '2015-10-22'\n",
      " '2015-10-01' '2015-10-19' '2015-10-09' '2015-10-06']\n",
      "\n",
      "Unique values for indrel_1mes:\n",
      "[nan 1.0 '1.0' '1' 2.0 '4' 3.0 '2.0' '3' 'P' '3.0']\n",
      "\n",
      "Unique values for tiprel_1mes:\n",
      "[nan 'I' 'A' 'P' 'R']\n",
      "\n",
      "Unique values for indresi:\n",
      "[nan 'S' 'N']\n",
      "\n",
      "Unique values for indext:\n",
      "[nan 'N' 'S']\n",
      "\n",
      "Unique values for conyuemp:\n",
      "[nan 'N']\n",
      "\n",
      "Unique values for canal_entrada:\n",
      "[nan 'KFC' 'KAT' 'KHE' 'KFA' 'KCD' 'RED' 'KDC' 'KAG' 'KAA' 'KHD' 'KAY'\n",
      " 'KCC' '013' 'KCG' 'KBL' 'KHK' 'KBO' 'KCA' 'KAS' 'KHC' 'KBJ' 'KAQ' 'KAZ'\n",
      " 'KFD' 'KAH' 'KEY' 'KBB' 'KAR' 'KAE' 'KEH' 'KBZ' 'KHF' 'KEZ' 'KEN' 'KFF'\n",
      " 'KBV' 'KBG' 'KHL' 'KBH' 'KBU' 'KAD' '007' 'KCB' 'KBE' 'KCI' 'KAN' 'KAW'\n",
      " 'KDT' 'KDV' 'KDQ' 'KAO' 'KEJ' 'KEW' 'KFL' 'KED' 'KCH' 'KBF' 'KFG' 'KDR'\n",
      " 'KAF' 'KAP' 'KAM' 'KAC' 'KGY' 'KFP' 'KAI' 'KEA' 'KAB' 'K00' 'KDG' 'KDF'\n",
      " 'KFN' 'KBQ' 'KDW' 'KEG' 'KFT' 'KFU' 'KAJ' 'KGX' 'KFH' 'KGV' 'KBS' 'KCP'\n",
      " 'KAL' 'KFI' 'KAK' 'KCM' 'KCR' 'KDU' 'KFK' 'KFS' 'KBR' 'KFJ' 'KEL' 'KHO'\n",
      " 'KHN' 'KHM' 'KBW' 'KDO' 'KEC' 'KCU' 'KCV' 'KDZ' 'KDM' 'KGW' 'KDE' 'KCL'\n",
      " 'KES' 'KGU' 'KDD' 'KBY' 'KHQ' 'KHP']\n",
      "\n",
      "Unique values for indfall:\n",
      "[nan 'N' 'S']\n",
      "\n",
      "Unique values for segmento:\n",
      "[nan '02 - PARTICULARES' '03 - UNIVERSITARIO' '01 - TOP']\n",
      "\n"
     ]
    }
   ],
   "source": [
    "string_data = df.select_dtypes(include=[\"object\"])\n",
    "missing_columns = [col for col in string_data if string_data[col].isnull().any()]\n",
    "for col in missing_columns:\n",
    "    print(\"Unique values for {0}:\\n{1}\\n\".format(col,string_data[col].unique()))\n",
    "del string_data"
   ]
  },
  {
   "cell_type": "code",
   "execution_count": 33,
   "metadata": {
    "collapsed": true
   },
   "outputs": [],
   "source": [
    "df.loc[df.indfall.isnull(),\"indfall\"] = \"N\"\n",
    "df.loc[df.tiprel_1mes.isnull(),\"tiprel_1mes\"] = \"A\"\n",
    "df.tiprel_1mes = df.tiprel_1mes.astype(\"category\")\n",
    "\n",
    "map_dict = { 1.0  : \"1\",\n",
    "            \"1.0\" : \"1\",\n",
    "            \"1\"   : \"1\",\n",
    "            \"3.0\" : \"3\",\n",
    "            \"P\"   : \"P\",\n",
    "            3.0   : \"3\",\n",
    "            2.0   : \"2\",\n",
    "            \"3\"   : \"3\",\n",
    "            \"2.0\" : \"2\",\n",
    "            \"4.0\" : \"4\",\n",
    "            \"4\"   : \"4\",\n",
    "            \"2\"   : \"2\"}\n",
    "\n",
    "df.indrel_1mes.fillna(\"P\",inplace=True)\n",
    "df.indrel_1mes = df.indrel_1mes.apply(lambda x: map_dict.get(x,x))\n",
    "df.indrel_1mes = df.indrel_1mes.astype(\"category\")\n",
    "\n",
    "\n",
    "unknown_cols = [col for col in missing_columns if col not in [\"indfall\",\"tiprel_1mes\",\"indrel_1mes\"]]\n",
    "for col in unknown_cols:\n",
    "    df.loc[df[col].isnull(),col] = \"UNKNOWN\"\n",
    "    "
   ]
  },
  {
   "cell_type": "code",
   "execution_count": 34,
   "metadata": {
    "collapsed": false
   },
   "outputs": [
    {
     "data": {
      "text/plain": [
       "index                    False\n",
       "fecha_dato               False\n",
       "ncodpers                 False\n",
       "ind_empleado             False\n",
       "pais_residencia          False\n",
       "sexo                     False\n",
       "age                      False\n",
       "fecha_alta               False\n",
       "ind_nuevo                False\n",
       "antiguedad               False\n",
       "indrel                   False\n",
       "ult_fec_cli_1t           False\n",
       "indrel_1mes              False\n",
       "tiprel_1mes              False\n",
       "indresi                  False\n",
       "indext                   False\n",
       "conyuemp                 False\n",
       "canal_entrada            False\n",
       "indfall                  False\n",
       "nomprov                  False\n",
       "ind_actividad_cliente    False\n",
       "renta                    False\n",
       "segmento                 False\n",
       "ind_ahor_fin_ult1        False\n",
       "ind_aval_fin_ult1        False\n",
       "ind_cco_fin_ult1         False\n",
       "ind_cder_fin_ult1        False\n",
       "ind_cno_fin_ult1         False\n",
       "ind_ctju_fin_ult1        False\n",
       "ind_ctma_fin_ult1        False\n",
       "ind_ctop_fin_ult1        False\n",
       "ind_ctpp_fin_ult1        False\n",
       "ind_deco_fin_ult1        False\n",
       "ind_deme_fin_ult1        False\n",
       "ind_dela_fin_ult1        False\n",
       "ind_ecue_fin_ult1        False\n",
       "ind_fond_fin_ult1        False\n",
       "ind_hip_fin_ult1         False\n",
       "ind_plan_fin_ult1        False\n",
       "ind_pres_fin_ult1        False\n",
       "ind_reca_fin_ult1        False\n",
       "ind_tjcr_fin_ult1        False\n",
       "ind_valo_fin_ult1        False\n",
       "ind_viv_fin_ult1         False\n",
       "ind_nomina_ult1          False\n",
       "ind_nom_pens_ult1        False\n",
       "ind_recibo_ult1          False\n",
       "month                    False\n",
       "dtype: bool"
      ]
     },
     "execution_count": 34,
     "metadata": {},
     "output_type": "execute_result"
    }
   ],
   "source": [
    "df.isnull().any()"
   ]
  },
  {
   "cell_type": "code",
   "execution_count": 35,
   "metadata": {
    "collapsed": true
   },
   "outputs": [],
   "source": [
    "feature_cols = df.iloc[:1,].filter(regex=\"ind_+.*ult.*\").columns.values\n",
    "for col in feature_cols:\n",
    "    df[col] = df[col].astype(int)"
   ]
  },
  {
   "cell_type": "code",
   "execution_count": 36,
   "metadata": {
    "collapsed": true
   },
   "outputs": [],
   "source": [
    "unique_months = pd.DataFrame(pd.Series(df.fecha_dato.unique()).sort_values()).reset_index(drop=True)\n",
    "unique_months[\"month_id\"] = pd.Series(range(1,1+unique_months.size)) # start with month 1, not 0 to match what we already have\n",
    "unique_months[\"month_next_id\"] = 1 + unique_months[\"month_id\"]\n",
    "unique_months.rename(columns={0:\"fecha_dato\"},inplace=True)\n",
    "df = pd.merge(df,unique_months,on=\"fecha_dato\")"
   ]
  },
  {
   "cell_type": "code",
   "execution_count": 37,
   "metadata": {
    "collapsed": true
   },
   "outputs": [],
   "source": [
    "def status_change(x):\n",
    "    diffs = x.diff().fillna(0)# first occurrence will be considered Maintained, \n",
    "    #which is a little lazy. A better way would be to check if \n",
    "    #the earliest date was the same as the earliest we have in the dataset\n",
    "    #and consider those separately. Entries with earliest dates later than that have \n",
    "    #joined and should be labeled as \"Added\"\n",
    "    label = [\"Added\" if i==1 \\\n",
    "         else \"Dropped\" if i==-1 \\\n",
    "         else \"Maintained\" for i in diffs]\n",
    "    return label"
   ]
  },
  {
   "cell_type": "code",
   "execution_count": 38,
   "metadata": {
    "collapsed": false
   },
   "outputs": [],
   "source": [
    "# df.loc[:, feature_cols] = df..groupby(\"ncodpers\").apply(status_change)\n",
    "df.loc[:, feature_cols] = df.loc[:, [i for i in feature_cols]+[\"ncodpers\"]].groupby(\"ncodpers\").transform(status_change)"
   ]
  },
  {
   "cell_type": "code",
   "execution_count": 39,
   "metadata": {
    "collapsed": false
   },
   "outputs": [
    {
     "data": {
      "text/plain": [
       "(7544, 28)"
      ]
     },
     "execution_count": 39,
     "metadata": {},
     "output_type": "execute_result"
    }
   ],
   "source": [
    "df = pd.melt(df, id_vars   = [col for col in df.columns if col not in feature_cols],\n",
    "            value_vars= [col for col in feature_cols])\n",
    "df = df.loc[df.value!=\"Maintained\",:]\n",
    "df.shape"
   ]
  },
  {
   "cell_type": "code",
   "execution_count": 40,
   "metadata": {
    "collapsed": false
   },
   "outputs": [
    {
     "data": {
      "text/html": [
       "<div>\n",
       "<table border=\"1\" class=\"dataframe\">\n",
       "  <thead>\n",
       "    <tr style=\"text-align: right;\">\n",
       "      <th></th>\n",
       "      <th>index</th>\n",
       "      <th>fecha_dato</th>\n",
       "      <th>ncodpers</th>\n",
       "      <th>ind_empleado</th>\n",
       "      <th>pais_residencia</th>\n",
       "      <th>sexo</th>\n",
       "      <th>age</th>\n",
       "      <th>fecha_alta</th>\n",
       "      <th>ind_nuevo</th>\n",
       "      <th>antiguedad</th>\n",
       "      <th>...</th>\n",
       "      <th>indfall</th>\n",
       "      <th>nomprov</th>\n",
       "      <th>ind_actividad_cliente</th>\n",
       "      <th>renta</th>\n",
       "      <th>segmento</th>\n",
       "      <th>month</th>\n",
       "      <th>month_id</th>\n",
       "      <th>month_next_id</th>\n",
       "      <th>variable</th>\n",
       "      <th>value</th>\n",
       "    </tr>\n",
       "  </thead>\n",
       "  <tbody>\n",
       "    <tr>\n",
       "      <th>195253</th>\n",
       "      <td>816033</td>\n",
       "      <td>2015-02-28</td>\n",
       "      <td>168721</td>\n",
       "      <td>N</td>\n",
       "      <td>ES</td>\n",
       "      <td>V</td>\n",
       "      <td>37</td>\n",
       "      <td>2000-03-22</td>\n",
       "      <td>0</td>\n",
       "      <td>184.0</td>\n",
       "      <td>...</td>\n",
       "      <td>N</td>\n",
       "      <td>MADRID</td>\n",
       "      <td>0.0</td>\n",
       "      <td>80720.01</td>\n",
       "      <td>02 - PARTICULARES</td>\n",
       "      <td>2</td>\n",
       "      <td>2</td>\n",
       "      <td>3</td>\n",
       "      <td>ind_cco_fin_ult1</td>\n",
       "      <td>Dropped</td>\n",
       "    </tr>\n",
       "    <tr>\n",
       "      <th>195275</th>\n",
       "      <td>888830</td>\n",
       "      <td>2015-02-28</td>\n",
       "      <td>417764</td>\n",
       "      <td>N</td>\n",
       "      <td>ES</td>\n",
       "      <td>V</td>\n",
       "      <td>39</td>\n",
       "      <td>2003-05-05</td>\n",
       "      <td>0</td>\n",
       "      <td>146.0</td>\n",
       "      <td>...</td>\n",
       "      <td>N</td>\n",
       "      <td>MADRID</td>\n",
       "      <td>1.0</td>\n",
       "      <td>90887.34</td>\n",
       "      <td>02 - PARTICULARES</td>\n",
       "      <td>2</td>\n",
       "      <td>2</td>\n",
       "      <td>3</td>\n",
       "      <td>ind_cco_fin_ult1</td>\n",
       "      <td>Dropped</td>\n",
       "    </tr>\n",
       "    <tr>\n",
       "      <th>195302</th>\n",
       "      <td>1021613</td>\n",
       "      <td>2015-02-28</td>\n",
       "      <td>1336342</td>\n",
       "      <td>N</td>\n",
       "      <td>ES</td>\n",
       "      <td>H</td>\n",
       "      <td>64</td>\n",
       "      <td>2014-10-20</td>\n",
       "      <td>0</td>\n",
       "      <td>9.0</td>\n",
       "      <td>...</td>\n",
       "      <td>N</td>\n",
       "      <td>MADRID</td>\n",
       "      <td>1.0</td>\n",
       "      <td>66367.95</td>\n",
       "      <td>02 - PARTICULARES</td>\n",
       "      <td>2</td>\n",
       "      <td>2</td>\n",
       "      <td>3</td>\n",
       "      <td>ind_cco_fin_ult1</td>\n",
       "      <td>Dropped</td>\n",
       "    </tr>\n",
       "    <tr>\n",
       "      <th>195327</th>\n",
       "      <td>1216356</td>\n",
       "      <td>2015-02-28</td>\n",
       "      <td>1039053</td>\n",
       "      <td>N</td>\n",
       "      <td>ES</td>\n",
       "      <td>H</td>\n",
       "      <td>22</td>\n",
       "      <td>2012-08-01</td>\n",
       "      <td>0</td>\n",
       "      <td>35.0</td>\n",
       "      <td>...</td>\n",
       "      <td>N</td>\n",
       "      <td>CORUNA, A</td>\n",
       "      <td>1.0</td>\n",
       "      <td>101925.48</td>\n",
       "      <td>03 - UNIVERSITARIO</td>\n",
       "      <td>2</td>\n",
       "      <td>2</td>\n",
       "      <td>3</td>\n",
       "      <td>ind_cco_fin_ult1</td>\n",
       "      <td>Dropped</td>\n",
       "    </tr>\n",
       "    <tr>\n",
       "      <th>195395</th>\n",
       "      <td>1195411</td>\n",
       "      <td>2015-02-28</td>\n",
       "      <td>1122647</td>\n",
       "      <td>N</td>\n",
       "      <td>ES</td>\n",
       "      <td>V</td>\n",
       "      <td>68</td>\n",
       "      <td>2013-06-11</td>\n",
       "      <td>0</td>\n",
       "      <td>25.0</td>\n",
       "      <td>...</td>\n",
       "      <td>N</td>\n",
       "      <td>MADRID</td>\n",
       "      <td>1.0</td>\n",
       "      <td>360720.12</td>\n",
       "      <td>02 - PARTICULARES</td>\n",
       "      <td>2</td>\n",
       "      <td>2</td>\n",
       "      <td>3</td>\n",
       "      <td>ind_cco_fin_ult1</td>\n",
       "      <td>Added</td>\n",
       "    </tr>\n",
       "    <tr>\n",
       "      <th>195419</th>\n",
       "      <td>1010556</td>\n",
       "      <td>2015-02-28</td>\n",
       "      <td>1168562</td>\n",
       "      <td>N</td>\n",
       "      <td>ES</td>\n",
       "      <td>H</td>\n",
       "      <td>22</td>\n",
       "      <td>2013-08-22</td>\n",
       "      <td>0</td>\n",
       "      <td>23.0</td>\n",
       "      <td>...</td>\n",
       "      <td>N</td>\n",
       "      <td>MADRID</td>\n",
       "      <td>1.0</td>\n",
       "      <td>101925.48</td>\n",
       "      <td>03 - UNIVERSITARIO</td>\n",
       "      <td>2</td>\n",
       "      <td>2</td>\n",
       "      <td>3</td>\n",
       "      <td>ind_cco_fin_ult1</td>\n",
       "      <td>Dropped</td>\n",
       "    </tr>\n",
       "  </tbody>\n",
       "</table>\n",
       "<p>6 rows × 28 columns</p>\n",
       "</div>"
      ],
      "text/plain": [
       "          index fecha_dato  ncodpers ind_empleado pais_residencia sexo  age  \\\n",
       "195253   816033 2015-02-28    168721            N              ES    V   37   \n",
       "195275   888830 2015-02-28    417764            N              ES    V   39   \n",
       "195302  1021613 2015-02-28   1336342            N              ES    H   64   \n",
       "195327  1216356 2015-02-28   1039053            N              ES    H   22   \n",
       "195395  1195411 2015-02-28   1122647            N              ES    V   68   \n",
       "195419  1010556 2015-02-28   1168562            N              ES    H   22   \n",
       "\n",
       "       fecha_alta ind_nuevo  antiguedad   ...     indfall    nomprov  \\\n",
       "195253 2000-03-22         0       184.0   ...           N     MADRID   \n",
       "195275 2003-05-05         0       146.0   ...           N     MADRID   \n",
       "195302 2014-10-20         0         9.0   ...           N     MADRID   \n",
       "195327 2012-08-01         0        35.0   ...           N  CORUNA, A   \n",
       "195395 2013-06-11         0        25.0   ...           N     MADRID   \n",
       "195419 2013-08-22         0        23.0   ...           N     MADRID   \n",
       "\n",
       "       ind_actividad_cliente      renta            segmento month month_id  \\\n",
       "195253                   0.0   80720.01   02 - PARTICULARES     2        2   \n",
       "195275                   1.0   90887.34   02 - PARTICULARES     2        2   \n",
       "195302                   1.0   66367.95   02 - PARTICULARES     2        2   \n",
       "195327                   1.0  101925.48  03 - UNIVERSITARIO     2        2   \n",
       "195395                   1.0  360720.12   02 - PARTICULARES     2        2   \n",
       "195419                   1.0  101925.48  03 - UNIVERSITARIO     2        2   \n",
       "\n",
       "       month_next_id          variable    value  \n",
       "195253             3  ind_cco_fin_ult1  Dropped  \n",
       "195275             3  ind_cco_fin_ult1  Dropped  \n",
       "195302             3  ind_cco_fin_ult1  Dropped  \n",
       "195327             3  ind_cco_fin_ult1  Dropped  \n",
       "195395             3  ind_cco_fin_ult1    Added  \n",
       "195419             3  ind_cco_fin_ult1  Dropped  \n",
       "\n",
       "[6 rows x 28 columns]"
      ]
     },
     "execution_count": 40,
     "metadata": {},
     "output_type": "execute_result"
    }
   ],
   "source": [
    "df.head(6)"
   ]
  },
  {
   "cell_type": "code",
   "execution_count": null,
   "metadata": {
    "collapsed": false
   },
   "outputs": [],
   "source": []
  },
  {
   "cell_type": "code",
   "execution_count": 41,
   "metadata": {
    "collapsed": false
   },
   "outputs": [
    {
     "data": {
      "text/html": [
       "<div>\n",
       "<table border=\"1\" class=\"dataframe\">\n",
       "  <thead>\n",
       "    <tr style=\"text-align: right;\">\n",
       "      <th></th>\n",
       "      <th>index</th>\n",
       "      <th>fecha_dato</th>\n",
       "      <th>ncodpers</th>\n",
       "      <th>ind_empleado</th>\n",
       "      <th>pais_residencia</th>\n",
       "      <th>sexo</th>\n",
       "      <th>age</th>\n",
       "      <th>fecha_alta</th>\n",
       "      <th>ind_nuevo</th>\n",
       "      <th>antiguedad</th>\n",
       "      <th>...</th>\n",
       "      <th>indfall</th>\n",
       "      <th>nomprov</th>\n",
       "      <th>ind_actividad_cliente</th>\n",
       "      <th>renta</th>\n",
       "      <th>segmento</th>\n",
       "      <th>month</th>\n",
       "      <th>month_id</th>\n",
       "      <th>month_next_id</th>\n",
       "      <th>variable</th>\n",
       "      <th>value</th>\n",
       "    </tr>\n",
       "  </thead>\n",
       "  <tbody>\n",
       "  </tbody>\n",
       "</table>\n",
       "<p>0 rows × 28 columns</p>\n",
       "</div>"
      ],
      "text/plain": [
       "Empty DataFrame\n",
       "Columns: [index, fecha_dato, ncodpers, ind_empleado, pais_residencia, sexo, age, fecha_alta, ind_nuevo, antiguedad, indrel, ult_fec_cli_1t, indrel_1mes, tiprel_1mes, indresi, indext, conyuemp, canal_entrada, indfall, nomprov, ind_actividad_cliente, renta, segmento, month, month_id, month_next_id, variable, value]\n",
       "Index: []\n",
       "\n",
       "[0 rows x 28 columns]"
      ]
     },
     "execution_count": 41,
     "metadata": {},
     "output_type": "execute_result"
    }
   ],
   "source": [
    "df[df['ult_fec_cli_1t'].str.contains(\"01/07/2015\")]"
   ]
  },
  {
   "cell_type": "code",
   "execution_count": 42,
   "metadata": {
    "collapsed": true
   },
   "outputs": [],
   "source": [
    "df1           = pd.read_csv(\"C:\\\\Santander\\\\train_ver2.csv\",dtype={\"sexo\":str,\n",
    "                                                    \"ind_nuevo\":str,\n",
    "                                                    \"ult_fec_cli_1t\":str,\n",
    "                                                    \"indext\":str}, nrows=limit_rows)"
   ]
  },
  {
   "cell_type": "code",
   "execution_count": 43,
   "metadata": {
    "collapsed": false
   },
   "outputs": [
    {
     "ename": "NameError",
     "evalue": "name 'df1df1' is not defined",
     "output_type": "error",
     "traceback": [
      "\u001b[1;31m---------------------------------------------------------------------------\u001b[0m",
      "\u001b[1;31mNameError\u001b[0m                                 Traceback (most recent call last)",
      "\u001b[1;32m<ipython-input-43-52c8bd134297>\u001b[0m in \u001b[0;36m<module>\u001b[1;34m()\u001b[0m\n\u001b[1;32m----> 1\u001b[1;33m \u001b[0mdf1df1\u001b[0m\u001b[1;33m[\u001b[0m\u001b[1;34m'ult_fec_cli_1t'\u001b[0m\u001b[1;33m]\u001b[0m\u001b[1;33m.\u001b[0m\u001b[0mfillna\u001b[0m\u001b[1;33m(\u001b[0m\u001b[0mvalue\u001b[0m\u001b[1;33m=\u001b[0m\u001b[1;36m0\u001b[0m\u001b[1;33m,\u001b[0m \u001b[0maxis\u001b[0m\u001b[1;33m=\u001b[0m\u001b[1;36m1\u001b[0m\u001b[1;33m,\u001b[0m \u001b[0minplace\u001b[0m\u001b[1;33m=\u001b[0m\u001b[0mTrue\u001b[0m\u001b[1;33m)\u001b[0m\u001b[1;33m\u001b[0m\u001b[0m\n\u001b[0m",
      "\u001b[1;31mNameError\u001b[0m: name 'df1df1' is not defined"
     ]
    }
   ],
   "source": [
    "df1df1['ult_fec_cli_1t'].fillna(value=0, axis=1, inplace=True)"
   ]
  },
  {
   "cell_type": "code",
   "execution_count": null,
   "metadata": {
    "collapsed": false
   },
   "outputs": [],
   "source": [
    "df2 = df1.sort_values(ascending=False)"
   ]
  },
  {
   "cell_type": "code",
   "execution_count": null,
   "metadata": {
    "collapsed": false
   },
   "outputs": [],
   "source": [
    "df2.head()"
   ]
  },
  {
   "cell_type": "code",
   "execution_count": null,
   "metadata": {
    "collapsed": true
   },
   "outputs": [],
   "source": []
  }
 ],
 "metadata": {
  "anaconda-cloud": {},
  "kernelspec": {
   "display_name": "Python [Root]",
   "language": "python",
   "name": "Python [Root]"
  },
  "language_info": {
   "codemirror_mode": {
    "name": "ipython",
    "version": 2
   },
   "file_extension": ".py",
   "mimetype": "text/x-python",
   "name": "python",
   "nbconvert_exporter": "python",
   "pygments_lexer": "ipython2",
   "version": "2.7.12"
  }
 },
 "nbformat": 4,
 "nbformat_minor": 0
}
