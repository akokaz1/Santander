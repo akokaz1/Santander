{
 "cells": [
  {
   "cell_type": "code",
   "execution_count": 194,
   "metadata": {
    "collapsed": true
   },
   "outputs": [],
   "source": [
    "import numpy as np\n",
    "import pandas as pd\n",
    "from sklearn.neighbors import KNeighborsClassifier\n",
    "from sklearn.metrics import accuracy_score\n",
    "#import matplotlib.pyplot as plt\n",
    "#%pylab inline\n",
    "#pylab.rcParams['figure.figsize'] = (10,10)"
   ]
  },
  {
   "cell_type": "code",
   "execution_count": 144,
   "metadata": {
    "collapsed": false
   },
   "outputs": [],
   "source": [
    "f= open(\"C:\\\\Git\\\\Santander\\\\Shanta\\\\Data\\\\train_ver2.csv\", 'r') #loads in the training data set\n",
    "#the training dataset is too large to load into a dataframe, so we write one month's data into a new CSV below\n",
    "#g = open(\"C:\\\\Git\\\\Santander\\\\Shanta\\\\Data\\\\training_data.csv\", 'w')\n",
    "h = open(\"C:\\\\Git\\\\Santander\\\\Shanta\\\\Data\\\\test_ver2.csv\", 'r')\n",
    "\n",
    "#for line in f:\n",
    "#    date = line[:10]\n",
    "#    if date == '2016-05-28':  #may month used here\n",
    "#        g.write(line)\n",
    "        \n",
    "#this is the loop used to filter by date"
   ]
  },
  {
   "cell_type": "code",
   "execution_count": 145,
   "metadata": {
    "collapsed": true
   },
   "outputs": [],
   "source": [
    "with open(\"C:\\\\Git\\\\Santander\\\\Shanta\\\\Data\\\\train_ver2.csv\", 'r') as f:\n",
    "    cols = f.readline().split(',')\n",
    "with open(\"C:\\\\Git\\\\Santander\\\\Shanta\\\\Data\\\\test_ver2.csv\", 'r') as h:\n",
    "    cols_t = h.readline().split(',')\n",
    "    \n",
    "#everything with _t is the test data set preparation, here were splitting columns by comma, since its a CSV file"
   ]
  },
  {
   "cell_type": "code",
   "execution_count": 146,
   "metadata": {
    "collapsed": true
   },
   "outputs": [],
   "source": [
    "cols = [s.replace('\"','') for s in cols]\n",
    "cols_t = [s.replace('\"','') for s in cols_t]\n",
    "#column names seem to be written wierdly, replaced with a normal string format"
   ]
  },
  {
   "cell_type": "code",
   "execution_count": 147,
   "metadata": {
    "collapsed": false
   },
   "outputs": [],
   "source": [
    "#loads in the training and test dataset into dataframes\n",
    "df = pd.read_csv(\"C:\\\\Git\\\\Santander\\\\Shanta\\\\Data\\\\training_data.csv\", dtype={'indrel_1mes': str, 'conyuemp': str}, names=cols)\n",
    "df_t = pd.read_csv(\"C:\\\\Git\\\\Santander\\\\Shanta\\\\Data\\\\test_ver2.csv\", dtype={'indrel_1mes': str, 'conyuemp': str}, names=cols)"
   ]
  },
  {
   "cell_type": "code",
   "execution_count": 148,
   "metadata": {
    "collapsed": true
   },
   "outputs": [],
   "source": [
    "df_t = df_t.ix[1:] #deletes the first row of the test-set since it's the headers duplicated."
   ]
  },
  {
   "cell_type": "code",
   "execution_count": 149,
   "metadata": {
    "collapsed": false
   },
   "outputs": [],
   "source": [
    "#columns that are mostly empty or useless are deleted here\n",
    "del df['fecha_dato']\n",
    "del df['ncodpers']\n",
    "del df['tipodom']\n",
    "del df['ult_fec_cli_1t']\n",
    "del df['conyuemp']\n",
    "del df_t['fecha_dato']\n",
    "del df_t['tipodom']\n",
    "del df_t['ult_fec_cli_1t']\n",
    "del df_t['conyuemp']"
   ]
  },
  {
   "cell_type": "code",
   "execution_count": 150,
   "metadata": {
    "collapsed": false
   },
   "outputs": [
    {
     "name": "stdout",
     "output_type": "stream",
     "text": [
      "ind_empleado\n",
      "pais_residencia\n",
      "sexo\n",
      "age\n",
      "fecha_alta\n",
      "indrel_1mes\n",
      "tiprel_1mes\n",
      "indresi\n",
      "indext\n",
      "canal_entrada\n",
      "indfall\n",
      "nomprov\n",
      "segmento\n",
      "ncodpers\n",
      "ind_empleado\n",
      "pais_residencia\n",
      "sexo\n",
      "age\n",
      "fecha_alta\n",
      "ind_nuevo\n",
      "antiguedad\n",
      "indrel\n",
      "indrel_1mes\n",
      "tiprel_1mes\n",
      "indresi\n",
      "indext\n",
      "canal_entrada\n",
      "indfall\n",
      "cod_prov\n",
      "nomprov\n",
      "ind_actividad_cliente\n",
      "renta\n",
      "segmento\n"
     ]
    }
   ],
   "source": [
    "#nifty code, transforms the values in the data-set into a normalised integer format so it can be machine learning processed. \n",
    "from sklearn import preprocessing\n",
    "\n",
    "for f in df.columns:\n",
    "    if df[f].dtype == 'object':\n",
    "        print(f)\n",
    "        lbl = preprocessing.LabelEncoder()\n",
    "        lbl.fit(list(df[f].values))\n",
    "        df[f] = lbl.transform(list(df[f].values))\n",
    "\n",
    "for h in df_t.columns:\n",
    "    if df_t[h].dtype == 'object':\n",
    "        print(h)\n",
    "        lbl = preprocessing.LabelEncoder()\n",
    "        lbl.fit(list(df_t[h].values))\n",
    "        df_t[h] = lbl.transform(list(df_t[h].values))"
   ]
  },
  {
   "cell_type": "code",
   "execution_count": 151,
   "metadata": {
    "collapsed": false
   },
   "outputs": [],
   "source": [
    "df_t = df_t.iloc[:,:20] #removes product columns from test dataset since they are all Null"
   ]
  },
  {
   "cell_type": "code",
   "execution_count": 152,
   "metadata": {
    "collapsed": false
   },
   "outputs": [
    {
     "data": {
      "text/plain": [
       "ind_empleado               int64\n",
       "pais_residencia            int64\n",
       "sexo                       int64\n",
       "age                        int64\n",
       "fecha_alta                 int64\n",
       "ind_nuevo                float64\n",
       "antiguedad               float64\n",
       "indrel                   float64\n",
       "indrel_1mes                int64\n",
       "tiprel_1mes                int64\n",
       "indresi                    int64\n",
       "indext                     int64\n",
       "canal_entrada              int64\n",
       "indfall                    int64\n",
       "cod_prov                 float64\n",
       "nomprov                    int64\n",
       "ind_actividad_cliente    float64\n",
       "renta                    float64\n",
       "segmento                   int64\n",
       "ind_ahor_fin_ult1        float64\n",
       "ind_aval_fin_ult1        float64\n",
       "ind_cco_fin_ult1         float64\n",
       "ind_cder_fin_ult1        float64\n",
       "ind_cno_fin_ult1         float64\n",
       "ind_ctju_fin_ult1        float64\n",
       "ind_ctma_fin_ult1        float64\n",
       "ind_ctop_fin_ult1        float64\n",
       "ind_ctpp_fin_ult1        float64\n",
       "ind_deco_fin_ult1        float64\n",
       "ind_deme_fin_ult1        float64\n",
       "ind_dela_fin_ult1        float64\n",
       "ind_ecue_fin_ult1        float64\n",
       "ind_fond_fin_ult1        float64\n",
       "ind_hip_fin_ult1         float64\n",
       "ind_plan_fin_ult1        float64\n",
       "ind_pres_fin_ult1        float64\n",
       "ind_reca_fin_ult1        float64\n",
       "ind_tjcr_fin_ult1        float64\n",
       "ind_valo_fin_ult1        float64\n",
       "ind_viv_fin_ult1         float64\n",
       "ind_nomina_ult1          float64\n",
       "ind_nom_pens_ult1        float64\n",
       "ind_recibo_ult1\\n        float64\n",
       "dtype: object"
      ]
     },
     "execution_count": 152,
     "metadata": {},
     "output_type": "execute_result"
    }
   ],
   "source": [
    "df.dtypes #may have to change data type to simpler types"
   ]
  },
  {
   "cell_type": "code",
   "execution_count": 153,
   "metadata": {
    "collapsed": false
   },
   "outputs": [
    {
     "data": {
      "text/plain": [
       "ncodpers                 int64\n",
       "ind_empleado             int64\n",
       "pais_residencia          int64\n",
       "sexo                     int64\n",
       "age                      int64\n",
       "fecha_alta               int64\n",
       "ind_nuevo                int64\n",
       "antiguedad               int64\n",
       "indrel                   int64\n",
       "indrel_1mes              int64\n",
       "tiprel_1mes              int64\n",
       "indresi                  int64\n",
       "indext                   int64\n",
       "canal_entrada            int64\n",
       "indfall                  int64\n",
       "cod_prov                 int64\n",
       "nomprov                  int64\n",
       "ind_actividad_cliente    int64\n",
       "renta                    int64\n",
       "segmento                 int64\n",
       "dtype: object"
      ]
     },
     "execution_count": 153,
     "metadata": {},
     "output_type": "execute_result"
    }
   ],
   "source": [
    "df_t.dtypes"
   ]
  },
  {
   "cell_type": "code",
   "execution_count": 154,
   "metadata": {
    "collapsed": true
   },
   "outputs": [],
   "source": [
    "df =  df.loc[:931435] #the last row of the training dataset acts erratically, easier to remove it."
   ]
  },
  {
   "cell_type": "code",
   "execution_count": 155,
   "metadata": {
    "collapsed": true
   },
   "outputs": [],
   "source": [
    "df.iloc[:,19:] = df.iloc[:,19:].astype('int8') #changes product data types to int8 (1 byte, 8 bits) to save on memory"
   ]
  },
  {
   "cell_type": "code",
   "execution_count": 156,
   "metadata": {
    "collapsed": true
   },
   "outputs": [],
   "source": [
    "# a work around for this cell is to fully delete the last row, as it turns out to be very problematic.\n",
    "#df.loc[931436,'indext'] = 0\n",
    "#df.loc[931436,'indfall'] = 0 #one value is messing up the boolean aspect of the dataframe"
   ]
  },
  {
   "cell_type": "code",
   "execution_count": 157,
   "metadata": {
    "collapsed": true
   },
   "outputs": [],
   "source": [
    "df[['sexo','ind_nuevo','indext','indfall','ind_actividad_cliente','indresi']] = df[['sexo','ind_nuevo','indext','indfall','ind_actividad_cliente','indresi']].astype('bool')"
   ]
  },
  {
   "cell_type": "code",
   "execution_count": 158,
   "metadata": {
    "collapsed": false
   },
   "outputs": [
    {
     "name": "stdout",
     "output_type": "stream",
     "text": [
      "antiguedad\n",
      "indrel\n",
      "cod_prov\n",
      "renta\n"
     ]
    }
   ],
   "source": [
    "for f in df.columns:\n",
    "    if df[f].dtype == 'float64':\n",
    "        print(f)\n",
    "        df[f] = df[f].astype('float16') #changes float64 datatypes to float16 to conserve memory (decision tree algorithm doesnt like data-types too big) "
   ]
  },
  {
   "cell_type": "code",
   "execution_count": 159,
   "metadata": {
    "collapsed": false
   },
   "outputs": [
    {
     "name": "stdout",
     "output_type": "stream",
     "text": [
      "ind_empleado\n",
      "pais_residencia\n",
      "age\n",
      "fecha_alta\n",
      "indrel_1mes\n",
      "tiprel_1mes\n",
      "canal_entrada\n",
      "nomprov\n",
      "segmento\n",
      "ind_empleado\n",
      "pais_residencia\n",
      "sexo\n",
      "age\n",
      "fecha_alta\n",
      "ind_nuevo\n",
      "antiguedad\n",
      "indrel\n",
      "indrel_1mes\n",
      "tiprel_1mes\n",
      "indresi\n",
      "indext\n",
      "canal_entrada\n",
      "indfall\n",
      "cod_prov\n",
      "nomprov\n",
      "ind_actividad_cliente\n",
      "renta\n",
      "segmento\n"
     ]
    }
   ],
   "source": [
    "for f in df.columns:\n",
    "    if df[f].dtype == 'int64':\n",
    "        print(f)\n",
    "        df[f] = df[f].astype('int16')\n",
    "        \n",
    "for h in df_t.columns[1:]:\n",
    "    if df_t[h].dtype == 'int64':\n",
    "        print(h)\n",
    "        df_t[h] = df_t[h].astype('int8')"
   ]
  },
  {
   "cell_type": "code",
   "execution_count": 160,
   "metadata": {
    "collapsed": false
   },
   "outputs": [
    {
     "data": {
      "text/plain": [
       "ind_empleado               int16\n",
       "pais_residencia            int16\n",
       "sexo                        bool\n",
       "age                        int16\n",
       "fecha_alta                 int16\n",
       "ind_nuevo                   bool\n",
       "antiguedad               float16\n",
       "indrel                   float16\n",
       "indrel_1mes                int16\n",
       "tiprel_1mes                int16\n",
       "indresi                     bool\n",
       "indext                      bool\n",
       "canal_entrada              int16\n",
       "indfall                     bool\n",
       "cod_prov                 float16\n",
       "nomprov                    int16\n",
       "ind_actividad_cliente       bool\n",
       "renta                    float16\n",
       "segmento                   int16\n",
       "ind_ahor_fin_ult1           int8\n",
       "ind_aval_fin_ult1           int8\n",
       "ind_cco_fin_ult1            int8\n",
       "ind_cder_fin_ult1           int8\n",
       "ind_cno_fin_ult1            int8\n",
       "ind_ctju_fin_ult1           int8\n",
       "ind_ctma_fin_ult1           int8\n",
       "ind_ctop_fin_ult1           int8\n",
       "ind_ctpp_fin_ult1           int8\n",
       "ind_deco_fin_ult1           int8\n",
       "ind_deme_fin_ult1           int8\n",
       "ind_dela_fin_ult1           int8\n",
       "ind_ecue_fin_ult1           int8\n",
       "ind_fond_fin_ult1           int8\n",
       "ind_hip_fin_ult1            int8\n",
       "ind_plan_fin_ult1           int8\n",
       "ind_pres_fin_ult1           int8\n",
       "ind_reca_fin_ult1           int8\n",
       "ind_tjcr_fin_ult1           int8\n",
       "ind_valo_fin_ult1           int8\n",
       "ind_viv_fin_ult1            int8\n",
       "ind_nomina_ult1             int8\n",
       "ind_nom_pens_ult1           int8\n",
       "ind_recibo_ult1\\n           int8\n",
       "dtype: object"
      ]
     },
     "execution_count": 160,
     "metadata": {},
     "output_type": "execute_result"
    }
   ],
   "source": [
    "df.dtypes"
   ]
  },
  {
   "cell_type": "code",
   "execution_count": 164,
   "metadata": {
    "collapsed": false
   },
   "outputs": [
    {
     "data": {
      "text/plain": [
       "ind_empleado               int16\n",
       "pais_residencia            int16\n",
       "sexo                        int8\n",
       "age                        int16\n",
       "fecha_alta                 int16\n",
       "ind_nuevo                   int8\n",
       "antiguedad               float16\n",
       "indrel                   float16\n",
       "indrel_1mes                int16\n",
       "tiprel_1mes                int16\n",
       "indresi                     int8\n",
       "indext                      int8\n",
       "canal_entrada              int16\n",
       "indfall                     int8\n",
       "cod_prov                 float16\n",
       "nomprov                    int16\n",
       "ind_actividad_cliente       int8\n",
       "renta                    float16\n",
       "segmento                   int16\n",
       "ind_ahor_fin_ult1           int8\n",
       "ind_aval_fin_ult1           int8\n",
       "ind_cco_fin_ult1            int8\n",
       "ind_cder_fin_ult1           int8\n",
       "ind_cno_fin_ult1            int8\n",
       "ind_ctju_fin_ult1           int8\n",
       "ind_ctma_fin_ult1           int8\n",
       "ind_ctop_fin_ult1           int8\n",
       "ind_ctpp_fin_ult1           int8\n",
       "ind_deco_fin_ult1           int8\n",
       "ind_deme_fin_ult1           int8\n",
       "ind_dela_fin_ult1           int8\n",
       "ind_ecue_fin_ult1           int8\n",
       "ind_fond_fin_ult1           int8\n",
       "ind_hip_fin_ult1            int8\n",
       "ind_plan_fin_ult1           int8\n",
       "ind_pres_fin_ult1           int8\n",
       "ind_reca_fin_ult1           int8\n",
       "ind_tjcr_fin_ult1           int8\n",
       "ind_valo_fin_ult1           int8\n",
       "ind_viv_fin_ult1            int8\n",
       "ind_nomina_ult1             int8\n",
       "ind_nom_pens_ult1           int8\n",
       "ind_recibo_ult1\\n           int8\n",
       "dtype: object"
      ]
     },
     "execution_count": 164,
     "metadata": {},
     "output_type": "execute_result"
    }
   ],
   "source": [
    "for f in df.columns:\n",
    "    if df[f].dtype == 'bool':\n",
    "        df[f] = df[f].astype('int8')\n",
    "\n",
    "df.dtypes"
   ]
  },
  {
   "cell_type": "code",
   "execution_count": 166,
   "metadata": {
    "collapsed": false
   },
   "outputs": [],
   "source": [
    "#for f in df.columns:\n",
    "#    if df[f].dtype == 'float16':\n",
    "#       if df[f].value == 'NA':\n",
    "#          df[f].value = ''\n",
    "\n",
    "#df.dtypes"
   ]
  },
  {
   "cell_type": "code",
   "execution_count": 113,
   "metadata": {
    "collapsed": false
   },
   "outputs": [],
   "source": [
    "#for f in df.columns:\n",
    "#    if df[f].dtype == 'float16':\n",
    "#        df[f] = df[f].astype('int64')\n",
    "\n",
    "#df.dtypes"
   ]
  },
  {
   "cell_type": "code",
   "execution_count": 167,
   "metadata": {
    "collapsed": false
   },
   "outputs": [
    {
     "data": {
      "text/plain": [
       "ncodpers                 int64\n",
       "ind_empleado              int8\n",
       "pais_residencia           int8\n",
       "sexo                      int8\n",
       "age                       int8\n",
       "fecha_alta                int8\n",
       "ind_nuevo                 int8\n",
       "antiguedad                int8\n",
       "indrel                    int8\n",
       "indrel_1mes               int8\n",
       "tiprel_1mes               int8\n",
       "indresi                   int8\n",
       "indext                    int8\n",
       "canal_entrada             int8\n",
       "indfall                   int8\n",
       "cod_prov                  int8\n",
       "nomprov                   int8\n",
       "ind_actividad_cliente     int8\n",
       "renta                     int8\n",
       "segmento                  int8\n",
       "dtype: object"
      ]
     },
     "execution_count": 167,
     "metadata": {},
     "output_type": "execute_result"
    }
   ],
   "source": [
    "df_t.dtypes"
   ]
  },
  {
   "cell_type": "code",
   "execution_count": 168,
   "metadata": {
    "collapsed": true
   },
   "outputs": [],
   "source": [
    "#back up in case of everything dying\n",
    "df_backup = df  \n",
    "df_t_backup = df_t"
   ]
  },
  {
   "cell_type": "code",
   "execution_count": null,
   "metadata": {
    "collapsed": false
   },
   "outputs": [],
   "source": [
    "#sets the dataframe index to the customer code, useful later when suggesting products to specific customers\n",
    "df_t.set_index(['ncodpers'],inplace=True)"
   ]
  },
  {
   "cell_type": "code",
   "execution_count": 172,
   "metadata": {
    "collapsed": false
   },
   "outputs": [
    {
     "data": {
      "text/html": [
       "<div>\n",
       "<table border=\"1\" class=\"dataframe\">\n",
       "  <thead>\n",
       "    <tr style=\"text-align: right;\">\n",
       "      <th></th>\n",
       "      <th>ind_empleado</th>\n",
       "      <th>pais_residencia</th>\n",
       "      <th>sexo</th>\n",
       "      <th>age</th>\n",
       "      <th>fecha_alta</th>\n",
       "      <th>ind_nuevo</th>\n",
       "      <th>antiguedad</th>\n",
       "      <th>indrel</th>\n",
       "      <th>indrel_1mes</th>\n",
       "      <th>tiprel_1mes</th>\n",
       "      <th>indresi</th>\n",
       "      <th>indext</th>\n",
       "      <th>canal_entrada</th>\n",
       "      <th>indfall</th>\n",
       "      <th>cod_prov</th>\n",
       "      <th>nomprov</th>\n",
       "      <th>ind_actividad_cliente</th>\n",
       "      <th>renta</th>\n",
       "      <th>segmento</th>\n",
       "    </tr>\n",
       "    <tr>\n",
       "      <th>ncodpers</th>\n",
       "      <th></th>\n",
       "      <th></th>\n",
       "      <th></th>\n",
       "      <th></th>\n",
       "      <th></th>\n",
       "      <th></th>\n",
       "      <th></th>\n",
       "      <th></th>\n",
       "      <th></th>\n",
       "      <th></th>\n",
       "      <th></th>\n",
       "      <th></th>\n",
       "      <th></th>\n",
       "      <th></th>\n",
       "      <th></th>\n",
       "      <th></th>\n",
       "      <th></th>\n",
       "      <th></th>\n",
       "      <th></th>\n",
       "    </tr>\n",
       "  </thead>\n",
       "  <tbody>\n",
       "    <tr>\n",
       "      <th>0</th>\n",
       "      <td>2</td>\n",
       "      <td>36</td>\n",
       "      <td>1</td>\n",
       "      <td>52</td>\n",
       "      <td>0</td>\n",
       "      <td>0</td>\n",
       "      <td>33</td>\n",
       "      <td>0</td>\n",
       "      <td>0</td>\n",
       "      <td>0</td>\n",
       "      <td>1</td>\n",
       "      <td>0</td>\n",
       "      <td>24</td>\n",
       "      <td>0</td>\n",
       "      <td>49</td>\n",
       "      <td>30</td>\n",
       "      <td>1</td>\n",
       "      <td>21</td>\n",
       "      <td>0</td>\n",
       "    </tr>\n",
       "    <tr>\n",
       "      <th>138992</th>\n",
       "      <td>3</td>\n",
       "      <td>36</td>\n",
       "      <td>0</td>\n",
       "      <td>32</td>\n",
       "      <td>-91</td>\n",
       "      <td>0</td>\n",
       "      <td>32</td>\n",
       "      <td>0</td>\n",
       "      <td>0</td>\n",
       "      <td>1</td>\n",
       "      <td>1</td>\n",
       "      <td>0</td>\n",
       "      <td>24</td>\n",
       "      <td>0</td>\n",
       "      <td>2</td>\n",
       "      <td>2</td>\n",
       "      <td>0</td>\n",
       "      <td>0</td>\n",
       "      <td>1</td>\n",
       "    </tr>\n",
       "    <tr>\n",
       "      <th>138993</th>\n",
       "      <td>3</td>\n",
       "      <td>36</td>\n",
       "      <td>1</td>\n",
       "      <td>18</td>\n",
       "      <td>-91</td>\n",
       "      <td>0</td>\n",
       "      <td>32</td>\n",
       "      <td>0</td>\n",
       "      <td>0</td>\n",
       "      <td>0</td>\n",
       "      <td>1</td>\n",
       "      <td>0</td>\n",
       "      <td>-106</td>\n",
       "      <td>0</td>\n",
       "      <td>21</td>\n",
       "      <td>18</td>\n",
       "      <td>1</td>\n",
       "      <td>0</td>\n",
       "      <td>2</td>\n",
       "    </tr>\n",
       "    <tr>\n",
       "      <th>138994</th>\n",
       "      <td>3</td>\n",
       "      <td>36</td>\n",
       "      <td>0</td>\n",
       "      <td>18</td>\n",
       "      <td>-91</td>\n",
       "      <td>0</td>\n",
       "      <td>32</td>\n",
       "      <td>0</td>\n",
       "      <td>0</td>\n",
       "      <td>1</td>\n",
       "      <td>1</td>\n",
       "      <td>0</td>\n",
       "      <td>-106</td>\n",
       "      <td>0</td>\n",
       "      <td>7</td>\n",
       "      <td>8</td>\n",
       "      <td>0</td>\n",
       "      <td>-82</td>\n",
       "      <td>2</td>\n",
       "    </tr>\n",
       "    <tr>\n",
       "      <th>138995</th>\n",
       "      <td>3</td>\n",
       "      <td>36</td>\n",
       "      <td>0</td>\n",
       "      <td>18</td>\n",
       "      <td>-91</td>\n",
       "      <td>0</td>\n",
       "      <td>32</td>\n",
       "      <td>0</td>\n",
       "      <td>0</td>\n",
       "      <td>1</td>\n",
       "      <td>1</td>\n",
       "      <td>0</td>\n",
       "      <td>-106</td>\n",
       "      <td>0</td>\n",
       "      <td>6</td>\n",
       "      <td>7</td>\n",
       "      <td>0</td>\n",
       "      <td>-15</td>\n",
       "      <td>2</td>\n",
       "    </tr>\n",
       "  </tbody>\n",
       "</table>\n",
       "</div>"
      ],
      "text/plain": [
       "          ind_empleado  pais_residencia  sexo  age  fecha_alta  ind_nuevo  \\\n",
       "ncodpers                                                                    \n",
       "0                    2               36     1   52           0          0   \n",
       "138992               3               36     0   32         -91          0   \n",
       "138993               3               36     1   18         -91          0   \n",
       "138994               3               36     0   18         -91          0   \n",
       "138995               3               36     0   18         -91          0   \n",
       "\n",
       "          antiguedad  indrel  indrel_1mes  tiprel_1mes  indresi  indext  \\\n",
       "ncodpers                                                                  \n",
       "0                 33       0            0            0        1       0   \n",
       "138992            32       0            0            1        1       0   \n",
       "138993            32       0            0            0        1       0   \n",
       "138994            32       0            0            1        1       0   \n",
       "138995            32       0            0            1        1       0   \n",
       "\n",
       "          canal_entrada  indfall  cod_prov  nomprov  ind_actividad_cliente  \\\n",
       "ncodpers                                                                     \n",
       "0                    24        0        49       30                      1   \n",
       "138992               24        0         2        2                      0   \n",
       "138993             -106        0        21       18                      1   \n",
       "138994             -106        0         7        8                      0   \n",
       "138995             -106        0         6        7                      0   \n",
       "\n",
       "          renta  segmento  \n",
       "ncodpers                   \n",
       "0            21         0  \n",
       "138992        0         1  \n",
       "138993        0         2  \n",
       "138994      -82         2  \n",
       "138995      -15         2  "
      ]
     },
     "execution_count": 172,
     "metadata": {},
     "output_type": "execute_result"
    }
   ],
   "source": [
    "df_t.head()"
   ]
  },
  {
   "cell_type": "code",
   "execution_count": 179,
   "metadata": {
    "collapsed": true
   },
   "outputs": [],
   "source": [
    "# A list of products and features, will be used when defining targets and features for the ML algorithm.\n",
    "products = ['ind_ahor_fin_ult1','ind_aval_fin_ult1','ind_cco_fin_ult1','ind_cder_fin_ult1','ind_cno_fin_ult1','ind_ctju_fin_ult1','ind_ctma_fin_ult1','ind_ctop_fin_ult1','ind_ctpp_fin_ult1','ind_deco_fin_ult1','ind_deme_fin_ult1','ind_dela_fin_ult1','ind_ecue_fin_ult1','ind_fond_fin_ult1','ind_hip_fin_ult1','ind_plan_fin_ult1','ind_pres_fin_ult1','ind_reca_fin_ult1','ind_tjcr_fin_ult1','ind_valo_fin_ult1','ind_viv_fin_ult1','ind_nomina_ult1','ind_nom_pens_ult1','ind_recibo_ult1\\n']\n",
    "descriptors = ['ind_actividad_cliente','nomprov', 'age','sexo', 'segmento']"
   ]
  },
  {
   "cell_type": "code",
   "execution_count": 180,
   "metadata": {
    "collapsed": false
   },
   "outputs": [],
   "source": [
    "#df.isnull().any()"
   ]
  },
  {
   "cell_type": "code",
   "execution_count": 206,
   "metadata": {
    "collapsed": false
   },
   "outputs": [],
   "source": [
    "target = df[products].values\n",
    "features = df[descriptors].values\n",
    "#target_t = df_t[products].values\n",
    "features_t = df_t[descriptors].values"
   ]
  },
  {
   "cell_type": "code",
   "execution_count": 182,
   "metadata": {
    "collapsed": true
   },
   "outputs": [],
   "source": [
    "#this is where the training of the model actually occurs\n",
    "knn = KNeighborsClassifier(n_neighbors=24)"
   ]
  },
  {
   "cell_type": "code",
   "execution_count": 183,
   "metadata": {
    "collapsed": false
   },
   "outputs": [
    {
     "data": {
      "text/plain": [
       "KNeighborsClassifier(algorithm='auto', leaf_size=30, metric='minkowski',\n",
       "           metric_params=None, n_jobs=1, n_neighbors=24, p=2,\n",
       "           weights='uniform')"
      ]
     },
     "execution_count": 183,
     "metadata": {},
     "output_type": "execute_result"
    }
   ],
   "source": [
    "# train the model with data\n",
    "knn.fit(features,target)"
   ]
  },
  {
   "cell_type": "code",
   "execution_count": 184,
   "metadata": {
    "collapsed": false
   },
   "outputs": [],
   "source": [
    "#this is where the test set is fed in for predictions\n",
    "predictions = knn.predict(features_t)"
   ]
  },
  {
   "cell_type": "code",
   "execution_count": 185,
   "metadata": {
    "collapsed": false
   },
   "outputs": [],
   "source": [
    "predictDF = pd.DataFrame(predictions)"
   ]
  },
  {
   "cell_type": "code",
   "execution_count": 186,
   "metadata": {
    "collapsed": false
   },
   "outputs": [],
   "source": [
    "predictDF = predictDF.astype('int32') #make dataframe smaller for memory reasons"
   ]
  },
  {
   "cell_type": "code",
   "execution_count": 187,
   "metadata": {
    "collapsed": false
   },
   "outputs": [],
   "source": [
    "predictDF.columns = products #renaming column names to the product names "
   ]
  },
  {
   "cell_type": "code",
   "execution_count": 188,
   "metadata": {
    "collapsed": false
   },
   "outputs": [
    {
     "data": {
      "text/html": [
       "<div>\n",
       "<table border=\"1\" class=\"dataframe\">\n",
       "  <thead>\n",
       "    <tr style=\"text-align: right;\">\n",
       "      <th></th>\n",
       "      <th>ind_ahor_fin_ult1</th>\n",
       "      <th>ind_aval_fin_ult1</th>\n",
       "      <th>ind_cco_fin_ult1</th>\n",
       "      <th>ind_cder_fin_ult1</th>\n",
       "      <th>ind_cno_fin_ult1</th>\n",
       "      <th>ind_ctju_fin_ult1</th>\n",
       "      <th>ind_ctma_fin_ult1</th>\n",
       "      <th>ind_ctop_fin_ult1</th>\n",
       "      <th>ind_ctpp_fin_ult1</th>\n",
       "      <th>ind_deco_fin_ult1</th>\n",
       "      <th>...</th>\n",
       "      <th>ind_hip_fin_ult1</th>\n",
       "      <th>ind_plan_fin_ult1</th>\n",
       "      <th>ind_pres_fin_ult1</th>\n",
       "      <th>ind_reca_fin_ult1</th>\n",
       "      <th>ind_tjcr_fin_ult1</th>\n",
       "      <th>ind_valo_fin_ult1</th>\n",
       "      <th>ind_viv_fin_ult1</th>\n",
       "      <th>ind_nomina_ult1</th>\n",
       "      <th>ind_nom_pens_ult1</th>\n",
       "      <th>ind_recibo_ult1</th>\n",
       "    </tr>\n",
       "  </thead>\n",
       "  <tbody>\n",
       "    <tr>\n",
       "      <th>0</th>\n",
       "      <td>0</td>\n",
       "      <td>0</td>\n",
       "      <td>1</td>\n",
       "      <td>0</td>\n",
       "      <td>0</td>\n",
       "      <td>0</td>\n",
       "      <td>0</td>\n",
       "      <td>0</td>\n",
       "      <td>0</td>\n",
       "      <td>0</td>\n",
       "      <td>...</td>\n",
       "      <td>0</td>\n",
       "      <td>0</td>\n",
       "      <td>0</td>\n",
       "      <td>0</td>\n",
       "      <td>0</td>\n",
       "      <td>0</td>\n",
       "      <td>0</td>\n",
       "      <td>0</td>\n",
       "      <td>0</td>\n",
       "      <td>0</td>\n",
       "    </tr>\n",
       "    <tr>\n",
       "      <th>1</th>\n",
       "      <td>0</td>\n",
       "      <td>0</td>\n",
       "      <td>1</td>\n",
       "      <td>0</td>\n",
       "      <td>0</td>\n",
       "      <td>0</td>\n",
       "      <td>0</td>\n",
       "      <td>0</td>\n",
       "      <td>0</td>\n",
       "      <td>0</td>\n",
       "      <td>...</td>\n",
       "      <td>0</td>\n",
       "      <td>0</td>\n",
       "      <td>0</td>\n",
       "      <td>0</td>\n",
       "      <td>0</td>\n",
       "      <td>0</td>\n",
       "      <td>0</td>\n",
       "      <td>0</td>\n",
       "      <td>0</td>\n",
       "      <td>0</td>\n",
       "    </tr>\n",
       "    <tr>\n",
       "      <th>2</th>\n",
       "      <td>0</td>\n",
       "      <td>0</td>\n",
       "      <td>1</td>\n",
       "      <td>0</td>\n",
       "      <td>0</td>\n",
       "      <td>0</td>\n",
       "      <td>0</td>\n",
       "      <td>0</td>\n",
       "      <td>0</td>\n",
       "      <td>0</td>\n",
       "      <td>...</td>\n",
       "      <td>0</td>\n",
       "      <td>0</td>\n",
       "      <td>0</td>\n",
       "      <td>0</td>\n",
       "      <td>0</td>\n",
       "      <td>0</td>\n",
       "      <td>0</td>\n",
       "      <td>0</td>\n",
       "      <td>0</td>\n",
       "      <td>0</td>\n",
       "    </tr>\n",
       "    <tr>\n",
       "      <th>3</th>\n",
       "      <td>0</td>\n",
       "      <td>0</td>\n",
       "      <td>1</td>\n",
       "      <td>0</td>\n",
       "      <td>0</td>\n",
       "      <td>0</td>\n",
       "      <td>0</td>\n",
       "      <td>0</td>\n",
       "      <td>0</td>\n",
       "      <td>0</td>\n",
       "      <td>...</td>\n",
       "      <td>0</td>\n",
       "      <td>0</td>\n",
       "      <td>0</td>\n",
       "      <td>0</td>\n",
       "      <td>0</td>\n",
       "      <td>0</td>\n",
       "      <td>0</td>\n",
       "      <td>0</td>\n",
       "      <td>0</td>\n",
       "      <td>0</td>\n",
       "    </tr>\n",
       "    <tr>\n",
       "      <th>4</th>\n",
       "      <td>0</td>\n",
       "      <td>0</td>\n",
       "      <td>1</td>\n",
       "      <td>0</td>\n",
       "      <td>0</td>\n",
       "      <td>0</td>\n",
       "      <td>0</td>\n",
       "      <td>0</td>\n",
       "      <td>0</td>\n",
       "      <td>0</td>\n",
       "      <td>...</td>\n",
       "      <td>0</td>\n",
       "      <td>0</td>\n",
       "      <td>0</td>\n",
       "      <td>0</td>\n",
       "      <td>0</td>\n",
       "      <td>0</td>\n",
       "      <td>0</td>\n",
       "      <td>0</td>\n",
       "      <td>0</td>\n",
       "      <td>0</td>\n",
       "    </tr>\n",
       "  </tbody>\n",
       "</table>\n",
       "<p>5 rows × 24 columns</p>\n",
       "</div>"
      ],
      "text/plain": [
       "   ind_ahor_fin_ult1  ind_aval_fin_ult1  ind_cco_fin_ult1  ind_cder_fin_ult1  \\\n",
       "0                  0                  0                 1                  0   \n",
       "1                  0                  0                 1                  0   \n",
       "2                  0                  0                 1                  0   \n",
       "3                  0                  0                 1                  0   \n",
       "4                  0                  0                 1                  0   \n",
       "\n",
       "   ind_cno_fin_ult1  ind_ctju_fin_ult1  ind_ctma_fin_ult1  ind_ctop_fin_ult1  \\\n",
       "0                 0                  0                  0                  0   \n",
       "1                 0                  0                  0                  0   \n",
       "2                 0                  0                  0                  0   \n",
       "3                 0                  0                  0                  0   \n",
       "4                 0                  0                  0                  0   \n",
       "\n",
       "   ind_ctpp_fin_ult1  ind_deco_fin_ult1        ...          ind_hip_fin_ult1  \\\n",
       "0                  0                  0        ...                         0   \n",
       "1                  0                  0        ...                         0   \n",
       "2                  0                  0        ...                         0   \n",
       "3                  0                  0        ...                         0   \n",
       "4                  0                  0        ...                         0   \n",
       "\n",
       "   ind_plan_fin_ult1  ind_pres_fin_ult1  ind_reca_fin_ult1  ind_tjcr_fin_ult1  \\\n",
       "0                  0                  0                  0                  0   \n",
       "1                  0                  0                  0                  0   \n",
       "2                  0                  0                  0                  0   \n",
       "3                  0                  0                  0                  0   \n",
       "4                  0                  0                  0                  0   \n",
       "\n",
       "   ind_valo_fin_ult1  ind_viv_fin_ult1  ind_nomina_ult1  ind_nom_pens_ult1  \\\n",
       "0                  0                 0                0                  0   \n",
       "1                  0                 0                0                  0   \n",
       "2                  0                 0                0                  0   \n",
       "3                  0                 0                0                  0   \n",
       "4                  0                 0                0                  0   \n",
       "\n",
       "   ind_recibo_ult1\\n  \n",
       "0                  0  \n",
       "1                  0  \n",
       "2                  0  \n",
       "3                  0  \n",
       "4                  0  \n",
       "\n",
       "[5 rows x 24 columns]"
      ]
     },
     "execution_count": 188,
     "metadata": {},
     "output_type": "execute_result"
    }
   ],
   "source": [
    "predictDF.head()"
   ]
  },
  {
   "cell_type": "code",
   "execution_count": 189,
   "metadata": {
    "collapsed": false
   },
   "outputs": [],
   "source": [
    "#sets the index as the customer code, so the predictions can be matched to a customer\n",
    "predictDF.set_index(df_t.index,inplace=True)"
   ]
  },
  {
   "cell_type": "code",
   "execution_count": 190,
   "metadata": {
    "collapsed": false
   },
   "outputs": [],
   "source": [
    "#real wizardy occurs here, pivots the columns into an index, this is done so the values can be filtered in the next step\n",
    "wow = pd.DataFrame(predictDF.unstack())"
   ]
  },
  {
   "cell_type": "code",
   "execution_count": 191,
   "metadata": {
    "collapsed": false
   },
   "outputs": [],
   "source": [
    "filtered = wow[wow[0] == 1] #filters the data frame to only return the products predicted as a yes, no need for the others\n",
    "filtered = filtered.ix[:,1:] #returns the product:customer to be recommended to"
   ]
  },
  {
   "cell_type": "code",
   "execution_count": 193,
   "metadata": {
    "collapsed": false
   },
   "outputs": [],
   "source": [
    "filtered.to_csv(\"C:\\\\Git\\\\Santander\\\\Shanta\\\\Data\\\\1st-submission.csv\")"
   ]
  },
  {
   "cell_type": "code",
   "execution_count": null,
   "metadata": {
    "collapsed": true
   },
   "outputs": [],
   "source": []
  }
 ],
 "metadata": {
  "kernelspec": {
   "display_name": "Python [Root]",
   "language": "python",
   "name": "Python [Root]"
  },
  "language_info": {
   "codemirror_mode": {
    "name": "ipython",
    "version": 2
   },
   "file_extension": ".py",
   "mimetype": "text/x-python",
   "name": "python",
   "nbconvert_exporter": "python",
   "pygments_lexer": "ipython2",
   "version": "2.7.12"
  }
 },
 "nbformat": 4,
 "nbformat_minor": 0
}
